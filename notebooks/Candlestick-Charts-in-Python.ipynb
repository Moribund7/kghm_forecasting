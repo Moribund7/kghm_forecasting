{
 "cells": [
  {
   "cell_type": "markdown",
   "metadata": {},
   "source": [
    "# Plotly Candlestick Chart in Python"
   ]
  },
  {
   "cell_type": "code",
   "execution_count": 1,
   "metadata": {
    "ExecuteTime": {
     "end_time": "2018-11-09T14:52:43.427792Z",
     "start_time": "2018-11-09T14:52:40.144291Z"
    }
   },
   "outputs": [],
   "source": [
    "# import pandas.io.data as web\n",
    "from datetime import datetime\n",
    "import numpy as np\n",
    "import pandas as pd\n",
    "import plotly.plotly as py"
   ]
  },
  {
   "cell_type": "code",
   "execution_count": 2,
   "metadata": {
    "ExecuteTime": {
     "end_time": "2018-11-09T14:52:57.416784Z",
     "start_time": "2018-11-09T14:52:43.434995Z"
    }
   },
   "outputs": [
    {
     "name": "stdout",
     "output_type": "stream",
     "text": [
      "Date\n"
     ]
    }
   ],
   "source": [
    "data_path='../data/KGHM_clear.csv'\n",
    "df=pd.read_pickle(data_path)\n",
    "\n",
    "# df=df[:100000]\n",
    "df=df.set_index('Date')\n",
    "print(df.index.name)"
   ]
  },
  {
   "cell_type": "code",
   "execution_count": 3,
   "metadata": {
    "ExecuteTime": {
     "end_time": "2018-11-09T14:52:58.450008Z",
     "start_time": "2018-11-09T14:52:57.429441Z"
    }
   },
   "outputs": [],
   "source": [
    "df=df.resample('24H').agg({'Open': 'first', \n",
    "                                 'High': 'max', \n",
    "                                 'Low': 'min', \n",
    "                                 'Close': 'last',\n",
    "                                 'Volume':'sum'})"
   ]
  },
  {
   "cell_type": "code",
   "execution_count": 4,
   "metadata": {
    "ExecuteTime": {
     "end_time": "2018-11-09T14:52:58.578149Z",
     "start_time": "2018-11-09T14:52:58.459822Z"
    }
   },
   "outputs": [
    {
     "data": {
      "text/html": [
       "<div>\n",
       "<style scoped>\n",
       "    .dataframe tbody tr th:only-of-type {\n",
       "        vertical-align: middle;\n",
       "    }\n",
       "\n",
       "    .dataframe tbody tr th {\n",
       "        vertical-align: top;\n",
       "    }\n",
       "\n",
       "    .dataframe thead th {\n",
       "        text-align: right;\n",
       "    }\n",
       "</style>\n",
       "<table border=\"1\" class=\"dataframe\">\n",
       "  <thead>\n",
       "    <tr style=\"text-align: right;\">\n",
       "      <th></th>\n",
       "      <th>Open</th>\n",
       "      <th>High</th>\n",
       "      <th>Low</th>\n",
       "      <th>Close</th>\n",
       "      <th>Volume</th>\n",
       "    </tr>\n",
       "    <tr>\n",
       "      <th>Date</th>\n",
       "      <th></th>\n",
       "      <th></th>\n",
       "      <th></th>\n",
       "      <th></th>\n",
       "      <th></th>\n",
       "    </tr>\n",
       "  </thead>\n",
       "  <tbody>\n",
       "    <tr>\n",
       "      <th>2000-11-17</th>\n",
       "      <td>26.3</td>\n",
       "      <td>26.7</td>\n",
       "      <td>25.6</td>\n",
       "      <td>26.0</td>\n",
       "      <td>233557</td>\n",
       "    </tr>\n",
       "    <tr>\n",
       "      <th>2000-11-18</th>\n",
       "      <td>NaN</td>\n",
       "      <td>NaN</td>\n",
       "      <td>NaN</td>\n",
       "      <td>NaN</td>\n",
       "      <td>0</td>\n",
       "    </tr>\n",
       "    <tr>\n",
       "      <th>2000-11-19</th>\n",
       "      <td>NaN</td>\n",
       "      <td>NaN</td>\n",
       "      <td>NaN</td>\n",
       "      <td>NaN</td>\n",
       "      <td>0</td>\n",
       "    </tr>\n",
       "    <tr>\n",
       "      <th>2000-11-20</th>\n",
       "      <td>26.1</td>\n",
       "      <td>26.8</td>\n",
       "      <td>26.1</td>\n",
       "      <td>26.4</td>\n",
       "      <td>196755</td>\n",
       "    </tr>\n",
       "    <tr>\n",
       "      <th>2000-11-21</th>\n",
       "      <td>26.5</td>\n",
       "      <td>26.7</td>\n",
       "      <td>26.3</td>\n",
       "      <td>26.6</td>\n",
       "      <td>147887</td>\n",
       "    </tr>\n",
       "  </tbody>\n",
       "</table>\n",
       "</div>"
      ],
      "text/plain": [
       "            Open  High   Low  Close  Volume\n",
       "Date                                       \n",
       "2000-11-17  26.3  26.7  25.6   26.0  233557\n",
       "2000-11-18   NaN   NaN   NaN    NaN       0\n",
       "2000-11-19   NaN   NaN   NaN    NaN       0\n",
       "2000-11-20  26.1  26.8  26.1   26.4  196755\n",
       "2000-11-21  26.5  26.7  26.3   26.6  147887"
      ]
     },
     "execution_count": 4,
     "metadata": {},
     "output_type": "execute_result"
    }
   ],
   "source": [
    "df.head()"
   ]
  },
  {
   "cell_type": "markdown",
   "metadata": {},
   "source": [
    "### Initial candlestick chart"
   ]
  },
  {
   "cell_type": "code",
   "execution_count": 5,
   "metadata": {
    "ExecuteTime": {
     "end_time": "2018-11-09T14:52:58.616705Z",
     "start_time": "2018-11-09T14:52:58.587851Z"
    }
   },
   "outputs": [],
   "source": [
    "INCREASING_COLOR = '#17BECF'\n",
    "DECREASING_COLOR = '#7F7F7F'"
   ]
  },
  {
   "cell_type": "code",
   "execution_count": 6,
   "metadata": {
    "ExecuteTime": {
     "end_time": "2018-11-09T14:52:58.656359Z",
     "start_time": "2018-11-09T14:52:58.630531Z"
    }
   },
   "outputs": [],
   "source": [
    "data = [ dict(\n",
    "    type = 'candlestick',\n",
    "    open = df.Open,\n",
    "    high = df.High,\n",
    "    low = df.Low,\n",
    "    close = df.Close,\n",
    "    x = df.index,\n",
    "    yaxis = 'y2',\n",
    "    name = 'GS',\n",
    "    increasing = dict( line = dict( color = INCREASING_COLOR ) ),\n",
    "    decreasing = dict( line = dict( color = DECREASING_COLOR ) ),\n",
    ") ]\n",
    "\n",
    "layout=dict()\n",
    "\n",
    "fig = dict( data=data, layout=layout )"
   ]
  },
  {
   "cell_type": "markdown",
   "metadata": {},
   "source": [
    "### Create the layout object"
   ]
  },
  {
   "cell_type": "code",
   "execution_count": 7,
   "metadata": {
    "ExecuteTime": {
     "end_time": "2018-11-09T14:52:58.683756Z",
     "start_time": "2018-11-09T14:52:58.662256Z"
    }
   },
   "outputs": [],
   "source": [
    "fig['layout'] = dict()\n",
    "fig['layout']['plot_bgcolor'] = 'rgb(250, 250, 250)'\n",
    "fig['layout']['xaxis'] = dict( rangeselector = dict( visible = True ) )\n",
    "fig['layout']['yaxis'] = dict( domain = [0, 0.2], showticklabels = False )\n",
    "fig['layout']['yaxis2'] = dict( domain = [0.2, 0.8] )\n",
    "fig['layout']['legend'] = dict( orientation = 'h', y=0.9, x=0.3, yanchor='bottom' )\n",
    "fig['layout']['margin'] = dict( t=40, b=40, r=40, l=40 )"
   ]
  },
  {
   "cell_type": "markdown",
   "metadata": {},
   "source": [
    "### Add range buttons"
   ]
  },
  {
   "cell_type": "code",
   "execution_count": 8,
   "metadata": {
    "ExecuteTime": {
     "end_time": "2018-11-09T14:52:58.713493Z",
     "start_time": "2018-11-09T14:52:58.690133Z"
    }
   },
   "outputs": [],
   "source": [
    "rangeselector=dict(\n",
    "    visible = True,\n",
    "    x = 0, y = 0.9,\n",
    "    bgcolor = 'rgba(150, 200, 250, 0.4)',\n",
    "    font = dict( size = 13 ),\n",
    "    buttons=list([\n",
    "        dict(count=1,\n",
    "             label='reset',\n",
    "             step='all'),\n",
    "        dict(count=1,\n",
    "             label='1yr',\n",
    "             step='year',\n",
    "             stepmode='backward'),\n",
    "        dict(count=3,\n",
    "            label='3 mo',\n",
    "            step='month',\n",
    "            stepmode='backward'),\n",
    "        dict(count=1,\n",
    "            label='1 mo',\n",
    "            step='month',\n",
    "            stepmode='backward'),\n",
    "        dict(step='all')\n",
    "    ]))\n",
    "    \n",
    "fig['layout']['xaxis']['rangeselector'] = rangeselector"
   ]
  },
  {
   "cell_type": "markdown",
   "metadata": {},
   "source": [
    "### Add moving average"
   ]
  },
  {
   "cell_type": "raw",
   "metadata": {},
   "source": [
    "def movingaverage(interval, window_size=10):\n",
    "    window = np.ones(int(window_size))/float(window_size)\n",
    "    return np.convolve(interval, window, 'same')"
   ]
  },
  {
   "cell_type": "raw",
   "metadata": {},
   "source": [
    "mv_y = movingaverage(df.Close)\n",
    "mv_x = list(df.index)\n",
    "\n",
    "# Clip the ends\n",
    "mv_x = mv_x[5:-5]\n",
    "mv_y = mv_y[5:-5]\n",
    "\n",
    "fig['data'].append( dict( x=mv_x, y=mv_y, type='scatter', mode='lines', \n",
    "                         line = dict( width = 1 ),\n",
    "                         marker = dict( color = '#E377C2' ),\n",
    "                         yaxis = 'y2', name='Moving Average' ) )"
   ]
  },
  {
   "cell_type": "markdown",
   "metadata": {},
   "source": [
    "### Set volume bar chart colors"
   ]
  },
  {
   "cell_type": "code",
   "execution_count": 9,
   "metadata": {
    "ExecuteTime": {
     "end_time": "2018-11-09T14:52:59.789015Z",
     "start_time": "2018-11-09T14:52:58.719964Z"
    }
   },
   "outputs": [],
   "source": [
    "colors = []\n",
    "\n",
    "for i in range(len(df.Close)):\n",
    "    if i != 0:\n",
    "        if df.Close[i] > df.Close[i-1]:\n",
    "            colors.append(INCREASING_COLOR)\n",
    "        else:\n",
    "            colors.append(DECREASING_COLOR)\n",
    "    else:\n",
    "        colors.append(DECREASING_COLOR)"
   ]
  },
  {
   "cell_type": "markdown",
   "metadata": {},
   "source": [
    "### Add volume bar chart"
   ]
  },
  {
   "cell_type": "code",
   "execution_count": 10,
   "metadata": {
    "ExecuteTime": {
     "end_time": "2018-11-09T14:52:59.801397Z",
     "start_time": "2018-11-09T14:52:59.794029Z"
    }
   },
   "outputs": [],
   "source": [
    "fig['data'].append( dict( x=df.index, y=df.Volume,                         \n",
    "                         marker=dict( color=colors ),\n",
    "                         type='bar', yaxis='y', name='Volume' ) )"
   ]
  },
  {
   "cell_type": "markdown",
   "metadata": {},
   "source": [
    "### Add bollinger bands"
   ]
  },
  {
   "cell_type": "raw",
   "metadata": {
    "ExecuteTime": {
     "end_time": "2018-11-09T14:50:32.920695Z",
     "start_time": "2018-11-09T14:50:32.657314Z"
    }
   },
   "source": [
    "def bbands(price, window_size=10, num_of_std=5):\n",
    "    rolling_mean = price.rolling(window=window_size).mean()\n",
    "    rolling_std  = price.rolling(window=window_size).std()\n",
    "    upper_band = rolling_mean + (rolling_std*num_of_std)\n",
    "    lower_band = rolling_mean - (rolling_std*num_of_std)\n",
    "    return rolling_mean, upper_band, lower_band\n",
    "\n",
    "bb_avg, bb_upper, bb_lower = bbands(df.Close)\n",
    "\n",
    "fig['data'].append( dict( x=df.index, y=bb_upper, type='scatter', yaxis='y2', \n",
    "                         line = dict( width = 1 ),\n",
    "                         marker=dict(color='#ccc'), hoverinfo='none', \n",
    "                         legendgroup='Bollinger Bands', name='Bollinger Bands') )\n",
    "\n",
    "fig['data'].append( dict( x=df.index, y=bb_lower, type='scatter', yaxis='y2',\n",
    "                         line = dict( width = 1 ),\n",
    "                         marker=dict(color='#ccc'), hoverinfo='none',\n",
    "                         legendgroup='Bollinger Bands', showlegend=False ) )"
   ]
  },
  {
   "cell_type": "markdown",
   "metadata": {},
   "source": [
    "### Plot"
   ]
  },
  {
   "cell_type": "code",
   "execution_count": 11,
   "metadata": {
    "ExecuteTime": {
     "end_time": "2018-11-09T14:53:04.237998Z",
     "start_time": "2018-11-09T14:52:59.806196Z"
    },
    "scrolled": false
   },
   "outputs": [
    {
     "data": {
      "text/html": [
       "<iframe id=\"igraph\" scrolling=\"no\" style=\"border:none;\" seamless=\"seamless\" src=\"https://plot.ly/~Moribund7/4.embed\" height=\"525px\" width=\"100%\"></iframe>"
      ],
      "text/plain": [
       "<plotly.tools.PlotlyDisplay object>"
      ]
     },
     "execution_count": 11,
     "metadata": {},
     "output_type": "execute_result"
    }
   ],
   "source": [
    "py.iplot( fig, filename = 'candlestick-test-3', validate = False )"
   ]
  },
  {
   "cell_type": "code",
   "execution_count": null,
   "metadata": {},
   "outputs": [],
   "source": []
  }
 ],
 "metadata": {
  "anaconda-cloud": {},
  "kernelspec": {
   "display_name": "Python [conda root]",
   "language": "python",
   "name": "conda-root-py"
  },
  "language_info": {
   "codemirror_mode": {
    "name": "ipython",
    "version": 3
   },
   "file_extension": ".py",
   "mimetype": "text/x-python",
   "name": "python",
   "nbconvert_exporter": "python",
   "pygments_lexer": "ipython3",
   "version": "3.7.0"
  }
 },
 "nbformat": 4,
 "nbformat_minor": 1
}
