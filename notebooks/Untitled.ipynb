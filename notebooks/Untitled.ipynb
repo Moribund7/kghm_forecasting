{
 "cells": [
  {
   "cell_type": "code",
   "execution_count": null,
   "metadata": {
    "ExecuteTime": {
     "end_time": "2018-11-09T15:18:34.071733Z",
     "start_time": "2018-11-09T15:18:32.231375Z"
    }
   },
   "outputs": [],
   "source": [
    "import pandas as pd\n",
    "import matplotlib.pyplot as plt\n",
    "import numpy as np\n"
   ]
  },
  {
   "cell_type": "code",
   "execution_count": null,
   "metadata": {
    "ExecuteTime": {
     "end_time": "2018-11-09T15:18:34.090954Z",
     "start_time": "2018-11-09T15:18:34.077635Z"
    }
   },
   "outputs": [],
   "source": [
    "data_path='../data/KGHM_clear.csv'"
   ]
  },
  {
   "cell_type": "code",
   "execution_count": null,
   "metadata": {
    "ExecuteTime": {
     "end_time": "2018-11-09T15:18:35.547292Z",
     "start_time": "2018-11-09T15:18:34.095619Z"
    }
   },
   "outputs": [],
   "source": [
    "df=pd.read_pickle(data_path)"
   ]
  },
  {
   "cell_type": "code",
   "execution_count": null,
   "metadata": {
    "ExecuteTime": {
     "end_time": "2018-11-09T14:52:26.213434Z",
     "start_time": "2018-11-09T14:52:26.155479Z"
    }
   },
   "outputs": [],
   "source": [
    "df.head()"
   ]
  },
  {
   "cell_type": "code",
   "execution_count": null,
   "metadata": {
    "ExecuteTime": {
     "end_time": "2018-11-09T14:52:26.402263Z",
     "start_time": "2018-11-09T14:52:26.222278Z"
    }
   },
   "outputs": [],
   "source": [
    "df_part=df.loc[:100,:]"
   ]
  },
  {
   "cell_type": "code",
   "execution_count": null,
   "metadata": {
    "ExecuteTime": {
     "end_time": "2018-11-09T14:52:38.614187Z",
     "start_time": "2018-11-09T14:52:26.406899Z"
    },
    "scrolled": true
   },
   "outputs": [],
   "source": [
    "ax1 = df.plot(x='Date',y='Open',c='DarkBlue',legend=False)"
   ]
  },
  {
   "cell_type": "markdown",
   "metadata": {},
   "source": [
    "This method is very slow"
   ]
  },
  {
   "cell_type": "code",
   "execution_count": null,
   "metadata": {
    "ExecuteTime": {
     "end_time": "2018-11-09T14:52:38.623404Z",
     "start_time": "2018-11-09T14:52:38.618865Z"
    }
   },
   "outputs": [],
   "source": [
    "# import matplotlib.pyplot as plt\n",
    "# plt.plot(df['Date'], df['Open'])\n",
    "# plt.show() # Depending on whether you use IPython or interactive mode, etc."
   ]
  },
  {
   "cell_type": "code",
   "execution_count": null,
   "metadata": {
    "ExecuteTime": {
     "end_time": "2018-11-09T14:53:00.061497Z",
     "start_time": "2018-11-09T14:52:38.627944Z"
    }
   },
   "outputs": [],
   "source": [
    "ax1 = df.plot(x='Date',y='Open',c='DarkBlue',legend=False)"
   ]
  },
  {
   "cell_type": "code",
   "execution_count": null,
   "metadata": {
    "ExecuteTime": {
     "end_time": "2018-11-09T14:53:01.315302Z",
     "start_time": "2018-11-09T14:53:00.067147Z"
    },
    "scrolled": true
   },
   "outputs": [],
   "source": [
    "df.LowHighDiff[df[\"LowHighDiff\"]!=0].plot.hist(bins=20)\n",
    "plt.show()"
   ]
  },
  {
   "cell_type": "code",
   "execution_count": null,
   "metadata": {
    "ExecuteTime": {
     "end_time": "2018-11-09T14:53:02.271658Z",
     "start_time": "2018-11-09T14:53:01.320129Z"
    },
    "scrolled": false
   },
   "outputs": [],
   "source": [
    "df.OpenCloseDiff[df[\"OpenCloseDiff\"]!=0].plot.hist(bins=20)\n",
    "plt.show()"
   ]
  },
  {
   "cell_type": "code",
   "execution_count": null,
   "metadata": {
    "ExecuteTime": {
     "end_time": "2018-11-09T14:53:03.154651Z",
     "start_time": "2018-11-09T14:53:02.276593Z"
    }
   },
   "outputs": [],
   "source": [
    "df.LowHighDiff[df[\"LowHighDiff\"]!=0].plot.hist(bins=20)\n",
    "plt.show()"
   ]
  },
  {
   "cell_type": "code",
   "execution_count": null,
   "metadata": {
    "ExecuteTime": {
     "end_time": "2018-11-09T14:53:11.029945Z",
     "start_time": "2018-11-09T14:53:03.159467Z"
    }
   },
   "outputs": [],
   "source": [
    "fig, ax = plt.subplots()\n",
    "df.TimeDelta.hist(ax=ax, bins=100, bottom=0.1)\n",
    "ax.title()\n",
    "ax.set_yscale('log')\n",
    "fig,ax2=plt.subplots()\n",
    "df.OpenCloseDiff.hist(ax=ax2, bins=100, bottom=0.1)\n",
    "ax2.set_yscale('log')"
   ]
  },
  {
   "cell_type": "code",
   "execution_count": null,
   "metadata": {
    "ExecuteTime": {
     "end_time": "2018-11-09T14:53:11.098802Z",
     "start_time": "2018-11-09T14:53:11.034454Z"
    }
   },
   "outputs": [],
   "source": [
    "df.OpenCloseDiff.sum()"
   ]
  },
  {
   "cell_type": "code",
   "execution_count": null,
   "metadata": {
    "ExecuteTime": {
     "end_time": "2018-11-09T14:53:11.244321Z",
     "start_time": "2018-11-09T14:53:11.103422Z"
    }
   },
   "outputs": [],
   "source": [
    "df.LowHighDiff.sum()"
   ]
  },
  {
   "cell_type": "code",
   "execution_count": null,
   "metadata": {},
   "outputs": [],
   "source": [
    "fig, ax = plt.subplots()\n",
    "df.CoursChange.hist(ax=ax,bins=100, bottom=0.1)\n",
    "\n",
    "# series.hist( bins=100, bottom=0.1)\n",
    "ax.set_yscale('log')\n",
    "ax.set_title('CourseChange')\n",
    "plt.show()"
   ]
  },
  {
   "cell_type": "code",
   "execution_count": null,
   "metadata": {},
   "outputs": [],
   "source": [
    "fig, ax = plt.subplots()\n",
    "df.TimeDelta.hist(ax=ax,bins=100, bottom=0.1)\n",
    "\n",
    "# series.hist( bins=100, bottom=0.1)\n",
    "ax.set_yscale('log')\n",
    "ax.set_title('TimeDelta')\n",
    "plt.show()"
   ]
  },
  {
   "cell_type": "raw",
   "metadata": {},
   "source": [
    "#Bardzo dlugo się wykonuje\n",
    "pd.scatter_matrix(df[[\"CoursChange\",\"TimeDelta\"]], figsize=(6, 6))\n",
    "plt.show()\n",
    "df[[\"CoursChange\",\"TimeDelta\"]].corr()"
   ]
  },
  {
   "cell_type": "code",
   "execution_count": null,
   "metadata": {
    "ExecuteTime": {
     "end_time": "2018-11-09T14:53:15.618383Z",
     "start_time": "2018-11-09T14:53:15.159576Z"
    }
   },
   "outputs": [],
   "source": [
    "df[[\"CoursChange\",\"TimeDelta\"]].corr()"
   ]
  },
  {
   "cell_type": "markdown",
   "metadata": {},
   "source": [
    "Jak widać, korelacja jest bardzo mała. Modele liniowe mogą działać słabo"
   ]
  },
  {
   "cell_type": "code",
   "execution_count": null,
   "metadata": {
    "ExecuteTime": {
     "end_time": "2018-11-09T14:53:21.077410Z",
     "start_time": "2018-11-09T14:53:15.628442Z"
    }
   },
   "outputs": [],
   "source": [
    "df2=df\n",
    "df2=df2[[\"CoursChange\",\"TimeDelta\"]]\n",
    "\n",
    "# This formats the plots such that they appear on separate rows\n",
    "fig,axes= plt.subplots(2,1)\n",
    "fig.tight_layout()\n",
    "\n",
    "# Plot the PDF\n",
    "df2.CoursChange.plot(ax=axes[0],kind='hist', normed=True, bins=30,title=\"CoursChange\")\n",
    "# plt.show()\n",
    "# plt.title(\"CoursChange\")\n",
    "# plt.subplot(212)\n",
    "df2.TimeDelta.plot(ax=axes[1],kind='hist', normed=True, bins=20,title=\"TimeDelta\")\n",
    "\n",
    "# Plot the CDF\n",
    "# df2.CoursChange.plot(ax=axes[1], kind='hist', normed=True, cumulative=True, bins=30)\n",
    "plt.show()\n"
   ]
  },
  {
   "cell_type": "markdown",
   "metadata": {},
   "source": [
    "Zdecydowana większość zmian czasu i kursu jest bliska zeru"
   ]
  },
  {
   "cell_type": "raw",
   "metadata": {},
   "source": [
    "'''Not working well, if range to low, plot doesnt show all values'''\n",
    "fig, axes = plt.subplots(nrows=2, ncols=2,figsize=[15,15])\n",
    "# plt.title(\"TimeDelta CDF\")\n",
    "df2.TimeDelta.hist(ax=axes[0,0],cumulative=True, density=1, bins=\"auto\",grid=True,log=False,range=[1,300])\n",
    "plt.suptitle(\"TimeDelta CDF for different \")\n",
    "df2.TimeDelta.hist(ax=axes[0,1],cumulative=True, density=0, bins=\"auto\",grid=True,log=False,range=[1,150])\n",
    "df2.TimeDelta.hist(ax=axes[1,0],cumulative=True, density=0, bins=\"auto\",grid=True,log=False,range=[1,75])\n",
    "df2.TimeDelta.hist(ax=axes[1,1],cumulative=True, density=0, bins=\"auto\",grid=True,log=False,range=[1,20])\n",
    "plt.show()"
   ]
  },
  {
   "cell_type": "code",
   "execution_count": null,
   "metadata": {
    "ExecuteTime": {
     "end_time": "2018-11-09T15:24:11.677646Z",
     "start_time": "2018-11-09T15:23:19.108243Z"
    }
   },
   "outputs": [],
   "source": [
    "import plotly.plotly as py\n",
    "import plotly.graph_objs as go\n",
    "from plotly.offline import download_plotlyjs, init_notebook_mode, plot, iplot\n",
    "init_notebook_mode(connected=True)\n",
    "\n",
    "x = df.TimeDelta\n",
    "data = [go.Histogram(x=x,\n",
    "                     cumulative=dict(enabled=True),histnorm='probability',autobinx = False,xbins={'end':2500, 'size':1, 'start':0}\n",
    "    )]"
   ]
  },
  {
   "cell_type": "code",
   "execution_count": null,
   "metadata": {
    "ExecuteTime": {
     "end_time": "2018-11-09T15:24:11.677646Z",
     "start_time": "2018-11-09T15:23:19.108243Z"
    }
   },
   "outputs": [],
   "source": [
    "layout = go.Layout(\n",
    "#     title='Sampled Results',\n",
    "    yaxis=dict(\n",
    "        title='Probability'\n",
    "    ),\n",
    "    xaxis=dict(\n",
    "        title='CourseChange'\n",
    "    ),\n",
    "    bargap=0.2,\n",
    "    bargroupgap=0.1\n",
    ")\n",
    "\n",
    "fig=go.Figure(data=data,layout=layout)\n",
    "py.iplot(fig, filename='TimeDeltaCDF')"
   ]
  },
  {
   "cell_type": "code",
   "execution_count": null,
   "metadata": {
    "ExecuteTime": {
     "end_time": "2018-11-09T15:33:51.996685Z",
     "start_time": "2018-11-09T15:29:49.501250Z"
    }
   },
   "outputs": [],
   "source": [
    "x = df[2000000:df.CoursChange.shape[0]].CoursChange\n",
    "data = [go.Histogram(x=x,\n",
    "                     cumulative=dict(enabled=True),histnorm='probability',autobinx = False,xbins={'end':6.015, 'size':0.005, 'start':-4}\n",
    "    )]"
   ]
  },
  {
   "cell_type": "code",
   "execution_count": null,
   "metadata": {
    "ExecuteTime": {
     "end_time": "2018-11-09T15:33:51.996685Z",
     "start_time": "2018-11-09T15:29:49.501250Z"
    }
   },
   "outputs": [],
   "source": [
    "layout = go.Layout(\n",
    "#     title='Sampled Results',\n",
    "    yaxis=dict(\n",
    "        title='Probability'\n",
    "    ),\n",
    "    xaxis=dict(\n",
    "        title='CourseChange'\n",
    "    ),\n",
    "    bargap=0.2,\n",
    "    bargroupgap=0.1\n",
    ")\n",
    "\n",
    "fig=go.Figure(data=data,layout=layout)\n",
    "py.iplot(fig, filename='CoursChangeCDF')"
   ]
  },
  {
   "cell_type": "raw",
   "metadata": {
    "scrolled": true
   },
   "source": [
    "'''Beter but hard to chose only interesting region.If plotly doesnt work well, is the best way'''\n",
    "fig, axes = plt.subplots(nrows=2, ncols=2,figsize=[15,15])\n",
    "df.TimeDelta.hist(ax=axes[0,0],cumulative=True, density=1, bins=range(0, 1000, 1),grid=True,log=False)\n",
    "plt.suptitle(\"TimeDelta CDF for different \")\n",
    "axes[0,0].set_xlim(0,4000)\n",
    "\n",
    "plt.show()"
   ]
  },
  {
   "cell_type": "code",
   "execution_count": null,
   "metadata": {
    "ExecuteTime": {
     "end_time": "2018-11-09T14:57:26.944262Z",
     "start_time": "2018-11-09T14:52:22.425Z"
    }
   },
   "outputs": [],
   "source": [
    "df[df[\"TimeDelta\"]>800000].index"
   ]
  },
  {
   "cell_type": "code",
   "execution_count": null,
   "metadata": {
    "ExecuteTime": {
     "end_time": "2018-11-09T14:57:26.953535Z",
     "start_time": "2018-11-09T14:52:22.435Z"
    }
   },
   "outputs": [],
   "source": [
    "df.iloc[3371819]"
   ]
  },
  {
   "cell_type": "code",
   "execution_count": null,
   "metadata": {
    "ExecuteTime": {
     "end_time": "2018-11-09T14:57:26.957974Z",
     "start_time": "2018-11-09T14:52:22.442Z"
    }
   },
   "outputs": [],
   "source": [
    "df.iloc[3371820]"
   ]
  },
  {
   "cell_type": "markdown",
   "metadata": {},
   "source": [
    "Anomalia pomiędzy 2014-01-31 09:00:01 a  2014-01-15 17:04:08 . Brak danych przez 15 dni"
   ]
  },
  {
   "cell_type": "code",
   "execution_count": null,
   "metadata": {
    "ExecuteTime": {
     "end_time": "2018-11-09T14:57:26.961761Z",
     "start_time": "2018-11-09T14:52:22.450Z"
    }
   },
   "outputs": [],
   "source": [
    "df[df[\"OpenCloseDiff\"]>4]"
   ]
  },
  {
   "cell_type": "code",
   "execution_count": null,
   "metadata": {
    "ExecuteTime": {
     "end_time": "2018-11-09T14:57:26.971483Z",
     "start_time": "2018-11-09T14:52:22.459Z"
    }
   },
   "outputs": [],
   "source": [
    "df.loc[4901630:4901750][[\"Open\"]].plot()"
   ]
  },
  {
   "cell_type": "markdown",
   "metadata": {},
   "source": [
    "Dziwna zmiana ceny, notowania z poprzedniego dnia się urywają, duże różnice pomiędzy low and high"
   ]
  },
  {
   "cell_type": "markdown",
   "metadata": {},
   "source": [
    "# Proba prognozowania"
   ]
  },
  {
   "cell_type": "code",
   "execution_count": null,
   "metadata": {},
   "outputs": [],
   "source": [
    "df=pd.read_pickle(data_path)"
   ]
  },
  {
   "cell_type": "code",
   "execution_count": null,
   "metadata": {},
   "outputs": [],
   "source": [
    "from sklearn.linear_model import LinearRegression\n",
    "from sklearn import preprocessing, model_selection, svm"
   ]
  },
  {
   "cell_type": "code",
   "execution_count": null,
   "metadata": {},
   "outputs": [],
   "source": [
    "df.head()"
   ]
  },
  {
   "cell_type": "code",
   "execution_count": null,
   "metadata": {},
   "outputs": [],
   "source": [
    "df=df[['Close','TimeDelta']]"
   ]
  },
  {
   "cell_type": "code",
   "execution_count": null,
   "metadata": {},
   "outputs": [],
   "source": [
    "df.head(15)"
   ]
  },
  {
   "cell_type": "code",
   "execution_count": null,
   "metadata": {},
   "outputs": [],
   "source": [
    "df.shape"
   ]
  },
  {
   "cell_type": "code",
   "execution_count": null,
   "metadata": {},
   "outputs": [],
   "source": [
    "data_size=5000000"
   ]
  },
  {
   "cell_type": "code",
   "execution_count": null,
   "metadata": {},
   "outputs": [],
   "source": [
    "forecast_out=10"
   ]
  },
  {
   "cell_type": "code",
   "execution_count": null,
   "metadata": {},
   "outputs": [],
   "source": [
    "df_test=df[data_size-5:data_size+forecast_out]"
   ]
  },
  {
   "cell_type": "code",
   "execution_count": null,
   "metadata": {},
   "outputs": [],
   "source": [
    "df=df[:data_size]"
   ]
  },
  {
   "cell_type": "code",
   "execution_count": null,
   "metadata": {},
   "outputs": [],
   "source": [
    "df.tail()"
   ]
  },
  {
   "cell_type": "code",
   "execution_count": null,
   "metadata": {},
   "outputs": [],
   "source": [
    "df_test"
   ]
  },
  {
   "cell_type": "code",
   "execution_count": null,
   "metadata": {},
   "outputs": [],
   "source": [
    "df['PredictionPrice'] = df[['Close']].shift(-forecast_out)\n",
    "df['PredictionTime'] = df[['TimeDelta']].shift(-forecast_out)"
   ]
  },
  {
   "cell_type": "code",
   "execution_count": null,
   "metadata": {},
   "outputs": [],
   "source": [
    "df.tail(15)"
   ]
  },
  {
   "cell_type": "code",
   "execution_count": null,
   "metadata": {},
   "outputs": [],
   "source": [
    "# X = np.array(df.drop(['PredictionPrice',\"PredictionTime\"], 1))\n",
    "X = np.array(df.drop(['PredictionPrice',\"PredictionTime\",\"TimeDelta\"], 1))\n"
   ]
  },
  {
   "cell_type": "code",
   "execution_count": null,
   "metadata": {},
   "outputs": [],
   "source": [
    "X"
   ]
  },
  {
   "cell_type": "code",
   "execution_count": null,
   "metadata": {},
   "outputs": [],
   "source": [
    "X_forecast = X[-forecast_out:] # set X_forecast equal to last 30\n",
    "X = X[:-forecast_out] # remove last 30 from X\n",
    "X.shape"
   ]
  },
  {
   "cell_type": "code",
   "execution_count": null,
   "metadata": {},
   "outputs": [],
   "source": [
    "X.shape"
   ]
  },
  {
   "cell_type": "code",
   "execution_count": null,
   "metadata": {},
   "outputs": [],
   "source": [
    "X_forecast.shape"
   ]
  },
  {
   "cell_type": "code",
   "execution_count": null,
   "metadata": {},
   "outputs": [],
   "source": [
    "# y = np.array(df[['PredictionPrice',\"PredictionTime\"]])\n",
    "y =  np.array(df.drop(['Close',\"PredictionTime\",\"TimeDelta\"], 1))\n",
    "y = y[:-forecast_out]"
   ]
  },
  {
   "cell_type": "code",
   "execution_count": null,
   "metadata": {},
   "outputs": [],
   "source": [
    "y.shape"
   ]
  },
  {
   "cell_type": "code",
   "execution_count": null,
   "metadata": {},
   "outputs": [],
   "source": [
    "X"
   ]
  },
  {
   "cell_type": "code",
   "execution_count": null,
   "metadata": {},
   "outputs": [],
   "source": [
    "# Create the Scaler object\n",
    "scaler = preprocessing.StandardScaler()"
   ]
  },
  {
   "cell_type": "code",
   "execution_count": null,
   "metadata": {},
   "outputs": [],
   "source": [
    "normalized_X = preprocessing.scale(X)"
   ]
  },
  {
   "cell_type": "code",
   "execution_count": null,
   "metadata": {},
   "outputs": [],
   "source": [
    "normalized_y = preprocessing.scale(y)"
   ]
  },
  {
   "cell_type": "code",
   "execution_count": null,
   "metadata": {},
   "outputs": [],
   "source": [
    "print(normalized_y.shape,normalized_X.shape)"
   ]
  },
  {
   "cell_type": "code",
   "execution_count": null,
   "metadata": {},
   "outputs": [],
   "source": [
    "normalized_X"
   ]
  },
  {
   "cell_type": "code",
   "execution_count": null,
   "metadata": {},
   "outputs": [],
   "source": [
    "y.shape"
   ]
  },
  {
   "cell_type": "code",
   "execution_count": null,
   "metadata": {},
   "outputs": [],
   "source": [
    "X_train, X_test, y_train, y_test = model_selection.train_test_split(normalized_X, normalized_y, test_size = 0.2, shuffle=False)"
   ]
  },
  {
   "cell_type": "code",
   "execution_count": null,
   "metadata": {},
   "outputs": [],
   "source": [
    "X_train,y_train"
   ]
  },
  {
   "cell_type": "code",
   "execution_count": null,
   "metadata": {},
   "outputs": [],
   "source": [
    "# Training\n",
    "clf = LinearRegression()\n",
    "clf.fit(X_train,y_train)\n",
    "# Testing\n",
    "confidence = clf.score(X_test, y_test)\n",
    "print(\"confidence: \", confidence)"
   ]
  },
  {
   "cell_type": "code",
   "execution_count": null,
   "metadata": {},
   "outputs": [],
   "source": [
    "forecast_prediction = clf.predict(X_forecast)\n",
    "print(forecast_prediction)"
   ]
  },
  {
   "cell_type": "code",
   "execution_count": null,
   "metadata": {},
   "outputs": [],
   "source": [
    "X_forecast"
   ]
  },
  {
   "cell_type": "code",
   "execution_count": null,
   "metadata": {},
   "outputs": [],
   "source": [
    "df_test"
   ]
  },
  {
   "cell_type": "code",
   "execution_count": null,
   "metadata": {},
   "outputs": [],
   "source": []
  },
  {
   "cell_type": "code",
   "execution_count": null,
   "metadata": {},
   "outputs": [],
   "source": []
  }
 ],
 "metadata": {
  "kernelspec": {
   "display_name": "Python [default]",
   "language": "python",
   "name": "python3"
  },
  "language_info": {
   "codemirror_mode": {
    "name": "ipython",
    "version": 3
   },
   "file_extension": ".py",
   "mimetype": "text/x-python",
   "name": "python",
   "nbconvert_exporter": "python",
   "pygments_lexer": "ipython3",
   "version": "3.7.0"
  }
 },
 "nbformat": 4,
 "nbformat_minor": 2
}
