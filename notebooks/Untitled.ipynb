{
 "cells": [
  {
   "cell_type": "code",
   "execution_count": 1,
   "metadata": {
    "ExecuteTime": {
     "end_time": "2018-11-16T13:44:18.408603Z",
     "start_time": "2018-11-16T13:44:16.376093Z"
    }
   },
   "outputs": [],
   "source": [
    "import pandas as pd\n",
    "import matplotlib.pyplot as plt\n",
    "import numpy as np\n"
   ]
  },
  {
   "cell_type": "code",
   "execution_count": 2,
   "metadata": {
    "ExecuteTime": {
     "end_time": "2018-11-16T13:44:18.421891Z",
     "start_time": "2018-11-16T13:44:18.415686Z"
    }
   },
   "outputs": [],
   "source": [
    "data_path='../data/KGHM_clear.csv'"
   ]
  },
  {
   "cell_type": "code",
   "execution_count": 3,
   "metadata": {
    "ExecuteTime": {
     "end_time": "2018-11-16T13:44:21.150604Z",
     "start_time": "2018-11-16T13:44:18.425979Z"
    }
   },
   "outputs": [],
   "source": [
    "df=pd.read_pickle(data_path)"
   ]
  },
  {
   "cell_type": "code",
   "execution_count": 4,
   "metadata": {
    "ExecuteTime": {
     "end_time": "2018-11-16T13:44:21.242701Z",
     "start_time": "2018-11-16T13:44:21.158130Z"
    }
   },
   "outputs": [
    {
     "data": {
      "text/html": [
       "<div>\n",
       "<style scoped>\n",
       "    .dataframe tbody tr th:only-of-type {\n",
       "        vertical-align: middle;\n",
       "    }\n",
       "\n",
       "    .dataframe tbody tr th {\n",
       "        vertical-align: top;\n",
       "    }\n",
       "\n",
       "    .dataframe thead th {\n",
       "        text-align: right;\n",
       "    }\n",
       "</style>\n",
       "<table border=\"1\" class=\"dataframe\">\n",
       "  <thead>\n",
       "    <tr style=\"text-align: right;\">\n",
       "      <th></th>\n",
       "      <th>Name</th>\n",
       "      <th>Date</th>\n",
       "      <th>Open</th>\n",
       "      <th>High</th>\n",
       "      <th>Low</th>\n",
       "      <th>Close</th>\n",
       "      <th>Volume</th>\n",
       "      <th>TimeDelta</th>\n",
       "      <th>CoursChange</th>\n",
       "      <th>LowHighDiff</th>\n",
       "      <th>OpenCloseDiff</th>\n",
       "    </tr>\n",
       "  </thead>\n",
       "  <tbody>\n",
       "    <tr>\n",
       "      <th>0</th>\n",
       "      <td>KGHM</td>\n",
       "      <td>2000-11-17 10:00:24</td>\n",
       "      <td>26.3</td>\n",
       "      <td>26.3</td>\n",
       "      <td>26.3</td>\n",
       "      <td>26.3</td>\n",
       "      <td>10840</td>\n",
       "      <td>0.0</td>\n",
       "      <td>NaN</td>\n",
       "      <td>0.0</td>\n",
       "      <td>0.0</td>\n",
       "    </tr>\n",
       "    <tr>\n",
       "      <th>1</th>\n",
       "      <td>KGHM</td>\n",
       "      <td>2000-11-17 10:00:25</td>\n",
       "      <td>26.3</td>\n",
       "      <td>26.3</td>\n",
       "      <td>26.3</td>\n",
       "      <td>26.3</td>\n",
       "      <td>1035</td>\n",
       "      <td>1.0</td>\n",
       "      <td>0.0</td>\n",
       "      <td>0.0</td>\n",
       "      <td>0.0</td>\n",
       "    </tr>\n",
       "    <tr>\n",
       "      <th>2</th>\n",
       "      <td>KGHM</td>\n",
       "      <td>2000-11-17 10:00:26</td>\n",
       "      <td>26.3</td>\n",
       "      <td>26.3</td>\n",
       "      <td>26.3</td>\n",
       "      <td>26.3</td>\n",
       "      <td>57</td>\n",
       "      <td>1.0</td>\n",
       "      <td>0.0</td>\n",
       "      <td>0.0</td>\n",
       "      <td>0.0</td>\n",
       "    </tr>\n",
       "    <tr>\n",
       "      <th>3</th>\n",
       "      <td>KGHM</td>\n",
       "      <td>2000-11-17 10:03:29</td>\n",
       "      <td>26.3</td>\n",
       "      <td>26.3</td>\n",
       "      <td>26.3</td>\n",
       "      <td>26.3</td>\n",
       "      <td>20288</td>\n",
       "      <td>183.0</td>\n",
       "      <td>0.0</td>\n",
       "      <td>0.0</td>\n",
       "      <td>0.0</td>\n",
       "    </tr>\n",
       "    <tr>\n",
       "      <th>4</th>\n",
       "      <td>KGHM</td>\n",
       "      <td>2000-11-17 10:09:28</td>\n",
       "      <td>26.2</td>\n",
       "      <td>26.2</td>\n",
       "      <td>26.2</td>\n",
       "      <td>26.2</td>\n",
       "      <td>9</td>\n",
       "      <td>359.0</td>\n",
       "      <td>-0.1</td>\n",
       "      <td>0.0</td>\n",
       "      <td>0.0</td>\n",
       "    </tr>\n",
       "  </tbody>\n",
       "</table>\n",
       "</div>"
      ],
      "text/plain": [
       "   Name                Date  Open  High   Low  Close  Volume  TimeDelta  \\\n",
       "0  KGHM 2000-11-17 10:00:24  26.3  26.3  26.3   26.3   10840        0.0   \n",
       "1  KGHM 2000-11-17 10:00:25  26.3  26.3  26.3   26.3    1035        1.0   \n",
       "2  KGHM 2000-11-17 10:00:26  26.3  26.3  26.3   26.3      57        1.0   \n",
       "3  KGHM 2000-11-17 10:03:29  26.3  26.3  26.3   26.3   20288      183.0   \n",
       "4  KGHM 2000-11-17 10:09:28  26.2  26.2  26.2   26.2       9      359.0   \n",
       "\n",
       "   CoursChange  LowHighDiff  OpenCloseDiff  \n",
       "0          NaN          0.0            0.0  \n",
       "1          0.0          0.0            0.0  \n",
       "2          0.0          0.0            0.0  \n",
       "3          0.0          0.0            0.0  \n",
       "4         -0.1          0.0            0.0  "
      ]
     },
     "execution_count": 4,
     "metadata": {},
     "output_type": "execute_result"
    }
   ],
   "source": [
    "df.head()"
   ]
  },
  {
   "cell_type": "code",
   "execution_count": 5,
   "metadata": {
    "ExecuteTime": {
     "end_time": "2018-11-16T13:44:21.332386Z",
     "start_time": "2018-11-16T13:44:21.252181Z"
    }
   },
   "outputs": [],
   "source": [
    "df_part=df.loc[:100,:]"
   ]
  },
  {
   "cell_type": "code",
   "execution_count": 6,
   "metadata": {
    "ExecuteTime": {
     "end_time": "2018-11-16T13:44:35.165038Z",
     "start_time": "2018-11-16T13:44:21.338129Z"
    },
    "scrolled": true
   },
   "outputs": [
    {
     "data": {
      "image/png": "[encoded data removed]",
      "text/plain": [
       "<Figure size 432x288 with 1 Axes>"
      ]
     },
     "metadata": {
      "needs_background": "light"
     },
     "output_type": "display_data"
    }
   ],
   "source": [
    "ax1 = df.plot(x='Date',y='Open',c='DarkBlue',legend=False)"
   ]
  },
  {
   "cell_type": "markdown",
   "metadata": {},
   "source": [
    "This method is very slow"
   ]
  },
  {
   "cell_type": "code",
   "execution_count": 7,
   "metadata": {
    "ExecuteTime": {
     "end_time": "2018-11-16T13:44:35.182219Z",
     "start_time": "2018-11-16T13:44:35.170050Z"
    }
   },
   "outputs": [],
   "source": [
    "# import matplotlib.pyplot as plt\n",
    "# plt.plot(df['Date'], df['Open'])\n",
    "# plt.show() # Depending on whether you use IPython or interactive mode, etc."
   ]
  },
  {
   "cell_type": "code",
   "execution_count": 8,
   "metadata": {
    "ExecuteTime": {
     "end_time": "2018-11-16T13:44:50.912532Z",
     "start_time": "2018-11-16T13:44:35.186609Z"
    }
   },
   "outputs": [
    {
     "data": {
      "image/png": "[encoded data removed]",
      "text/plain": [
       "<Figure size 432x288 with 1 Axes>"
      ]
     },
     "metadata": {
      "needs_background": "light"
     },
     "output_type": "display_data"
    }
   ],
   "source": [
    "ax1 = df.plot(x='Date',y='Open',c='DarkBlue',legend=False)"
   ]
  },
  {
   "cell_type": "raw",
   "metadata": {
    "ExecuteTime": {
     "end_time": "2018-11-09T14:53:01.315302Z",
     "start_time": "2018-11-09T14:53:00.067147Z"
    },
    "scrolled": true
   },
   "source": [
    "df.LowHighDiff[df[\"LowHighDiff\"]!=0].plot.hist(bins=20)\n",
    "plt.show()"
   ]
  },
  {
   "cell_type": "raw",
   "metadata": {
    "ExecuteTime": {
     "end_time": "2018-11-09T14:53:02.271658Z",
     "start_time": "2018-11-09T14:53:01.320129Z"
    },
    "scrolled": false
   },
   "source": [
    "df.OpenCloseDiff[df[\"OpenCloseDiff\"]!=0].plot.hist(bins=20)\n",
    "plt.show()"
   ]
  },
  {
   "cell_type": "raw",
   "metadata": {
    "ExecuteTime": {
     "end_time": "2018-11-09T14:53:03.154651Z",
     "start_time": "2018-11-09T14:53:02.276593Z"
    }
   },
   "source": [
    "df.LowHighDiff[df[\"LowHighDiff\"]!=0].plot.hist(bins=20)\n",
    "plt.show()"
   ]
  },
  {
   "cell_type": "code",
   "execution_count": 9,
   "metadata": {
    "ExecuteTime": {
     "end_time": "2018-11-16T13:44:55.383705Z",
     "start_time": "2018-11-16T13:44:50.921677Z"
    }
   },
   "outputs": [
    {
     "data": {
      "image/png": "[encoded data removed]",
      "text/plain": [
       "<Figure size 432x288 with 1 Axes>"
      ]
     },
     "metadata": {
      "needs_background": "light"
     },
     "output_type": "display_data"
    }
   ],
   "source": [
    "fig, ax = plt.subplots()\n",
    "df.TimeDelta.hist(ax=ax, bins=100, bottom=0.1,)\n",
    "ax.set_title(\"Czas pomiedzy kolejnymi tranzakcjami [s]\")\n",
    "ax.set_yscale('log')\n",
    "plt.show()"
   ]
  },
  {
   "cell_type": "code",
   "execution_count": 10,
   "metadata": {
    "ExecuteTime": {
     "end_time": "2018-11-16T13:45:02.528877Z",
     "start_time": "2018-11-16T13:44:55.388611Z"
    }
   },
   "outputs": [
    {
     "data": {
      "image/png": "[encoded data removed]",
      "text/plain": [
       "<Figure size 432x288 with 1 Axes>"
      ]
     },
     "metadata": {
      "needs_background": "light"
     },
     "output_type": "display_data"
    }
   ],
   "source": [
    "fig,ax2=plt.subplots()\n",
    "df.Close.hist(ax=ax2, bins=1000, bottom=0.1)\n",
    "ax2.set_title(\"Histogram cen Close\")\n",
    "# ax2.set_yscale('log')\n",
    "plt.show()"
   ]
  },
  {
   "cell_type": "code",
   "execution_count": 11,
   "metadata": {
    "ExecuteTime": {
     "end_time": "2018-11-16T13:45:05.509407Z",
     "start_time": "2018-11-16T13:45:02.534069Z"
    }
   },
   "outputs": [
    {
     "data": {
      "image/png": "[encoded data removed]",
      "text/plain": [
       "<Figure size 432x288 with 1 Axes>"
      ]
     },
     "metadata": {
      "needs_background": "light"
     },
     "output_type": "display_data"
    }
   ],
   "source": [
    "fig,ax2=plt.subplots()\n",
    "df.OpenCloseDiff.hist(ax=ax2, bins=100, bottom=0.1)\n",
    "ax2.set_title(\"Roznica OpenClose\")\n",
    "ax2.set_yscale('log')\n",
    "plt.show()"
   ]
  },
  {
   "cell_type": "code",
   "execution_count": 12,
   "metadata": {
    "ExecuteTime": {
     "end_time": "2018-11-16T13:45:05.768822Z",
     "start_time": "2018-11-16T13:45:05.514611Z"
    }
   },
   "outputs": [
    {
     "data": {
      "text/plain": [
       "2191.6699999999887"
      ]
     },
     "execution_count": 12,
     "metadata": {},
     "output_type": "execute_result"
    }
   ],
   "source": [
    "df.OpenCloseDiff.sum()"
   ]
  },
  {
   "cell_type": "code",
   "execution_count": 13,
   "metadata": {
    "ExecuteTime": {
     "end_time": "2018-11-16T13:45:05.853045Z",
     "start_time": "2018-11-16T13:45:05.772743Z"
    }
   },
   "outputs": [
    {
     "data": {
      "text/plain": [
       "51162.71000000005"
      ]
     },
     "execution_count": 13,
     "metadata": {},
     "output_type": "execute_result"
    }
   ],
   "source": [
    "df.LowHighDiff.sum()"
   ]
  },
  {
   "cell_type": "code",
   "execution_count": 14,
   "metadata": {
    "ExecuteTime": {
     "end_time": "2018-11-16T13:45:09.068689Z",
     "start_time": "2018-11-16T13:45:05.858183Z"
    }
   },
   "outputs": [
    {
     "data": {
      "image/png": "[encoded data removed]",
      "text/plain": [
       "<Figure size 432x288 with 1 Axes>"
      ]
     },
     "metadata": {
      "needs_background": "light"
     },
     "output_type": "display_data"
    }
   ],
   "source": [
    "fig, ax = plt.subplots()\n",
    "df.CoursChange.hist(ax=ax,bins=100, bottom=0.1)\n",
    "\n",
    "# series.hist( bins=100, bottom=0.1)\n",
    "ax.set_yscale('log')\n",
    "ax.set_title('Zmiana wartosci akcji od ostatniej transakcji')\n",
    "plt.show()"
   ]
  },
  {
   "cell_type": "raw",
   "metadata": {},
   "source": [
    "#Bardzo dlugo się wykonuje\n",
    "pd.scatter_matrix(df[[\"CoursChange\",\"TimeDelta\"]], figsize=(6, 6))\n",
    "plt.show()\n",
    "df[[\"CoursChange\",\"TimeDelta\"]].corr()"
   ]
  },
  {
   "cell_type": "code",
   "execution_count": 15,
   "metadata": {
    "ExecuteTime": {
     "end_time": "2018-11-16T13:45:09.710075Z",
     "start_time": "2018-11-16T13:45:09.073021Z"
    }
   },
   "outputs": [
    {
     "data": {
      "text/html": [
       "<div>\n",
       "<style scoped>\n",
       "    .dataframe tbody tr th:only-of-type {\n",
       "        vertical-align: middle;\n",
       "    }\n",
       "\n",
       "    .dataframe tbody tr th {\n",
       "        vertical-align: top;\n",
       "    }\n",
       "\n",
       "    .dataframe thead th {\n",
       "        text-align: right;\n",
       "    }\n",
       "</style>\n",
       "<table border=\"1\" class=\"dataframe\">\n",
       "  <thead>\n",
       "    <tr style=\"text-align: right;\">\n",
       "      <th></th>\n",
       "      <th>CoursChange</th>\n",
       "      <th>TimeDelta</th>\n",
       "    </tr>\n",
       "  </thead>\n",
       "  <tbody>\n",
       "    <tr>\n",
       "      <th>CoursChange</th>\n",
       "      <td>1.00000</td>\n",
       "      <td>0.03465</td>\n",
       "    </tr>\n",
       "    <tr>\n",
       "      <th>TimeDelta</th>\n",
       "      <td>0.03465</td>\n",
       "      <td>1.00000</td>\n",
       "    </tr>\n",
       "  </tbody>\n",
       "</table>\n",
       "</div>"
      ],
      "text/plain": [
       "             CoursChange  TimeDelta\n",
       "CoursChange      1.00000    0.03465\n",
       "TimeDelta        0.03465    1.00000"
      ]
     },
     "execution_count": 15,
     "metadata": {},
     "output_type": "execute_result"
    }
   ],
   "source": [
    "df[[\"CoursChange\",\"TimeDelta\"]].corr()"
   ]
  },
  {
   "cell_type": "code",
   "execution_count": 16,
   "metadata": {
    "ExecuteTime": {
     "end_time": "2018-11-16T13:45:12.635329Z",
     "start_time": "2018-11-16T13:45:09.715939Z"
    }
   },
   "outputs": [
    {
     "data": {
      "image/png": "[encoded data removed]",
      "text/plain": [
       "<Figure size 432x288 with 1 Axes>"
      ]
     },
     "metadata": {
      "needs_background": "light"
     },
     "output_type": "display_data"
    }
   ],
   "source": [
    "fig, ax = plt.subplots()\n",
    "df.TimeDelta.hist(ax=ax,bins=100, bottom=0.1)\n",
    "\n",
    "# series.hist( bins=100, bottom=0.1)\n",
    "ax.set_yscale('log')\n",
    "ax.set_title('TimeDelta')\n",
    "plt.show()"
   ]
  },
  {
   "cell_type": "markdown",
   "metadata": {},
   "source": [
    "Jak widać, korelacja jest bardzo mała. Modele liniowe mogą działać słabo"
   ]
  },
  {
   "cell_type": "raw",
   "metadata": {
    "ExecuteTime": {
     "end_time": "2018-11-09T14:53:21.077410Z",
     "start_time": "2018-11-09T14:53:15.628442Z"
    }
   },
   "source": [
    "df2=df\n",
    "df2=df2[[\"CoursChange\",\"TimeDelta\"]]\n",
    "\n",
    "# This formats the plots such that they appear on separate rows\n",
    "fig,axes= plt.subplots(2,1)\n",
    "fig.tight_layout()\n",
    "\n",
    "# Plot the PDF\n",
    "df2.CoursChange.plot(ax=axes[0],kind='hist', normed=True, bins=30,title=\"CoursChange\")\n",
    "# plt.show()\n",
    "# plt.title(\"CoursChange\")\n",
    "# plt.subplot(212)\n",
    "df2.TimeDelta.plot(ax=axes[1],kind='hist', normed=True, bins=10,title=\"TimeDelta\")\n",
    "\n",
    "# Plot the CDF\n",
    "# df2.CoursChange.plot(ax=axes[1], kind='hist', normed=True, cumulative=True, bins=30)\n",
    "plt.show()\n"
   ]
  },
  {
   "cell_type": "markdown",
   "metadata": {},
   "source": [
    "Zdecydowana większość zmian czasu i kursu jest bliska zeru"
   ]
  },
  {
   "cell_type": "raw",
   "metadata": {},
   "source": [
    "'''Not working well, if range to low, plot doesnt show all values'''\n",
    "fig, axes = plt.subplots(nrows=2, ncols=2,figsize=[15,15])\n",
    "# plt.title(\"TimeDelta CDF\")\n",
    "df2.TimeDelta.hist(ax=axes[0,0],cumulative=True, density=1, bins=\"auto\",grid=True,log=False,range=[1,300])\n",
    "plt.suptitle(\"TimeDelta CDF for different \")\n",
    "df2.TimeDelta.hist(ax=axes[0,1],cumulative=True, density=0, bins=\"auto\",grid=True,log=False,range=[1,150])\n",
    "df2.TimeDelta.hist(ax=axes[1,0],cumulative=True, density=0, bins=\"auto\",grid=True,log=False,range=[1,75])\n",
    "df2.TimeDelta.hist(ax=axes[1,1],cumulative=True, density=0, bins=\"auto\",grid=True,log=False,range=[1,20])\n",
    "plt.show()"
   ]
  },
  {
   "cell_type": "code",
   "execution_count": 28,
   "metadata": {
    "ExecuteTime": {
     "end_time": "2018-11-16T13:50:23.791126Z",
     "start_time": "2018-11-16T13:50:23.769397Z"
    }
   },
   "outputs": [],
   "source": [
    "import plotly.plotly as py\n",
    "import plotly.graph_objs as go\n",
    "# from plotly.offline import download_plotlyjs, init_notebook_mode, plot, iplot #for offline ploting \n",
    "# init_notebook_mode(connected=True)\n",
    "\n",
    "x = df[:100000].TimeDelta\n",
    "data = [go.Histogram(x=x,\n",
    "                     autobinx = False,xbins={'end':600, 'size':1, 'start':0}\n",
    "    )]"
   ]
  },
  {
   "cell_type": "code",
   "execution_count": 29,
   "metadata": {
    "ExecuteTime": {
     "end_time": "2018-11-16T13:50:27.976312Z",
     "start_time": "2018-11-16T13:50:23.968379Z"
    }
   },
   "outputs": [
    {
     "data": {
      "text/html": [
       "<iframe id=\"igraph\" scrolling=\"no\" style=\"border:none;\" seamless=\"seamless\" src=\"https://plot.ly/~Moribund7/13.embed\" height=\"525px\" width=\"100%\"></iframe>"
      ],
      "text/plain": [
       "<plotly.tools.PlotlyDisplay object>"
      ]
     },
     "execution_count": 29,
     "metadata": {},
     "output_type": "execute_result"
    }
   ],
   "source": [
    "layout = go.Layout(\n",
    "#     title='Sampled Results',\n",
    "    yaxis=dict(\n",
    "        title='Probability'\n",
    "    ),\n",
    "    xaxis=dict(\n",
    "        title='CourseChange'\n",
    "    ),\n",
    "    bargap=0.2,\n",
    "    bargroupgap=0.1\n",
    ")\n",
    "\n",
    "fig=go.Figure(data=data,layout=layout)\n",
    "py.iplot(fig, filename='TimeDeltaCDF')"
   ]
  },
  {
   "cell_type": "code",
   "execution_count": 22,
   "metadata": {
    "ExecuteTime": {
     "end_time": "2018-11-16T13:48:21.252621Z",
     "start_time": "2018-11-16T13:48:21.203036Z"
    }
   },
   "outputs": [],
   "source": [
    "x = df[200000:df.CoursChange.shape[0]].CoursChange\n",
    "data = [go.Histogram(x=x,\n",
    "                     cumulative=dict(enabled=True),histnorm='probability',autobinx = False,xbins={'end':6.015, 'size':0.005, 'start':-4}\n",
    "    )]"
   ]
  },
  {
   "cell_type": "code",
   "execution_count": 20,
   "metadata": {
    "ExecuteTime": {
     "end_time": "2018-11-16T13:47:56.264563Z",
     "start_time": "2018-11-16T13:45:23.203628Z"
    }
   },
   "outputs": [
    {
     "data": {
      "text/html": [
       "<iframe id=\"igraph\" scrolling=\"no\" style=\"border:none;\" seamless=\"seamless\" src=\"https://plot.ly/~Moribund7/15.embed\" height=\"525px\" width=\"100%\"></iframe>"
      ],
      "text/plain": [
       "<plotly.tools.PlotlyDisplay object>"
      ]
     },
     "execution_count": 20,
     "metadata": {},
     "output_type": "execute_result"
    }
   ],
   "source": [
    "layout = go.Layout(\n",
    "#     title='Sampled Results',\n",
    "    yaxis=dict(\n",
    "        title='Probability'\n",
    "    ),\n",
    "    xaxis=dict(\n",
    "        title='CourseChange'\n",
    "    ),\n",
    "    bargap=0.2,\n",
    "    bargroupgap=0.1\n",
    ")\n",
    "\n",
    "fig=go.Figure(data=data,layout=layout)\n",
    "py.iplot(fig, filename='CoursChangeCDF')"
   ]
  },
  {
   "cell_type": "raw",
   "metadata": {
    "scrolled": true
   },
   "source": [
    "'''Beter but hard to chose only interesting region.If plotly doesnt work well, is the best way'''\n",
    "fig, axes = plt.subplots(nrows=2, ncols=2,figsize=[15,15])\n",
    "df.TimeDelta.hist(ax=axes[0,0],cumulative=True, density=1, bins=range(0, 1000, 1),grid=True,log=False)\n",
    "plt.suptitle(\"TimeDelta CDF for different \")\n",
    "axes[0,0].set_xlim(0,4000)\n",
    "\n",
    "plt.show()"
   ]
  },
  {
   "cell_type": "markdown",
   "metadata": {},
   "source": [
    "# Wykres swiecowy dla akcji KGHM"
   ]
  },
  {
   "cell_type": "code",
   "execution_count": 21,
   "metadata": {
    "ExecuteTime": {
     "end_time": "2018-11-16T13:48:02.018889Z",
     "start_time": "2018-11-16T13:47:56.270061Z"
    }
   },
   "outputs": [
    {
     "ename": "NameError",
     "evalue": "name 'iplot' is not defined",
     "output_type": "error",
     "traceback": [
      "\u001b[0;31m---------------------------------------------------------------------------\u001b[0m",
      "\u001b[0;31mNameError\u001b[0m                                 Traceback (most recent call last)",
      "\u001b[0;32m<ipython-input-21-5860a119f3bd>\u001b[0m in \u001b[0;36m<module>\u001b[0;34m\u001b[0m\n\u001b[1;32m      1\u001b[0m \u001b[0mfig\u001b[0m \u001b[0;34m=\u001b[0m \u001b[0mpy\u001b[0m\u001b[0;34m.\u001b[0m\u001b[0mget_figure\u001b[0m\u001b[0;34m(\u001b[0m\u001b[0;34m\"https://plot.ly/~Moribund7/4/\"\u001b[0m\u001b[0;34m)\u001b[0m\u001b[0;34m\u001b[0m\u001b[0m\n\u001b[0;32m----> 2\u001b[0;31m \u001b[0miplot\u001b[0m\u001b[0;34m(\u001b[0m\u001b[0mfig\u001b[0m\u001b[0;34m)\u001b[0m\u001b[0;34m\u001b[0m\u001b[0m\n\u001b[0m",
      "\u001b[0;31mNameError\u001b[0m: name 'iplot' is not defined"
     ]
    }
   ],
   "source": [
    "fig = py.get_figure(\"https://plot.ly/~Moribund7/4/\")\n",
    "iplot(fig)"
   ]
  },
  {
   "cell_type": "code",
   "execution_count": 30,
   "metadata": {
    "ExecuteTime": {
     "end_time": "2018-11-16T13:52:44.848754Z",
     "start_time": "2018-11-16T13:52:44.671492Z"
    }
   },
   "outputs": [
    {
     "data": {
      "text/plain": [
       "Int64Index([3371820], dtype='int64')"
      ]
     },
     "execution_count": 30,
     "metadata": {},
     "output_type": "execute_result"
    }
   ],
   "source": [
    "df[df[\"TimeDelta\"]>800000].index"
   ]
  },
  {
   "cell_type": "code",
   "execution_count": 31,
   "metadata": {
    "ExecuteTime": {
     "end_time": "2018-11-16T13:52:45.148591Z",
     "start_time": "2018-11-16T13:52:45.098676Z"
    }
   },
   "outputs": [
    {
     "data": {
      "text/plain": [
       "Name                            KGHM\n",
       "Date             2014-01-15 17:04:08\n",
       "Open                          113.75\n",
       "High                          113.75\n",
       "Low                           113.75\n",
       "Close                         113.75\n",
       "Volume                          2816\n",
       "TimeDelta                          6\n",
       "CoursChange                        0\n",
       "LowHighDiff                        0\n",
       "OpenCloseDiff                      0\n",
       "Name: 3371819, dtype: object"
      ]
     },
     "execution_count": 31,
     "metadata": {},
     "output_type": "execute_result"
    }
   ],
   "source": [
    "df.iloc[3371819]"
   ]
  },
  {
   "cell_type": "code",
   "execution_count": 32,
   "metadata": {
    "ExecuteTime": {
     "end_time": "2018-11-16T13:52:45.391103Z",
     "start_time": "2018-11-16T13:52:45.379192Z"
    }
   },
   "outputs": [
    {
     "data": {
      "text/plain": [
       "Name                            KGHM\n",
       "Date             2014-01-31 09:00:01\n",
       "Open                           108.9\n",
       "High                           108.9\n",
       "Low                            108.9\n",
       "Close                          108.9\n",
       "Volume                          3996\n",
       "TimeDelta                1.35335e+06\n",
       "CoursChange                    -4.85\n",
       "LowHighDiff                        0\n",
       "OpenCloseDiff                      0\n",
       "Name: 3371820, dtype: object"
      ]
     },
     "execution_count": 32,
     "metadata": {},
     "output_type": "execute_result"
    }
   ],
   "source": [
    "df.iloc[3371820]"
   ]
  },
  {
   "cell_type": "markdown",
   "metadata": {},
   "source": [
    "Anomalia pomiędzy 2014-01-31 09:00:01 a  2014-01-15 17:04:08 . Brak danych przez 15 dni"
   ]
  },
  {
   "cell_type": "code",
   "execution_count": 33,
   "metadata": {
    "ExecuteTime": {
     "end_time": "2018-11-16T13:52:46.632654Z",
     "start_time": "2018-11-16T13:52:46.451802Z"
    }
   },
   "outputs": [
    {
     "data": {
      "text/html": [
       "<div>\n",
       "<style scoped>\n",
       "    .dataframe tbody tr th:only-of-type {\n",
       "        vertical-align: middle;\n",
       "    }\n",
       "\n",
       "    .dataframe tbody tr th {\n",
       "        vertical-align: top;\n",
       "    }\n",
       "\n",
       "    .dataframe thead th {\n",
       "        text-align: right;\n",
       "    }\n",
       "</style>\n",
       "<table border=\"1\" class=\"dataframe\">\n",
       "  <thead>\n",
       "    <tr style=\"text-align: right;\">\n",
       "      <th></th>\n",
       "      <th>Name</th>\n",
       "      <th>Date</th>\n",
       "      <th>Open</th>\n",
       "      <th>High</th>\n",
       "      <th>Low</th>\n",
       "      <th>Close</th>\n",
       "      <th>Volume</th>\n",
       "      <th>TimeDelta</th>\n",
       "      <th>CoursChange</th>\n",
       "      <th>LowHighDiff</th>\n",
       "      <th>OpenCloseDiff</th>\n",
       "    </tr>\n",
       "  </thead>\n",
       "  <tbody>\n",
       "    <tr>\n",
       "      <th>4901662</th>\n",
       "      <td>KGHM</td>\n",
       "      <td>2017-01-27 09:00:01</td>\n",
       "      <td>121.0</td>\n",
       "      <td>121.0</td>\n",
       "      <td>113.1</td>\n",
       "      <td>113.1</td>\n",
       "      <td>55437</td>\n",
       "      <td>57312.0</td>\n",
       "      <td>-1.05</td>\n",
       "      <td>7.9</td>\n",
       "      <td>7.9</td>\n",
       "    </tr>\n",
       "  </tbody>\n",
       "</table>\n",
       "</div>"
      ],
      "text/plain": [
       "         Name                Date   Open   High    Low  Close  Volume  \\\n",
       "4901662  KGHM 2017-01-27 09:00:01  121.0  121.0  113.1  113.1   55437   \n",
       "\n",
       "         TimeDelta  CoursChange  LowHighDiff  OpenCloseDiff  \n",
       "4901662    57312.0        -1.05          7.9            7.9  "
      ]
     },
     "execution_count": 33,
     "metadata": {},
     "output_type": "execute_result"
    }
   ],
   "source": [
    "df[df[\"OpenCloseDiff\"]>4]"
   ]
  },
  {
   "cell_type": "code",
   "execution_count": 34,
   "metadata": {
    "ExecuteTime": {
     "end_time": "2018-11-16T13:52:47.530077Z",
     "start_time": "2018-11-16T13:52:46.901320Z"
    }
   },
   "outputs": [
    {
     "data": {
      "text/plain": [
       "<matplotlib.axes._subplots.AxesSubplot at 0x7f15748cff98>"
      ]
     },
     "execution_count": 34,
     "metadata": {},
     "output_type": "execute_result"
    },
    {
     "data": {
      "image/png": "[encoded data removed]",
      "text/plain": [
       "<Figure size 432x288 with 1 Axes>"
      ]
     },
     "metadata": {
      "needs_background": "light"
     },
     "output_type": "display_data"
    }
   ],
   "source": [
    "df.loc[4901630:4901750][[\"Open\"]].plot()"
   ]
  },
  {
   "cell_type": "markdown",
   "metadata": {},
   "source": [
    "Dziwna zmiana ceny, notowania z poprzedniego dnia się urywają, duże różnice pomiędzy low and high"
   ]
  },
  {
   "cell_type": "markdown",
   "metadata": {},
   "source": [
    "# Proba prognozowania"
   ]
  },
  {
   "cell_type": "code",
   "execution_count": null,
   "metadata": {
    "ExecuteTime": {
     "end_time": "2018-11-16T13:48:02.044288Z",
     "start_time": "2018-11-16T13:44:17.057Z"
    }
   },
   "outputs": [],
   "source": [
    "df=pd.read_pickle(data_path)"
   ]
  },
  {
   "cell_type": "code",
   "execution_count": null,
   "metadata": {
    "ExecuteTime": {
     "end_time": "2018-11-16T13:48:02.048057Z",
     "start_time": "2018-11-16T13:44:17.074Z"
    }
   },
   "outputs": [],
   "source": [
    "from sklearn.linear_model import LinearRegression\n",
    "from sklearn import preprocessing, model_selection, svm"
   ]
  },
  {
   "cell_type": "code",
   "execution_count": null,
   "metadata": {
    "ExecuteTime": {
     "end_time": "2018-11-16T13:48:02.052031Z",
     "start_time": "2018-11-16T13:44:17.082Z"
    }
   },
   "outputs": [],
   "source": [
    "df.head()"
   ]
  },
  {
   "cell_type": "code",
   "execution_count": null,
   "metadata": {
    "ExecuteTime": {
     "end_time": "2018-11-16T13:48:02.056262Z",
     "start_time": "2018-11-16T13:44:17.095Z"
    }
   },
   "outputs": [],
   "source": [
    "df=df[['Close','TimeDelta']]"
   ]
  },
  {
   "cell_type": "code",
   "execution_count": null,
   "metadata": {
    "ExecuteTime": {
     "end_time": "2018-11-16T13:48:02.060912Z",
     "start_time": "2018-11-16T13:44:17.103Z"
    }
   },
   "outputs": [],
   "source": [
    "df.head(15)"
   ]
  },
  {
   "cell_type": "code",
   "execution_count": null,
   "metadata": {
    "ExecuteTime": {
     "end_time": "2018-11-16T13:48:02.065863Z",
     "start_time": "2018-11-16T13:44:17.112Z"
    }
   },
   "outputs": [],
   "source": [
    "df.shape"
   ]
  },
  {
   "cell_type": "code",
   "execution_count": null,
   "metadata": {
    "ExecuteTime": {
     "end_time": "2018-11-16T13:48:02.069297Z",
     "start_time": "2018-11-16T13:44:17.120Z"
    }
   },
   "outputs": [],
   "source": [
    "data_size=5000000"
   ]
  },
  {
   "cell_type": "code",
   "execution_count": null,
   "metadata": {
    "ExecuteTime": {
     "end_time": "2018-11-16T13:48:02.074657Z",
     "start_time": "2018-11-16T13:44:17.129Z"
    }
   },
   "outputs": [],
   "source": [
    "forecast_out=10"
   ]
  },
  {
   "cell_type": "code",
   "execution_count": null,
   "metadata": {
    "ExecuteTime": {
     "end_time": "2018-11-16T13:48:02.078572Z",
     "start_time": "2018-11-16T13:44:17.138Z"
    }
   },
   "outputs": [],
   "source": [
    "df_test=df[data_size-5:data_size+forecast_out]"
   ]
  },
  {
   "cell_type": "code",
   "execution_count": null,
   "metadata": {
    "ExecuteTime": {
     "end_time": "2018-11-16T13:48:02.082721Z",
     "start_time": "2018-11-16T13:44:17.146Z"
    }
   },
   "outputs": [],
   "source": [
    "df=df[:data_size]"
   ]
  },
  {
   "cell_type": "code",
   "execution_count": null,
   "metadata": {
    "ExecuteTime": {
     "end_time": "2018-11-16T13:48:02.085965Z",
     "start_time": "2018-11-16T13:44:17.155Z"
    }
   },
   "outputs": [],
   "source": [
    "df.tail()"
   ]
  },
  {
   "cell_type": "code",
   "execution_count": null,
   "metadata": {
    "ExecuteTime": {
     "end_time": "2018-11-16T13:48:02.090970Z",
     "start_time": "2018-11-16T13:44:17.163Z"
    }
   },
   "outputs": [],
   "source": [
    "df_test"
   ]
  },
  {
   "cell_type": "code",
   "execution_count": null,
   "metadata": {
    "ExecuteTime": {
     "end_time": "2018-11-16T13:48:02.094814Z",
     "start_time": "2018-11-16T13:44:17.171Z"
    }
   },
   "outputs": [],
   "source": [
    "df['PredictionPrice'] = df[['Close']].shift(-forecast_out)\n",
    "df['PredictionTime'] = df[['TimeDelta']].shift(-forecast_out)"
   ]
  },
  {
   "cell_type": "code",
   "execution_count": null,
   "metadata": {
    "ExecuteTime": {
     "end_time": "2018-11-16T13:48:02.098278Z",
     "start_time": "2018-11-16T13:44:17.179Z"
    }
   },
   "outputs": [],
   "source": [
    "df.tail(15)"
   ]
  },
  {
   "cell_type": "code",
   "execution_count": null,
   "metadata": {
    "ExecuteTime": {
     "end_time": "2018-11-16T13:48:02.101712Z",
     "start_time": "2018-11-16T13:44:17.187Z"
    }
   },
   "outputs": [],
   "source": [
    "# X = np.array(df.drop(['PredictionPrice',\"PredictionTime\"], 1))\n",
    "X = np.array(df.drop(['PredictionPrice',\"PredictionTime\",\"TimeDelta\"], 1))\n"
   ]
  },
  {
   "cell_type": "code",
   "execution_count": null,
   "metadata": {
    "ExecuteTime": {
     "end_time": "2018-11-16T13:48:02.104796Z",
     "start_time": "2018-11-16T13:44:17.195Z"
    }
   },
   "outputs": [],
   "source": [
    "X"
   ]
  },
  {
   "cell_type": "code",
   "execution_count": null,
   "metadata": {
    "ExecuteTime": {
     "end_time": "2018-11-16T13:48:02.107863Z",
     "start_time": "2018-11-16T13:44:17.204Z"
    }
   },
   "outputs": [],
   "source": [
    "X_forecast = X[-forecast_out:] # set X_forecast equal to last 30\n",
    "X = X[:-forecast_out] # remove last 30 from X\n",
    "X.shape"
   ]
  },
  {
   "cell_type": "code",
   "execution_count": null,
   "metadata": {
    "ExecuteTime": {
     "end_time": "2018-11-16T13:48:02.110971Z",
     "start_time": "2018-11-16T13:44:17.213Z"
    }
   },
   "outputs": [],
   "source": [
    "X.shape"
   ]
  },
  {
   "cell_type": "code",
   "execution_count": null,
   "metadata": {
    "ExecuteTime": {
     "end_time": "2018-11-16T13:48:02.114232Z",
     "start_time": "2018-11-16T13:44:17.221Z"
    }
   },
   "outputs": [],
   "source": [
    "X_forecast.shape"
   ]
  },
  {
   "cell_type": "code",
   "execution_count": null,
   "metadata": {
    "ExecuteTime": {
     "end_time": "2018-11-16T13:48:02.117841Z",
     "start_time": "2018-11-16T13:44:17.229Z"
    }
   },
   "outputs": [],
   "source": [
    "# y = np.array(df[['PredictionPrice',\"PredictionTime\"]])\n",
    "y =  np.array(df.drop(['Close',\"PredictionTime\",\"TimeDelta\"], 1))\n",
    "y = y[:-forecast_out]"
   ]
  },
  {
   "cell_type": "code",
   "execution_count": null,
   "metadata": {
    "ExecuteTime": {
     "end_time": "2018-11-16T13:48:02.121188Z",
     "start_time": "2018-11-16T13:44:17.237Z"
    }
   },
   "outputs": [],
   "source": [
    "y.shape"
   ]
  },
  {
   "cell_type": "code",
   "execution_count": null,
   "metadata": {
    "ExecuteTime": {
     "end_time": "2018-11-16T13:48:02.124233Z",
     "start_time": "2018-11-16T13:44:17.244Z"
    }
   },
   "outputs": [],
   "source": [
    "X"
   ]
  },
  {
   "cell_type": "code",
   "execution_count": null,
   "metadata": {
    "ExecuteTime": {
     "end_time": "2018-11-16T13:48:02.127528Z",
     "start_time": "2018-11-16T13:44:17.253Z"
    }
   },
   "outputs": [],
   "source": [
    "# Create the Scaler object\n",
    "scaler = preprocessing.StandardScaler()"
   ]
  },
  {
   "cell_type": "code",
   "execution_count": null,
   "metadata": {
    "ExecuteTime": {
     "end_time": "2018-11-16T13:48:02.131295Z",
     "start_time": "2018-11-16T13:44:17.261Z"
    }
   },
   "outputs": [],
   "source": [
    "normalized_X = preprocessing.scale(X)"
   ]
  },
  {
   "cell_type": "code",
   "execution_count": null,
   "metadata": {
    "ExecuteTime": {
     "end_time": "2018-11-16T13:48:02.134960Z",
     "start_time": "2018-11-16T13:44:17.268Z"
    }
   },
   "outputs": [],
   "source": [
    "normalized_y = preprocessing.scale(y)"
   ]
  },
  {
   "cell_type": "code",
   "execution_count": null,
   "metadata": {
    "ExecuteTime": {
     "end_time": "2018-11-16T13:48:02.138711Z",
     "start_time": "2018-11-16T13:44:17.276Z"
    }
   },
   "outputs": [],
   "source": [
    "print(normalized_y.shape,normalized_X.shape)"
   ]
  },
  {
   "cell_type": "code",
   "execution_count": null,
   "metadata": {
    "ExecuteTime": {
     "end_time": "2018-11-16T13:48:02.141846Z",
     "start_time": "2018-11-16T13:44:17.284Z"
    }
   },
   "outputs": [],
   "source": [
    "normalized_X"
   ]
  },
  {
   "cell_type": "code",
   "execution_count": null,
   "metadata": {
    "ExecuteTime": {
     "end_time": "2018-11-16T13:48:02.145131Z",
     "start_time": "2018-11-16T13:44:17.291Z"
    }
   },
   "outputs": [],
   "source": [
    "y.shape"
   ]
  },
  {
   "cell_type": "code",
   "execution_count": null,
   "metadata": {
    "ExecuteTime": {
     "end_time": "2018-11-16T13:48:02.147952Z",
     "start_time": "2018-11-16T13:44:17.299Z"
    }
   },
   "outputs": [],
   "source": [
    "X_train, X_test, y_train, y_test = model_selection.train_test_split(normalized_X, normalized_y, test_size = 0.2, shuffle=False)"
   ]
  },
  {
   "cell_type": "code",
   "execution_count": null,
   "metadata": {
    "ExecuteTime": {
     "end_time": "2018-11-16T13:48:02.150865Z",
     "start_time": "2018-11-16T13:44:17.306Z"
    }
   },
   "outputs": [],
   "source": [
    "X_train,y_train"
   ]
  },
  {
   "cell_type": "code",
   "execution_count": null,
   "metadata": {
    "ExecuteTime": {
     "end_time": "2018-11-16T13:48:02.153701Z",
     "start_time": "2018-11-16T13:44:17.313Z"
    }
   },
   "outputs": [],
   "source": [
    "# Training\n",
    "clf = LinearRegression()\n",
    "clf.fit(X_train,y_train)\n",
    "# Testing\n",
    "confidence = clf.score(X_test, y_test)\n",
    "print(\"confidence: \", confidence)"
   ]
  },
  {
   "cell_type": "code",
   "execution_count": null,
   "metadata": {
    "ExecuteTime": {
     "end_time": "2018-11-16T13:48:02.159314Z",
     "start_time": "2018-11-16T13:44:17.321Z"
    }
   },
   "outputs": [],
   "source": [
    "forecast_prediction = clf.predict(X_forecast)\n",
    "print(forecast_prediction)"
   ]
  },
  {
   "cell_type": "code",
   "execution_count": null,
   "metadata": {
    "ExecuteTime": {
     "end_time": "2018-11-16T13:48:02.163293Z",
     "start_time": "2018-11-16T13:44:17.328Z"
    }
   },
   "outputs": [],
   "source": [
    "X_forecast"
   ]
  },
  {
   "cell_type": "code",
   "execution_count": null,
   "metadata": {
    "ExecuteTime": {
     "end_time": "2018-11-16T13:48:02.166139Z",
     "start_time": "2018-11-16T13:44:17.336Z"
    }
   },
   "outputs": [],
   "source": [
    "df_test"
   ]
  },
  {
   "cell_type": "code",
   "execution_count": null,
   "metadata": {},
   "outputs": [],
   "source": []
  },
  {
   "cell_type": "markdown",
   "metadata": {},
   "source": [
    "Na podstwie ostatnich 5 przewidzieć kolejną jedna -- wejsscie to deltta t i zmiana kursu"
   ]
  },
  {
   "cell_type": "code",
   "execution_count": null,
   "metadata": {},
   "outputs": [],
   "source": []
  },
  {
   "cell_type": "code",
   "execution_count": null,
   "metadata": {},
   "outputs": [],
   "source": []
  },
  {
   "cell_type": "code",
   "execution_count": null,
   "metadata": {},
   "outputs": [],
   "source": []
  },
  {
   "cell_type": "markdown",
   "metadata": {},
   "source": [
    "Dane zrobic w fromie 5 danych i wynik , potemm je poshuflowac\n",
    "wyrzucic zmiany dluzsze niz dzien\n",
    "mozna zsporbowac dane gdzie nic sie nie zmienilo tez wyrzucic "
   ]
  }
 ],
 "metadata": {
  "kernelspec": {
   "display_name": "Python [default]",
   "language": "python",
   "name": "python3"
  },
  "language_info": {
   "codemirror_mode": {
    "name": "ipython",
    "version": 3
   },
   "file_extension": ".py",
   "mimetype": "text/x-python",
   "name": "python",
   "nbconvert_exporter": "python",
   "pygments_lexer": "ipython3",
   "version": "3.7.0"
  }
 },
 "nbformat": 4,
 "nbformat_minor": 2
}
