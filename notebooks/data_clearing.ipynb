{
 "cells": [
  {
   "cell_type": "code",
   "execution_count": 1,
   "metadata": {
    "ExecuteTime": {
     "end_time": "2018-11-25T18:09:00.301813Z",
     "start_time": "2018-11-25T18:08:59.972385Z"
    }
   },
   "outputs": [],
   "source": [
    "import pandas as pd"
   ]
  },
  {
   "cell_type": "code",
   "execution_count": 2,
   "metadata": {
    "ExecuteTime": {
     "end_time": "2018-11-25T18:09:00.307931Z",
     "start_time": "2018-11-25T18:09:00.304812Z"
    }
   },
   "outputs": [],
   "source": [
    "data_path='../data/KGHM.prn'\n",
    "save_path='../data/KGHM_clear.csv'\n",
    "column_names=['Name','Cos','Date','Time','Open','High','Low','Close','Volume','Oi']"
   ]
  },
  {
   "cell_type": "code",
   "execution_count": 3,
   "metadata": {
    "ExecuteTime": {
     "end_time": "2018-11-25T18:09:06.151032Z",
     "start_time": "2018-11-25T18:09:00.309982Z"
    }
   },
   "outputs": [],
   "source": [
    "df=pd.read_csv(data_path,names=column_names)"
   ]
  },
  {
   "cell_type": "code",
   "execution_count": 4,
   "metadata": {
    "ExecuteTime": {
     "end_time": "2018-11-25T18:09:06.178885Z",
     "start_time": "2018-11-25T18:09:06.153181Z"
    }
   },
   "outputs": [
    {
     "data": {
      "text/html": [
       "<div>\n",
       "<style scoped>\n",
       "    .dataframe tbody tr th:only-of-type {\n",
       "        vertical-align: middle;\n",
       "    }\n",
       "\n",
       "    .dataframe tbody tr th {\n",
       "        vertical-align: top;\n",
       "    }\n",
       "\n",
       "    .dataframe thead th {\n",
       "        text-align: right;\n",
       "    }\n",
       "</style>\n",
       "<table border=\"1\" class=\"dataframe\">\n",
       "  <thead>\n",
       "    <tr style=\"text-align: right;\">\n",
       "      <th></th>\n",
       "      <th>Name</th>\n",
       "      <th>Cos</th>\n",
       "      <th>Date</th>\n",
       "      <th>Time</th>\n",
       "      <th>Open</th>\n",
       "      <th>High</th>\n",
       "      <th>Low</th>\n",
       "      <th>Close</th>\n",
       "      <th>Volume</th>\n",
       "      <th>Oi</th>\n",
       "    </tr>\n",
       "  </thead>\n",
       "  <tbody>\n",
       "    <tr>\n",
       "      <th>0</th>\n",
       "      <td>KGHM</td>\n",
       "      <td>0</td>\n",
       "      <td>20001117</td>\n",
       "      <td>100024</td>\n",
       "      <td>26.3</td>\n",
       "      <td>26.3</td>\n",
       "      <td>26.3</td>\n",
       "      <td>26.3</td>\n",
       "      <td>10840</td>\n",
       "      <td>0</td>\n",
       "    </tr>\n",
       "    <tr>\n",
       "      <th>1</th>\n",
       "      <td>KGHM</td>\n",
       "      <td>0</td>\n",
       "      <td>20001117</td>\n",
       "      <td>100025</td>\n",
       "      <td>26.3</td>\n",
       "      <td>26.3</td>\n",
       "      <td>26.3</td>\n",
       "      <td>26.3</td>\n",
       "      <td>1035</td>\n",
       "      <td>0</td>\n",
       "    </tr>\n",
       "    <tr>\n",
       "      <th>2</th>\n",
       "      <td>KGHM</td>\n",
       "      <td>0</td>\n",
       "      <td>20001117</td>\n",
       "      <td>100026</td>\n",
       "      <td>26.3</td>\n",
       "      <td>26.3</td>\n",
       "      <td>26.3</td>\n",
       "      <td>26.3</td>\n",
       "      <td>57</td>\n",
       "      <td>0</td>\n",
       "    </tr>\n",
       "    <tr>\n",
       "      <th>3</th>\n",
       "      <td>KGHM</td>\n",
       "      <td>0</td>\n",
       "      <td>20001117</td>\n",
       "      <td>100329</td>\n",
       "      <td>26.3</td>\n",
       "      <td>26.3</td>\n",
       "      <td>26.3</td>\n",
       "      <td>26.3</td>\n",
       "      <td>20288</td>\n",
       "      <td>0</td>\n",
       "    </tr>\n",
       "    <tr>\n",
       "      <th>4</th>\n",
       "      <td>KGHM</td>\n",
       "      <td>0</td>\n",
       "      <td>20001117</td>\n",
       "      <td>100928</td>\n",
       "      <td>26.2</td>\n",
       "      <td>26.2</td>\n",
       "      <td>26.2</td>\n",
       "      <td>26.2</td>\n",
       "      <td>9</td>\n",
       "      <td>0</td>\n",
       "    </tr>\n",
       "    <tr>\n",
       "      <th>5</th>\n",
       "      <td>KGHM</td>\n",
       "      <td>0</td>\n",
       "      <td>20001117</td>\n",
       "      <td>101110</td>\n",
       "      <td>26.3</td>\n",
       "      <td>26.3</td>\n",
       "      <td>26.3</td>\n",
       "      <td>26.3</td>\n",
       "      <td>10000</td>\n",
       "      <td>0</td>\n",
       "    </tr>\n",
       "    <tr>\n",
       "      <th>6</th>\n",
       "      <td>KGHM</td>\n",
       "      <td>0</td>\n",
       "      <td>20001117</td>\n",
       "      <td>101419</td>\n",
       "      <td>26.3</td>\n",
       "      <td>26.3</td>\n",
       "      <td>26.3</td>\n",
       "      <td>26.3</td>\n",
       "      <td>485</td>\n",
       "      <td>0</td>\n",
       "    </tr>\n",
       "    <tr>\n",
       "      <th>7</th>\n",
       "      <td>KGHM</td>\n",
       "      <td>0</td>\n",
       "      <td>20001117</td>\n",
       "      <td>101429</td>\n",
       "      <td>26.3</td>\n",
       "      <td>26.3</td>\n",
       "      <td>26.3</td>\n",
       "      <td>26.3</td>\n",
       "      <td>15</td>\n",
       "      <td>0</td>\n",
       "    </tr>\n",
       "    <tr>\n",
       "      <th>8</th>\n",
       "      <td>KGHM</td>\n",
       "      <td>0</td>\n",
       "      <td>20001117</td>\n",
       "      <td>102410</td>\n",
       "      <td>26.3</td>\n",
       "      <td>26.3</td>\n",
       "      <td>26.3</td>\n",
       "      <td>26.3</td>\n",
       "      <td>500</td>\n",
       "      <td>0</td>\n",
       "    </tr>\n",
       "    <tr>\n",
       "      <th>9</th>\n",
       "      <td>KGHM</td>\n",
       "      <td>0</td>\n",
       "      <td>20001117</td>\n",
       "      <td>102942</td>\n",
       "      <td>26.3</td>\n",
       "      <td>26.3</td>\n",
       "      <td>26.3</td>\n",
       "      <td>26.3</td>\n",
       "      <td>15</td>\n",
       "      <td>0</td>\n",
       "    </tr>\n",
       "  </tbody>\n",
       "</table>\n",
       "</div>"
      ],
      "text/plain": [
       "   Name  Cos      Date    Time  Open  High   Low  Close  Volume  Oi\n",
       "0  KGHM    0  20001117  100024  26.3  26.3  26.3   26.3   10840   0\n",
       "1  KGHM    0  20001117  100025  26.3  26.3  26.3   26.3    1035   0\n",
       "2  KGHM    0  20001117  100026  26.3  26.3  26.3   26.3      57   0\n",
       "3  KGHM    0  20001117  100329  26.3  26.3  26.3   26.3   20288   0\n",
       "4  KGHM    0  20001117  100928  26.2  26.2  26.2   26.2       9   0\n",
       "5  KGHM    0  20001117  101110  26.3  26.3  26.3   26.3   10000   0\n",
       "6  KGHM    0  20001117  101419  26.3  26.3  26.3   26.3     485   0\n",
       "7  KGHM    0  20001117  101429  26.3  26.3  26.3   26.3      15   0\n",
       "8  KGHM    0  20001117  102410  26.3  26.3  26.3   26.3     500   0\n",
       "9  KGHM    0  20001117  102942  26.3  26.3  26.3   26.3      15   0"
      ]
     },
     "execution_count": 4,
     "metadata": {},
     "output_type": "execute_result"
    }
   ],
   "source": [
    "df.head(10)"
   ]
  },
  {
   "cell_type": "code",
   "execution_count": 5,
   "metadata": {
    "ExecuteTime": {
     "end_time": "2018-11-25T18:09:06.190780Z",
     "start_time": "2018-11-25T18:09:06.185932Z"
    }
   },
   "outputs": [
    {
     "data": {
      "text/plain": [
       "(5640912, 10)"
      ]
     },
     "execution_count": 5,
     "metadata": {},
     "output_type": "execute_result"
    }
   ],
   "source": [
    "df.shape"
   ]
  },
  {
   "cell_type": "code",
   "execution_count": 6,
   "metadata": {
    "ExecuteTime": {
     "end_time": "2018-11-25T18:09:06.217672Z",
     "start_time": "2018-11-25T18:09:06.193579Z"
    }
   },
   "outputs": [
    {
     "data": {
      "text/plain": [
       "0"
      ]
     },
     "execution_count": 6,
     "metadata": {},
     "output_type": "execute_result"
    }
   ],
   "source": [
    "df[df['Cos']!=0].shape[0]"
   ]
  },
  {
   "cell_type": "code",
   "execution_count": 7,
   "metadata": {
    "ExecuteTime": {
     "end_time": "2018-11-25T18:09:06.232918Z",
     "start_time": "2018-11-25T18:09:06.220390Z"
    }
   },
   "outputs": [
    {
     "data": {
      "text/plain": [
       "0"
      ]
     },
     "execution_count": 7,
     "metadata": {},
     "output_type": "execute_result"
    }
   ],
   "source": [
    "df[df['Oi']!=0].shape[0]"
   ]
  },
  {
   "cell_type": "markdown",
   "metadata": {},
   "source": [
    "Dwie kolumny są puste dla każdego rekordu zatem usuwamy je "
   ]
  },
  {
   "cell_type": "code",
   "execution_count": 8,
   "metadata": {
    "ExecuteTime": {
     "end_time": "2018-11-25T18:09:06.421737Z",
     "start_time": "2018-11-25T18:09:06.236123Z"
    }
   },
   "outputs": [],
   "source": [
    "df=df.drop(columns=['Oi','Cos'])"
   ]
  },
  {
   "cell_type": "code",
   "execution_count": 9,
   "metadata": {
    "ExecuteTime": {
     "end_time": "2018-11-25T18:09:06.436810Z",
     "start_time": "2018-11-25T18:09:06.423683Z"
    },
    "scrolled": true
   },
   "outputs": [
    {
     "data": {
      "text/html": [
       "<div>\n",
       "<style scoped>\n",
       "    .dataframe tbody tr th:only-of-type {\n",
       "        vertical-align: middle;\n",
       "    }\n",
       "\n",
       "    .dataframe tbody tr th {\n",
       "        vertical-align: top;\n",
       "    }\n",
       "\n",
       "    .dataframe thead th {\n",
       "        text-align: right;\n",
       "    }\n",
       "</style>\n",
       "<table border=\"1\" class=\"dataframe\">\n",
       "  <thead>\n",
       "    <tr style=\"text-align: right;\">\n",
       "      <th></th>\n",
       "      <th>Name</th>\n",
       "      <th>Date</th>\n",
       "      <th>Time</th>\n",
       "      <th>Open</th>\n",
       "      <th>High</th>\n",
       "      <th>Low</th>\n",
       "      <th>Close</th>\n",
       "      <th>Volume</th>\n",
       "    </tr>\n",
       "  </thead>\n",
       "  <tbody>\n",
       "    <tr>\n",
       "      <th>0</th>\n",
       "      <td>KGHM</td>\n",
       "      <td>20001117</td>\n",
       "      <td>100024</td>\n",
       "      <td>26.3</td>\n",
       "      <td>26.3</td>\n",
       "      <td>26.3</td>\n",
       "      <td>26.3</td>\n",
       "      <td>10840</td>\n",
       "    </tr>\n",
       "    <tr>\n",
       "      <th>1</th>\n",
       "      <td>KGHM</td>\n",
       "      <td>20001117</td>\n",
       "      <td>100025</td>\n",
       "      <td>26.3</td>\n",
       "      <td>26.3</td>\n",
       "      <td>26.3</td>\n",
       "      <td>26.3</td>\n",
       "      <td>1035</td>\n",
       "    </tr>\n",
       "    <tr>\n",
       "      <th>2</th>\n",
       "      <td>KGHM</td>\n",
       "      <td>20001117</td>\n",
       "      <td>100026</td>\n",
       "      <td>26.3</td>\n",
       "      <td>26.3</td>\n",
       "      <td>26.3</td>\n",
       "      <td>26.3</td>\n",
       "      <td>57</td>\n",
       "    </tr>\n",
       "    <tr>\n",
       "      <th>3</th>\n",
       "      <td>KGHM</td>\n",
       "      <td>20001117</td>\n",
       "      <td>100329</td>\n",
       "      <td>26.3</td>\n",
       "      <td>26.3</td>\n",
       "      <td>26.3</td>\n",
       "      <td>26.3</td>\n",
       "      <td>20288</td>\n",
       "    </tr>\n",
       "    <tr>\n",
       "      <th>4</th>\n",
       "      <td>KGHM</td>\n",
       "      <td>20001117</td>\n",
       "      <td>100928</td>\n",
       "      <td>26.2</td>\n",
       "      <td>26.2</td>\n",
       "      <td>26.2</td>\n",
       "      <td>26.2</td>\n",
       "      <td>9</td>\n",
       "    </tr>\n",
       "  </tbody>\n",
       "</table>\n",
       "</div>"
      ],
      "text/plain": [
       "   Name      Date    Time  Open  High   Low  Close  Volume\n",
       "0  KGHM  20001117  100024  26.3  26.3  26.3   26.3   10840\n",
       "1  KGHM  20001117  100025  26.3  26.3  26.3   26.3    1035\n",
       "2  KGHM  20001117  100026  26.3  26.3  26.3   26.3      57\n",
       "3  KGHM  20001117  100329  26.3  26.3  26.3   26.3   20288\n",
       "4  KGHM  20001117  100928  26.2  26.2  26.2   26.2       9"
      ]
     },
     "execution_count": 9,
     "metadata": {},
     "output_type": "execute_result"
    }
   ],
   "source": [
    "df.head()"
   ]
  },
  {
   "cell_type": "code",
   "execution_count": 10,
   "metadata": {
    "ExecuteTime": {
     "end_time": "2018-11-25T18:09:06.472551Z",
     "start_time": "2018-11-25T18:09:06.440024Z"
    }
   },
   "outputs": [
    {
     "data": {
      "text/html": [
       "<div>\n",
       "<style scoped>\n",
       "    .dataframe tbody tr th:only-of-type {\n",
       "        vertical-align: middle;\n",
       "    }\n",
       "\n",
       "    .dataframe tbody tr th {\n",
       "        vertical-align: top;\n",
       "    }\n",
       "\n",
       "    .dataframe thead th {\n",
       "        text-align: right;\n",
       "    }\n",
       "</style>\n",
       "<table border=\"1\" class=\"dataframe\">\n",
       "  <thead>\n",
       "    <tr style=\"text-align: right;\">\n",
       "      <th></th>\n",
       "      <th>Name</th>\n",
       "      <th>Date</th>\n",
       "      <th>Time</th>\n",
       "      <th>Open</th>\n",
       "      <th>High</th>\n",
       "      <th>Low</th>\n",
       "      <th>Close</th>\n",
       "      <th>Volume</th>\n",
       "    </tr>\n",
       "  </thead>\n",
       "  <tbody>\n",
       "    <tr>\n",
       "      <th>0</th>\n",
       "      <td>KGHM</td>\n",
       "      <td>20001117</td>\n",
       "      <td>100024</td>\n",
       "      <td>26.3</td>\n",
       "      <td>26.3</td>\n",
       "      <td>26.3</td>\n",
       "      <td>26.3</td>\n",
       "      <td>10840</td>\n",
       "    </tr>\n",
       "    <tr>\n",
       "      <th>1</th>\n",
       "      <td>KGHM</td>\n",
       "      <td>20001117</td>\n",
       "      <td>100025</td>\n",
       "      <td>26.3</td>\n",
       "      <td>26.3</td>\n",
       "      <td>26.3</td>\n",
       "      <td>26.3</td>\n",
       "      <td>1035</td>\n",
       "    </tr>\n",
       "    <tr>\n",
       "      <th>2</th>\n",
       "      <td>KGHM</td>\n",
       "      <td>20001117</td>\n",
       "      <td>100026</td>\n",
       "      <td>26.3</td>\n",
       "      <td>26.3</td>\n",
       "      <td>26.3</td>\n",
       "      <td>26.3</td>\n",
       "      <td>57</td>\n",
       "    </tr>\n",
       "    <tr>\n",
       "      <th>3</th>\n",
       "      <td>KGHM</td>\n",
       "      <td>20001117</td>\n",
       "      <td>100329</td>\n",
       "      <td>26.3</td>\n",
       "      <td>26.3</td>\n",
       "      <td>26.3</td>\n",
       "      <td>26.3</td>\n",
       "      <td>20288</td>\n",
       "    </tr>\n",
       "    <tr>\n",
       "      <th>4</th>\n",
       "      <td>KGHM</td>\n",
       "      <td>20001117</td>\n",
       "      <td>100928</td>\n",
       "      <td>26.2</td>\n",
       "      <td>26.2</td>\n",
       "      <td>26.2</td>\n",
       "      <td>26.2</td>\n",
       "      <td>9</td>\n",
       "    </tr>\n",
       "  </tbody>\n",
       "</table>\n",
       "</div>"
      ],
      "text/plain": [
       "   Name      Date    Time  Open  High   Low  Close  Volume\n",
       "0  KGHM  20001117  100024  26.3  26.3  26.3   26.3   10840\n",
       "1  KGHM  20001117  100025  26.3  26.3  26.3   26.3    1035\n",
       "2  KGHM  20001117  100026  26.3  26.3  26.3   26.3      57\n",
       "3  KGHM  20001117  100329  26.3  26.3  26.3   26.3   20288\n",
       "4  KGHM  20001117  100928  26.2  26.2  26.2   26.2       9"
      ]
     },
     "execution_count": 10,
     "metadata": {},
     "output_type": "execute_result"
    }
   ],
   "source": [
    "df_part=df.loc[:100,:]\n",
    "df_part.head()"
   ]
  },
  {
   "cell_type": "code",
   "execution_count": 11,
   "metadata": {
    "ExecuteTime": {
     "end_time": "2018-11-25T18:09:10.155839Z",
     "start_time": "2018-11-25T18:09:06.474759Z"
    },
    "scrolled": true
   },
   "outputs": [
    {
     "data": {
      "text/html": [
       "<div>\n",
       "<style scoped>\n",
       "    .dataframe tbody tr th:only-of-type {\n",
       "        vertical-align: middle;\n",
       "    }\n",
       "\n",
       "    .dataframe tbody tr th {\n",
       "        vertical-align: top;\n",
       "    }\n",
       "\n",
       "    .dataframe thead th {\n",
       "        text-align: right;\n",
       "    }\n",
       "</style>\n",
       "<table border=\"1\" class=\"dataframe\">\n",
       "  <thead>\n",
       "    <tr style=\"text-align: right;\">\n",
       "      <th></th>\n",
       "      <th>Name</th>\n",
       "      <th>Date</th>\n",
       "      <th>Time</th>\n",
       "      <th>Open</th>\n",
       "      <th>High</th>\n",
       "      <th>Low</th>\n",
       "      <th>Close</th>\n",
       "      <th>Volume</th>\n",
       "      <th>TimeNew</th>\n",
       "    </tr>\n",
       "  </thead>\n",
       "  <tbody>\n",
       "    <tr>\n",
       "      <th>0</th>\n",
       "      <td>KGHM</td>\n",
       "      <td>20001117</td>\n",
       "      <td>100024</td>\n",
       "      <td>26.3</td>\n",
       "      <td>26.3</td>\n",
       "      <td>26.3</td>\n",
       "      <td>26.3</td>\n",
       "      <td>10840</td>\n",
       "      <td>20001117100024</td>\n",
       "    </tr>\n",
       "    <tr>\n",
       "      <th>1</th>\n",
       "      <td>KGHM</td>\n",
       "      <td>20001117</td>\n",
       "      <td>100025</td>\n",
       "      <td>26.3</td>\n",
       "      <td>26.3</td>\n",
       "      <td>26.3</td>\n",
       "      <td>26.3</td>\n",
       "      <td>1035</td>\n",
       "      <td>20001117100025</td>\n",
       "    </tr>\n",
       "    <tr>\n",
       "      <th>2</th>\n",
       "      <td>KGHM</td>\n",
       "      <td>20001117</td>\n",
       "      <td>100026</td>\n",
       "      <td>26.3</td>\n",
       "      <td>26.3</td>\n",
       "      <td>26.3</td>\n",
       "      <td>26.3</td>\n",
       "      <td>57</td>\n",
       "      <td>20001117100026</td>\n",
       "    </tr>\n",
       "    <tr>\n",
       "      <th>3</th>\n",
       "      <td>KGHM</td>\n",
       "      <td>20001117</td>\n",
       "      <td>100329</td>\n",
       "      <td>26.3</td>\n",
       "      <td>26.3</td>\n",
       "      <td>26.3</td>\n",
       "      <td>26.3</td>\n",
       "      <td>20288</td>\n",
       "      <td>20001117100329</td>\n",
       "    </tr>\n",
       "    <tr>\n",
       "      <th>4</th>\n",
       "      <td>KGHM</td>\n",
       "      <td>20001117</td>\n",
       "      <td>100928</td>\n",
       "      <td>26.2</td>\n",
       "      <td>26.2</td>\n",
       "      <td>26.2</td>\n",
       "      <td>26.2</td>\n",
       "      <td>9</td>\n",
       "      <td>20001117100928</td>\n",
       "    </tr>\n",
       "  </tbody>\n",
       "</table>\n",
       "</div>"
      ],
      "text/plain": [
       "   Name      Date    Time  Open  High   Low  Close  Volume         TimeNew\n",
       "0  KGHM  20001117  100024  26.3  26.3  26.3   26.3   10840  20001117100024\n",
       "1  KGHM  20001117  100025  26.3  26.3  26.3   26.3    1035  20001117100025\n",
       "2  KGHM  20001117  100026  26.3  26.3  26.3   26.3      57  20001117100026\n",
       "3  KGHM  20001117  100329  26.3  26.3  26.3   26.3   20288  20001117100329\n",
       "4  KGHM  20001117  100928  26.2  26.2  26.2   26.2       9  20001117100928"
      ]
     },
     "execution_count": 11,
     "metadata": {},
     "output_type": "execute_result"
    }
   ],
   "source": [
    "df['TimeNew']=df['Date'].map(str)+df['Time'].map(str)\n",
    "df.head()"
   ]
  },
  {
   "cell_type": "code",
   "execution_count": 12,
   "metadata": {
    "ExecuteTime": {
     "end_time": "2018-11-25T18:09:40.820898Z",
     "start_time": "2018-11-25T18:09:10.159157Z"
    }
   },
   "outputs": [
    {
     "data": {
      "text/html": [
       "<div>\n",
       "<style scoped>\n",
       "    .dataframe tbody tr th:only-of-type {\n",
       "        vertical-align: middle;\n",
       "    }\n",
       "\n",
       "    .dataframe tbody tr th {\n",
       "        vertical-align: top;\n",
       "    }\n",
       "\n",
       "    .dataframe thead th {\n",
       "        text-align: right;\n",
       "    }\n",
       "</style>\n",
       "<table border=\"1\" class=\"dataframe\">\n",
       "  <thead>\n",
       "    <tr style=\"text-align: right;\">\n",
       "      <th></th>\n",
       "      <th>Name</th>\n",
       "      <th>Date</th>\n",
       "      <th>Time</th>\n",
       "      <th>Open</th>\n",
       "      <th>High</th>\n",
       "      <th>Low</th>\n",
       "      <th>Close</th>\n",
       "      <th>Volume</th>\n",
       "      <th>TimeNew</th>\n",
       "    </tr>\n",
       "  </thead>\n",
       "  <tbody>\n",
       "    <tr>\n",
       "      <th>0</th>\n",
       "      <td>KGHM</td>\n",
       "      <td>20001117</td>\n",
       "      <td>100024</td>\n",
       "      <td>26.3</td>\n",
       "      <td>26.3</td>\n",
       "      <td>26.3</td>\n",
       "      <td>26.3</td>\n",
       "      <td>10840</td>\n",
       "      <td>2000-11-17 10:00:24</td>\n",
       "    </tr>\n",
       "    <tr>\n",
       "      <th>1</th>\n",
       "      <td>KGHM</td>\n",
       "      <td>20001117</td>\n",
       "      <td>100025</td>\n",
       "      <td>26.3</td>\n",
       "      <td>26.3</td>\n",
       "      <td>26.3</td>\n",
       "      <td>26.3</td>\n",
       "      <td>1035</td>\n",
       "      <td>2000-11-17 10:00:25</td>\n",
       "    </tr>\n",
       "    <tr>\n",
       "      <th>2</th>\n",
       "      <td>KGHM</td>\n",
       "      <td>20001117</td>\n",
       "      <td>100026</td>\n",
       "      <td>26.3</td>\n",
       "      <td>26.3</td>\n",
       "      <td>26.3</td>\n",
       "      <td>26.3</td>\n",
       "      <td>57</td>\n",
       "      <td>2000-11-17 10:00:26</td>\n",
       "    </tr>\n",
       "    <tr>\n",
       "      <th>3</th>\n",
       "      <td>KGHM</td>\n",
       "      <td>20001117</td>\n",
       "      <td>100329</td>\n",
       "      <td>26.3</td>\n",
       "      <td>26.3</td>\n",
       "      <td>26.3</td>\n",
       "      <td>26.3</td>\n",
       "      <td>20288</td>\n",
       "      <td>2000-11-17 10:03:29</td>\n",
       "    </tr>\n",
       "    <tr>\n",
       "      <th>4</th>\n",
       "      <td>KGHM</td>\n",
       "      <td>20001117</td>\n",
       "      <td>100928</td>\n",
       "      <td>26.2</td>\n",
       "      <td>26.2</td>\n",
       "      <td>26.2</td>\n",
       "      <td>26.2</td>\n",
       "      <td>9</td>\n",
       "      <td>2000-11-17 10:09:28</td>\n",
       "    </tr>\n",
       "  </tbody>\n",
       "</table>\n",
       "</div>"
      ],
      "text/plain": [
       "   Name      Date    Time  Open  High   Low  Close  Volume             TimeNew\n",
       "0  KGHM  20001117  100024  26.3  26.3  26.3   26.3   10840 2000-11-17 10:00:24\n",
       "1  KGHM  20001117  100025  26.3  26.3  26.3   26.3    1035 2000-11-17 10:00:25\n",
       "2  KGHM  20001117  100026  26.3  26.3  26.3   26.3      57 2000-11-17 10:00:26\n",
       "3  KGHM  20001117  100329  26.3  26.3  26.3   26.3   20288 2000-11-17 10:03:29\n",
       "4  KGHM  20001117  100928  26.2  26.2  26.2   26.2       9 2000-11-17 10:09:28"
      ]
     },
     "execution_count": 12,
     "metadata": {},
     "output_type": "execute_result"
    }
   ],
   "source": [
    "df['TimeNew']=pd.to_datetime(df['TimeNew'],format='%Y%m%d%H%M%S')\n",
    "df.head()"
   ]
  },
  {
   "cell_type": "code",
   "execution_count": 13,
   "metadata": {
    "ExecuteTime": {
     "end_time": "2018-11-25T18:09:40.876481Z",
     "start_time": "2018-11-25T18:09:40.825621Z"
    }
   },
   "outputs": [
    {
     "data": {
      "text/html": [
       "<div>\n",
       "<style scoped>\n",
       "    .dataframe tbody tr th:only-of-type {\n",
       "        vertical-align: middle;\n",
       "    }\n",
       "\n",
       "    .dataframe tbody tr th {\n",
       "        vertical-align: top;\n",
       "    }\n",
       "\n",
       "    .dataframe thead th {\n",
       "        text-align: right;\n",
       "    }\n",
       "</style>\n",
       "<table border=\"1\" class=\"dataframe\">\n",
       "  <thead>\n",
       "    <tr style=\"text-align: right;\">\n",
       "      <th></th>\n",
       "      <th>Name</th>\n",
       "      <th>Date</th>\n",
       "      <th>Time</th>\n",
       "      <th>Open</th>\n",
       "      <th>High</th>\n",
       "      <th>Low</th>\n",
       "      <th>Close</th>\n",
       "      <th>Volume</th>\n",
       "      <th>TimeNew</th>\n",
       "    </tr>\n",
       "  </thead>\n",
       "  <tbody>\n",
       "    <tr>\n",
       "      <th>0</th>\n",
       "      <td>KGHM</td>\n",
       "      <td>2000-11-17 10:00:24</td>\n",
       "      <td>100024</td>\n",
       "      <td>26.3</td>\n",
       "      <td>26.3</td>\n",
       "      <td>26.3</td>\n",
       "      <td>26.3</td>\n",
       "      <td>10840</td>\n",
       "      <td>2000-11-17 10:00:24</td>\n",
       "    </tr>\n",
       "    <tr>\n",
       "      <th>1</th>\n",
       "      <td>KGHM</td>\n",
       "      <td>2000-11-17 10:00:25</td>\n",
       "      <td>100025</td>\n",
       "      <td>26.3</td>\n",
       "      <td>26.3</td>\n",
       "      <td>26.3</td>\n",
       "      <td>26.3</td>\n",
       "      <td>1035</td>\n",
       "      <td>2000-11-17 10:00:25</td>\n",
       "    </tr>\n",
       "    <tr>\n",
       "      <th>2</th>\n",
       "      <td>KGHM</td>\n",
       "      <td>2000-11-17 10:00:26</td>\n",
       "      <td>100026</td>\n",
       "      <td>26.3</td>\n",
       "      <td>26.3</td>\n",
       "      <td>26.3</td>\n",
       "      <td>26.3</td>\n",
       "      <td>57</td>\n",
       "      <td>2000-11-17 10:00:26</td>\n",
       "    </tr>\n",
       "    <tr>\n",
       "      <th>3</th>\n",
       "      <td>KGHM</td>\n",
       "      <td>2000-11-17 10:03:29</td>\n",
       "      <td>100329</td>\n",
       "      <td>26.3</td>\n",
       "      <td>26.3</td>\n",
       "      <td>26.3</td>\n",
       "      <td>26.3</td>\n",
       "      <td>20288</td>\n",
       "      <td>2000-11-17 10:03:29</td>\n",
       "    </tr>\n",
       "    <tr>\n",
       "      <th>4</th>\n",
       "      <td>KGHM</td>\n",
       "      <td>2000-11-17 10:09:28</td>\n",
       "      <td>100928</td>\n",
       "      <td>26.2</td>\n",
       "      <td>26.2</td>\n",
       "      <td>26.2</td>\n",
       "      <td>26.2</td>\n",
       "      <td>9</td>\n",
       "      <td>2000-11-17 10:09:28</td>\n",
       "    </tr>\n",
       "  </tbody>\n",
       "</table>\n",
       "</div>"
      ],
      "text/plain": [
       "   Name                Date    Time  Open  High   Low  Close  Volume  \\\n",
       "0  KGHM 2000-11-17 10:00:24  100024  26.3  26.3  26.3   26.3   10840   \n",
       "1  KGHM 2000-11-17 10:00:25  100025  26.3  26.3  26.3   26.3    1035   \n",
       "2  KGHM 2000-11-17 10:00:26  100026  26.3  26.3  26.3   26.3      57   \n",
       "3  KGHM 2000-11-17 10:03:29  100329  26.3  26.3  26.3   26.3   20288   \n",
       "4  KGHM 2000-11-17 10:09:28  100928  26.2  26.2  26.2   26.2       9   \n",
       "\n",
       "              TimeNew  \n",
       "0 2000-11-17 10:00:24  \n",
       "1 2000-11-17 10:00:25  \n",
       "2 2000-11-17 10:00:26  \n",
       "3 2000-11-17 10:03:29  \n",
       "4 2000-11-17 10:09:28  "
      ]
     },
     "execution_count": 13,
     "metadata": {},
     "output_type": "execute_result"
    }
   ],
   "source": [
    "df['Date']=df['TimeNew']\n",
    "df.head()"
   ]
  },
  {
   "cell_type": "code",
   "execution_count": 14,
   "metadata": {
    "ExecuteTime": {
     "end_time": "2018-11-25T18:09:41.081764Z",
     "start_time": "2018-11-25T18:09:40.879443Z"
    }
   },
   "outputs": [],
   "source": [
    "df=df.drop(columns=['Time','TimeNew'])"
   ]
  },
  {
   "cell_type": "code",
   "execution_count": 15,
   "metadata": {
    "ExecuteTime": {
     "end_time": "2018-11-25T18:09:41.097418Z",
     "start_time": "2018-11-25T18:09:41.083684Z"
    }
   },
   "outputs": [
    {
     "data": {
      "text/html": [
       "<div>\n",
       "<style scoped>\n",
       "    .dataframe tbody tr th:only-of-type {\n",
       "        vertical-align: middle;\n",
       "    }\n",
       "\n",
       "    .dataframe tbody tr th {\n",
       "        vertical-align: top;\n",
       "    }\n",
       "\n",
       "    .dataframe thead th {\n",
       "        text-align: right;\n",
       "    }\n",
       "</style>\n",
       "<table border=\"1\" class=\"dataframe\">\n",
       "  <thead>\n",
       "    <tr style=\"text-align: right;\">\n",
       "      <th></th>\n",
       "      <th>Name</th>\n",
       "      <th>Date</th>\n",
       "      <th>Open</th>\n",
       "      <th>High</th>\n",
       "      <th>Low</th>\n",
       "      <th>Close</th>\n",
       "      <th>Volume</th>\n",
       "    </tr>\n",
       "  </thead>\n",
       "  <tbody>\n",
       "    <tr>\n",
       "      <th>0</th>\n",
       "      <td>KGHM</td>\n",
       "      <td>2000-11-17 10:00:24</td>\n",
       "      <td>26.3</td>\n",
       "      <td>26.3</td>\n",
       "      <td>26.3</td>\n",
       "      <td>26.3</td>\n",
       "      <td>10840</td>\n",
       "    </tr>\n",
       "    <tr>\n",
       "      <th>1</th>\n",
       "      <td>KGHM</td>\n",
       "      <td>2000-11-17 10:00:25</td>\n",
       "      <td>26.3</td>\n",
       "      <td>26.3</td>\n",
       "      <td>26.3</td>\n",
       "      <td>26.3</td>\n",
       "      <td>1035</td>\n",
       "    </tr>\n",
       "    <tr>\n",
       "      <th>2</th>\n",
       "      <td>KGHM</td>\n",
       "      <td>2000-11-17 10:00:26</td>\n",
       "      <td>26.3</td>\n",
       "      <td>26.3</td>\n",
       "      <td>26.3</td>\n",
       "      <td>26.3</td>\n",
       "      <td>57</td>\n",
       "    </tr>\n",
       "    <tr>\n",
       "      <th>3</th>\n",
       "      <td>KGHM</td>\n",
       "      <td>2000-11-17 10:03:29</td>\n",
       "      <td>26.3</td>\n",
       "      <td>26.3</td>\n",
       "      <td>26.3</td>\n",
       "      <td>26.3</td>\n",
       "      <td>20288</td>\n",
       "    </tr>\n",
       "    <tr>\n",
       "      <th>4</th>\n",
       "      <td>KGHM</td>\n",
       "      <td>2000-11-17 10:09:28</td>\n",
       "      <td>26.2</td>\n",
       "      <td>26.2</td>\n",
       "      <td>26.2</td>\n",
       "      <td>26.2</td>\n",
       "      <td>9</td>\n",
       "    </tr>\n",
       "  </tbody>\n",
       "</table>\n",
       "</div>"
      ],
      "text/plain": [
       "   Name                Date  Open  High   Low  Close  Volume\n",
       "0  KGHM 2000-11-17 10:00:24  26.3  26.3  26.3   26.3   10840\n",
       "1  KGHM 2000-11-17 10:00:25  26.3  26.3  26.3   26.3    1035\n",
       "2  KGHM 2000-11-17 10:00:26  26.3  26.3  26.3   26.3      57\n",
       "3  KGHM 2000-11-17 10:03:29  26.3  26.3  26.3   26.3   20288\n",
       "4  KGHM 2000-11-17 10:09:28  26.2  26.2  26.2   26.2       9"
      ]
     },
     "execution_count": 15,
     "metadata": {},
     "output_type": "execute_result"
    }
   ],
   "source": [
    "df.head()"
   ]
  },
  {
   "cell_type": "markdown",
   "metadata": {},
   "source": [
    "Another time format"
   ]
  },
  {
   "cell_type": "code",
   "execution_count": 16,
   "metadata": {
    "ExecuteTime": {
     "end_time": "2018-11-25T18:09:41.113701Z",
     "start_time": "2018-11-25T18:09:41.100832Z"
    }
   },
   "outputs": [],
   "source": [
    "# df['Date']=pd.to_datetime(df['Date'], format='%Y%m%d')"
   ]
  },
  {
   "cell_type": "code",
   "execution_count": 17,
   "metadata": {
    "ExecuteTime": {
     "end_time": "2018-11-25T18:09:41.125251Z",
     "start_time": "2018-11-25T18:09:41.116443Z"
    }
   },
   "outputs": [],
   "source": [
    "# df['Time']=pd.to_datetime(df['Time'], format='%H%M%S').dt.time"
   ]
  },
  {
   "cell_type": "code",
   "execution_count": 18,
   "metadata": {
    "ExecuteTime": {
     "end_time": "2018-11-25T18:09:41.136949Z",
     "start_time": "2018-11-25T18:09:41.127478Z"
    }
   },
   "outputs": [],
   "source": [
    "# df.head()"
   ]
  },
  {
   "cell_type": "code",
   "execution_count": 19,
   "metadata": {
    "ExecuteTime": {
     "end_time": "2018-11-25T18:09:41.402968Z",
     "start_time": "2018-11-25T18:09:41.139601Z"
    }
   },
   "outputs": [],
   "source": [
    "ser_diff = df.Date.diff()\n",
    "\n",
    "ser_diff=ser_diff.dt.total_seconds().fillna(0)\n",
    "\n",
    "df['TimeDelta']=ser_diff\n",
    "\n",
    "df.head()\n",
    "\n",
    "df[\"CoursChange\"]=df.Open-df.Close.shift(1)\n",
    "\n",
    "df[\"LowHighDiff\"]=df[\"High\"]-df[\"Low\"]\n",
    "df[\"OpenCloseDiff\"]=df[\"Open\"]-df[\"Close\"]\n",
    "\n"
   ]
  },
  {
   "cell_type": "code",
   "execution_count": 20,
   "metadata": {
    "ExecuteTime": {
     "end_time": "2018-11-25T18:09:41.595004Z",
     "start_time": "2018-11-25T18:09:41.404981Z"
    }
   },
   "outputs": [
    {
     "data": {
      "text/html": [
       "<div>\n",
       "<style scoped>\n",
       "    .dataframe tbody tr th:only-of-type {\n",
       "        vertical-align: middle;\n",
       "    }\n",
       "\n",
       "    .dataframe tbody tr th {\n",
       "        vertical-align: top;\n",
       "    }\n",
       "\n",
       "    .dataframe thead th {\n",
       "        text-align: right;\n",
       "    }\n",
       "</style>\n",
       "<table border=\"1\" class=\"dataframe\">\n",
       "  <thead>\n",
       "    <tr style=\"text-align: right;\">\n",
       "      <th></th>\n",
       "      <th>Name</th>\n",
       "      <th>Date</th>\n",
       "      <th>Open</th>\n",
       "      <th>High</th>\n",
       "      <th>Low</th>\n",
       "      <th>Close</th>\n",
       "      <th>Volume</th>\n",
       "      <th>TimeDelta</th>\n",
       "      <th>CoursChange</th>\n",
       "      <th>LowHighDiff</th>\n",
       "      <th>OpenCloseDiff</th>\n",
       "    </tr>\n",
       "  </thead>\n",
       "  <tbody>\n",
       "    <tr>\n",
       "      <th>3371820</th>\n",
       "      <td>KGHM</td>\n",
       "      <td>2014-01-31 09:00:01</td>\n",
       "      <td>108.9</td>\n",
       "      <td>108.9</td>\n",
       "      <td>108.9</td>\n",
       "      <td>108.9</td>\n",
       "      <td>3996</td>\n",
       "      <td>1353353.0</td>\n",
       "      <td>-4.85</td>\n",
       "      <td>0.0</td>\n",
       "      <td>0.0</td>\n",
       "    </tr>\n",
       "  </tbody>\n",
       "</table>\n",
       "</div>"
      ],
      "text/plain": [
       "         Name                Date   Open   High    Low  Close  Volume  \\\n",
       "3371820  KGHM 2014-01-31 09:00:01  108.9  108.9  108.9  108.9    3996   \n",
       "\n",
       "         TimeDelta  CoursChange  LowHighDiff  OpenCloseDiff  \n",
       "3371820  1353353.0        -4.85          0.0            0.0  "
      ]
     },
     "execution_count": 20,
     "metadata": {},
     "output_type": "execute_result"
    }
   ],
   "source": [
    "df[df[\"TimeDelta\"]>800000]"
   ]
  },
  {
   "cell_type": "markdown",
   "metadata": {},
   "source": [
    "Co zrobić z tą wartością?"
   ]
  },
  {
   "cell_type": "code",
   "execution_count": 21,
   "metadata": {
    "ExecuteTime": {
     "end_time": "2018-11-25T18:09:41.611385Z",
     "start_time": "2018-11-25T18:09:41.597704Z"
    }
   },
   "outputs": [],
   "source": [
    "# df=df.drop(df[df[\"TimeDelta\"]>800000].index)"
   ]
  },
  {
   "cell_type": "markdown",
   "metadata": {},
   "source": [
    "## Prepare to predict"
   ]
  },
  {
   "cell_type": "code",
   "execution_count": 44,
   "metadata": {
    "ExecuteTime": {
     "end_time": "2018-11-25T18:39:47.420562Z",
     "start_time": "2018-11-25T18:39:46.874153Z"
    }
   },
   "outputs": [],
   "source": [
    "df.drop(columns=['Name','Open','High','Low','Volume','LowHighDiff','OpenCloseDiff'],inplace=True)\n",
    "\n",
    "df['day']=df['Date'].dt.strftime('%m/%d/%Y')\n",
    "\n",
    "\n",
    "df['month']=(pd.DatetimeIndex(df['Date']).year-2000)*12+pd.DatetimeIndex(df['Date']).month"
   ]
  },
  {
   "cell_type": "code",
   "execution_count": 45,
   "metadata": {
    "ExecuteTime": {
     "end_time": "2018-11-25T18:39:53.210121Z",
     "start_time": "2018-11-25T18:39:53.187912Z"
    }
   },
   "outputs": [
    {
     "data": {
      "text/html": [
       "<div>\n",
       "<style scoped>\n",
       "    .dataframe tbody tr th:only-of-type {\n",
       "        vertical-align: middle;\n",
       "    }\n",
       "\n",
       "    .dataframe tbody tr th {\n",
       "        vertical-align: top;\n",
       "    }\n",
       "\n",
       "    .dataframe thead th {\n",
       "        text-align: right;\n",
       "    }\n",
       "</style>\n",
       "<table border=\"1\" class=\"dataframe\">\n",
       "  <thead>\n",
       "    <tr style=\"text-align: right;\">\n",
       "      <th></th>\n",
       "      <th>Date</th>\n",
       "      <th>Close</th>\n",
       "      <th>TimeDelta</th>\n",
       "      <th>CoursChange</th>\n",
       "      <th>day</th>\n",
       "      <th>month</th>\n",
       "    </tr>\n",
       "  </thead>\n",
       "  <tbody>\n",
       "    <tr>\n",
       "      <th>0</th>\n",
       "      <td>2000-11-17 10:00:24</td>\n",
       "      <td>26.3</td>\n",
       "      <td>0.0</td>\n",
       "      <td>NaN</td>\n",
       "      <td>11/17/2000</td>\n",
       "      <td>11</td>\n",
       "    </tr>\n",
       "    <tr>\n",
       "      <th>1</th>\n",
       "      <td>2000-11-17 10:00:25</td>\n",
       "      <td>26.3</td>\n",
       "      <td>1.0</td>\n",
       "      <td>0.0</td>\n",
       "      <td>11/17/2000</td>\n",
       "      <td>11</td>\n",
       "    </tr>\n",
       "    <tr>\n",
       "      <th>2</th>\n",
       "      <td>2000-11-17 10:00:26</td>\n",
       "      <td>26.3</td>\n",
       "      <td>1.0</td>\n",
       "      <td>0.0</td>\n",
       "      <td>11/17/2000</td>\n",
       "      <td>11</td>\n",
       "    </tr>\n",
       "    <tr>\n",
       "      <th>3</th>\n",
       "      <td>2000-11-17 10:03:29</td>\n",
       "      <td>26.3</td>\n",
       "      <td>183.0</td>\n",
       "      <td>0.0</td>\n",
       "      <td>11/17/2000</td>\n",
       "      <td>11</td>\n",
       "    </tr>\n",
       "    <tr>\n",
       "      <th>4</th>\n",
       "      <td>2000-11-17 10:09:28</td>\n",
       "      <td>26.2</td>\n",
       "      <td>359.0</td>\n",
       "      <td>-0.1</td>\n",
       "      <td>11/17/2000</td>\n",
       "      <td>11</td>\n",
       "    </tr>\n",
       "  </tbody>\n",
       "</table>\n",
       "</div>"
      ],
      "text/plain": [
       "                 Date  Close  TimeDelta  CoursChange         day  month\n",
       "0 2000-11-17 10:00:24   26.3        0.0          NaN  11/17/2000     11\n",
       "1 2000-11-17 10:00:25   26.3        1.0          0.0  11/17/2000     11\n",
       "2 2000-11-17 10:00:26   26.3        1.0          0.0  11/17/2000     11\n",
       "3 2000-11-17 10:03:29   26.3      183.0          0.0  11/17/2000     11\n",
       "4 2000-11-17 10:09:28   26.2      359.0         -0.1  11/17/2000     11"
      ]
     },
     "execution_count": 45,
     "metadata": {},
     "output_type": "execute_result"
    }
   ],
   "source": [
    "df.head()"
   ]
  },
  {
   "cell_type": "code",
   "execution_count": 47,
   "metadata": {
    "ExecuteTime": {
     "end_time": "2018-11-25T18:41:21.712264Z",
     "start_time": "2018-11-25T18:41:21.693471Z"
    }
   },
   "outputs": [
    {
     "data": {
      "text/html": [
       "<div>\n",
       "<style scoped>\n",
       "    .dataframe tbody tr th:only-of-type {\n",
       "        vertical-align: middle;\n",
       "    }\n",
       "\n",
       "    .dataframe tbody tr th {\n",
       "        vertical-align: top;\n",
       "    }\n",
       "\n",
       "    .dataframe thead th {\n",
       "        text-align: right;\n",
       "    }\n",
       "</style>\n",
       "<table border=\"1\" class=\"dataframe\">\n",
       "  <thead>\n",
       "    <tr style=\"text-align: right;\">\n",
       "      <th></th>\n",
       "      <th>Date</th>\n",
       "      <th>Close</th>\n",
       "      <th>TimeDelta</th>\n",
       "      <th>CoursChange</th>\n",
       "      <th>day</th>\n",
       "      <th>month</th>\n",
       "    </tr>\n",
       "  </thead>\n",
       "  <tbody>\n",
       "    <tr>\n",
       "      <th>5640907</th>\n",
       "      <td>2018-11-23 17:00:01</td>\n",
       "      <td>89.94</td>\n",
       "      <td>607.0</td>\n",
       "      <td>-0.22</td>\n",
       "      <td>11/23/2018</td>\n",
       "      <td>227</td>\n",
       "    </tr>\n",
       "    <tr>\n",
       "      <th>5640908</th>\n",
       "      <td>2018-11-23 17:00:30</td>\n",
       "      <td>89.94</td>\n",
       "      <td>29.0</td>\n",
       "      <td>0.00</td>\n",
       "      <td>11/23/2018</td>\n",
       "      <td>227</td>\n",
       "    </tr>\n",
       "    <tr>\n",
       "      <th>5640909</th>\n",
       "      <td>2018-11-23 17:02:38</td>\n",
       "      <td>89.94</td>\n",
       "      <td>128.0</td>\n",
       "      <td>0.00</td>\n",
       "      <td>11/23/2018</td>\n",
       "      <td>227</td>\n",
       "    </tr>\n",
       "    <tr>\n",
       "      <th>5640910</th>\n",
       "      <td>2018-11-23 17:02:40</td>\n",
       "      <td>89.94</td>\n",
       "      <td>2.0</td>\n",
       "      <td>0.00</td>\n",
       "      <td>11/23/2018</td>\n",
       "      <td>227</td>\n",
       "    </tr>\n",
       "    <tr>\n",
       "      <th>5640911</th>\n",
       "      <td>2018-11-23 17:04:19</td>\n",
       "      <td>89.94</td>\n",
       "      <td>99.0</td>\n",
       "      <td>0.00</td>\n",
       "      <td>11/23/2018</td>\n",
       "      <td>227</td>\n",
       "    </tr>\n",
       "  </tbody>\n",
       "</table>\n",
       "</div>"
      ],
      "text/plain": [
       "                       Date  Close  TimeDelta  CoursChange         day  month\n",
       "5640907 2018-11-23 17:00:01  89.94      607.0        -0.22  11/23/2018    227\n",
       "5640908 2018-11-23 17:00:30  89.94       29.0         0.00  11/23/2018    227\n",
       "5640909 2018-11-23 17:02:38  89.94      128.0         0.00  11/23/2018    227\n",
       "5640910 2018-11-23 17:02:40  89.94        2.0         0.00  11/23/2018    227\n",
       "5640911 2018-11-23 17:04:19  89.94       99.0         0.00  11/23/2018    227"
      ]
     },
     "execution_count": 47,
     "metadata": {},
     "output_type": "execute_result"
    }
   ],
   "source": [
    "df.tail()"
   ]
  },
  {
   "cell_type": "code",
   "execution_count": 46,
   "metadata": {
    "ExecuteTime": {
     "end_time": "2018-11-25T18:39:56.351337Z",
     "start_time": "2018-11-25T18:39:53.671766Z"
    }
   },
   "outputs": [],
   "source": [
    "df.to_pickle(save_path)"
   ]
  },
  {
   "cell_type": "code",
   "execution_count": null,
   "metadata": {},
   "outputs": [],
   "source": []
  }
 ],
 "metadata": {
  "kernelspec": {
   "display_name": "Python [default]",
   "language": "python",
   "name": "python3"
  },
  "language_info": {
   "codemirror_mode": {
    "name": "ipython",
    "version": 3
   },
   "file_extension": ".py",
   "mimetype": "text/x-python",
   "name": "python",
   "nbconvert_exporter": "python",
   "pygments_lexer": "ipython3",
   "version": "3.7.0"
  }
 },
 "nbformat": 4,
 "nbformat_minor": 2
}
