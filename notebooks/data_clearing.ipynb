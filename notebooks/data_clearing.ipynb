{
 "cells": [
  {
   "cell_type": "code",
   "execution_count": 1,
   "metadata": {
    "ExecuteTime": {
     "end_time": "2019-01-11T16:13:38.066228Z",
     "start_time": "2019-01-11T16:13:37.500497Z"
    }
   },
   "outputs": [],
   "source": [
    "import pandas as pd"
   ]
  },
  {
   "cell_type": "code",
   "execution_count": 4,
   "metadata": {
    "ExecuteTime": {
     "end_time": "2019-01-11T16:15:30.923443Z",
     "start_time": "2019-01-11T16:15:30.911310Z"
    }
   },
   "outputs": [],
   "source": [
    "data_path='../data/KGHM.prn'\n",
    "save_path='../data/KGHM_clear.csv'\n",
    "column_names=['Name','Cos','Date','Time','Open','High','Low','Close','Volume','Oi']"
   ]
  },
  {
   "cell_type": "code",
   "execution_count": 5,
   "metadata": {
    "ExecuteTime": {
     "end_time": "2019-01-11T16:15:36.957971Z",
     "start_time": "2019-01-11T16:15:31.148443Z"
    }
   },
   "outputs": [],
   "source": [
    "df=pd.read_csv(data_path,names=column_names)"
   ]
  },
  {
   "cell_type": "code",
   "execution_count": 6,
   "metadata": {
    "ExecuteTime": {
     "end_time": "2019-01-11T16:15:39.665071Z",
     "start_time": "2019-01-11T16:15:39.621051Z"
    }
   },
   "outputs": [
    {
     "data": {
      "text/html": [
       "<div>\n",
       "<style scoped>\n",
       "    .dataframe tbody tr th:only-of-type {\n",
       "        vertical-align: middle;\n",
       "    }\n",
       "\n",
       "    .dataframe tbody tr th {\n",
       "        vertical-align: top;\n",
       "    }\n",
       "\n",
       "    .dataframe thead th {\n",
       "        text-align: right;\n",
       "    }\n",
       "</style>\n",
       "<table border=\"1\" class=\"dataframe\">\n",
       "  <thead>\n",
       "    <tr style=\"text-align: right;\">\n",
       "      <th></th>\n",
       "      <th>Name</th>\n",
       "      <th>Cos</th>\n",
       "      <th>Date</th>\n",
       "      <th>Time</th>\n",
       "      <th>Open</th>\n",
       "      <th>High</th>\n",
       "      <th>Low</th>\n",
       "      <th>Close</th>\n",
       "      <th>Volume</th>\n",
       "      <th>Oi</th>\n",
       "    </tr>\n",
       "  </thead>\n",
       "  <tbody>\n",
       "    <tr>\n",
       "      <th>0</th>\n",
       "      <td>KGHM</td>\n",
       "      <td>0</td>\n",
       "      <td>20001117</td>\n",
       "      <td>100024</td>\n",
       "      <td>26.3</td>\n",
       "      <td>26.3</td>\n",
       "      <td>26.3</td>\n",
       "      <td>26.3</td>\n",
       "      <td>10840</td>\n",
       "      <td>0</td>\n",
       "    </tr>\n",
       "    <tr>\n",
       "      <th>1</th>\n",
       "      <td>KGHM</td>\n",
       "      <td>0</td>\n",
       "      <td>20001117</td>\n",
       "      <td>100025</td>\n",
       "      <td>26.3</td>\n",
       "      <td>26.3</td>\n",
       "      <td>26.3</td>\n",
       "      <td>26.3</td>\n",
       "      <td>1035</td>\n",
       "      <td>0</td>\n",
       "    </tr>\n",
       "    <tr>\n",
       "      <th>2</th>\n",
       "      <td>KGHM</td>\n",
       "      <td>0</td>\n",
       "      <td>20001117</td>\n",
       "      <td>100026</td>\n",
       "      <td>26.3</td>\n",
       "      <td>26.3</td>\n",
       "      <td>26.3</td>\n",
       "      <td>26.3</td>\n",
       "      <td>57</td>\n",
       "      <td>0</td>\n",
       "    </tr>\n",
       "    <tr>\n",
       "      <th>3</th>\n",
       "      <td>KGHM</td>\n",
       "      <td>0</td>\n",
       "      <td>20001117</td>\n",
       "      <td>100329</td>\n",
       "      <td>26.3</td>\n",
       "      <td>26.3</td>\n",
       "      <td>26.3</td>\n",
       "      <td>26.3</td>\n",
       "      <td>20288</td>\n",
       "      <td>0</td>\n",
       "    </tr>\n",
       "    <tr>\n",
       "      <th>4</th>\n",
       "      <td>KGHM</td>\n",
       "      <td>0</td>\n",
       "      <td>20001117</td>\n",
       "      <td>100928</td>\n",
       "      <td>26.2</td>\n",
       "      <td>26.2</td>\n",
       "      <td>26.2</td>\n",
       "      <td>26.2</td>\n",
       "      <td>9</td>\n",
       "      <td>0</td>\n",
       "    </tr>\n",
       "    <tr>\n",
       "      <th>5</th>\n",
       "      <td>KGHM</td>\n",
       "      <td>0</td>\n",
       "      <td>20001117</td>\n",
       "      <td>101110</td>\n",
       "      <td>26.3</td>\n",
       "      <td>26.3</td>\n",
       "      <td>26.3</td>\n",
       "      <td>26.3</td>\n",
       "      <td>10000</td>\n",
       "      <td>0</td>\n",
       "    </tr>\n",
       "    <tr>\n",
       "      <th>6</th>\n",
       "      <td>KGHM</td>\n",
       "      <td>0</td>\n",
       "      <td>20001117</td>\n",
       "      <td>101419</td>\n",
       "      <td>26.3</td>\n",
       "      <td>26.3</td>\n",
       "      <td>26.3</td>\n",
       "      <td>26.3</td>\n",
       "      <td>485</td>\n",
       "      <td>0</td>\n",
       "    </tr>\n",
       "    <tr>\n",
       "      <th>7</th>\n",
       "      <td>KGHM</td>\n",
       "      <td>0</td>\n",
       "      <td>20001117</td>\n",
       "      <td>101429</td>\n",
       "      <td>26.3</td>\n",
       "      <td>26.3</td>\n",
       "      <td>26.3</td>\n",
       "      <td>26.3</td>\n",
       "      <td>15</td>\n",
       "      <td>0</td>\n",
       "    </tr>\n",
       "    <tr>\n",
       "      <th>8</th>\n",
       "      <td>KGHM</td>\n",
       "      <td>0</td>\n",
       "      <td>20001117</td>\n",
       "      <td>102410</td>\n",
       "      <td>26.3</td>\n",
       "      <td>26.3</td>\n",
       "      <td>26.3</td>\n",
       "      <td>26.3</td>\n",
       "      <td>500</td>\n",
       "      <td>0</td>\n",
       "    </tr>\n",
       "    <tr>\n",
       "      <th>9</th>\n",
       "      <td>KGHM</td>\n",
       "      <td>0</td>\n",
       "      <td>20001117</td>\n",
       "      <td>102942</td>\n",
       "      <td>26.3</td>\n",
       "      <td>26.3</td>\n",
       "      <td>26.3</td>\n",
       "      <td>26.3</td>\n",
       "      <td>15</td>\n",
       "      <td>0</td>\n",
       "    </tr>\n",
       "  </tbody>\n",
       "</table>\n",
       "</div>"
      ],
      "text/plain": [
       "   Name  Cos      Date    Time  Open  High   Low  Close  Volume  Oi\n",
       "0  KGHM    0  20001117  100024  26.3  26.3  26.3   26.3   10840   0\n",
       "1  KGHM    0  20001117  100025  26.3  26.3  26.3   26.3    1035   0\n",
       "2  KGHM    0  20001117  100026  26.3  26.3  26.3   26.3      57   0\n",
       "3  KGHM    0  20001117  100329  26.3  26.3  26.3   26.3   20288   0\n",
       "4  KGHM    0  20001117  100928  26.2  26.2  26.2   26.2       9   0\n",
       "5  KGHM    0  20001117  101110  26.3  26.3  26.3   26.3   10000   0\n",
       "6  KGHM    0  20001117  101419  26.3  26.3  26.3   26.3     485   0\n",
       "7  KGHM    0  20001117  101429  26.3  26.3  26.3   26.3      15   0\n",
       "8  KGHM    0  20001117  102410  26.3  26.3  26.3   26.3     500   0\n",
       "9  KGHM    0  20001117  102942  26.3  26.3  26.3   26.3      15   0"
      ]
     },
     "execution_count": 6,
     "metadata": {},
     "output_type": "execute_result"
    }
   ],
   "source": [
    "df.head(10)"
   ]
  },
  {
   "cell_type": "code",
   "execution_count": 7,
   "metadata": {
    "ExecuteTime": {
     "end_time": "2019-01-11T16:15:40.497256Z",
     "start_time": "2019-01-11T16:15:40.491064Z"
    }
   },
   "outputs": [
    {
     "data": {
      "text/plain": [
       "(5683710, 10)"
      ]
     },
     "execution_count": 7,
     "metadata": {},
     "output_type": "execute_result"
    }
   ],
   "source": [
    "df.shape"
   ]
  },
  {
   "cell_type": "code",
   "execution_count": 8,
   "metadata": {
    "ExecuteTime": {
     "end_time": "2019-01-11T16:15:41.219184Z",
     "start_time": "2019-01-11T16:15:41.188512Z"
    }
   },
   "outputs": [
    {
     "data": {
      "text/plain": [
       "0"
      ]
     },
     "execution_count": 8,
     "metadata": {},
     "output_type": "execute_result"
    }
   ],
   "source": [
    "df[df['Cos']!=0].shape[0]"
   ]
  },
  {
   "cell_type": "code",
   "execution_count": 9,
   "metadata": {
    "ExecuteTime": {
     "end_time": "2019-01-11T16:15:41.722680Z",
     "start_time": "2019-01-11T16:15:41.708138Z"
    }
   },
   "outputs": [
    {
     "data": {
      "text/plain": [
       "0"
      ]
     },
     "execution_count": 9,
     "metadata": {},
     "output_type": "execute_result"
    }
   ],
   "source": [
    "df[df['Oi']!=0].shape[0]"
   ]
  },
  {
   "cell_type": "markdown",
   "metadata": {},
   "source": [
    "Dwie kolumny są puste dla każdego rekordu zatem usuwamy je "
   ]
  },
  {
   "cell_type": "code",
   "execution_count": 10,
   "metadata": {
    "ExecuteTime": {
     "end_time": "2019-01-11T16:15:44.302849Z",
     "start_time": "2019-01-11T16:15:44.116158Z"
    }
   },
   "outputs": [],
   "source": [
    "df=df.drop(columns=['Oi','Cos'])"
   ]
  },
  {
   "cell_type": "code",
   "execution_count": 11,
   "metadata": {
    "ExecuteTime": {
     "end_time": "2019-01-11T16:15:44.334883Z",
     "start_time": "2019-01-11T16:15:44.321942Z"
    },
    "scrolled": true
   },
   "outputs": [
    {
     "data": {
      "text/html": [
       "<div>\n",
       "<style scoped>\n",
       "    .dataframe tbody tr th:only-of-type {\n",
       "        vertical-align: middle;\n",
       "    }\n",
       "\n",
       "    .dataframe tbody tr th {\n",
       "        vertical-align: top;\n",
       "    }\n",
       "\n",
       "    .dataframe thead th {\n",
       "        text-align: right;\n",
       "    }\n",
       "</style>\n",
       "<table border=\"1\" class=\"dataframe\">\n",
       "  <thead>\n",
       "    <tr style=\"text-align: right;\">\n",
       "      <th></th>\n",
       "      <th>Name</th>\n",
       "      <th>Date</th>\n",
       "      <th>Time</th>\n",
       "      <th>Open</th>\n",
       "      <th>High</th>\n",
       "      <th>Low</th>\n",
       "      <th>Close</th>\n",
       "      <th>Volume</th>\n",
       "    </tr>\n",
       "  </thead>\n",
       "  <tbody>\n",
       "    <tr>\n",
       "      <th>0</th>\n",
       "      <td>KGHM</td>\n",
       "      <td>20001117</td>\n",
       "      <td>100024</td>\n",
       "      <td>26.3</td>\n",
       "      <td>26.3</td>\n",
       "      <td>26.3</td>\n",
       "      <td>26.3</td>\n",
       "      <td>10840</td>\n",
       "    </tr>\n",
       "    <tr>\n",
       "      <th>1</th>\n",
       "      <td>KGHM</td>\n",
       "      <td>20001117</td>\n",
       "      <td>100025</td>\n",
       "      <td>26.3</td>\n",
       "      <td>26.3</td>\n",
       "      <td>26.3</td>\n",
       "      <td>26.3</td>\n",
       "      <td>1035</td>\n",
       "    </tr>\n",
       "    <tr>\n",
       "      <th>2</th>\n",
       "      <td>KGHM</td>\n",
       "      <td>20001117</td>\n",
       "      <td>100026</td>\n",
       "      <td>26.3</td>\n",
       "      <td>26.3</td>\n",
       "      <td>26.3</td>\n",
       "      <td>26.3</td>\n",
       "      <td>57</td>\n",
       "    </tr>\n",
       "    <tr>\n",
       "      <th>3</th>\n",
       "      <td>KGHM</td>\n",
       "      <td>20001117</td>\n",
       "      <td>100329</td>\n",
       "      <td>26.3</td>\n",
       "      <td>26.3</td>\n",
       "      <td>26.3</td>\n",
       "      <td>26.3</td>\n",
       "      <td>20288</td>\n",
       "    </tr>\n",
       "    <tr>\n",
       "      <th>4</th>\n",
       "      <td>KGHM</td>\n",
       "      <td>20001117</td>\n",
       "      <td>100928</td>\n",
       "      <td>26.2</td>\n",
       "      <td>26.2</td>\n",
       "      <td>26.2</td>\n",
       "      <td>26.2</td>\n",
       "      <td>9</td>\n",
       "    </tr>\n",
       "  </tbody>\n",
       "</table>\n",
       "</div>"
      ],
      "text/plain": [
       "   Name      Date    Time  Open  High   Low  Close  Volume\n",
       "0  KGHM  20001117  100024  26.3  26.3  26.3   26.3   10840\n",
       "1  KGHM  20001117  100025  26.3  26.3  26.3   26.3    1035\n",
       "2  KGHM  20001117  100026  26.3  26.3  26.3   26.3      57\n",
       "3  KGHM  20001117  100329  26.3  26.3  26.3   26.3   20288\n",
       "4  KGHM  20001117  100928  26.2  26.2  26.2   26.2       9"
      ]
     },
     "execution_count": 11,
     "metadata": {},
     "output_type": "execute_result"
    }
   ],
   "source": [
    "df.head()"
   ]
  },
  {
   "cell_type": "code",
   "execution_count": 12,
   "metadata": {
    "ExecuteTime": {
     "end_time": "2019-01-11T16:15:44.830328Z",
     "start_time": "2019-01-11T16:15:44.797026Z"
    }
   },
   "outputs": [
    {
     "data": {
      "text/html": [
       "<div>\n",
       "<style scoped>\n",
       "    .dataframe tbody tr th:only-of-type {\n",
       "        vertical-align: middle;\n",
       "    }\n",
       "\n",
       "    .dataframe tbody tr th {\n",
       "        vertical-align: top;\n",
       "    }\n",
       "\n",
       "    .dataframe thead th {\n",
       "        text-align: right;\n",
       "    }\n",
       "</style>\n",
       "<table border=\"1\" class=\"dataframe\">\n",
       "  <thead>\n",
       "    <tr style=\"text-align: right;\">\n",
       "      <th></th>\n",
       "      <th>Name</th>\n",
       "      <th>Date</th>\n",
       "      <th>Time</th>\n",
       "      <th>Open</th>\n",
       "      <th>High</th>\n",
       "      <th>Low</th>\n",
       "      <th>Close</th>\n",
       "      <th>Volume</th>\n",
       "    </tr>\n",
       "  </thead>\n",
       "  <tbody>\n",
       "    <tr>\n",
       "      <th>0</th>\n",
       "      <td>KGHM</td>\n",
       "      <td>20001117</td>\n",
       "      <td>100024</td>\n",
       "      <td>26.3</td>\n",
       "      <td>26.3</td>\n",
       "      <td>26.3</td>\n",
       "      <td>26.3</td>\n",
       "      <td>10840</td>\n",
       "    </tr>\n",
       "    <tr>\n",
       "      <th>1</th>\n",
       "      <td>KGHM</td>\n",
       "      <td>20001117</td>\n",
       "      <td>100025</td>\n",
       "      <td>26.3</td>\n",
       "      <td>26.3</td>\n",
       "      <td>26.3</td>\n",
       "      <td>26.3</td>\n",
       "      <td>1035</td>\n",
       "    </tr>\n",
       "    <tr>\n",
       "      <th>2</th>\n",
       "      <td>KGHM</td>\n",
       "      <td>20001117</td>\n",
       "      <td>100026</td>\n",
       "      <td>26.3</td>\n",
       "      <td>26.3</td>\n",
       "      <td>26.3</td>\n",
       "      <td>26.3</td>\n",
       "      <td>57</td>\n",
       "    </tr>\n",
       "    <tr>\n",
       "      <th>3</th>\n",
       "      <td>KGHM</td>\n",
       "      <td>20001117</td>\n",
       "      <td>100329</td>\n",
       "      <td>26.3</td>\n",
       "      <td>26.3</td>\n",
       "      <td>26.3</td>\n",
       "      <td>26.3</td>\n",
       "      <td>20288</td>\n",
       "    </tr>\n",
       "    <tr>\n",
       "      <th>4</th>\n",
       "      <td>KGHM</td>\n",
       "      <td>20001117</td>\n",
       "      <td>100928</td>\n",
       "      <td>26.2</td>\n",
       "      <td>26.2</td>\n",
       "      <td>26.2</td>\n",
       "      <td>26.2</td>\n",
       "      <td>9</td>\n",
       "    </tr>\n",
       "  </tbody>\n",
       "</table>\n",
       "</div>"
      ],
      "text/plain": [
       "   Name      Date    Time  Open  High   Low  Close  Volume\n",
       "0  KGHM  20001117  100024  26.3  26.3  26.3   26.3   10840\n",
       "1  KGHM  20001117  100025  26.3  26.3  26.3   26.3    1035\n",
       "2  KGHM  20001117  100026  26.3  26.3  26.3   26.3      57\n",
       "3  KGHM  20001117  100329  26.3  26.3  26.3   26.3   20288\n",
       "4  KGHM  20001117  100928  26.2  26.2  26.2   26.2       9"
      ]
     },
     "execution_count": 12,
     "metadata": {},
     "output_type": "execute_result"
    }
   ],
   "source": [
    "df_part=df.loc[:100,:]\n",
    "df_part.head()"
   ]
  },
  {
   "cell_type": "code",
   "execution_count": 13,
   "metadata": {
    "ExecuteTime": {
     "end_time": "2019-01-11T16:15:49.633238Z",
     "start_time": "2019-01-11T16:15:45.278207Z"
    },
    "scrolled": true
   },
   "outputs": [
    {
     "data": {
      "text/html": [
       "<div>\n",
       "<style scoped>\n",
       "    .dataframe tbody tr th:only-of-type {\n",
       "        vertical-align: middle;\n",
       "    }\n",
       "\n",
       "    .dataframe tbody tr th {\n",
       "        vertical-align: top;\n",
       "    }\n",
       "\n",
       "    .dataframe thead th {\n",
       "        text-align: right;\n",
       "    }\n",
       "</style>\n",
       "<table border=\"1\" class=\"dataframe\">\n",
       "  <thead>\n",
       "    <tr style=\"text-align: right;\">\n",
       "      <th></th>\n",
       "      <th>Name</th>\n",
       "      <th>Date</th>\n",
       "      <th>Time</th>\n",
       "      <th>Open</th>\n",
       "      <th>High</th>\n",
       "      <th>Low</th>\n",
       "      <th>Close</th>\n",
       "      <th>Volume</th>\n",
       "      <th>TimeNew</th>\n",
       "    </tr>\n",
       "  </thead>\n",
       "  <tbody>\n",
       "    <tr>\n",
       "      <th>0</th>\n",
       "      <td>KGHM</td>\n",
       "      <td>20001117</td>\n",
       "      <td>100024</td>\n",
       "      <td>26.3</td>\n",
       "      <td>26.3</td>\n",
       "      <td>26.3</td>\n",
       "      <td>26.3</td>\n",
       "      <td>10840</td>\n",
       "      <td>20001117100024</td>\n",
       "    </tr>\n",
       "    <tr>\n",
       "      <th>1</th>\n",
       "      <td>KGHM</td>\n",
       "      <td>20001117</td>\n",
       "      <td>100025</td>\n",
       "      <td>26.3</td>\n",
       "      <td>26.3</td>\n",
       "      <td>26.3</td>\n",
       "      <td>26.3</td>\n",
       "      <td>1035</td>\n",
       "      <td>20001117100025</td>\n",
       "    </tr>\n",
       "    <tr>\n",
       "      <th>2</th>\n",
       "      <td>KGHM</td>\n",
       "      <td>20001117</td>\n",
       "      <td>100026</td>\n",
       "      <td>26.3</td>\n",
       "      <td>26.3</td>\n",
       "      <td>26.3</td>\n",
       "      <td>26.3</td>\n",
       "      <td>57</td>\n",
       "      <td>20001117100026</td>\n",
       "    </tr>\n",
       "    <tr>\n",
       "      <th>3</th>\n",
       "      <td>KGHM</td>\n",
       "      <td>20001117</td>\n",
       "      <td>100329</td>\n",
       "      <td>26.3</td>\n",
       "      <td>26.3</td>\n",
       "      <td>26.3</td>\n",
       "      <td>26.3</td>\n",
       "      <td>20288</td>\n",
       "      <td>20001117100329</td>\n",
       "    </tr>\n",
       "    <tr>\n",
       "      <th>4</th>\n",
       "      <td>KGHM</td>\n",
       "      <td>20001117</td>\n",
       "      <td>100928</td>\n",
       "      <td>26.2</td>\n",
       "      <td>26.2</td>\n",
       "      <td>26.2</td>\n",
       "      <td>26.2</td>\n",
       "      <td>9</td>\n",
       "      <td>20001117100928</td>\n",
       "    </tr>\n",
       "  </tbody>\n",
       "</table>\n",
       "</div>"
      ],
      "text/plain": [
       "   Name      Date    Time  Open  High   Low  Close  Volume         TimeNew\n",
       "0  KGHM  20001117  100024  26.3  26.3  26.3   26.3   10840  20001117100024\n",
       "1  KGHM  20001117  100025  26.3  26.3  26.3   26.3    1035  20001117100025\n",
       "2  KGHM  20001117  100026  26.3  26.3  26.3   26.3      57  20001117100026\n",
       "3  KGHM  20001117  100329  26.3  26.3  26.3   26.3   20288  20001117100329\n",
       "4  KGHM  20001117  100928  26.2  26.2  26.2   26.2       9  20001117100928"
      ]
     },
     "execution_count": 13,
     "metadata": {},
     "output_type": "execute_result"
    }
   ],
   "source": [
    "df['TimeNew']=df['Date'].map(str)+df['Time'].map(str)\n",
    "df.head()"
   ]
  },
  {
   "cell_type": "code",
   "execution_count": 14,
   "metadata": {
    "ExecuteTime": {
     "end_time": "2019-01-11T16:16:19.990315Z",
     "start_time": "2019-01-11T16:15:49.635716Z"
    }
   },
   "outputs": [
    {
     "data": {
      "text/html": [
       "<div>\n",
       "<style scoped>\n",
       "    .dataframe tbody tr th:only-of-type {\n",
       "        vertical-align: middle;\n",
       "    }\n",
       "\n",
       "    .dataframe tbody tr th {\n",
       "        vertical-align: top;\n",
       "    }\n",
       "\n",
       "    .dataframe thead th {\n",
       "        text-align: right;\n",
       "    }\n",
       "</style>\n",
       "<table border=\"1\" class=\"dataframe\">\n",
       "  <thead>\n",
       "    <tr style=\"text-align: right;\">\n",
       "      <th></th>\n",
       "      <th>Name</th>\n",
       "      <th>Date</th>\n",
       "      <th>Time</th>\n",
       "      <th>Open</th>\n",
       "      <th>High</th>\n",
       "      <th>Low</th>\n",
       "      <th>Close</th>\n",
       "      <th>Volume</th>\n",
       "      <th>TimeNew</th>\n",
       "    </tr>\n",
       "  </thead>\n",
       "  <tbody>\n",
       "    <tr>\n",
       "      <th>0</th>\n",
       "      <td>KGHM</td>\n",
       "      <td>20001117</td>\n",
       "      <td>100024</td>\n",
       "      <td>26.3</td>\n",
       "      <td>26.3</td>\n",
       "      <td>26.3</td>\n",
       "      <td>26.3</td>\n",
       "      <td>10840</td>\n",
       "      <td>2000-11-17 10:00:24</td>\n",
       "    </tr>\n",
       "    <tr>\n",
       "      <th>1</th>\n",
       "      <td>KGHM</td>\n",
       "      <td>20001117</td>\n",
       "      <td>100025</td>\n",
       "      <td>26.3</td>\n",
       "      <td>26.3</td>\n",
       "      <td>26.3</td>\n",
       "      <td>26.3</td>\n",
       "      <td>1035</td>\n",
       "      <td>2000-11-17 10:00:25</td>\n",
       "    </tr>\n",
       "    <tr>\n",
       "      <th>2</th>\n",
       "      <td>KGHM</td>\n",
       "      <td>20001117</td>\n",
       "      <td>100026</td>\n",
       "      <td>26.3</td>\n",
       "      <td>26.3</td>\n",
       "      <td>26.3</td>\n",
       "      <td>26.3</td>\n",
       "      <td>57</td>\n",
       "      <td>2000-11-17 10:00:26</td>\n",
       "    </tr>\n",
       "    <tr>\n",
       "      <th>3</th>\n",
       "      <td>KGHM</td>\n",
       "      <td>20001117</td>\n",
       "      <td>100329</td>\n",
       "      <td>26.3</td>\n",
       "      <td>26.3</td>\n",
       "      <td>26.3</td>\n",
       "      <td>26.3</td>\n",
       "      <td>20288</td>\n",
       "      <td>2000-11-17 10:03:29</td>\n",
       "    </tr>\n",
       "    <tr>\n",
       "      <th>4</th>\n",
       "      <td>KGHM</td>\n",
       "      <td>20001117</td>\n",
       "      <td>100928</td>\n",
       "      <td>26.2</td>\n",
       "      <td>26.2</td>\n",
       "      <td>26.2</td>\n",
       "      <td>26.2</td>\n",
       "      <td>9</td>\n",
       "      <td>2000-11-17 10:09:28</td>\n",
       "    </tr>\n",
       "  </tbody>\n",
       "</table>\n",
       "</div>"
      ],
      "text/plain": [
       "   Name      Date    Time  Open  High   Low  Close  Volume             TimeNew\n",
       "0  KGHM  20001117  100024  26.3  26.3  26.3   26.3   10840 2000-11-17 10:00:24\n",
       "1  KGHM  20001117  100025  26.3  26.3  26.3   26.3    1035 2000-11-17 10:00:25\n",
       "2  KGHM  20001117  100026  26.3  26.3  26.3   26.3      57 2000-11-17 10:00:26\n",
       "3  KGHM  20001117  100329  26.3  26.3  26.3   26.3   20288 2000-11-17 10:03:29\n",
       "4  KGHM  20001117  100928  26.2  26.2  26.2   26.2       9 2000-11-17 10:09:28"
      ]
     },
     "execution_count": 14,
     "metadata": {},
     "output_type": "execute_result"
    }
   ],
   "source": [
    "df['TimeNew']=pd.to_datetime(df['TimeNew'],format='%Y%m%d%H%M%S')\n",
    "df.head()"
   ]
  },
  {
   "cell_type": "code",
   "execution_count": 15,
   "metadata": {
    "ExecuteTime": {
     "end_time": "2019-01-11T16:16:20.042068Z",
     "start_time": "2019-01-11T16:16:19.992768Z"
    }
   },
   "outputs": [
    {
     "data": {
      "text/html": [
       "<div>\n",
       "<style scoped>\n",
       "    .dataframe tbody tr th:only-of-type {\n",
       "        vertical-align: middle;\n",
       "    }\n",
       "\n",
       "    .dataframe tbody tr th {\n",
       "        vertical-align: top;\n",
       "    }\n",
       "\n",
       "    .dataframe thead th {\n",
       "        text-align: right;\n",
       "    }\n",
       "</style>\n",
       "<table border=\"1\" class=\"dataframe\">\n",
       "  <thead>\n",
       "    <tr style=\"text-align: right;\">\n",
       "      <th></th>\n",
       "      <th>Name</th>\n",
       "      <th>Date</th>\n",
       "      <th>Time</th>\n",
       "      <th>Open</th>\n",
       "      <th>High</th>\n",
       "      <th>Low</th>\n",
       "      <th>Close</th>\n",
       "      <th>Volume</th>\n",
       "      <th>TimeNew</th>\n",
       "    </tr>\n",
       "  </thead>\n",
       "  <tbody>\n",
       "    <tr>\n",
       "      <th>0</th>\n",
       "      <td>KGHM</td>\n",
       "      <td>2000-11-17 10:00:24</td>\n",
       "      <td>100024</td>\n",
       "      <td>26.3</td>\n",
       "      <td>26.3</td>\n",
       "      <td>26.3</td>\n",
       "      <td>26.3</td>\n",
       "      <td>10840</td>\n",
       "      <td>2000-11-17 10:00:24</td>\n",
       "    </tr>\n",
       "    <tr>\n",
       "      <th>1</th>\n",
       "      <td>KGHM</td>\n",
       "      <td>2000-11-17 10:00:25</td>\n",
       "      <td>100025</td>\n",
       "      <td>26.3</td>\n",
       "      <td>26.3</td>\n",
       "      <td>26.3</td>\n",
       "      <td>26.3</td>\n",
       "      <td>1035</td>\n",
       "      <td>2000-11-17 10:00:25</td>\n",
       "    </tr>\n",
       "    <tr>\n",
       "      <th>2</th>\n",
       "      <td>KGHM</td>\n",
       "      <td>2000-11-17 10:00:26</td>\n",
       "      <td>100026</td>\n",
       "      <td>26.3</td>\n",
       "      <td>26.3</td>\n",
       "      <td>26.3</td>\n",
       "      <td>26.3</td>\n",
       "      <td>57</td>\n",
       "      <td>2000-11-17 10:00:26</td>\n",
       "    </tr>\n",
       "    <tr>\n",
       "      <th>3</th>\n",
       "      <td>KGHM</td>\n",
       "      <td>2000-11-17 10:03:29</td>\n",
       "      <td>100329</td>\n",
       "      <td>26.3</td>\n",
       "      <td>26.3</td>\n",
       "      <td>26.3</td>\n",
       "      <td>26.3</td>\n",
       "      <td>20288</td>\n",
       "      <td>2000-11-17 10:03:29</td>\n",
       "    </tr>\n",
       "    <tr>\n",
       "      <th>4</th>\n",
       "      <td>KGHM</td>\n",
       "      <td>2000-11-17 10:09:28</td>\n",
       "      <td>100928</td>\n",
       "      <td>26.2</td>\n",
       "      <td>26.2</td>\n",
       "      <td>26.2</td>\n",
       "      <td>26.2</td>\n",
       "      <td>9</td>\n",
       "      <td>2000-11-17 10:09:28</td>\n",
       "    </tr>\n",
       "  </tbody>\n",
       "</table>\n",
       "</div>"
      ],
      "text/plain": [
       "   Name                Date    Time  Open  High   Low  Close  Volume  \\\n",
       "0  KGHM 2000-11-17 10:00:24  100024  26.3  26.3  26.3   26.3   10840   \n",
       "1  KGHM 2000-11-17 10:00:25  100025  26.3  26.3  26.3   26.3    1035   \n",
       "2  KGHM 2000-11-17 10:00:26  100026  26.3  26.3  26.3   26.3      57   \n",
       "3  KGHM 2000-11-17 10:03:29  100329  26.3  26.3  26.3   26.3   20288   \n",
       "4  KGHM 2000-11-17 10:09:28  100928  26.2  26.2  26.2   26.2       9   \n",
       "\n",
       "              TimeNew  \n",
       "0 2000-11-17 10:00:24  \n",
       "1 2000-11-17 10:00:25  \n",
       "2 2000-11-17 10:00:26  \n",
       "3 2000-11-17 10:03:29  \n",
       "4 2000-11-17 10:09:28  "
      ]
     },
     "execution_count": 15,
     "metadata": {},
     "output_type": "execute_result"
    }
   ],
   "source": [
    "df['Date']=df['TimeNew']\n",
    "df.head()"
   ]
  },
  {
   "cell_type": "code",
   "execution_count": 16,
   "metadata": {
    "ExecuteTime": {
     "end_time": "2019-01-11T16:16:20.273841Z",
     "start_time": "2019-01-11T16:16:20.044446Z"
    }
   },
   "outputs": [],
   "source": [
    "df=df.drop(columns=['Time','TimeNew'])"
   ]
  },
  {
   "cell_type": "code",
   "execution_count": 17,
   "metadata": {
    "ExecuteTime": {
     "end_time": "2019-01-11T16:16:20.288025Z",
     "start_time": "2019-01-11T16:16:20.275737Z"
    }
   },
   "outputs": [
    {
     "data": {
      "text/html": [
       "<div>\n",
       "<style scoped>\n",
       "    .dataframe tbody tr th:only-of-type {\n",
       "        vertical-align: middle;\n",
       "    }\n",
       "\n",
       "    .dataframe tbody tr th {\n",
       "        vertical-align: top;\n",
       "    }\n",
       "\n",
       "    .dataframe thead th {\n",
       "        text-align: right;\n",
       "    }\n",
       "</style>\n",
       "<table border=\"1\" class=\"dataframe\">\n",
       "  <thead>\n",
       "    <tr style=\"text-align: right;\">\n",
       "      <th></th>\n",
       "      <th>Name</th>\n",
       "      <th>Date</th>\n",
       "      <th>Open</th>\n",
       "      <th>High</th>\n",
       "      <th>Low</th>\n",
       "      <th>Close</th>\n",
       "      <th>Volume</th>\n",
       "    </tr>\n",
       "  </thead>\n",
       "  <tbody>\n",
       "    <tr>\n",
       "      <th>0</th>\n",
       "      <td>KGHM</td>\n",
       "      <td>2000-11-17 10:00:24</td>\n",
       "      <td>26.3</td>\n",
       "      <td>26.3</td>\n",
       "      <td>26.3</td>\n",
       "      <td>26.3</td>\n",
       "      <td>10840</td>\n",
       "    </tr>\n",
       "    <tr>\n",
       "      <th>1</th>\n",
       "      <td>KGHM</td>\n",
       "      <td>2000-11-17 10:00:25</td>\n",
       "      <td>26.3</td>\n",
       "      <td>26.3</td>\n",
       "      <td>26.3</td>\n",
       "      <td>26.3</td>\n",
       "      <td>1035</td>\n",
       "    </tr>\n",
       "    <tr>\n",
       "      <th>2</th>\n",
       "      <td>KGHM</td>\n",
       "      <td>2000-11-17 10:00:26</td>\n",
       "      <td>26.3</td>\n",
       "      <td>26.3</td>\n",
       "      <td>26.3</td>\n",
       "      <td>26.3</td>\n",
       "      <td>57</td>\n",
       "    </tr>\n",
       "    <tr>\n",
       "      <th>3</th>\n",
       "      <td>KGHM</td>\n",
       "      <td>2000-11-17 10:03:29</td>\n",
       "      <td>26.3</td>\n",
       "      <td>26.3</td>\n",
       "      <td>26.3</td>\n",
       "      <td>26.3</td>\n",
       "      <td>20288</td>\n",
       "    </tr>\n",
       "    <tr>\n",
       "      <th>4</th>\n",
       "      <td>KGHM</td>\n",
       "      <td>2000-11-17 10:09:28</td>\n",
       "      <td>26.2</td>\n",
       "      <td>26.2</td>\n",
       "      <td>26.2</td>\n",
       "      <td>26.2</td>\n",
       "      <td>9</td>\n",
       "    </tr>\n",
       "  </tbody>\n",
       "</table>\n",
       "</div>"
      ],
      "text/plain": [
       "   Name                Date  Open  High   Low  Close  Volume\n",
       "0  KGHM 2000-11-17 10:00:24  26.3  26.3  26.3   26.3   10840\n",
       "1  KGHM 2000-11-17 10:00:25  26.3  26.3  26.3   26.3    1035\n",
       "2  KGHM 2000-11-17 10:00:26  26.3  26.3  26.3   26.3      57\n",
       "3  KGHM 2000-11-17 10:03:29  26.3  26.3  26.3   26.3   20288\n",
       "4  KGHM 2000-11-17 10:09:28  26.2  26.2  26.2   26.2       9"
      ]
     },
     "execution_count": 17,
     "metadata": {},
     "output_type": "execute_result"
    }
   ],
   "source": [
    "df.head()"
   ]
  },
  {
   "cell_type": "markdown",
   "metadata": {},
   "source": [
    "Another time format"
   ]
  },
  {
   "cell_type": "code",
   "execution_count": 18,
   "metadata": {
    "ExecuteTime": {
     "end_time": "2019-01-11T16:16:20.301115Z",
     "start_time": "2019-01-11T16:16:20.290592Z"
    }
   },
   "outputs": [],
   "source": [
    "# df['Date']=pd.to_datetime(df['Date'], format='%Y%m%d')"
   ]
  },
  {
   "cell_type": "code",
   "execution_count": 19,
   "metadata": {
    "ExecuteTime": {
     "end_time": "2019-01-11T16:16:20.312320Z",
     "start_time": "2019-01-11T16:16:20.304193Z"
    }
   },
   "outputs": [],
   "source": [
    "# df['Time']=pd.to_datetime(df['Time'], format='%H%M%S').dt.time"
   ]
  },
  {
   "cell_type": "code",
   "execution_count": 20,
   "metadata": {
    "ExecuteTime": {
     "end_time": "2019-01-11T16:16:20.325967Z",
     "start_time": "2019-01-11T16:16:20.315318Z"
    }
   },
   "outputs": [],
   "source": [
    "# df.head()"
   ]
  },
  {
   "cell_type": "code",
   "execution_count": 21,
   "metadata": {
    "ExecuteTime": {
     "end_time": "2019-01-11T16:16:20.392095Z",
     "start_time": "2019-01-11T16:16:20.331689Z"
    }
   },
   "outputs": [],
   "source": [
    "df[\"CoursChange\"]=df.Open-df.Close.shift(1)"
   ]
  },
  {
   "cell_type": "code",
   "execution_count": 26,
   "metadata": {
    "ExecuteTime": {
     "end_time": "2019-01-11T16:18:13.403900Z",
     "start_time": "2019-01-11T16:18:13.205824Z"
    }
   },
   "outputs": [],
   "source": [
    "df=df[df.CoursChange !=0.0]"
   ]
  },
  {
   "cell_type": "code",
   "execution_count": 27,
   "metadata": {
    "ExecuteTime": {
     "end_time": "2019-01-11T16:18:14.383133Z",
     "start_time": "2019-01-11T16:18:14.369365Z"
    }
   },
   "outputs": [
    {
     "data": {
      "text/html": [
       "<div>\n",
       "<style scoped>\n",
       "    .dataframe tbody tr th:only-of-type {\n",
       "        vertical-align: middle;\n",
       "    }\n",
       "\n",
       "    .dataframe tbody tr th {\n",
       "        vertical-align: top;\n",
       "    }\n",
       "\n",
       "    .dataframe thead th {\n",
       "        text-align: right;\n",
       "    }\n",
       "</style>\n",
       "<table border=\"1\" class=\"dataframe\">\n",
       "  <thead>\n",
       "    <tr style=\"text-align: right;\">\n",
       "      <th></th>\n",
       "      <th>Name</th>\n",
       "      <th>Date</th>\n",
       "      <th>Open</th>\n",
       "      <th>High</th>\n",
       "      <th>Low</th>\n",
       "      <th>Close</th>\n",
       "      <th>Volume</th>\n",
       "      <th>CoursChange</th>\n",
       "    </tr>\n",
       "  </thead>\n",
       "  <tbody>\n",
       "    <tr>\n",
       "      <th>0</th>\n",
       "      <td>KGHM</td>\n",
       "      <td>2000-11-17 10:00:24</td>\n",
       "      <td>26.3</td>\n",
       "      <td>26.3</td>\n",
       "      <td>26.3</td>\n",
       "      <td>26.3</td>\n",
       "      <td>10840</td>\n",
       "      <td>NaN</td>\n",
       "    </tr>\n",
       "    <tr>\n",
       "      <th>4</th>\n",
       "      <td>KGHM</td>\n",
       "      <td>2000-11-17 10:09:28</td>\n",
       "      <td>26.2</td>\n",
       "      <td>26.2</td>\n",
       "      <td>26.2</td>\n",
       "      <td>26.2</td>\n",
       "      <td>9</td>\n",
       "      <td>-0.1</td>\n",
       "    </tr>\n",
       "    <tr>\n",
       "      <th>5</th>\n",
       "      <td>KGHM</td>\n",
       "      <td>2000-11-17 10:11:10</td>\n",
       "      <td>26.3</td>\n",
       "      <td>26.3</td>\n",
       "      <td>26.3</td>\n",
       "      <td>26.3</td>\n",
       "      <td>10000</td>\n",
       "      <td>0.1</td>\n",
       "    </tr>\n",
       "    <tr>\n",
       "      <th>12</th>\n",
       "      <td>KGHM</td>\n",
       "      <td>2000-11-17 10:39:32</td>\n",
       "      <td>26.2</td>\n",
       "      <td>26.2</td>\n",
       "      <td>26.2</td>\n",
       "      <td>26.2</td>\n",
       "      <td>100</td>\n",
       "      <td>-0.1</td>\n",
       "    </tr>\n",
       "    <tr>\n",
       "      <th>13</th>\n",
       "      <td>KGHM</td>\n",
       "      <td>2000-11-17 10:47:47</td>\n",
       "      <td>26.3</td>\n",
       "      <td>26.3</td>\n",
       "      <td>26.3</td>\n",
       "      <td>26.3</td>\n",
       "      <td>185</td>\n",
       "      <td>0.1</td>\n",
       "    </tr>\n",
       "  </tbody>\n",
       "</table>\n",
       "</div>"
      ],
      "text/plain": [
       "    Name                Date  Open  High   Low  Close  Volume  CoursChange\n",
       "0   KGHM 2000-11-17 10:00:24  26.3  26.3  26.3   26.3   10840          NaN\n",
       "4   KGHM 2000-11-17 10:09:28  26.2  26.2  26.2   26.2       9         -0.1\n",
       "5   KGHM 2000-11-17 10:11:10  26.3  26.3  26.3   26.3   10000          0.1\n",
       "12  KGHM 2000-11-17 10:39:32  26.2  26.2  26.2   26.2     100         -0.1\n",
       "13  KGHM 2000-11-17 10:47:47  26.3  26.3  26.3   26.3     185          0.1"
      ]
     },
     "execution_count": 27,
     "metadata": {},
     "output_type": "execute_result"
    }
   ],
   "source": [
    "df.head()"
   ]
  },
  {
   "cell_type": "code",
   "execution_count": 28,
   "metadata": {
    "ExecuteTime": {
     "end_time": "2019-01-11T16:18:17.487138Z",
     "start_time": "2019-01-11T16:18:17.344193Z"
    }
   },
   "outputs": [],
   "source": [
    "ser_diff = df.Date.diff()\n",
    "\n",
    "ser_diff=ser_diff.dt.total_seconds().fillna(0)\n",
    "\n",
    "df['TimeDelta']=ser_diff\n",
    "\n",
    "df.head()\n",
    "\n",
    "\n",
    "\n",
    "df[\"LowHighDiff\"]=df[\"High\"]-df[\"Low\"]\n",
    "df[\"OpenCloseDiff\"]=df[\"Open\"]-df[\"Close\"]\n",
    "\n"
   ]
  },
  {
   "cell_type": "code",
   "execution_count": 29,
   "metadata": {
    "ExecuteTime": {
     "end_time": "2019-01-11T16:18:20.527311Z",
     "start_time": "2019-01-11T16:18:20.409285Z"
    }
   },
   "outputs": [
    {
     "data": {
      "text/html": [
       "<div>\n",
       "<style scoped>\n",
       "    .dataframe tbody tr th:only-of-type {\n",
       "        vertical-align: middle;\n",
       "    }\n",
       "\n",
       "    .dataframe tbody tr th {\n",
       "        vertical-align: top;\n",
       "    }\n",
       "\n",
       "    .dataframe thead th {\n",
       "        text-align: right;\n",
       "    }\n",
       "</style>\n",
       "<table border=\"1\" class=\"dataframe\">\n",
       "  <thead>\n",
       "    <tr style=\"text-align: right;\">\n",
       "      <th></th>\n",
       "      <th>Name</th>\n",
       "      <th>Date</th>\n",
       "      <th>Open</th>\n",
       "      <th>High</th>\n",
       "      <th>Low</th>\n",
       "      <th>Close</th>\n",
       "      <th>Volume</th>\n",
       "      <th>CoursChange</th>\n",
       "      <th>TimeDelta</th>\n",
       "      <th>LowHighDiff</th>\n",
       "      <th>OpenCloseDiff</th>\n",
       "    </tr>\n",
       "  </thead>\n",
       "  <tbody>\n",
       "    <tr>\n",
       "      <th>3371820</th>\n",
       "      <td>KGHM</td>\n",
       "      <td>2014-01-31 09:00:01</td>\n",
       "      <td>108.9</td>\n",
       "      <td>108.9</td>\n",
       "      <td>108.9</td>\n",
       "      <td>108.9</td>\n",
       "      <td>3996</td>\n",
       "      <td>-4.85</td>\n",
       "      <td>1353600.0</td>\n",
       "      <td>0.0</td>\n",
       "      <td>0.0</td>\n",
       "    </tr>\n",
       "  </tbody>\n",
       "</table>\n",
       "</div>"
      ],
      "text/plain": [
       "         Name                Date   Open   High    Low  Close  Volume  \\\n",
       "3371820  KGHM 2014-01-31 09:00:01  108.9  108.9  108.9  108.9    3996   \n",
       "\n",
       "         CoursChange  TimeDelta  LowHighDiff  OpenCloseDiff  \n",
       "3371820        -4.85  1353600.0          0.0            0.0  "
      ]
     },
     "execution_count": 29,
     "metadata": {},
     "output_type": "execute_result"
    }
   ],
   "source": [
    "df[df[\"TimeDelta\"]>800000]"
   ]
  },
  {
   "cell_type": "markdown",
   "metadata": {},
   "source": [
    "Co zrobić z tą wartością?"
   ]
  },
  {
   "cell_type": "code",
   "execution_count": 30,
   "metadata": {
    "ExecuteTime": {
     "end_time": "2019-01-11T16:18:26.565101Z",
     "start_time": "2019-01-11T16:18:26.562393Z"
    }
   },
   "outputs": [],
   "source": [
    "# df=df.drop(df[df[\"TimeDelta\"]>800000].index)"
   ]
  },
  {
   "cell_type": "markdown",
   "metadata": {},
   "source": [
    "## Prepare to predict"
   ]
  },
  {
   "cell_type": "code",
   "execution_count": 31,
   "metadata": {
    "ExecuteTime": {
     "end_time": "2019-01-11T16:18:49.143196Z",
     "start_time": "2019-01-11T16:18:27.800181Z"
    }
   },
   "outputs": [],
   "source": [
    "df.drop(columns=['Name','Open','High','Low','Volume','LowHighDiff','OpenCloseDiff'],inplace=True)\n",
    "\n",
    "df['day']=df['Date'].dt.strftime('%m/%d/%Y')\n",
    "\n",
    "\n",
    "df['month']=(pd.DatetimeIndex(df['Date']).year-2000)*12+pd.DatetimeIndex(df['Date']).month"
   ]
  },
  {
   "cell_type": "code",
   "execution_count": 32,
   "metadata": {
    "ExecuteTime": {
     "end_time": "2019-01-11T16:18:49.169013Z",
     "start_time": "2019-01-11T16:18:49.147295Z"
    }
   },
   "outputs": [
    {
     "data": {
      "text/html": [
       "<div>\n",
       "<style scoped>\n",
       "    .dataframe tbody tr th:only-of-type {\n",
       "        vertical-align: middle;\n",
       "    }\n",
       "\n",
       "    .dataframe tbody tr th {\n",
       "        vertical-align: top;\n",
       "    }\n",
       "\n",
       "    .dataframe thead th {\n",
       "        text-align: right;\n",
       "    }\n",
       "</style>\n",
       "<table border=\"1\" class=\"dataframe\">\n",
       "  <thead>\n",
       "    <tr style=\"text-align: right;\">\n",
       "      <th></th>\n",
       "      <th>Date</th>\n",
       "      <th>Close</th>\n",
       "      <th>CoursChange</th>\n",
       "      <th>TimeDelta</th>\n",
       "      <th>day</th>\n",
       "      <th>month</th>\n",
       "    </tr>\n",
       "  </thead>\n",
       "  <tbody>\n",
       "    <tr>\n",
       "      <th>0</th>\n",
       "      <td>2000-11-17 10:00:24</td>\n",
       "      <td>26.3</td>\n",
       "      <td>NaN</td>\n",
       "      <td>0.0</td>\n",
       "      <td>11/17/2000</td>\n",
       "      <td>11</td>\n",
       "    </tr>\n",
       "    <tr>\n",
       "      <th>4</th>\n",
       "      <td>2000-11-17 10:09:28</td>\n",
       "      <td>26.2</td>\n",
       "      <td>-0.1</td>\n",
       "      <td>544.0</td>\n",
       "      <td>11/17/2000</td>\n",
       "      <td>11</td>\n",
       "    </tr>\n",
       "    <tr>\n",
       "      <th>5</th>\n",
       "      <td>2000-11-17 10:11:10</td>\n",
       "      <td>26.3</td>\n",
       "      <td>0.1</td>\n",
       "      <td>102.0</td>\n",
       "      <td>11/17/2000</td>\n",
       "      <td>11</td>\n",
       "    </tr>\n",
       "    <tr>\n",
       "      <th>12</th>\n",
       "      <td>2000-11-17 10:39:32</td>\n",
       "      <td>26.2</td>\n",
       "      <td>-0.1</td>\n",
       "      <td>1702.0</td>\n",
       "      <td>11/17/2000</td>\n",
       "      <td>11</td>\n",
       "    </tr>\n",
       "    <tr>\n",
       "      <th>13</th>\n",
       "      <td>2000-11-17 10:47:47</td>\n",
       "      <td>26.3</td>\n",
       "      <td>0.1</td>\n",
       "      <td>495.0</td>\n",
       "      <td>11/17/2000</td>\n",
       "      <td>11</td>\n",
       "    </tr>\n",
       "  </tbody>\n",
       "</table>\n",
       "</div>"
      ],
      "text/plain": [
       "                  Date  Close  CoursChange  TimeDelta         day  month\n",
       "0  2000-11-17 10:00:24   26.3          NaN        0.0  11/17/2000     11\n",
       "4  2000-11-17 10:09:28   26.2         -0.1      544.0  11/17/2000     11\n",
       "5  2000-11-17 10:11:10   26.3          0.1      102.0  11/17/2000     11\n",
       "12 2000-11-17 10:39:32   26.2         -0.1     1702.0  11/17/2000     11\n",
       "13 2000-11-17 10:47:47   26.3          0.1      495.0  11/17/2000     11"
      ]
     },
     "execution_count": 32,
     "metadata": {},
     "output_type": "execute_result"
    }
   ],
   "source": [
    "df.head()"
   ]
  },
  {
   "cell_type": "code",
   "execution_count": 33,
   "metadata": {
    "ExecuteTime": {
     "end_time": "2019-01-11T16:18:49.212624Z",
     "start_time": "2019-01-11T16:18:49.172741Z"
    }
   },
   "outputs": [
    {
     "data": {
      "text/html": [
       "<div>\n",
       "<style scoped>\n",
       "    .dataframe tbody tr th:only-of-type {\n",
       "        vertical-align: middle;\n",
       "    }\n",
       "\n",
       "    .dataframe tbody tr th {\n",
       "        vertical-align: top;\n",
       "    }\n",
       "\n",
       "    .dataframe thead th {\n",
       "        text-align: right;\n",
       "    }\n",
       "</style>\n",
       "<table border=\"1\" class=\"dataframe\">\n",
       "  <thead>\n",
       "    <tr style=\"text-align: right;\">\n",
       "      <th></th>\n",
       "      <th>Date</th>\n",
       "      <th>Close</th>\n",
       "      <th>CoursChange</th>\n",
       "      <th>TimeDelta</th>\n",
       "      <th>day</th>\n",
       "      <th>month</th>\n",
       "    </tr>\n",
       "  </thead>\n",
       "  <tbody>\n",
       "    <tr>\n",
       "      <th>5683700</th>\n",
       "      <td>2019-01-09 16:49:45</td>\n",
       "      <td>91.58</td>\n",
       "      <td>-0.12</td>\n",
       "      <td>1.0</td>\n",
       "      <td>01/09/2019</td>\n",
       "      <td>229</td>\n",
       "    </tr>\n",
       "    <tr>\n",
       "      <th>5683701</th>\n",
       "      <td>2019-01-09 16:49:48</td>\n",
       "      <td>91.70</td>\n",
       "      <td>0.12</td>\n",
       "      <td>3.0</td>\n",
       "      <td>01/09/2019</td>\n",
       "      <td>229</td>\n",
       "    </tr>\n",
       "    <tr>\n",
       "      <th>5683702</th>\n",
       "      <td>2019-01-09 16:49:51</td>\n",
       "      <td>91.68</td>\n",
       "      <td>-0.02</td>\n",
       "      <td>3.0</td>\n",
       "      <td>01/09/2019</td>\n",
       "      <td>229</td>\n",
       "    </tr>\n",
       "    <tr>\n",
       "      <th>5683704</th>\n",
       "      <td>2019-01-09 16:49:56</td>\n",
       "      <td>91.70</td>\n",
       "      <td>0.02</td>\n",
       "      <td>5.0</td>\n",
       "      <td>01/09/2019</td>\n",
       "      <td>229</td>\n",
       "    </tr>\n",
       "    <tr>\n",
       "      <th>5683707</th>\n",
       "      <td>2019-01-09 17:00:01</td>\n",
       "      <td>92.00</td>\n",
       "      <td>0.30</td>\n",
       "      <td>605.0</td>\n",
       "      <td>01/09/2019</td>\n",
       "      <td>229</td>\n",
       "    </tr>\n",
       "  </tbody>\n",
       "</table>\n",
       "</div>"
      ],
      "text/plain": [
       "                       Date  Close  CoursChange  TimeDelta         day  month\n",
       "5683700 2019-01-09 16:49:45  91.58        -0.12        1.0  01/09/2019    229\n",
       "5683701 2019-01-09 16:49:48  91.70         0.12        3.0  01/09/2019    229\n",
       "5683702 2019-01-09 16:49:51  91.68        -0.02        3.0  01/09/2019    229\n",
       "5683704 2019-01-09 16:49:56  91.70         0.02        5.0  01/09/2019    229\n",
       "5683707 2019-01-09 17:00:01  92.00         0.30      605.0  01/09/2019    229"
      ]
     },
     "execution_count": 33,
     "metadata": {},
     "output_type": "execute_result"
    }
   ],
   "source": [
    "df.tail()"
   ]
  },
  {
   "cell_type": "code",
   "execution_count": 34,
   "metadata": {
    "ExecuteTime": {
     "end_time": "2019-01-11T16:19:12.834351Z",
     "start_time": "2019-01-11T16:19:11.905696Z"
    }
   },
   "outputs": [],
   "source": [
    "df.to_pickle(save_path)"
   ]
  },
  {
   "cell_type": "code",
   "execution_count": null,
   "metadata": {},
   "outputs": [],
   "source": []
  }
 ],
 "metadata": {
  "kernelspec": {
   "display_name": "Python [default]",
   "language": "python",
   "name": "python3"
  },
  "language_info": {
   "codemirror_mode": {
    "name": "ipython",
    "version": 3
   },
   "file_extension": ".py",
   "mimetype": "text/x-python",
   "name": "python",
   "nbconvert_exporter": "python",
   "pygments_lexer": "ipython3",
   "version": "3.7.0"
  }
 },
 "nbformat": 4,
 "nbformat_minor": 2
}
