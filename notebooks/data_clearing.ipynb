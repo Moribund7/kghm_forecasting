{
 "cells": [
  {
   "cell_type": "code",
   "execution_count": null,
   "metadata": {
    "ExecuteTime": {
     "end_time": "2018-11-09T14:13:18.078288Z",
     "start_time": "2018-11-09T14:13:17.466356Z"
    }
   },
   "outputs": [],
   "source": [
    "import pandas as pd"
   ]
  },
  {
   "cell_type": "code",
   "execution_count": null,
   "metadata": {
    "ExecuteTime": {
     "end_time": "2018-11-09T14:13:18.091169Z",
     "start_time": "2018-11-09T14:13:18.083932Z"
    }
   },
   "outputs": [],
   "source": [
    "data_path='../data/KGHM.prn'\n",
    "save_path='../data/KGHM_clear.csv'\n",
    "column_names=['Name','Cos','Date','Time','Open','High','Low','Close','Volume','Oi']"
   ]
  },
  {
   "cell_type": "code",
   "execution_count": null,
   "metadata": {
    "ExecuteTime": {
     "end_time": "2018-11-09T14:13:43.002784Z",
     "start_time": "2018-11-09T14:13:18.096113Z"
    }
   },
   "outputs": [],
   "source": [
    "df=pd.read_csv(data_path,names=column_names)"
   ]
  },
  {
   "cell_type": "code",
   "execution_count": null,
   "metadata": {
    "ExecuteTime": {
     "end_time": "2018-11-09T14:13:43.063094Z",
     "start_time": "2018-11-09T14:13:43.009963Z"
    }
   },
   "outputs": [],
   "source": [
    "df.head(10)"
   ]
  },
  {
   "cell_type": "code",
   "execution_count": null,
   "metadata": {
    "ExecuteTime": {
     "end_time": "2018-11-09T14:14:57.572352Z",
     "start_time": "2018-11-09T14:14:57.563515Z"
    }
   },
   "outputs": [],
   "source": [
    "df.shape"
   ]
  },
  {
   "cell_type": "code",
   "execution_count": null,
   "metadata": {
    "ExecuteTime": {
     "end_time": "2018-11-09T14:14:58.949810Z",
     "start_time": "2018-11-09T14:14:58.700124Z"
    }
   },
   "outputs": [],
   "source": [
    "df[df['Cos']!=0].shape[0]"
   ]
  },
  {
   "cell_type": "code",
   "execution_count": null,
   "metadata": {
    "ExecuteTime": {
     "end_time": "2018-11-09T14:15:06.019829Z",
     "start_time": "2018-11-09T14:15:05.923940Z"
    }
   },
   "outputs": [],
   "source": [
    "df[df['Oi']!=0].shape[0]"
   ]
  },
  {
   "cell_type": "markdown",
   "metadata": {},
   "source": [
    "Dwie kolumny są puste dla każdego rekordu zatem usuwamy je "
   ]
  },
  {
   "cell_type": "code",
   "execution_count": null,
   "metadata": {
    "ExecuteTime": {
     "end_time": "2018-11-09T14:15:09.457958Z",
     "start_time": "2018-11-09T14:15:09.422715Z"
    }
   },
   "outputs": [],
   "source": [
    "df=df.drop(columns=['Oi','Cos'])"
   ]
  },
  {
   "cell_type": "code",
   "execution_count": null,
   "metadata": {
    "ExecuteTime": {
     "end_time": "2018-11-09T14:15:12.478547Z",
     "start_time": "2018-11-09T14:15:12.440564Z"
    },
    "scrolled": true
   },
   "outputs": [],
   "source": [
    "df.head()"
   ]
  },
  {
   "cell_type": "code",
   "execution_count": null,
   "metadata": {
    "ExecuteTime": {
     "end_time": "2018-11-09T14:15:16.619943Z",
     "start_time": "2018-11-09T14:15:16.585443Z"
    }
   },
   "outputs": [],
   "source": [
    "df_part=df.loc[:100,:]\n",
    "df_part.head()"
   ]
  },
  {
   "cell_type": "code",
   "execution_count": null,
   "metadata": {
    "ExecuteTime": {
     "end_time": "2018-11-09T14:15:25.366123Z",
     "start_time": "2018-11-09T14:15:17.674496Z"
    },
    "scrolled": true
   },
   "outputs": [],
   "source": [
    "df['TimeNew']=df['Date'].map(str)+df['Time'].map(str)\n",
    "df.head()"
   ]
  },
  {
   "cell_type": "code",
   "execution_count": null,
   "metadata": {
    "ExecuteTime": {
     "end_time": "2018-11-09T14:16:31.935591Z",
     "start_time": "2018-11-09T14:15:30.381439Z"
    }
   },
   "outputs": [],
   "source": [
    "df['TimeNew']=pd.to_datetime(df['TimeNew'],format='%Y%m%d%H%M%S')\n",
    "df.head()"
   ]
  },
  {
   "cell_type": "code",
   "execution_count": null,
   "metadata": {
    "ExecuteTime": {
     "end_time": "2018-11-09T14:16:32.225420Z",
     "start_time": "2018-11-09T14:16:31.942033Z"
    }
   },
   "outputs": [],
   "source": [
    "df['Date']=df['TimeNew']\n",
    "df.head()"
   ]
  },
  {
   "cell_type": "code",
   "execution_count": null,
   "metadata": {
    "ExecuteTime": {
     "end_time": "2018-11-09T14:16:43.971502Z",
     "start_time": "2018-11-09T14:16:43.460868Z"
    }
   },
   "outputs": [],
   "source": [
    "df=df.drop(columns=['Time','TimeNew'])"
   ]
  },
  {
   "cell_type": "code",
   "execution_count": null,
   "metadata": {
    "ExecuteTime": {
     "end_time": "2018-11-09T14:16:44.041778Z",
     "start_time": "2018-11-09T14:16:44.007175Z"
    }
   },
   "outputs": [],
   "source": [
    "df.head()"
   ]
  },
  {
   "cell_type": "markdown",
   "metadata": {},
   "source": [
    "Another time format"
   ]
  },
  {
   "cell_type": "code",
   "execution_count": null,
   "metadata": {
    "ExecuteTime": {
     "end_time": "2018-11-09T14:14:52.904865Z",
     "start_time": "2018-11-09T14:13:17.578Z"
    }
   },
   "outputs": [],
   "source": [
    "# df['Date']=pd.to_datetime(df['Date'], format='%Y%m%d')"
   ]
  },
  {
   "cell_type": "code",
   "execution_count": null,
   "metadata": {
    "ExecuteTime": {
     "end_time": "2018-11-09T14:14:52.907777Z",
     "start_time": "2018-11-09T14:13:17.585Z"
    }
   },
   "outputs": [],
   "source": [
    "# df['Time']=pd.to_datetime(df['Time'], format='%H%M%S').dt.time"
   ]
  },
  {
   "cell_type": "code",
   "execution_count": null,
   "metadata": {
    "ExecuteTime": {
     "end_time": "2018-11-09T14:14:52.911082Z",
     "start_time": "2018-11-09T14:13:17.593Z"
    }
   },
   "outputs": [],
   "source": [
    "# df.head()"
   ]
  },
  {
   "cell_type": "code",
   "execution_count": null,
   "metadata": {
    "ExecuteTime": {
     "end_time": "2018-11-09T14:16:49.524808Z",
     "start_time": "2018-11-09T14:16:48.950602Z"
    }
   },
   "outputs": [],
   "source": [
    "ser_diff = df.Date.diff()\n",
    "\n",
    "ser_diff=ser_diff.dt.total_seconds().fillna(0)\n",
    "\n",
    "df['TimeDelta']=ser_diff\n",
    "\n",
    "df.head()\n",
    "\n",
    "df[\"CoursChange\"]=df.Open-df.Close.shift(1)\n",
    "\n",
    "df[\"LowHighDiff\"]=df[\"High\"]-df[\"Low\"]\n",
    "df[\"OpenCloseDiff\"]=df[\"Open\"]-df[\"Close\"]\n",
    "\n"
   ]
  },
  {
   "cell_type": "code",
   "execution_count": null,
   "metadata": {
    "ExecuteTime": {
     "end_time": "2018-11-09T14:16:55.559771Z",
     "start_time": "2018-11-09T14:16:53.226447Z"
    }
   },
   "outputs": [],
   "source": [
    "df[df[\"TimeDelta\"]>800000]"
   ]
  },
  {
   "cell_type": "markdown",
   "metadata": {},
   "source": [
    "Co zrobić z tą wartością?"
   ]
  },
  {
   "cell_type": "code",
   "execution_count": null,
   "metadata": {
    "ExecuteTime": {
     "end_time": "2018-11-09T14:18:22.685368Z",
     "start_time": "2018-11-09T14:18:22.680969Z"
    }
   },
   "outputs": [],
   "source": [
    "# df=df.drop(df[df[\"TimeDelta\"]>800000].index)"
   ]
  },
  {
   "cell_type": "code",
   "execution_count": null,
   "metadata": {
    "ExecuteTime": {
     "end_time": "2018-11-09T14:18:23.655485Z",
     "start_time": "2018-11-09T14:18:23.475523Z"
    }
   },
   "outputs": [],
   "source": [
    "df.head()"
   ]
  },
  {
   "cell_type": "code",
   "execution_count": null,
   "metadata": {
    "ExecuteTime": {
     "end_time": "2018-11-09T14:18:35.542472Z",
     "start_time": "2018-11-09T14:18:24.887678Z"
    }
   },
   "outputs": [],
   "source": [
    "df.to_pickle(save_path)"
   ]
  },
  {
   "cell_type": "code",
   "execution_count": null,
   "metadata": {},
   "outputs": [],
   "source": []
  }
 ],
 "metadata": {
  "kernelspec": {
   "display_name": "Python [default]",
   "language": "python",
   "name": "python3"
  },
  "language_info": {
   "codemirror_mode": {
    "name": "ipython",
    "version": 3
   },
   "file_extension": ".py",
   "mimetype": "text/x-python",
   "name": "python",
   "nbconvert_exporter": "python",
   "pygments_lexer": "ipython3",
   "version": "3.7.0"
  }
 },
 "nbformat": 4,
 "nbformat_minor": 2
}
