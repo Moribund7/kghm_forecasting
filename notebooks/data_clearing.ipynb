{
 "cells": [
  {
   "cell_type": "code",
   "execution_count": 1,
   "metadata": {
    "ExecuteTime": {
     "end_time": "2019-01-26T12:42:48.146486Z",
     "start_time": "2019-01-26T12:42:47.807109Z"
    }
   },
   "outputs": [],
   "source": [
    "import pandas as pd"
   ]
  },
  {
   "cell_type": "code",
   "execution_count": 2,
   "metadata": {
    "ExecuteTime": {
     "end_time": "2019-01-26T12:42:48.153370Z",
     "start_time": "2019-01-26T12:42:48.149054Z"
    }
   },
   "outputs": [],
   "source": [
    "data_path='../data/KGHM.prn'\n",
    "save_path='../data/KGHM_clear.csv'\n",
    "column_names=['Name','Cos','Date','Time','Open','High','Low','Close','Volume','Oi']"
   ]
  },
  {
   "cell_type": "code",
   "execution_count": 3,
   "metadata": {
    "ExecuteTime": {
     "end_time": "2019-01-26T12:42:55.159476Z",
     "start_time": "2019-01-26T12:42:48.183432Z"
    }
   },
   "outputs": [],
   "source": [
    "df=pd.read_csv(data_path,names=column_names)"
   ]
  },
  {
   "cell_type": "code",
   "execution_count": 4,
   "metadata": {
    "ExecuteTime": {
     "end_time": "2019-01-26T12:42:55.213043Z",
     "start_time": "2019-01-26T12:42:55.161755Z"
    }
   },
   "outputs": [
    {
     "data": {
      "text/html": [
       "<div>\n",
       "<style scoped>\n",
       "    .dataframe tbody tr th:only-of-type {\n",
       "        vertical-align: middle;\n",
       "    }\n",
       "\n",
       "    .dataframe tbody tr th {\n",
       "        vertical-align: top;\n",
       "    }\n",
       "\n",
       "    .dataframe thead th {\n",
       "        text-align: right;\n",
       "    }\n",
       "</style>\n",
       "<table border=\"1\" class=\"dataframe\">\n",
       "  <thead>\n",
       "    <tr style=\"text-align: right;\">\n",
       "      <th></th>\n",
       "      <th>Name</th>\n",
       "      <th>Cos</th>\n",
       "      <th>Date</th>\n",
       "      <th>Time</th>\n",
       "      <th>Open</th>\n",
       "      <th>High</th>\n",
       "      <th>Low</th>\n",
       "      <th>Close</th>\n",
       "      <th>Volume</th>\n",
       "      <th>Oi</th>\n",
       "    </tr>\n",
       "  </thead>\n",
       "  <tbody>\n",
       "    <tr>\n",
       "      <th>0</th>\n",
       "      <td>KGHM</td>\n",
       "      <td>0</td>\n",
       "      <td>20001117</td>\n",
       "      <td>100024</td>\n",
       "      <td>26.3</td>\n",
       "      <td>26.3</td>\n",
       "      <td>26.3</td>\n",
       "      <td>26.3</td>\n",
       "      <td>10840</td>\n",
       "      <td>0</td>\n",
       "    </tr>\n",
       "    <tr>\n",
       "      <th>1</th>\n",
       "      <td>KGHM</td>\n",
       "      <td>0</td>\n",
       "      <td>20001117</td>\n",
       "      <td>100025</td>\n",
       "      <td>26.3</td>\n",
       "      <td>26.3</td>\n",
       "      <td>26.3</td>\n",
       "      <td>26.3</td>\n",
       "      <td>1035</td>\n",
       "      <td>0</td>\n",
       "    </tr>\n",
       "    <tr>\n",
       "      <th>2</th>\n",
       "      <td>KGHM</td>\n",
       "      <td>0</td>\n",
       "      <td>20001117</td>\n",
       "      <td>100026</td>\n",
       "      <td>26.3</td>\n",
       "      <td>26.3</td>\n",
       "      <td>26.3</td>\n",
       "      <td>26.3</td>\n",
       "      <td>57</td>\n",
       "      <td>0</td>\n",
       "    </tr>\n",
       "    <tr>\n",
       "      <th>3</th>\n",
       "      <td>KGHM</td>\n",
       "      <td>0</td>\n",
       "      <td>20001117</td>\n",
       "      <td>100329</td>\n",
       "      <td>26.3</td>\n",
       "      <td>26.3</td>\n",
       "      <td>26.3</td>\n",
       "      <td>26.3</td>\n",
       "      <td>20288</td>\n",
       "      <td>0</td>\n",
       "    </tr>\n",
       "    <tr>\n",
       "      <th>4</th>\n",
       "      <td>KGHM</td>\n",
       "      <td>0</td>\n",
       "      <td>20001117</td>\n",
       "      <td>100928</td>\n",
       "      <td>26.2</td>\n",
       "      <td>26.2</td>\n",
       "      <td>26.2</td>\n",
       "      <td>26.2</td>\n",
       "      <td>9</td>\n",
       "      <td>0</td>\n",
       "    </tr>\n",
       "    <tr>\n",
       "      <th>5</th>\n",
       "      <td>KGHM</td>\n",
       "      <td>0</td>\n",
       "      <td>20001117</td>\n",
       "      <td>101110</td>\n",
       "      <td>26.3</td>\n",
       "      <td>26.3</td>\n",
       "      <td>26.3</td>\n",
       "      <td>26.3</td>\n",
       "      <td>10000</td>\n",
       "      <td>0</td>\n",
       "    </tr>\n",
       "    <tr>\n",
       "      <th>6</th>\n",
       "      <td>KGHM</td>\n",
       "      <td>0</td>\n",
       "      <td>20001117</td>\n",
       "      <td>101419</td>\n",
       "      <td>26.3</td>\n",
       "      <td>26.3</td>\n",
       "      <td>26.3</td>\n",
       "      <td>26.3</td>\n",
       "      <td>485</td>\n",
       "      <td>0</td>\n",
       "    </tr>\n",
       "    <tr>\n",
       "      <th>7</th>\n",
       "      <td>KGHM</td>\n",
       "      <td>0</td>\n",
       "      <td>20001117</td>\n",
       "      <td>101429</td>\n",
       "      <td>26.3</td>\n",
       "      <td>26.3</td>\n",
       "      <td>26.3</td>\n",
       "      <td>26.3</td>\n",
       "      <td>15</td>\n",
       "      <td>0</td>\n",
       "    </tr>\n",
       "    <tr>\n",
       "      <th>8</th>\n",
       "      <td>KGHM</td>\n",
       "      <td>0</td>\n",
       "      <td>20001117</td>\n",
       "      <td>102410</td>\n",
       "      <td>26.3</td>\n",
       "      <td>26.3</td>\n",
       "      <td>26.3</td>\n",
       "      <td>26.3</td>\n",
       "      <td>500</td>\n",
       "      <td>0</td>\n",
       "    </tr>\n",
       "    <tr>\n",
       "      <th>9</th>\n",
       "      <td>KGHM</td>\n",
       "      <td>0</td>\n",
       "      <td>20001117</td>\n",
       "      <td>102942</td>\n",
       "      <td>26.3</td>\n",
       "      <td>26.3</td>\n",
       "      <td>26.3</td>\n",
       "      <td>26.3</td>\n",
       "      <td>15</td>\n",
       "      <td>0</td>\n",
       "    </tr>\n",
       "  </tbody>\n",
       "</table>\n",
       "</div>"
      ],
      "text/plain": [
       "   Name  Cos      Date    Time  Open  High   Low  Close  Volume  Oi\n",
       "0  KGHM    0  20001117  100024  26.3  26.3  26.3   26.3   10840   0\n",
       "1  KGHM    0  20001117  100025  26.3  26.3  26.3   26.3    1035   0\n",
       "2  KGHM    0  20001117  100026  26.3  26.3  26.3   26.3      57   0\n",
       "3  KGHM    0  20001117  100329  26.3  26.3  26.3   26.3   20288   0\n",
       "4  KGHM    0  20001117  100928  26.2  26.2  26.2   26.2       9   0\n",
       "5  KGHM    0  20001117  101110  26.3  26.3  26.3   26.3   10000   0\n",
       "6  KGHM    0  20001117  101419  26.3  26.3  26.3   26.3     485   0\n",
       "7  KGHM    0  20001117  101429  26.3  26.3  26.3   26.3      15   0\n",
       "8  KGHM    0  20001117  102410  26.3  26.3  26.3   26.3     500   0\n",
       "9  KGHM    0  20001117  102942  26.3  26.3  26.3   26.3      15   0"
      ]
     },
     "execution_count": 4,
     "metadata": {},
     "output_type": "execute_result"
    }
   ],
   "source": [
    "df.head(10)"
   ]
  },
  {
   "cell_type": "code",
   "execution_count": 5,
   "metadata": {
    "ExecuteTime": {
     "end_time": "2019-01-26T12:42:55.220837Z",
     "start_time": "2019-01-26T12:42:55.215873Z"
    }
   },
   "outputs": [
    {
     "data": {
      "text/plain": [
       "(5683710, 10)"
      ]
     },
     "execution_count": 5,
     "metadata": {},
     "output_type": "execute_result"
    }
   ],
   "source": [
    "df.shape"
   ]
  },
  {
   "cell_type": "code",
   "execution_count": 6,
   "metadata": {
    "ExecuteTime": {
     "end_time": "2019-01-26T12:42:55.248546Z",
     "start_time": "2019-01-26T12:42:55.224299Z"
    }
   },
   "outputs": [
    {
     "data": {
      "text/plain": [
       "0"
      ]
     },
     "execution_count": 6,
     "metadata": {},
     "output_type": "execute_result"
    }
   ],
   "source": [
    "df[df['Cos']!=0].shape[0]"
   ]
  },
  {
   "cell_type": "code",
   "execution_count": 7,
   "metadata": {
    "ExecuteTime": {
     "end_time": "2019-01-26T12:42:55.266070Z",
     "start_time": "2019-01-26T12:42:55.251985Z"
    }
   },
   "outputs": [
    {
     "data": {
      "text/plain": [
       "0"
      ]
     },
     "execution_count": 7,
     "metadata": {},
     "output_type": "execute_result"
    }
   ],
   "source": [
    "df[df['Oi']!=0].shape[0]"
   ]
  },
  {
   "cell_type": "markdown",
   "metadata": {},
   "source": [
    "Dwie kolumny są puste dla każdego rekordu zatem usuwamy je "
   ]
  },
  {
   "cell_type": "code",
   "execution_count": 8,
   "metadata": {
    "ExecuteTime": {
     "end_time": "2019-01-26T12:42:55.509007Z",
     "start_time": "2019-01-26T12:42:55.269296Z"
    }
   },
   "outputs": [],
   "source": [
    "df=df.drop(columns=['Oi','Cos'])"
   ]
  },
  {
   "cell_type": "code",
   "execution_count": 9,
   "metadata": {
    "ExecuteTime": {
     "end_time": "2019-01-26T12:42:55.528327Z",
     "start_time": "2019-01-26T12:42:55.511425Z"
    },
    "scrolled": true
   },
   "outputs": [
    {
     "data": {
      "text/html": [
       "<div>\n",
       "<style scoped>\n",
       "    .dataframe tbody tr th:only-of-type {\n",
       "        vertical-align: middle;\n",
       "    }\n",
       "\n",
       "    .dataframe tbody tr th {\n",
       "        vertical-align: top;\n",
       "    }\n",
       "\n",
       "    .dataframe thead th {\n",
       "        text-align: right;\n",
       "    }\n",
       "</style>\n",
       "<table border=\"1\" class=\"dataframe\">\n",
       "  <thead>\n",
       "    <tr style=\"text-align: right;\">\n",
       "      <th></th>\n",
       "      <th>Name</th>\n",
       "      <th>Date</th>\n",
       "      <th>Time</th>\n",
       "      <th>Open</th>\n",
       "      <th>High</th>\n",
       "      <th>Low</th>\n",
       "      <th>Close</th>\n",
       "      <th>Volume</th>\n",
       "    </tr>\n",
       "  </thead>\n",
       "  <tbody>\n",
       "    <tr>\n",
       "      <th>0</th>\n",
       "      <td>KGHM</td>\n",
       "      <td>20001117</td>\n",
       "      <td>100024</td>\n",
       "      <td>26.3</td>\n",
       "      <td>26.3</td>\n",
       "      <td>26.3</td>\n",
       "      <td>26.3</td>\n",
       "      <td>10840</td>\n",
       "    </tr>\n",
       "    <tr>\n",
       "      <th>1</th>\n",
       "      <td>KGHM</td>\n",
       "      <td>20001117</td>\n",
       "      <td>100025</td>\n",
       "      <td>26.3</td>\n",
       "      <td>26.3</td>\n",
       "      <td>26.3</td>\n",
       "      <td>26.3</td>\n",
       "      <td>1035</td>\n",
       "    </tr>\n",
       "    <tr>\n",
       "      <th>2</th>\n",
       "      <td>KGHM</td>\n",
       "      <td>20001117</td>\n",
       "      <td>100026</td>\n",
       "      <td>26.3</td>\n",
       "      <td>26.3</td>\n",
       "      <td>26.3</td>\n",
       "      <td>26.3</td>\n",
       "      <td>57</td>\n",
       "    </tr>\n",
       "    <tr>\n",
       "      <th>3</th>\n",
       "      <td>KGHM</td>\n",
       "      <td>20001117</td>\n",
       "      <td>100329</td>\n",
       "      <td>26.3</td>\n",
       "      <td>26.3</td>\n",
       "      <td>26.3</td>\n",
       "      <td>26.3</td>\n",
       "      <td>20288</td>\n",
       "    </tr>\n",
       "    <tr>\n",
       "      <th>4</th>\n",
       "      <td>KGHM</td>\n",
       "      <td>20001117</td>\n",
       "      <td>100928</td>\n",
       "      <td>26.2</td>\n",
       "      <td>26.2</td>\n",
       "      <td>26.2</td>\n",
       "      <td>26.2</td>\n",
       "      <td>9</td>\n",
       "    </tr>\n",
       "  </tbody>\n",
       "</table>\n",
       "</div>"
      ],
      "text/plain": [
       "   Name      Date    Time  Open  High   Low  Close  Volume\n",
       "0  KGHM  20001117  100024  26.3  26.3  26.3   26.3   10840\n",
       "1  KGHM  20001117  100025  26.3  26.3  26.3   26.3    1035\n",
       "2  KGHM  20001117  100026  26.3  26.3  26.3   26.3      57\n",
       "3  KGHM  20001117  100329  26.3  26.3  26.3   26.3   20288\n",
       "4  KGHM  20001117  100928  26.2  26.2  26.2   26.2       9"
      ]
     },
     "execution_count": 9,
     "metadata": {},
     "output_type": "execute_result"
    }
   ],
   "source": [
    "df.head()"
   ]
  },
  {
   "cell_type": "code",
   "execution_count": 10,
   "metadata": {
    "ExecuteTime": {
     "end_time": "2019-01-26T12:42:55.580873Z",
     "start_time": "2019-01-26T12:42:55.532218Z"
    }
   },
   "outputs": [
    {
     "data": {
      "text/html": [
       "<div>\n",
       "<style scoped>\n",
       "    .dataframe tbody tr th:only-of-type {\n",
       "        vertical-align: middle;\n",
       "    }\n",
       "\n",
       "    .dataframe tbody tr th {\n",
       "        vertical-align: top;\n",
       "    }\n",
       "\n",
       "    .dataframe thead th {\n",
       "        text-align: right;\n",
       "    }\n",
       "</style>\n",
       "<table border=\"1\" class=\"dataframe\">\n",
       "  <thead>\n",
       "    <tr style=\"text-align: right;\">\n",
       "      <th></th>\n",
       "      <th>Name</th>\n",
       "      <th>Date</th>\n",
       "      <th>Time</th>\n",
       "      <th>Open</th>\n",
       "      <th>High</th>\n",
       "      <th>Low</th>\n",
       "      <th>Close</th>\n",
       "      <th>Volume</th>\n",
       "    </tr>\n",
       "  </thead>\n",
       "  <tbody>\n",
       "    <tr>\n",
       "      <th>0</th>\n",
       "      <td>KGHM</td>\n",
       "      <td>20001117</td>\n",
       "      <td>100024</td>\n",
       "      <td>26.3</td>\n",
       "      <td>26.3</td>\n",
       "      <td>26.3</td>\n",
       "      <td>26.3</td>\n",
       "      <td>10840</td>\n",
       "    </tr>\n",
       "    <tr>\n",
       "      <th>1</th>\n",
       "      <td>KGHM</td>\n",
       "      <td>20001117</td>\n",
       "      <td>100025</td>\n",
       "      <td>26.3</td>\n",
       "      <td>26.3</td>\n",
       "      <td>26.3</td>\n",
       "      <td>26.3</td>\n",
       "      <td>1035</td>\n",
       "    </tr>\n",
       "    <tr>\n",
       "      <th>2</th>\n",
       "      <td>KGHM</td>\n",
       "      <td>20001117</td>\n",
       "      <td>100026</td>\n",
       "      <td>26.3</td>\n",
       "      <td>26.3</td>\n",
       "      <td>26.3</td>\n",
       "      <td>26.3</td>\n",
       "      <td>57</td>\n",
       "    </tr>\n",
       "    <tr>\n",
       "      <th>3</th>\n",
       "      <td>KGHM</td>\n",
       "      <td>20001117</td>\n",
       "      <td>100329</td>\n",
       "      <td>26.3</td>\n",
       "      <td>26.3</td>\n",
       "      <td>26.3</td>\n",
       "      <td>26.3</td>\n",
       "      <td>20288</td>\n",
       "    </tr>\n",
       "    <tr>\n",
       "      <th>4</th>\n",
       "      <td>KGHM</td>\n",
       "      <td>20001117</td>\n",
       "      <td>100928</td>\n",
       "      <td>26.2</td>\n",
       "      <td>26.2</td>\n",
       "      <td>26.2</td>\n",
       "      <td>26.2</td>\n",
       "      <td>9</td>\n",
       "    </tr>\n",
       "  </tbody>\n",
       "</table>\n",
       "</div>"
      ],
      "text/plain": [
       "   Name      Date    Time  Open  High   Low  Close  Volume\n",
       "0  KGHM  20001117  100024  26.3  26.3  26.3   26.3   10840\n",
       "1  KGHM  20001117  100025  26.3  26.3  26.3   26.3    1035\n",
       "2  KGHM  20001117  100026  26.3  26.3  26.3   26.3      57\n",
       "3  KGHM  20001117  100329  26.3  26.3  26.3   26.3   20288\n",
       "4  KGHM  20001117  100928  26.2  26.2  26.2   26.2       9"
      ]
     },
     "execution_count": 10,
     "metadata": {},
     "output_type": "execute_result"
    }
   ],
   "source": [
    "df_part=df.loc[:100,:]\n",
    "df_part.head()"
   ]
  },
  {
   "cell_type": "code",
   "execution_count": 11,
   "metadata": {
    "ExecuteTime": {
     "end_time": "2019-01-26T12:43:00.154667Z",
     "start_time": "2019-01-26T12:42:55.583889Z"
    },
    "scrolled": true
   },
   "outputs": [
    {
     "data": {
      "text/html": [
       "<div>\n",
       "<style scoped>\n",
       "    .dataframe tbody tr th:only-of-type {\n",
       "        vertical-align: middle;\n",
       "    }\n",
       "\n",
       "    .dataframe tbody tr th {\n",
       "        vertical-align: top;\n",
       "    }\n",
       "\n",
       "    .dataframe thead th {\n",
       "        text-align: right;\n",
       "    }\n",
       "</style>\n",
       "<table border=\"1\" class=\"dataframe\">\n",
       "  <thead>\n",
       "    <tr style=\"text-align: right;\">\n",
       "      <th></th>\n",
       "      <th>Name</th>\n",
       "      <th>Date</th>\n",
       "      <th>Time</th>\n",
       "      <th>Open</th>\n",
       "      <th>High</th>\n",
       "      <th>Low</th>\n",
       "      <th>Close</th>\n",
       "      <th>Volume</th>\n",
       "      <th>TimeNew</th>\n",
       "    </tr>\n",
       "  </thead>\n",
       "  <tbody>\n",
       "    <tr>\n",
       "      <th>0</th>\n",
       "      <td>KGHM</td>\n",
       "      <td>20001117</td>\n",
       "      <td>100024</td>\n",
       "      <td>26.3</td>\n",
       "      <td>26.3</td>\n",
       "      <td>26.3</td>\n",
       "      <td>26.3</td>\n",
       "      <td>10840</td>\n",
       "      <td>20001117100024</td>\n",
       "    </tr>\n",
       "    <tr>\n",
       "      <th>1</th>\n",
       "      <td>KGHM</td>\n",
       "      <td>20001117</td>\n",
       "      <td>100025</td>\n",
       "      <td>26.3</td>\n",
       "      <td>26.3</td>\n",
       "      <td>26.3</td>\n",
       "      <td>26.3</td>\n",
       "      <td>1035</td>\n",
       "      <td>20001117100025</td>\n",
       "    </tr>\n",
       "    <tr>\n",
       "      <th>2</th>\n",
       "      <td>KGHM</td>\n",
       "      <td>20001117</td>\n",
       "      <td>100026</td>\n",
       "      <td>26.3</td>\n",
       "      <td>26.3</td>\n",
       "      <td>26.3</td>\n",
       "      <td>26.3</td>\n",
       "      <td>57</td>\n",
       "      <td>20001117100026</td>\n",
       "    </tr>\n",
       "    <tr>\n",
       "      <th>3</th>\n",
       "      <td>KGHM</td>\n",
       "      <td>20001117</td>\n",
       "      <td>100329</td>\n",
       "      <td>26.3</td>\n",
       "      <td>26.3</td>\n",
       "      <td>26.3</td>\n",
       "      <td>26.3</td>\n",
       "      <td>20288</td>\n",
       "      <td>20001117100329</td>\n",
       "    </tr>\n",
       "    <tr>\n",
       "      <th>4</th>\n",
       "      <td>KGHM</td>\n",
       "      <td>20001117</td>\n",
       "      <td>100928</td>\n",
       "      <td>26.2</td>\n",
       "      <td>26.2</td>\n",
       "      <td>26.2</td>\n",
       "      <td>26.2</td>\n",
       "      <td>9</td>\n",
       "      <td>20001117100928</td>\n",
       "    </tr>\n",
       "  </tbody>\n",
       "</table>\n",
       "</div>"
      ],
      "text/plain": [
       "   Name      Date    Time  Open  High   Low  Close  Volume         TimeNew\n",
       "0  KGHM  20001117  100024  26.3  26.3  26.3   26.3   10840  20001117100024\n",
       "1  KGHM  20001117  100025  26.3  26.3  26.3   26.3    1035  20001117100025\n",
       "2  KGHM  20001117  100026  26.3  26.3  26.3   26.3      57  20001117100026\n",
       "3  KGHM  20001117  100329  26.3  26.3  26.3   26.3   20288  20001117100329\n",
       "4  KGHM  20001117  100928  26.2  26.2  26.2   26.2       9  20001117100928"
      ]
     },
     "execution_count": 11,
     "metadata": {},
     "output_type": "execute_result"
    }
   ],
   "source": [
    "df['TimeNew']=df['Date'].map(str)+df['Time'].map(str)\n",
    "df.head()"
   ]
  },
  {
   "cell_type": "code",
   "execution_count": 12,
   "metadata": {
    "ExecuteTime": {
     "end_time": "2019-01-26T12:43:32.964782Z",
     "start_time": "2019-01-26T12:43:00.158881Z"
    }
   },
   "outputs": [
    {
     "data": {
      "text/html": [
       "<div>\n",
       "<style scoped>\n",
       "    .dataframe tbody tr th:only-of-type {\n",
       "        vertical-align: middle;\n",
       "    }\n",
       "\n",
       "    .dataframe tbody tr th {\n",
       "        vertical-align: top;\n",
       "    }\n",
       "\n",
       "    .dataframe thead th {\n",
       "        text-align: right;\n",
       "    }\n",
       "</style>\n",
       "<table border=\"1\" class=\"dataframe\">\n",
       "  <thead>\n",
       "    <tr style=\"text-align: right;\">\n",
       "      <th></th>\n",
       "      <th>Name</th>\n",
       "      <th>Date</th>\n",
       "      <th>Time</th>\n",
       "      <th>Open</th>\n",
       "      <th>High</th>\n",
       "      <th>Low</th>\n",
       "      <th>Close</th>\n",
       "      <th>Volume</th>\n",
       "      <th>TimeNew</th>\n",
       "    </tr>\n",
       "  </thead>\n",
       "  <tbody>\n",
       "    <tr>\n",
       "      <th>0</th>\n",
       "      <td>KGHM</td>\n",
       "      <td>20001117</td>\n",
       "      <td>100024</td>\n",
       "      <td>26.3</td>\n",
       "      <td>26.3</td>\n",
       "      <td>26.3</td>\n",
       "      <td>26.3</td>\n",
       "      <td>10840</td>\n",
       "      <td>2000-11-17 10:00:24</td>\n",
       "    </tr>\n",
       "    <tr>\n",
       "      <th>1</th>\n",
       "      <td>KGHM</td>\n",
       "      <td>20001117</td>\n",
       "      <td>100025</td>\n",
       "      <td>26.3</td>\n",
       "      <td>26.3</td>\n",
       "      <td>26.3</td>\n",
       "      <td>26.3</td>\n",
       "      <td>1035</td>\n",
       "      <td>2000-11-17 10:00:25</td>\n",
       "    </tr>\n",
       "    <tr>\n",
       "      <th>2</th>\n",
       "      <td>KGHM</td>\n",
       "      <td>20001117</td>\n",
       "      <td>100026</td>\n",
       "      <td>26.3</td>\n",
       "      <td>26.3</td>\n",
       "      <td>26.3</td>\n",
       "      <td>26.3</td>\n",
       "      <td>57</td>\n",
       "      <td>2000-11-17 10:00:26</td>\n",
       "    </tr>\n",
       "    <tr>\n",
       "      <th>3</th>\n",
       "      <td>KGHM</td>\n",
       "      <td>20001117</td>\n",
       "      <td>100329</td>\n",
       "      <td>26.3</td>\n",
       "      <td>26.3</td>\n",
       "      <td>26.3</td>\n",
       "      <td>26.3</td>\n",
       "      <td>20288</td>\n",
       "      <td>2000-11-17 10:03:29</td>\n",
       "    </tr>\n",
       "    <tr>\n",
       "      <th>4</th>\n",
       "      <td>KGHM</td>\n",
       "      <td>20001117</td>\n",
       "      <td>100928</td>\n",
       "      <td>26.2</td>\n",
       "      <td>26.2</td>\n",
       "      <td>26.2</td>\n",
       "      <td>26.2</td>\n",
       "      <td>9</td>\n",
       "      <td>2000-11-17 10:09:28</td>\n",
       "    </tr>\n",
       "  </tbody>\n",
       "</table>\n",
       "</div>"
      ],
      "text/plain": [
       "   Name      Date    Time  Open  High   Low  Close  Volume             TimeNew\n",
       "0  KGHM  20001117  100024  26.3  26.3  26.3   26.3   10840 2000-11-17 10:00:24\n",
       "1  KGHM  20001117  100025  26.3  26.3  26.3   26.3    1035 2000-11-17 10:00:25\n",
       "2  KGHM  20001117  100026  26.3  26.3  26.3   26.3      57 2000-11-17 10:00:26\n",
       "3  KGHM  20001117  100329  26.3  26.3  26.3   26.3   20288 2000-11-17 10:03:29\n",
       "4  KGHM  20001117  100928  26.2  26.2  26.2   26.2       9 2000-11-17 10:09:28"
      ]
     },
     "execution_count": 12,
     "metadata": {},
     "output_type": "execute_result"
    }
   ],
   "source": [
    "df['TimeNew']=pd.to_datetime(df['TimeNew'],format='%Y%m%d%H%M%S')\n",
    "df.head()"
   ]
  },
  {
   "cell_type": "code",
   "execution_count": 13,
   "metadata": {
    "ExecuteTime": {
     "end_time": "2019-01-26T12:43:33.039002Z",
     "start_time": "2019-01-26T12:43:32.970883Z"
    }
   },
   "outputs": [
    {
     "data": {
      "text/html": [
       "<div>\n",
       "<style scoped>\n",
       "    .dataframe tbody tr th:only-of-type {\n",
       "        vertical-align: middle;\n",
       "    }\n",
       "\n",
       "    .dataframe tbody tr th {\n",
       "        vertical-align: top;\n",
       "    }\n",
       "\n",
       "    .dataframe thead th {\n",
       "        text-align: right;\n",
       "    }\n",
       "</style>\n",
       "<table border=\"1\" class=\"dataframe\">\n",
       "  <thead>\n",
       "    <tr style=\"text-align: right;\">\n",
       "      <th></th>\n",
       "      <th>Name</th>\n",
       "      <th>Date</th>\n",
       "      <th>Time</th>\n",
       "      <th>Open</th>\n",
       "      <th>High</th>\n",
       "      <th>Low</th>\n",
       "      <th>Close</th>\n",
       "      <th>Volume</th>\n",
       "      <th>TimeNew</th>\n",
       "    </tr>\n",
       "  </thead>\n",
       "  <tbody>\n",
       "    <tr>\n",
       "      <th>0</th>\n",
       "      <td>KGHM</td>\n",
       "      <td>2000-11-17 10:00:24</td>\n",
       "      <td>100024</td>\n",
       "      <td>26.3</td>\n",
       "      <td>26.3</td>\n",
       "      <td>26.3</td>\n",
       "      <td>26.3</td>\n",
       "      <td>10840</td>\n",
       "      <td>2000-11-17 10:00:24</td>\n",
       "    </tr>\n",
       "    <tr>\n",
       "      <th>1</th>\n",
       "      <td>KGHM</td>\n",
       "      <td>2000-11-17 10:00:25</td>\n",
       "      <td>100025</td>\n",
       "      <td>26.3</td>\n",
       "      <td>26.3</td>\n",
       "      <td>26.3</td>\n",
       "      <td>26.3</td>\n",
       "      <td>1035</td>\n",
       "      <td>2000-11-17 10:00:25</td>\n",
       "    </tr>\n",
       "    <tr>\n",
       "      <th>2</th>\n",
       "      <td>KGHM</td>\n",
       "      <td>2000-11-17 10:00:26</td>\n",
       "      <td>100026</td>\n",
       "      <td>26.3</td>\n",
       "      <td>26.3</td>\n",
       "      <td>26.3</td>\n",
       "      <td>26.3</td>\n",
       "      <td>57</td>\n",
       "      <td>2000-11-17 10:00:26</td>\n",
       "    </tr>\n",
       "    <tr>\n",
       "      <th>3</th>\n",
       "      <td>KGHM</td>\n",
       "      <td>2000-11-17 10:03:29</td>\n",
       "      <td>100329</td>\n",
       "      <td>26.3</td>\n",
       "      <td>26.3</td>\n",
       "      <td>26.3</td>\n",
       "      <td>26.3</td>\n",
       "      <td>20288</td>\n",
       "      <td>2000-11-17 10:03:29</td>\n",
       "    </tr>\n",
       "    <tr>\n",
       "      <th>4</th>\n",
       "      <td>KGHM</td>\n",
       "      <td>2000-11-17 10:09:28</td>\n",
       "      <td>100928</td>\n",
       "      <td>26.2</td>\n",
       "      <td>26.2</td>\n",
       "      <td>26.2</td>\n",
       "      <td>26.2</td>\n",
       "      <td>9</td>\n",
       "      <td>2000-11-17 10:09:28</td>\n",
       "    </tr>\n",
       "  </tbody>\n",
       "</table>\n",
       "</div>"
      ],
      "text/plain": [
       "   Name                Date    Time  Open  High   Low  Close  Volume  \\\n",
       "0  KGHM 2000-11-17 10:00:24  100024  26.3  26.3  26.3   26.3   10840   \n",
       "1  KGHM 2000-11-17 10:00:25  100025  26.3  26.3  26.3   26.3    1035   \n",
       "2  KGHM 2000-11-17 10:00:26  100026  26.3  26.3  26.3   26.3      57   \n",
       "3  KGHM 2000-11-17 10:03:29  100329  26.3  26.3  26.3   26.3   20288   \n",
       "4  KGHM 2000-11-17 10:09:28  100928  26.2  26.2  26.2   26.2       9   \n",
       "\n",
       "              TimeNew  \n",
       "0 2000-11-17 10:00:24  \n",
       "1 2000-11-17 10:00:25  \n",
       "2 2000-11-17 10:00:26  \n",
       "3 2000-11-17 10:03:29  \n",
       "4 2000-11-17 10:09:28  "
      ]
     },
     "execution_count": 13,
     "metadata": {},
     "output_type": "execute_result"
    }
   ],
   "source": [
    "df['Date']=df['TimeNew']\n",
    "df.head()"
   ]
  },
  {
   "cell_type": "code",
   "execution_count": 14,
   "metadata": {
    "ExecuteTime": {
     "end_time": "2019-01-26T12:43:33.410513Z",
     "start_time": "2019-01-26T12:43:33.043554Z"
    }
   },
   "outputs": [],
   "source": [
    "df=df.drop(columns=['Time','TimeNew'])"
   ]
  },
  {
   "cell_type": "code",
   "execution_count": 15,
   "metadata": {
    "ExecuteTime": {
     "end_time": "2019-01-26T12:43:33.442427Z",
     "start_time": "2019-01-26T12:43:33.413550Z"
    }
   },
   "outputs": [
    {
     "data": {
      "text/html": [
       "<div>\n",
       "<style scoped>\n",
       "    .dataframe tbody tr th:only-of-type {\n",
       "        vertical-align: middle;\n",
       "    }\n",
       "\n",
       "    .dataframe tbody tr th {\n",
       "        vertical-align: top;\n",
       "    }\n",
       "\n",
       "    .dataframe thead th {\n",
       "        text-align: right;\n",
       "    }\n",
       "</style>\n",
       "<table border=\"1\" class=\"dataframe\">\n",
       "  <thead>\n",
       "    <tr style=\"text-align: right;\">\n",
       "      <th></th>\n",
       "      <th>Name</th>\n",
       "      <th>Date</th>\n",
       "      <th>Open</th>\n",
       "      <th>High</th>\n",
       "      <th>Low</th>\n",
       "      <th>Close</th>\n",
       "      <th>Volume</th>\n",
       "    </tr>\n",
       "  </thead>\n",
       "  <tbody>\n",
       "    <tr>\n",
       "      <th>0</th>\n",
       "      <td>KGHM</td>\n",
       "      <td>2000-11-17 10:00:24</td>\n",
       "      <td>26.3</td>\n",
       "      <td>26.3</td>\n",
       "      <td>26.3</td>\n",
       "      <td>26.3</td>\n",
       "      <td>10840</td>\n",
       "    </tr>\n",
       "    <tr>\n",
       "      <th>1</th>\n",
       "      <td>KGHM</td>\n",
       "      <td>2000-11-17 10:00:25</td>\n",
       "      <td>26.3</td>\n",
       "      <td>26.3</td>\n",
       "      <td>26.3</td>\n",
       "      <td>26.3</td>\n",
       "      <td>1035</td>\n",
       "    </tr>\n",
       "    <tr>\n",
       "      <th>2</th>\n",
       "      <td>KGHM</td>\n",
       "      <td>2000-11-17 10:00:26</td>\n",
       "      <td>26.3</td>\n",
       "      <td>26.3</td>\n",
       "      <td>26.3</td>\n",
       "      <td>26.3</td>\n",
       "      <td>57</td>\n",
       "    </tr>\n",
       "    <tr>\n",
       "      <th>3</th>\n",
       "      <td>KGHM</td>\n",
       "      <td>2000-11-17 10:03:29</td>\n",
       "      <td>26.3</td>\n",
       "      <td>26.3</td>\n",
       "      <td>26.3</td>\n",
       "      <td>26.3</td>\n",
       "      <td>20288</td>\n",
       "    </tr>\n",
       "    <tr>\n",
       "      <th>4</th>\n",
       "      <td>KGHM</td>\n",
       "      <td>2000-11-17 10:09:28</td>\n",
       "      <td>26.2</td>\n",
       "      <td>26.2</td>\n",
       "      <td>26.2</td>\n",
       "      <td>26.2</td>\n",
       "      <td>9</td>\n",
       "    </tr>\n",
       "  </tbody>\n",
       "</table>\n",
       "</div>"
      ],
      "text/plain": [
       "   Name                Date  Open  High   Low  Close  Volume\n",
       "0  KGHM 2000-11-17 10:00:24  26.3  26.3  26.3   26.3   10840\n",
       "1  KGHM 2000-11-17 10:00:25  26.3  26.3  26.3   26.3    1035\n",
       "2  KGHM 2000-11-17 10:00:26  26.3  26.3  26.3   26.3      57\n",
       "3  KGHM 2000-11-17 10:03:29  26.3  26.3  26.3   26.3   20288\n",
       "4  KGHM 2000-11-17 10:09:28  26.2  26.2  26.2   26.2       9"
      ]
     },
     "execution_count": 15,
     "metadata": {},
     "output_type": "execute_result"
    }
   ],
   "source": [
    "df.head()"
   ]
  },
  {
   "cell_type": "markdown",
   "metadata": {},
   "source": [
    "Another time format"
   ]
  },
  {
   "cell_type": "code",
   "execution_count": 16,
   "metadata": {
    "ExecuteTime": {
     "end_time": "2019-01-26T12:43:33.452311Z",
     "start_time": "2019-01-26T12:43:33.446993Z"
    }
   },
   "outputs": [],
   "source": [
    "# df['Date']=pd.to_datetime(df['Date'], format='%Y%m%d')"
   ]
  },
  {
   "cell_type": "code",
   "execution_count": 17,
   "metadata": {
    "ExecuteTime": {
     "end_time": "2019-01-26T12:43:33.466205Z",
     "start_time": "2019-01-26T12:43:33.456827Z"
    }
   },
   "outputs": [],
   "source": [
    "# df['Time']=pd.to_datetime(df['Time'], format='%H%M%S').dt.time"
   ]
  },
  {
   "cell_type": "code",
   "execution_count": 18,
   "metadata": {
    "ExecuteTime": {
     "end_time": "2019-01-26T12:43:33.476702Z",
     "start_time": "2019-01-26T12:43:33.471049Z"
    }
   },
   "outputs": [],
   "source": [
    "# df.head()"
   ]
  },
  {
   "cell_type": "code",
   "execution_count": 19,
   "metadata": {
    "ExecuteTime": {
     "end_time": "2019-01-26T12:43:33.567287Z",
     "start_time": "2019-01-26T12:43:33.481564Z"
    }
   },
   "outputs": [],
   "source": [
    "df[\"CoursChange\"]=df.Open-df.Close.shift(1)"
   ]
  },
  {
   "cell_type": "code",
   "execution_count": 20,
   "metadata": {
    "ExecuteTime": {
     "end_time": "2019-01-26T12:43:34.014149Z",
     "start_time": "2019-01-26T12:43:33.570776Z"
    }
   },
   "outputs": [],
   "source": [
    "df=df[df.CoursChange !=0.0]"
   ]
  },
  {
   "cell_type": "code",
   "execution_count": 21,
   "metadata": {
    "ExecuteTime": {
     "end_time": "2019-01-26T12:43:34.039049Z",
     "start_time": "2019-01-26T12:43:34.016179Z"
    }
   },
   "outputs": [
    {
     "data": {
      "text/html": [
       "<div>\n",
       "<style scoped>\n",
       "    .dataframe tbody tr th:only-of-type {\n",
       "        vertical-align: middle;\n",
       "    }\n",
       "\n",
       "    .dataframe tbody tr th {\n",
       "        vertical-align: top;\n",
       "    }\n",
       "\n",
       "    .dataframe thead th {\n",
       "        text-align: right;\n",
       "    }\n",
       "</style>\n",
       "<table border=\"1\" class=\"dataframe\">\n",
       "  <thead>\n",
       "    <tr style=\"text-align: right;\">\n",
       "      <th></th>\n",
       "      <th>Name</th>\n",
       "      <th>Date</th>\n",
       "      <th>Open</th>\n",
       "      <th>High</th>\n",
       "      <th>Low</th>\n",
       "      <th>Close</th>\n",
       "      <th>Volume</th>\n",
       "      <th>CoursChange</th>\n",
       "    </tr>\n",
       "  </thead>\n",
       "  <tbody>\n",
       "    <tr>\n",
       "      <th>0</th>\n",
       "      <td>KGHM</td>\n",
       "      <td>2000-11-17 10:00:24</td>\n",
       "      <td>26.3</td>\n",
       "      <td>26.3</td>\n",
       "      <td>26.3</td>\n",
       "      <td>26.3</td>\n",
       "      <td>10840</td>\n",
       "      <td>NaN</td>\n",
       "    </tr>\n",
       "    <tr>\n",
       "      <th>4</th>\n",
       "      <td>KGHM</td>\n",
       "      <td>2000-11-17 10:09:28</td>\n",
       "      <td>26.2</td>\n",
       "      <td>26.2</td>\n",
       "      <td>26.2</td>\n",
       "      <td>26.2</td>\n",
       "      <td>9</td>\n",
       "      <td>-0.1</td>\n",
       "    </tr>\n",
       "    <tr>\n",
       "      <th>5</th>\n",
       "      <td>KGHM</td>\n",
       "      <td>2000-11-17 10:11:10</td>\n",
       "      <td>26.3</td>\n",
       "      <td>26.3</td>\n",
       "      <td>26.3</td>\n",
       "      <td>26.3</td>\n",
       "      <td>10000</td>\n",
       "      <td>0.1</td>\n",
       "    </tr>\n",
       "    <tr>\n",
       "      <th>12</th>\n",
       "      <td>KGHM</td>\n",
       "      <td>2000-11-17 10:39:32</td>\n",
       "      <td>26.2</td>\n",
       "      <td>26.2</td>\n",
       "      <td>26.2</td>\n",
       "      <td>26.2</td>\n",
       "      <td>100</td>\n",
       "      <td>-0.1</td>\n",
       "    </tr>\n",
       "    <tr>\n",
       "      <th>13</th>\n",
       "      <td>KGHM</td>\n",
       "      <td>2000-11-17 10:47:47</td>\n",
       "      <td>26.3</td>\n",
       "      <td>26.3</td>\n",
       "      <td>26.3</td>\n",
       "      <td>26.3</td>\n",
       "      <td>185</td>\n",
       "      <td>0.1</td>\n",
       "    </tr>\n",
       "  </tbody>\n",
       "</table>\n",
       "</div>"
      ],
      "text/plain": [
       "    Name                Date  Open  High   Low  Close  Volume  CoursChange\n",
       "0   KGHM 2000-11-17 10:00:24  26.3  26.3  26.3   26.3   10840          NaN\n",
       "4   KGHM 2000-11-17 10:09:28  26.2  26.2  26.2   26.2       9         -0.1\n",
       "5   KGHM 2000-11-17 10:11:10  26.3  26.3  26.3   26.3   10000          0.1\n",
       "12  KGHM 2000-11-17 10:39:32  26.2  26.2  26.2   26.2     100         -0.1\n",
       "13  KGHM 2000-11-17 10:47:47  26.3  26.3  26.3   26.3     185          0.1"
      ]
     },
     "execution_count": 21,
     "metadata": {},
     "output_type": "execute_result"
    }
   ],
   "source": [
    "df.head()"
   ]
  },
  {
   "cell_type": "code",
   "execution_count": 22,
   "metadata": {
    "ExecuteTime": {
     "end_time": "2019-01-26T12:43:34.200760Z",
     "start_time": "2019-01-26T12:43:34.044585Z"
    }
   },
   "outputs": [],
   "source": [
    "ser_diff = df.Date.diff()\n",
    "\n",
    "ser_diff=ser_diff.dt.total_seconds().fillna(0)\n",
    "\n",
    "df['TimeDelta']=ser_diff\n",
    "\n",
    "df.head()\n",
    "\n",
    "\n",
    "\n",
    "df[\"LowHighDiff\"]=df[\"High\"]-df[\"Low\"]\n",
    "df[\"OpenCloseDiff\"]=df[\"Open\"]-df[\"Close\"]\n",
    "\n"
   ]
  },
  {
   "cell_type": "code",
   "execution_count": 23,
   "metadata": {
    "ExecuteTime": {
     "end_time": "2019-01-26T12:43:34.329833Z",
     "start_time": "2019-01-26T12:43:34.202729Z"
    }
   },
   "outputs": [
    {
     "data": {
      "text/html": [
       "<div>\n",
       "<style scoped>\n",
       "    .dataframe tbody tr th:only-of-type {\n",
       "        vertical-align: middle;\n",
       "    }\n",
       "\n",
       "    .dataframe tbody tr th {\n",
       "        vertical-align: top;\n",
       "    }\n",
       "\n",
       "    .dataframe thead th {\n",
       "        text-align: right;\n",
       "    }\n",
       "</style>\n",
       "<table border=\"1\" class=\"dataframe\">\n",
       "  <thead>\n",
       "    <tr style=\"text-align: right;\">\n",
       "      <th></th>\n",
       "      <th>Name</th>\n",
       "      <th>Date</th>\n",
       "      <th>Open</th>\n",
       "      <th>High</th>\n",
       "      <th>Low</th>\n",
       "      <th>Close</th>\n",
       "      <th>Volume</th>\n",
       "      <th>CoursChange</th>\n",
       "      <th>TimeDelta</th>\n",
       "      <th>LowHighDiff</th>\n",
       "      <th>OpenCloseDiff</th>\n",
       "    </tr>\n",
       "  </thead>\n",
       "  <tbody>\n",
       "    <tr>\n",
       "      <th>3371820</th>\n",
       "      <td>KGHM</td>\n",
       "      <td>2014-01-31 09:00:01</td>\n",
       "      <td>108.9</td>\n",
       "      <td>108.9</td>\n",
       "      <td>108.9</td>\n",
       "      <td>108.9</td>\n",
       "      <td>3996</td>\n",
       "      <td>-4.85</td>\n",
       "      <td>1353600.0</td>\n",
       "      <td>0.0</td>\n",
       "      <td>0.0</td>\n",
       "    </tr>\n",
       "  </tbody>\n",
       "</table>\n",
       "</div>"
      ],
      "text/plain": [
       "         Name                Date   Open   High    Low  Close  Volume  \\\n",
       "3371820  KGHM 2014-01-31 09:00:01  108.9  108.9  108.9  108.9    3996   \n",
       "\n",
       "         CoursChange  TimeDelta  LowHighDiff  OpenCloseDiff  \n",
       "3371820        -4.85  1353600.0          0.0            0.0  "
      ]
     },
     "execution_count": 23,
     "metadata": {},
     "output_type": "execute_result"
    }
   ],
   "source": [
    "df[df[\"TimeDelta\"]>800000]"
   ]
  },
  {
   "cell_type": "markdown",
   "metadata": {},
   "source": [
    "Co zrobić z tą wartością?"
   ]
  },
  {
   "cell_type": "code",
   "execution_count": 24,
   "metadata": {
    "ExecuteTime": {
     "end_time": "2019-01-26T12:43:34.340033Z",
     "start_time": "2019-01-26T12:43:34.336632Z"
    }
   },
   "outputs": [],
   "source": [
    "# df=df.drop(df[df[\"TimeDelta\"]>800000].index)"
   ]
  },
  {
   "cell_type": "markdown",
   "metadata": {},
   "source": [
    "## Prepare to predict"
   ]
  },
  {
   "cell_type": "code",
   "execution_count": 25,
   "metadata": {
    "ExecuteTime": {
     "end_time": "2019-01-26T12:43:59.450166Z",
     "start_time": "2019-01-26T12:43:34.343320Z"
    }
   },
   "outputs": [],
   "source": [
    "df.drop(columns=['Name','Open','High','Low','Volume','LowHighDiff','OpenCloseDiff'],inplace=True)\n",
    "\n",
    "df['day']=df['Date'].dt.strftime('%m/%d/%Y')\n",
    "\n",
    "\n",
    "df['month']=(pd.DatetimeIndex(df['Date']).year-2000)*12+pd.DatetimeIndex(df['Date']).month"
   ]
  },
  {
   "cell_type": "code",
   "execution_count": 26,
   "metadata": {
    "ExecuteTime": {
     "end_time": "2019-01-26T12:43:59.470712Z",
     "start_time": "2019-01-26T12:43:59.452317Z"
    }
   },
   "outputs": [
    {
     "data": {
      "text/html": [
       "<div>\n",
       "<style scoped>\n",
       "    .dataframe tbody tr th:only-of-type {\n",
       "        vertical-align: middle;\n",
       "    }\n",
       "\n",
       "    .dataframe tbody tr th {\n",
       "        vertical-align: top;\n",
       "    }\n",
       "\n",
       "    .dataframe thead th {\n",
       "        text-align: right;\n",
       "    }\n",
       "</style>\n",
       "<table border=\"1\" class=\"dataframe\">\n",
       "  <thead>\n",
       "    <tr style=\"text-align: right;\">\n",
       "      <th></th>\n",
       "      <th>Date</th>\n",
       "      <th>Close</th>\n",
       "      <th>CoursChange</th>\n",
       "      <th>TimeDelta</th>\n",
       "      <th>day</th>\n",
       "      <th>month</th>\n",
       "    </tr>\n",
       "  </thead>\n",
       "  <tbody>\n",
       "    <tr>\n",
       "      <th>0</th>\n",
       "      <td>2000-11-17 10:00:24</td>\n",
       "      <td>26.3</td>\n",
       "      <td>NaN</td>\n",
       "      <td>0.0</td>\n",
       "      <td>11/17/2000</td>\n",
       "      <td>11</td>\n",
       "    </tr>\n",
       "    <tr>\n",
       "      <th>4</th>\n",
       "      <td>2000-11-17 10:09:28</td>\n",
       "      <td>26.2</td>\n",
       "      <td>-0.1</td>\n",
       "      <td>544.0</td>\n",
       "      <td>11/17/2000</td>\n",
       "      <td>11</td>\n",
       "    </tr>\n",
       "    <tr>\n",
       "      <th>5</th>\n",
       "      <td>2000-11-17 10:11:10</td>\n",
       "      <td>26.3</td>\n",
       "      <td>0.1</td>\n",
       "      <td>102.0</td>\n",
       "      <td>11/17/2000</td>\n",
       "      <td>11</td>\n",
       "    </tr>\n",
       "    <tr>\n",
       "      <th>12</th>\n",
       "      <td>2000-11-17 10:39:32</td>\n",
       "      <td>26.2</td>\n",
       "      <td>-0.1</td>\n",
       "      <td>1702.0</td>\n",
       "      <td>11/17/2000</td>\n",
       "      <td>11</td>\n",
       "    </tr>\n",
       "    <tr>\n",
       "      <th>13</th>\n",
       "      <td>2000-11-17 10:47:47</td>\n",
       "      <td>26.3</td>\n",
       "      <td>0.1</td>\n",
       "      <td>495.0</td>\n",
       "      <td>11/17/2000</td>\n",
       "      <td>11</td>\n",
       "    </tr>\n",
       "  </tbody>\n",
       "</table>\n",
       "</div>"
      ],
      "text/plain": [
       "                  Date  Close  CoursChange  TimeDelta         day  month\n",
       "0  2000-11-17 10:00:24   26.3          NaN        0.0  11/17/2000     11\n",
       "4  2000-11-17 10:09:28   26.2         -0.1      544.0  11/17/2000     11\n",
       "5  2000-11-17 10:11:10   26.3          0.1      102.0  11/17/2000     11\n",
       "12 2000-11-17 10:39:32   26.2         -0.1     1702.0  11/17/2000     11\n",
       "13 2000-11-17 10:47:47   26.3          0.1      495.0  11/17/2000     11"
      ]
     },
     "execution_count": 26,
     "metadata": {},
     "output_type": "execute_result"
    }
   ],
   "source": [
    "df.head()"
   ]
  },
  {
   "cell_type": "code",
   "execution_count": 27,
   "metadata": {
    "ExecuteTime": {
     "end_time": "2019-01-26T12:43:59.508754Z",
     "start_time": "2019-01-26T12:43:59.475013Z"
    }
   },
   "outputs": [
    {
     "data": {
      "text/html": [
       "<div>\n",
       "<style scoped>\n",
       "    .dataframe tbody tr th:only-of-type {\n",
       "        vertical-align: middle;\n",
       "    }\n",
       "\n",
       "    .dataframe tbody tr th {\n",
       "        vertical-align: top;\n",
       "    }\n",
       "\n",
       "    .dataframe thead th {\n",
       "        text-align: right;\n",
       "    }\n",
       "</style>\n",
       "<table border=\"1\" class=\"dataframe\">\n",
       "  <thead>\n",
       "    <tr style=\"text-align: right;\">\n",
       "      <th></th>\n",
       "      <th>Date</th>\n",
       "      <th>Close</th>\n",
       "      <th>CoursChange</th>\n",
       "      <th>TimeDelta</th>\n",
       "      <th>day</th>\n",
       "      <th>month</th>\n",
       "    </tr>\n",
       "  </thead>\n",
       "  <tbody>\n",
       "    <tr>\n",
       "      <th>5683700</th>\n",
       "      <td>2019-01-09 16:49:45</td>\n",
       "      <td>91.58</td>\n",
       "      <td>-0.12</td>\n",
       "      <td>1.0</td>\n",
       "      <td>01/09/2019</td>\n",
       "      <td>229</td>\n",
       "    </tr>\n",
       "    <tr>\n",
       "      <th>5683701</th>\n",
       "      <td>2019-01-09 16:49:48</td>\n",
       "      <td>91.70</td>\n",
       "      <td>0.12</td>\n",
       "      <td>3.0</td>\n",
       "      <td>01/09/2019</td>\n",
       "      <td>229</td>\n",
       "    </tr>\n",
       "    <tr>\n",
       "      <th>5683702</th>\n",
       "      <td>2019-01-09 16:49:51</td>\n",
       "      <td>91.68</td>\n",
       "      <td>-0.02</td>\n",
       "      <td>3.0</td>\n",
       "      <td>01/09/2019</td>\n",
       "      <td>229</td>\n",
       "    </tr>\n",
       "    <tr>\n",
       "      <th>5683704</th>\n",
       "      <td>2019-01-09 16:49:56</td>\n",
       "      <td>91.70</td>\n",
       "      <td>0.02</td>\n",
       "      <td>5.0</td>\n",
       "      <td>01/09/2019</td>\n",
       "      <td>229</td>\n",
       "    </tr>\n",
       "    <tr>\n",
       "      <th>5683707</th>\n",
       "      <td>2019-01-09 17:00:01</td>\n",
       "      <td>92.00</td>\n",
       "      <td>0.30</td>\n",
       "      <td>605.0</td>\n",
       "      <td>01/09/2019</td>\n",
       "      <td>229</td>\n",
       "    </tr>\n",
       "  </tbody>\n",
       "</table>\n",
       "</div>"
      ],
      "text/plain": [
       "                       Date  Close  CoursChange  TimeDelta         day  month\n",
       "5683700 2019-01-09 16:49:45  91.58        -0.12        1.0  01/09/2019    229\n",
       "5683701 2019-01-09 16:49:48  91.70         0.12        3.0  01/09/2019    229\n",
       "5683702 2019-01-09 16:49:51  91.68        -0.02        3.0  01/09/2019    229\n",
       "5683704 2019-01-09 16:49:56  91.70         0.02        5.0  01/09/2019    229\n",
       "5683707 2019-01-09 17:00:01  92.00         0.30      605.0  01/09/2019    229"
      ]
     },
     "execution_count": 27,
     "metadata": {},
     "output_type": "execute_result"
    }
   ],
   "source": [
    "df.tail()"
   ]
  },
  {
   "cell_type": "code",
   "execution_count": 28,
   "metadata": {
    "ExecuteTime": {
     "end_time": "2019-01-26T12:44:00.749156Z",
     "start_time": "2019-01-26T12:43:59.516501Z"
    }
   },
   "outputs": [],
   "source": [
    "df.to_pickle(save_path)"
   ]
  }
 ],
 "metadata": {
  "kernelspec": {
   "display_name": "Python [default]",
   "language": "python",
   "name": "python3"
  },
  "language_info": {
   "codemirror_mode": {
    "name": "ipython",
    "version": 3
   },
   "file_extension": ".py",
   "mimetype": "text/x-python",
   "name": "python",
   "nbconvert_exporter": "python",
   "pygments_lexer": "ipython3",
   "version": "3.7.0"
  }
 },
 "nbformat": 4,
 "nbformat_minor": 2
}
