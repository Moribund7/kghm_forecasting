{
 "cells": [
  {
   "cell_type": "markdown",
   "metadata": {},
   "source": [
    "# <p style=\"text-align: center;\"> Przewidywanie zmian kursów akcji kghm przy pomocy metod uczenia maszynowego </p>"
   ]
  },
  {
   "cell_type": "markdown",
   "metadata": {},
   "source": [
    "### <p style=\"text-align: right\"> Autor -- Filip Kowalski          </p> "
   ]
  },
  {
   "cell_type": "markdown",
   "metadata": {},
   "source": [
    "Celem ćwiczenia było sprawdzenie, czy metody uczenia maszynowego pozwolą poprawnie przewidywać zmiany cen akcji spółki giełdowej KGHM. W tym celu odpowiednio przygotowane i oczyszczone dane zostały wykorzystane do wytrenowania modeli opierajacych się na algorytmach regresji liniowej i algorytmu XGBoost. Wyniki przewidywań zostały porównane z metodą heurystyczną zakładającą, że po każdej zmianie następuje zmiana o przeciwnej wartości kursu."
   ]
  },
  {
   "cell_type": "markdown",
   "metadata": {},
   "source": [
    "### Wczytanie bibliotek"
   ]
  },
  {
   "cell_type": "code",
   "execution_count": 11,
   "metadata": {
    "ExecuteTime": {
     "end_time": "2019-01-29T12:52:16.553790Z",
     "start_time": "2019-01-29T12:52:16.549987Z"
    }
   },
   "outputs": [],
   "source": [
    "import pandas as pd\n",
    "import matplotlib.pyplot as plt\n",
    "\n",
    "from sklearn.linear_model import LinearRegression\n",
    "from sklearn import preprocessing, model_selection, svm\n",
    "import numpy as np"
   ]
  },
  {
   "cell_type": "markdown",
   "metadata": {},
   "source": [
    "### Wczytanie danych"
   ]
  },
  {
   "cell_type": "code",
   "execution_count": 12,
   "metadata": {
    "ExecuteTime": {
     "end_time": "2019-01-29T12:52:16.935740Z",
     "start_time": "2019-01-29T12:52:16.927297Z"
    }
   },
   "outputs": [],
   "source": [
    "df_test_path='../data/df_test'\n",
    "df_train_path='../data/df_train'"
   ]
  },
  {
   "cell_type": "code",
   "execution_count": 13,
   "metadata": {
    "ExecuteTime": {
     "end_time": "2019-01-29T12:52:17.740553Z",
     "start_time": "2019-01-29T12:52:17.160642Z"
    }
   },
   "outputs": [],
   "source": [
    "df_test=pd.read_pickle(df_test_path)\n",
    "df_train=pd.read_pickle(df_train_path)"
   ]
  },
  {
   "cell_type": "markdown",
   "metadata": {},
   "source": [
    "### Ustawienie ziarna "
   ]
  },
  {
   "cell_type": "code",
   "execution_count": 14,
   "metadata": {
    "ExecuteTime": {
     "end_time": "2019-01-29T12:52:17.747590Z",
     "start_time": "2019-01-29T12:52:17.744641Z"
    }
   },
   "outputs": [],
   "source": [
    "seed=42"
   ]
  },
  {
   "cell_type": "markdown",
   "metadata": {},
   "source": [
    "## Przygotowanie danych"
   ]
  },
  {
   "cell_type": "markdown",
   "metadata": {},
   "source": [
    "Dane notowań giełdowych spółki KGHM zostały pobrane ze strony http://bossa.pl/index.jsp?layout=intraday&page=1&news_cat_id=875&dirpath=/mstock/cgl/. Kod służący do wczytania, oczyszczenia i przygotowania danych znajduję się w repozytorium https://github.com/Moribund7/kghm_forecasting/blob/master/notebooks/.\n",
    "\n",
    "Poniżej zaprezentowano fragment ramki danych."
   ]
  },
  {
   "cell_type": "code",
   "execution_count": 15,
   "metadata": {
    "ExecuteTime": {
     "end_time": "2019-01-29T12:52:18.449530Z",
     "start_time": "2019-01-29T12:52:18.420275Z"
    },
    "scrolled": true
   },
   "outputs": [
    {
     "data": {
      "text/html": [
       "<div>\n",
       "<style scoped>\n",
       "    .dataframe tbody tr th:only-of-type {\n",
       "        vertical-align: middle;\n",
       "    }\n",
       "\n",
       "    .dataframe tbody tr th {\n",
       "        vertical-align: top;\n",
       "    }\n",
       "\n",
       "    .dataframe thead th {\n",
       "        text-align: right;\n",
       "    }\n",
       "</style>\n",
       "<table border=\"1\" class=\"dataframe\">\n",
       "  <thead>\n",
       "    <tr style=\"text-align: right;\">\n",
       "      <th></th>\n",
       "      <th>Date</th>\n",
       "      <th>Close</th>\n",
       "      <th>CoursChange</th>\n",
       "      <th>TimeDelta</th>\n",
       "      <th>day</th>\n",
       "      <th>month</th>\n",
       "      <th>CoursChange-1</th>\n",
       "      <th>TimeDelta_-1</th>\n",
       "      <th>CoursChange-2</th>\n",
       "      <th>TimeDelta_-2</th>\n",
       "      <th>CoursChange-3</th>\n",
       "      <th>TimeDelta_-3</th>\n",
       "      <th>CoursChange-4</th>\n",
       "      <th>TimeDelta_-4</th>\n",
       "      <th>y</th>\n",
       "    </tr>\n",
       "  </thead>\n",
       "  <tbody>\n",
       "    <tr>\n",
       "      <th>0</th>\n",
       "      <td>2006-01-02 09:37:53</td>\n",
       "      <td>61.6</td>\n",
       "      <td>0.1</td>\n",
       "      <td>138.0</td>\n",
       "      <td>01/02/2006</td>\n",
       "      <td>73</td>\n",
       "      <td>-0.2</td>\n",
       "      <td>31.0</td>\n",
       "      <td>0.1</td>\n",
       "      <td>26.0</td>\n",
       "      <td>0.1</td>\n",
       "      <td>226.0</td>\n",
       "      <td>-0.2</td>\n",
       "      <td>48.0</td>\n",
       "      <td>-0.1</td>\n",
       "    </tr>\n",
       "    <tr>\n",
       "      <th>1</th>\n",
       "      <td>2006-01-02 09:38:48</td>\n",
       "      <td>61.5</td>\n",
       "      <td>-0.1</td>\n",
       "      <td>55.0</td>\n",
       "      <td>01/02/2006</td>\n",
       "      <td>73</td>\n",
       "      <td>0.1</td>\n",
       "      <td>138.0</td>\n",
       "      <td>-0.2</td>\n",
       "      <td>31.0</td>\n",
       "      <td>0.1</td>\n",
       "      <td>26.0</td>\n",
       "      <td>0.1</td>\n",
       "      <td>226.0</td>\n",
       "      <td>0.1</td>\n",
       "    </tr>\n",
       "    <tr>\n",
       "      <th>2</th>\n",
       "      <td>2006-01-02 09:39:43</td>\n",
       "      <td>61.6</td>\n",
       "      <td>0.1</td>\n",
       "      <td>55.0</td>\n",
       "      <td>01/02/2006</td>\n",
       "      <td>73</td>\n",
       "      <td>-0.1</td>\n",
       "      <td>55.0</td>\n",
       "      <td>0.1</td>\n",
       "      <td>138.0</td>\n",
       "      <td>-0.2</td>\n",
       "      <td>31.0</td>\n",
       "      <td>0.1</td>\n",
       "      <td>26.0</td>\n",
       "      <td>0.1</td>\n",
       "    </tr>\n",
       "    <tr>\n",
       "      <th>3</th>\n",
       "      <td>2006-01-02 09:41:13</td>\n",
       "      <td>61.7</td>\n",
       "      <td>0.1</td>\n",
       "      <td>90.0</td>\n",
       "      <td>01/02/2006</td>\n",
       "      <td>73</td>\n",
       "      <td>0.1</td>\n",
       "      <td>55.0</td>\n",
       "      <td>-0.1</td>\n",
       "      <td>55.0</td>\n",
       "      <td>0.1</td>\n",
       "      <td>138.0</td>\n",
       "      <td>-0.2</td>\n",
       "      <td>31.0</td>\n",
       "      <td>-0.1</td>\n",
       "    </tr>\n",
       "    <tr>\n",
       "      <th>4</th>\n",
       "      <td>2006-01-02 09:41:49</td>\n",
       "      <td>61.6</td>\n",
       "      <td>-0.1</td>\n",
       "      <td>36.0</td>\n",
       "      <td>01/02/2006</td>\n",
       "      <td>73</td>\n",
       "      <td>0.1</td>\n",
       "      <td>90.0</td>\n",
       "      <td>0.1</td>\n",
       "      <td>55.0</td>\n",
       "      <td>-0.1</td>\n",
       "      <td>55.0</td>\n",
       "      <td>0.1</td>\n",
       "      <td>138.0</td>\n",
       "      <td>0.1</td>\n",
       "    </tr>\n",
       "  </tbody>\n",
       "</table>\n",
       "</div>"
      ],
      "text/plain": [
       "                 Date  Close  CoursChange  TimeDelta         day  month  \\\n",
       "0 2006-01-02 09:37:53   61.6          0.1      138.0  01/02/2006     73   \n",
       "1 2006-01-02 09:38:48   61.5         -0.1       55.0  01/02/2006     73   \n",
       "2 2006-01-02 09:39:43   61.6          0.1       55.0  01/02/2006     73   \n",
       "3 2006-01-02 09:41:13   61.7          0.1       90.0  01/02/2006     73   \n",
       "4 2006-01-02 09:41:49   61.6         -0.1       36.0  01/02/2006     73   \n",
       "\n",
       "   CoursChange-1  TimeDelta_-1  CoursChange-2  TimeDelta_-2  CoursChange-3  \\\n",
       "0           -0.2          31.0            0.1          26.0            0.1   \n",
       "1            0.1         138.0           -0.2          31.0            0.1   \n",
       "2           -0.1          55.0            0.1         138.0           -0.2   \n",
       "3            0.1          55.0           -0.1          55.0            0.1   \n",
       "4            0.1          90.0            0.1          55.0           -0.1   \n",
       "\n",
       "   TimeDelta_-3  CoursChange-4  TimeDelta_-4    y  \n",
       "0         226.0           -0.2          48.0 -0.1  \n",
       "1          26.0            0.1         226.0  0.1  \n",
       "2          31.0            0.1          26.0  0.1  \n",
       "3         138.0           -0.2          31.0 -0.1  \n",
       "4          55.0            0.1         138.0  0.1  "
      ]
     },
     "execution_count": 15,
     "metadata": {},
     "output_type": "execute_result"
    }
   ],
   "source": [
    "df_test.head()"
   ]
  },
  {
   "cell_type": "markdown",
   "metadata": {},
   "source": [
    "Kolejne wiersze w ramce danych odpowiadają kolejnym transakcją. Kolumny zawierają następujące dane:\n",
    "1. Date - data transakcji w formacie rok-miesiąc-dzień godzina:minuta:sekunda\n",
    "2. Close - cena akcji w momencie zakończenia transakcji\n",
    "3. TimeDelta - czas pomiędzy ostatnią transakcją a obecną\n",
    "4. CoursChange - zmiana wartości akcji w stosunku do ceny zakończenia wcześniejszej transakcji\n",
    "5. day - data w formacie miesiac/dzień/rok, pole to przyśpiesza grupowanie po dniach\n",
    "6. month - miesiąc transakcji razy (rok-2000)*12. Pole pozwala na podział danych na dane testowe i treningowe\n",
    "7. CourseChange-i - zmiana kursu w i-tej, wcześniejszej transakcji \n",
    "8. TimeDelta-i - różnica czasu pomiędzy transakcją i-1 a i gdzie i-ta transakcja to transakcja i-wcześniejsza\n",
    "9. y - zmiana kursu akcji w kolejnej transakcji. Wartość którą próbujemy przewidywać\n",
    "\n",
    "Każdy wiersz posiada zatem informacje o i [w naszym przypadku i=4] wcześniejszych transakcjach. Umożliwia to wykorzystanie każdego wiersza jako danych treningowych które za pomocą i-ostatnich transakcji próbują przewidzieć zmianę wartości akcji."
   ]
  },
  {
   "cell_type": "code",
   "execution_count": 16,
   "metadata": {
    "ExecuteTime": {
     "end_time": "2019-01-29T12:52:19.000229Z",
     "start_time": "2019-01-29T12:52:18.980912Z"
    }
   },
   "outputs": [],
   "source": [
    "with open('dataframe.tex','w') as tf:\n",
    "    tf.write(df_test.head().to_latex())"
   ]
  },
  {
   "cell_type": "markdown",
   "metadata": {},
   "source": [
    "# Podział danych na dane treningowe i testowe"
   ]
  },
  {
   "cell_type": "markdown",
   "metadata": {},
   "source": [
    "Ramka danych z pakietu Pandas zostaje zamieniona na tablicę z pakietu Numpy (numpy.array()). Pozwala to na szybsze operowanie na danych. Dane są podzielone na zbiór testowy oraz treningowy. "
   ]
  },
  {
   "cell_type": "code",
   "execution_count": 17,
   "metadata": {
    "ExecuteTime": {
     "end_time": "2019-01-29T12:52:20.220054Z",
     "start_time": "2019-01-29T12:52:20.214336Z"
    }
   },
   "outputs": [],
   "source": [
    "def df_to_array(df,shuffle=True,seed=seed):\n",
    "    '''\n",
    "    Takes dateframe and returns numpy arrays X,y\n",
    "    '''\n",
    "    if shuffle:\n",
    "        df = df.sample(random_state=seed,frac=1).reset_index(drop=True)\n",
    "    X = np.array(df[[x for x in df.columns if 'Time' in x or 'Cours' in x]])\n",
    "    y =  np.array(df.y)\n",
    "    return X, y"
   ]
  },
  {
   "cell_type": "code",
   "execution_count": 18,
   "metadata": {
    "ExecuteTime": {
     "end_time": "2019-01-29T12:52:22.281574Z",
     "start_time": "2019-01-29T12:52:20.700146Z"
    }
   },
   "outputs": [],
   "source": [
    "X_test,Y_test=df_to_array(df_test)\n",
    "X_train,Y_train=df_to_array(df_train)"
   ]
  },
  {
   "cell_type": "markdown",
   "metadata": {},
   "source": [
    "Liczba danych treningowych:"
   ]
  },
  {
   "cell_type": "code",
   "execution_count": 19,
   "metadata": {
    "ExecuteTime": {
     "end_time": "2019-01-29T12:52:22.288706Z",
     "start_time": "2019-01-29T12:52:22.283931Z"
    }
   },
   "outputs": [
    {
     "data": {
      "text/plain": [
       "1435805"
      ]
     },
     "execution_count": 19,
     "metadata": {},
     "output_type": "execute_result"
    }
   ],
   "source": [
    "X_train.shape[0]"
   ]
  },
  {
   "cell_type": "markdown",
   "metadata": {
    "ExecuteTime": {
     "end_time": "2019-01-26T12:37:46.115636Z",
     "start_time": "2019-01-26T12:37:46.111680Z"
    }
   },
   "source": [
    "Liczba danych testowych:"
   ]
  },
  {
   "cell_type": "code",
   "execution_count": 20,
   "metadata": {
    "ExecuteTime": {
     "end_time": "2019-01-29T12:52:22.306910Z",
     "start_time": "2019-01-29T12:52:22.302643Z"
    }
   },
   "outputs": [
    {
     "data": {
      "text/plain": [
       "748850"
      ]
     },
     "execution_count": 20,
     "metadata": {},
     "output_type": "execute_result"
    }
   ],
   "source": [
    "X_test.shape[0]"
   ]
  },
  {
   "cell_type": "markdown",
   "metadata": {},
   "source": [
    "# Trenowanie modeli"
   ]
  },
  {
   "cell_type": "markdown",
   "metadata": {},
   "source": [
    "Do przewidywania zmian cen akcji wykorzystano kilka modeli."
   ]
  },
  {
   "cell_type": "code",
   "execution_count": 21,
   "metadata": {
    "ExecuteTime": {
     "end_time": "2019-01-29T12:52:24.012841Z",
     "start_time": "2019-01-29T12:52:23.948451Z"
    }
   },
   "outputs": [
    {
     "name": "stderr",
     "output_type": "stream",
     "text": [
      "/home/filip/anaconda3/lib/python3.7/site-packages/sklearn/ensemble/weight_boosting.py:29: DeprecationWarning: numpy.core.umath_tests is an internal NumPy module and should not be imported. It will be removed in a future NumPy release.\n",
      "  from numpy.core.umath_tests import inner1d\n"
     ]
    }
   ],
   "source": [
    "from pandas import read_csv\n",
    "import pandas as pd\n",
    "import matplotlib.pyplot as plt\n",
    "from sklearn.linear_model import LinearRegression\n",
    "from sklearn.linear_model import Lasso\n",
    "from sklearn.linear_model import ElasticNet\n",
    "from sklearn.model_selection import train_test_split \n",
    "from sklearn.neighbors import KNeighborsRegressor\n",
    "from sklearn.tree import DecisionTreeRegressor\n",
    "from sklearn.svm import SVR\n",
    "from sklearn.ensemble import RandomForestRegressor\n",
    "from sklearn.ensemble import GradientBoostingRegressor\n",
    "from sklearn.ensemble import ExtraTreesRegressor\n",
    "from sklearn.ensemble import AdaBoostRegressor\n",
    "from sklearn.model_selection import GridSearchCV\n",
    "from sklearn.model_selection import cross_val_score\n",
    "from sklearn.model_selection import KFold\n",
    "from sklearn.metrics import mean_squared_error\n",
    "from sklearn.pipeline import Pipeline\n",
    "from sklearn.preprocessing import  StandardScaler\n",
    "from sklearn.model_selection import RandomizedSearchCV\n",
    "import numpy as np"
   ]
  },
  {
   "cell_type": "markdown",
   "metadata": {},
   "source": [
    "### Ustawienie opcji symulacji"
   ]
  },
  {
   "cell_type": "markdown",
   "metadata": {},
   "source": [
    "Jako miary jakości przewidywania użyto metryki średniego błedu kwadratowego. "
   ]
  },
  {
   "cell_type": "code",
   "execution_count": 22,
   "metadata": {
    "ExecuteTime": {
     "end_time": "2019-01-29T12:52:25.417707Z",
     "start_time": "2019-01-29T12:52:25.412096Z"
    }
   },
   "outputs": [],
   "source": [
    "num_folds=5\n",
    "scoring='neg_mean_squared_error'\n"
   ]
  },
  {
   "cell_type": "markdown",
   "metadata": {},
   "source": [
    "# Wybór testowanych algorytmów"
   ]
  },
  {
   "cell_type": "markdown",
   "metadata": {},
   "source": [
    "Istnieje możliwość przetestowania innych algorytmów uczenia maszynowego i sprawdzenia, jak sobie radzą z tym problemem."
   ]
  },
  {
   "cell_type": "code",
   "execution_count": 23,
   "metadata": {
    "ExecuteTime": {
     "end_time": "2019-01-29T12:52:26.903241Z",
     "start_time": "2019-01-29T12:52:26.897906Z"
    }
   },
   "outputs": [],
   "source": [
    "models=[]\n",
    "models.append(('LR',LinearRegression()))\n",
    "models.append(('LASSO',Lasso()))\n",
    "models.append(('EN',ElasticNet()))\n",
    "# models.append(('KNN',KNeighborsRegressor()))#bardzo dlugo trwa jego obliczanie\n",
    "models.append(('CART',DecisionTreeRegressor()))\n",
    "# models.append(('SVR',SVR()))#bardzo dlugo trwa jego obliczanie"
   ]
  },
  {
   "cell_type": "markdown",
   "metadata": {},
   "source": [
    "## Testowanie modeli"
   ]
  },
  {
   "cell_type": "markdown",
   "metadata": {
    "ExecuteTime": {
     "end_time": "2018-12-04T15:06:04.390794Z",
     "start_time": "2018-12-04T15:06:04.384578Z"
    }
   },
   "source": [
    "Każdy z modeli był uczony na cześci zbioru uczącego i testowany na reszcie tego zbioru (metoda kfold). Metryką mierzenia jakości przewidywania był średni błąd kwadratowy. Wyniki dla poszczególnych modeli znajdują się poniżej na końcu częsci testowania modeli. Na wykresie pudełkowym umieszczono otrzymane wyniki (im mniejsza wartość na osi y tym algorytm lepiej działa). "
   ]
  },
  {
   "cell_type": "code",
   "execution_count": 24,
   "metadata": {
    "ExecuteTime": {
     "end_time": "2019-01-29T12:54:31.690316Z",
     "start_time": "2019-01-29T12:52:28.044132Z"
    }
   },
   "outputs": [
    {
     "name": "stdout",
     "output_type": "stream",
     "text": [
      "'LR': -0.013617 (0.000065)\n",
      "'LASSO': -0.017861 (0.000106)\n",
      "'EN': -0.017861 (0.000106)\n",
      "'CART': -0.028117 (0.000228)\n"
     ]
    },
    {
     "data": {
      "image/png": "[encoded data removed]",
      "text/plain": [
       "<Figure size 432x288 with 1 Axes>"
      ]
     },
     "metadata": {},
     "output_type": "display_data"
    }
   ],
   "source": [
    "results=[]\n",
    "names=[]\n",
    "for name, model in models:\n",
    "    kfold=KFold(n_splits=num_folds,random_state=seed,shuffle=True)\n",
    "    cv_results=cross_val_score(model,X_train,Y_train,cv=kfold,scoring=scoring)\n",
    "    results.append(cv_results)\n",
    "    names.append(name)\n",
    "    message=\"%a: %f (%f)\" % (name,cv_results.mean(),cv_results.std())\n",
    "    print(message)\n",
    "\n",
    "fig=plt.figure()\n",
    "fig.suptitle('Algorithm Comprasion')\n",
    "ax=fig.add_subplot(111)\n",
    "plt.boxplot(results)\n",
    "ax.set_xticklabels(names)\n",
    "plt.show()"
   ]
  },
  {
   "cell_type": "raw",
   "metadata": {
    "ExecuteTime": {
     "end_time": "2019-01-11T16:21:50.622150Z",
     "start_time": "2019-01-11T16:21:50.611983Z"
    }
   },
   "source": [
    "Dla danych zawierających zerowe course change\n",
    "'LR': -0.007346 (0.000219)\n",
    "'LASSO': -0.008555 (0.000318)\n",
    "'EN': -0.008555 (0.000318)\n",
    "'KNN': -0.008633 (0.000190)\n",
    "'CART': -0.015894 (0.000277)\n",
    "'SVR': -0.007902 (0.000287)"
   ]
  },
  {
   "cell_type": "markdown",
   "metadata": {
    "ExecuteTime": {
     "start_time": "2018-12-04T14:59:16.110Z"
    }
   },
   "source": [
    "# Wyniki dla modeli z przeskalowanymi danymi"
   ]
  },
  {
   "cell_type": "code",
   "execution_count": 25,
   "metadata": {
    "ExecuteTime": {
     "end_time": "2019-01-29T12:56:42.190345Z",
     "start_time": "2019-01-29T12:54:31.693613Z"
    }
   },
   "outputs": [
    {
     "name": "stdout",
     "output_type": "stream",
     "text": [
      "'ScaledLR': -0.013617 (0.000065)\n",
      "'ScaledLASSO': -0.017861 (0.000106)\n",
      "'ScaledEN': -0.017861 (0.000106)\n",
      "'ScaledCART': -0.028044 (0.000222)\n"
     ]
    }
   ],
   "source": [
    "piplines=[]\n",
    "piplines.append(('ScaledLR',Pipeline([('Scaler',StandardScaler()),('LR',LinearRegression())])))\n",
    "piplines.append(('ScaledLASSO',Pipeline([('Scaler',StandardScaler()),('LASSO',Lasso())])))\n",
    "piplines.append(('ScaledEN',Pipeline([('Scaler',StandardScaler()),('EN',ElasticNet())])))\n",
    "# piplines.append(('ScaledKNN',Pipeline([('Scaler',StandardScaler()),('KNN',KNeighborsRegressor())])))#bardzo dlugo trwa jego obliczanie\n",
    "piplines.append(('ScaledCART',Pipeline([('Scaler',StandardScaler()),('CART',DecisionTreeRegressor())])))\n",
    "# piplines.append(('ScaledSVR',Pipeline([('Scaler',StandardScaler()),('SVR',SVR())])))#bardzo dlugo trwa jego obliczanie\n",
    "\n",
    "results_scaled=[]\n",
    "names_scaled=[]\n",
    "for name, model in piplines:\n",
    "    kfold=KFold(n_splits=num_folds,random_state=seed,shuffle=True)\n",
    "    cv_results=cross_val_score(model,X_train,Y_train,cv=kfold,scoring=scoring)\n",
    "    results_scaled.append(cv_results)\n",
    "    names_scaled.append(name)\n",
    "    message=\"%a: %f (%f)\" % (name,cv_results.mean(),cv_results.std())\n",
    "    print(message)"
   ]
  },
  {
   "cell_type": "raw",
   "metadata": {},
   "source": [
    "Dla danych zawierających zerowe course change\n",
    "'ScaledLR': -0.007346 (0.000219)\n",
    "'ScaledLASSO': -0.008555 (0.000318)\n",
    "'ScaledEN': -0.008555 (0.000318)\n",
    "'ScaledKNN': -0.008642 (0.000177)\n",
    "'ScaledCART': -0.015976 (0.000050)\n",
    "'ScaledSVR': -0.007871 (0.000292)"
   ]
  },
  {
   "cell_type": "code",
   "execution_count": 26,
   "metadata": {
    "ExecuteTime": {
     "end_time": "2019-01-29T12:56:42.376325Z",
     "start_time": "2019-01-29T12:56:42.192728Z"
    }
   },
   "outputs": [
    {
     "data": {
      "image/png": "[encoded data removed]",
      "text/plain": [
       "<Figure size 432x288 with 1 Axes>"
      ]
     },
     "metadata": {},
     "output_type": "display_data"
    }
   ],
   "source": [
    "fig=plt.figure()\n",
    "fig.suptitle('Scaled Algorithm Comprasion')\n",
    "ax=fig.add_subplot(111)\n",
    "plt.boxplot(results_scaled)\n",
    "ax.set_xticklabels(names_scaled)\n",
    "plt.show()"
   ]
  },
  {
   "cell_type": "markdown",
   "metadata": {},
   "source": [
    "# Ensemble Methods (metody zespołowe)"
   ]
  },
  {
   "cell_type": "code",
   "execution_count": 27,
   "metadata": {
    "ExecuteTime": {
     "end_time": "2019-01-29T12:56:42.382728Z",
     "start_time": "2019-01-29T12:56:42.378663Z"
    }
   },
   "outputs": [],
   "source": [
    "ensembles=[]\n",
    "# ensembles.append(('ScaledAB',Pipeline([('Scaler', StandardScaler()),('Ab',AdaBoostRegressor())])))#bardzo dlugo trwa jego obliczanie\n",
    "ensembles.append(('ScaledGBM',Pipeline([('Scaler', StandardScaler()),('GBM',GradientBoostingRegressor())])))\n",
    "# ensembles.append(('ScaledRF',Pipeline([('Scaler', StandardScaler()),('RF',RandomForestRegressor())])))#bardzo dlugo trwa jego obliczanie\n",
    "ensembles.append(('ScaledET',Pipeline([('Scaler', StandardScaler()),('ET',ExtraTreesRegressor())])))"
   ]
  },
  {
   "cell_type": "code",
   "execution_count": 28,
   "metadata": {
    "ExecuteTime": {
     "end_time": "2019-01-29T13:21:31.553954Z",
     "start_time": "2019-01-29T12:56:42.385329Z"
    }
   },
   "outputs": [
    {
     "name": "stdout",
     "output_type": "stream",
     "text": [
      "'ScaledGBM': -0.013265 (0.000045)\n",
      "'ScaledET': -0.015367 (0.000045)\n"
     ]
    }
   ],
   "source": [
    "results_ensemble=[]\n",
    "names_ensemble=[]\n",
    "for name, model in ensembles:\n",
    "    kfold=KFold(n_splits=num_folds,random_state=seed,shuffle=True)\n",
    "    cv_results=cross_val_score(model,X_train,Y_train,cv=kfold,scoring=scoring)\n",
    "    results_ensemble.append(cv_results)\n",
    "    names_ensemble.append(name)\n",
    "    message=\"%a: %f (%f)\" % (name,cv_results.mean(),cv_results.std())\n",
    "    print(message)"
   ]
  },
  {
   "cell_type": "raw",
   "metadata": {},
   "source": [
    "Czas obliczeń executed in 24m 13s"
   ]
  },
  {
   "cell_type": "code",
   "execution_count": 29,
   "metadata": {
    "ExecuteTime": {
     "end_time": "2019-01-29T13:21:31.715604Z",
     "start_time": "2019-01-29T13:21:31.557196Z"
    }
   },
   "outputs": [
    {
     "data": {
      "image/png": "[encoded data removed]",
      "text/plain": [
       "<Figure size 432x288 with 1 Axes>"
      ]
     },
     "metadata": {},
     "output_type": "display_data"
    }
   ],
   "source": [
    "fig=plt.figure()\n",
    "fig.suptitle('Scaled Ensemble Algorithm Comparison')\n",
    "ax=fig.add_subplot(111)\n",
    "plt.boxplot(results_ensemble)\n",
    "ax.set_xticklabels(names_ensemble)\n",
    "plt.show()"
   ]
  },
  {
   "cell_type": "raw",
   "metadata": {},
   "source": [
    "# Tune GBM"
   ]
  },
  {
   "cell_type": "raw",
   "metadata": {
    "ExecuteTime": {
     "end_time": "2018-12-05T19:40:05.041036Z",
     "start_time": "2018-12-05T19:36:34.492420Z"
    }
   },
   "source": [
    "scaler=StandardScaler().fit(X_train)\n",
    "rescaledX=scaler.transform(X_train)\n",
    "param_grid=dict(n_estimators=np.array([50,100,150,200,250,300,350,400]))\n",
    "model=GradientBoostingRegressor(random_state=seed)\n",
    "kfold=KFold(n_splits=num_folds,random_state=seed)\n",
    "grid=GridSearchCV(estimator=model,param_grid=param_grid,scoring=scoring,cv=kfold)\n",
    "grid_result=grid.fit(rescaledX,Y_train)"
   ]
  },
  {
   "cell_type": "raw",
   "metadata": {
    "ExecuteTime": {
     "end_time": "2018-12-05T19:40:05.050919Z",
     "start_time": "2018-12-05T19:40:01.372Z"
    }
   },
   "source": [
    "print(\"Best %f using %s\" % (grid_result.best_score_,grid_result.best_params_))\n",
    "means=grid_result.cv_results_['mean_test_score']\n",
    "stds=grid_result.cv_results_['std_test_score']\n",
    "params=grid_result.cv_results_['params']\n",
    "for mean, stdev, param in zip(means,stds,params):\n",
    "    print(\"%f (%f) with %r\" %(mean,stdev,param))"
   ]
  },
  {
   "cell_type": "markdown",
   "metadata": {},
   "source": [
    "# XGBoost"
   ]
  },
  {
   "cell_type": "code",
   "execution_count": 30,
   "metadata": {
    "ExecuteTime": {
     "end_time": "2019-01-29T13:21:31.800208Z",
     "start_time": "2019-01-29T13:21:31.718176Z"
    }
   },
   "outputs": [],
   "source": [
    "import xgboost as xgb "
   ]
  },
  {
   "cell_type": "code",
   "execution_count": 31,
   "metadata": {
    "ExecuteTime": {
     "end_time": "2019-01-29T13:21:31.808423Z",
     "start_time": "2019-01-29T13:21:31.802346Z"
    }
   },
   "outputs": [],
   "source": [
    "ensembles_xgboost=[]\n",
    "ensembles_xgboost.append(('ScaledXGB',Pipeline([('Scaler', StandardScaler()),('XGB',xgb.XGBRegressor())])))"
   ]
  },
  {
   "cell_type": "code",
   "execution_count": 32,
   "metadata": {
    "ExecuteTime": {
     "end_time": "2019-01-29T13:30:28.459705Z",
     "start_time": "2019-01-29T13:21:31.813285Z"
    }
   },
   "outputs": [
    {
     "name": "stdout",
     "output_type": "stream",
     "text": [
      "'ScaledXGB': -0.013264 (0.000050)\n"
     ]
    }
   ],
   "source": [
    "results_xgboost=[]\n",
    "names_xgboost=[]\n",
    "for name, model in ensembles_xgboost:\n",
    "    kfold=KFold(n_splits=num_folds,random_state=seed,shuffle=True)\n",
    "    cv_results=cross_val_score(model,X_train,Y_train,cv=kfold,scoring=scoring)\n",
    "    results_xgboost.append(cv_results)\n",
    "    names_xgboost.append(name)\n",
    "    message=\"%a: %f (%f)\" % (name,cv_results.mean(),cv_results.std())\n",
    "    print(message)"
   ]
  },
  {
   "cell_type": "raw",
   "metadata": {},
   "source": [
    "executed in 8m 57"
   ]
  },
  {
   "cell_type": "code",
   "execution_count": 33,
   "metadata": {
    "ExecuteTime": {
     "end_time": "2019-01-29T13:30:28.594209Z",
     "start_time": "2019-01-29T13:30:28.464572Z"
    }
   },
   "outputs": [
    {
     "data": {
      "image/png": "[encoded data removed]",
      "text/plain": [
       "<Figure size 432x288 with 1 Axes>"
      ]
     },
     "metadata": {},
     "output_type": "display_data"
    }
   ],
   "source": [
    "fig=plt.figure()\n",
    "fig.suptitle('Scaled Ensemble Algorithm Comparison')\n",
    "ax=fig.add_subplot(111)\n",
    "plt.boxplot(results_xgboost)\n",
    "ax.set_xticklabels(names_xgboost)\n",
    "plt.show()"
   ]
  },
  {
   "cell_type": "markdown",
   "metadata": {},
   "source": [
    "# Zapisanie wyników"
   ]
  },
  {
   "cell_type": "code",
   "execution_count": 34,
   "metadata": {
    "ExecuteTime": {
     "end_time": "2019-01-29T13:30:28.601755Z",
     "start_time": "2019-01-29T13:30:28.597445Z"
    }
   },
   "outputs": [],
   "source": [
    "results_all=results+results_scaled+results_ensemble+results_xgboost\n",
    "names_all=names+names_scaled+names_ensemble+names_xgboost"
   ]
  },
  {
   "cell_type": "code",
   "execution_count": 53,
   "metadata": {
    "ExecuteTime": {
     "end_time": "2019-01-29T14:51:39.553897Z",
     "start_time": "2019-01-29T14:51:39.549783Z"
    }
   },
   "outputs": [],
   "source": [
    "import pickle\n",
    "with open('wyniki.pkl', 'wb') as f:\n",
    "    pickle.dump(results_all, f)\n",
    "    pickle.dump(names_all, f)"
   ]
  },
  {
   "cell_type": "code",
   "execution_count": 52,
   "metadata": {
    "ExecuteTime": {
     "end_time": "2019-01-29T14:51:00.603043Z",
     "start_time": "2019-01-29T14:51:00.599672Z"
    }
   },
   "outputs": [],
   "source": [
    "with open('wyniki.pkl', 'rb') as f:\n",
    "    results_all = pickle.load(f)\n",
    "    names_all = pickle.load(f)"
   ]
  },
  {
   "cell_type": "markdown",
   "metadata": {
    "ExecuteTime": {
     "end_time": "2019-01-26T13:44:14.248713Z",
     "start_time": "2019-01-26T13:44:14.246008Z"
    }
   },
   "source": [
    "# Zestawienie przetestowanych metod"
   ]
  },
  {
   "cell_type": "markdown",
   "metadata": {},
   "source": [
    "Ponieżej znajduje się wykres zawierający wyniki wszystkich przetestowanych metod. Jak widać, najlepsze rezultaty uzyskał algorytm"
   ]
  },
  {
   "cell_type": "code",
   "execution_count": 43,
   "metadata": {
    "ExecuteTime": {
     "end_time": "2019-01-29T14:00:30.460295Z",
     "start_time": "2019-01-29T14:00:29.974199Z"
    }
   },
   "outputs": [
    {
     "data": {
      "image/png": "[encoded data removed]",
      "text/plain": [
       "<Figure size 1080x1080 with 1 Axes>"
      ]
     },
     "metadata": {},
     "output_type": "display_data"
    }
   ],
   "source": [
    "fig=plt.figure(figsize=(15,15))\n",
    "fig.suptitle('Porównanie wyników algorytmów',fontsize=15)\n",
    "ax=fig.add_subplot(111)\n",
    "plt.boxplot(results_all)\n",
    "ax.set_ylabel('Średni błąd kwadratowy',fontsize=15)\n",
    "ax.set_xticklabels(names_all,fontsize=12)\n",
    "# ax.\n",
    "plt.savefig('wyniki.pdf',format='pdf')\n",
    "plt.show()"
   ]
  },
  {
   "cell_type": "markdown",
   "metadata": {},
   "source": [
    "# Linear model"
   ]
  },
  {
   "cell_type": "code",
   "execution_count": 124,
   "metadata": {
    "ExecuteTime": {
     "end_time": "2019-01-26T14:33:28.277673Z",
     "start_time": "2019-01-26T14:33:27.459939Z"
    }
   },
   "outputs": [
    {
     "data": {
      "text/plain": [
       "LinearRegression(copy_X=True, fit_intercept=True, n_jobs=1, normalize=False)"
      ]
     },
     "execution_count": 124,
     "metadata": {},
     "output_type": "execute_result"
    }
   ],
   "source": [
    "scaler = StandardScaler().fit(X_train)\n",
    "rescaledX= scaler.transform(X_train)\n",
    "model= LinearRegression()\n",
    "# model=xgb.XGBRegressor()\n",
    "model.fit(rescaledX,Y_train)"
   ]
  },
  {
   "cell_type": "code",
   "execution_count": 125,
   "metadata": {
    "ExecuteTime": {
     "end_time": "2019-01-26T14:33:28.392326Z",
     "start_time": "2019-01-26T14:33:28.280770Z"
    }
   },
   "outputs": [
    {
     "name": "stdout",
     "output_type": "stream",
     "text": [
      "0.012015815882509297\n"
     ]
    }
   ],
   "source": [
    "rescaledTestX = scaler.transform(X_test)\n",
    "predictions = model.predict(rescaledTestX)\n",
    "print(mean_squared_error(Y_test,predictions))"
   ]
  },
  {
   "cell_type": "code",
   "execution_count": 126,
   "metadata": {
    "ExecuteTime": {
     "end_time": "2019-01-26T14:33:28.567965Z",
     "start_time": "2019-01-26T14:33:28.395672Z"
    }
   },
   "outputs": [
    {
     "data": {
      "image/png": "[encoded data removed]",
      "text/plain": [
       "<Figure size 432x288 with 1 Axes>"
      ]
     },
     "metadata": {},
     "output_type": "display_data"
    }
   ],
   "source": [
    "plt.plot(Y_test[:100])\n",
    "plt.plot(predictions[:100])\n",
    "plt.show()"
   ]
  },
  {
   "cell_type": "markdown",
   "metadata": {},
   "source": [
    "## Porównanie algorytmów"
   ]
  },
  {
   "cell_type": "markdown",
   "metadata": {},
   "source": [
    "W celu łatwiejszego porównania jakości algorytmów, wprowadzono następującą metrykę precyzji (accuracy). Mierzono kiedy algorytm poprawnie przewidział wzrotst ceny (y>0) która faktycznie zaszła TP oraz kiedy algorytm poprawnie przewidział spadek ceny (y<0) TN. Następnie obliczono ile jaki procent stanowi suma TP i TN. "
   ]
  },
  {
   "cell_type": "code",
   "execution_count": 127,
   "metadata": {
    "ExecuteTime": {
     "end_time": "2019-01-26T14:33:32.819500Z",
     "start_time": "2019-01-26T14:33:32.024329Z"
    }
   },
   "outputs": [],
   "source": [
    "TP=[1 if Y_test[x]>0 and predictions[x]>0 else 0 for x in range(len(Y_test)) ]\n",
    "TN=[1 if Y_test[x]<0 and predictions[x]<0 else 0 for x in range(len(Y_test)) ]"
   ]
  },
  {
   "cell_type": "code",
   "execution_count": 128,
   "metadata": {
    "ExecuteTime": {
     "end_time": "2019-01-26T14:33:32.850862Z",
     "start_time": "2019-01-26T14:33:32.821786Z"
    }
   },
   "outputs": [
    {
     "name": "stdout",
     "output_type": "stream",
     "text": [
      "Accuracy = 63.4%\n"
     ]
    }
   ],
   "source": [
    "accuracy=(sum(TP)+sum(TN))/len(Y_test)\n",
    "print('Accuracy = {:.1f}%'.format(accuracy*100))"
   ]
  },
  {
   "cell_type": "markdown",
   "metadata": {},
   "source": [
    "Algorytm regresji liniowej w 63.4% procentach dobrze przewiduje, czy akcje wzrosną czy spadną"
   ]
  },
  {
   "cell_type": "markdown",
   "metadata": {},
   "source": [
    "# XGBoost"
   ]
  },
  {
   "cell_type": "code",
   "execution_count": 81,
   "metadata": {
    "ExecuteTime": {
     "end_time": "2019-01-26T14:14:31.199118Z",
     "start_time": "2019-01-26T14:12:22.035458Z"
    }
   },
   "outputs": [
    {
     "data": {
      "text/plain": [
       "XGBRegressor(base_score=0.5, booster='gbtree', colsample_bylevel=1,\n",
       "       colsample_bytree=1, gamma=0, learning_rate=0.1, max_delta_step=0,\n",
       "       max_depth=3, min_child_weight=1, missing=None, n_estimators=100,\n",
       "       n_jobs=1, nthread=None, objective='reg:linear', random_state=0,\n",
       "       reg_alpha=0, reg_lambda=1, scale_pos_weight=1, seed=None,\n",
       "       silent=True, subsample=1)"
      ]
     },
     "execution_count": 81,
     "metadata": {},
     "output_type": "execute_result"
    }
   ],
   "source": [
    "scaler = StandardScaler().fit(X_train)\n",
    "rescaledX= scaler.transform(X_train)\n",
    "# model= LinearRegression()\n",
    "model=xgb.XGBRegressor()\n",
    "model.fit(rescaledX,Y_train)"
   ]
  },
  {
   "cell_type": "code",
   "execution_count": 82,
   "metadata": {
    "ExecuteTime": {
     "end_time": "2019-01-26T14:14:33.697950Z",
     "start_time": "2019-01-26T14:14:31.204038Z"
    }
   },
   "outputs": [
    {
     "name": "stdout",
     "output_type": "stream",
     "text": [
      "0.011826281154456473\n"
     ]
    }
   ],
   "source": [
    "rescaledTestX = scaler.transform(X_test)\n",
    "predictions = model.predict(rescaledTestX)\n",
    "print(mean_squared_error(Y_test,predictions))"
   ]
  },
  {
   "cell_type": "code",
   "execution_count": 83,
   "metadata": {
    "ExecuteTime": {
     "end_time": "2019-01-26T14:14:33.842234Z",
     "start_time": "2019-01-26T14:14:33.700707Z"
    }
   },
   "outputs": [
    {
     "data": {
      "image/png": "[encoded data removed]",
      "text/plain": [
       "<Figure size 432x288 with 1 Axes>"
      ]
     },
     "metadata": {},
     "output_type": "display_data"
    }
   ],
   "source": [
    "plt.plot(Y_test[:100])\n",
    "plt.plot(predictions[:100])\n",
    "plt.show()"
   ]
  },
  {
   "cell_type": "code",
   "execution_count": 86,
   "metadata": {
    "ExecuteTime": {
     "end_time": "2019-01-26T14:14:57.158769Z",
     "start_time": "2019-01-26T14:14:53.934458Z"
    }
   },
   "outputs": [],
   "source": [
    "TP=[1 if Y_test[x]>0 and predictions[x]>0 else 0 for x in range(len(Y_test)) ]\n",
    "TN=[1 if Y_test[x]<0 and predictions[x]<0 else 0 for x in range(len(Y_test)) ]"
   ]
  },
  {
   "cell_type": "code",
   "execution_count": 111,
   "metadata": {
    "ExecuteTime": {
     "end_time": "2019-01-26T14:25:25.191576Z",
     "start_time": "2019-01-26T14:25:25.169075Z"
    }
   },
   "outputs": [
    {
     "name": "stdout",
     "output_type": "stream",
     "text": [
      "Accuracy = 63.9%\n"
     ]
    }
   ],
   "source": [
    "accuracy=(sum(TP)+sum(TN))/len(Y_test)\n",
    "print('Accuracy = {:.1f}%'.format(accuracy*100))"
   ]
  },
  {
   "cell_type": "markdown",
   "metadata": {},
   "source": [
    "Algorytm XGBoost w 63.9% procentach dobrze przewiduje, czy akcje wzrosną czy spadną"
   ]
  },
  {
   "cell_type": "markdown",
   "metadata": {},
   "source": [
    "# Algorytm naiwny"
   ]
  },
  {
   "cell_type": "markdown",
   "metadata": {},
   "source": [
    "Algorytm naiwny przewiduje zmianę ceny jednynie na postawie ostatniej obserwacji. Wykorzystuje obserwacje, że jeśli cena akcji zmalała to prawdopodobnie następnie wzrośnie. I odwrotnie, jeśli cena spadła w danej chwili to prawdopodobnie za chwilę znowu wzrosnie. Algorytm zatem przewiduje następną zmianę jako przeciwną obecnej. "
   ]
  },
  {
   "cell_type": "code",
   "execution_count": 88,
   "metadata": {
    "ExecuteTime": {
     "end_time": "2019-01-26T14:15:14.489698Z",
     "start_time": "2019-01-26T14:15:14.484918Z"
    }
   },
   "outputs": [],
   "source": [
    "# X_train=X_train[:10]\n",
    "# Y_train=Y_train[:10]"
   ]
  },
  {
   "cell_type": "raw",
   "metadata": {
    "ExecuteTime": {
     "end_time": "2019-01-26T14:18:44.994769Z",
     "start_time": "2019-01-26T14:18:44.989410Z"
    }
   },
   "source": [
    "X_train[:,0]"
   ]
  },
  {
   "cell_type": "raw",
   "metadata": {},
   "source": [
    "Y_train"
   ]
  },
  {
   "cell_type": "raw",
   "metadata": {
    "ExecuteTime": {
     "end_time": "2019-01-26T14:19:08.745486Z",
     "start_time": "2019-01-26T14:19:08.741508Z"
    }
   },
   "source": [
    "Y_train.shape[0]"
   ]
  },
  {
   "cell_type": "code",
   "execution_count": 117,
   "metadata": {
    "ExecuteTime": {
     "end_time": "2019-01-26T14:29:32.996447Z",
     "start_time": "2019-01-26T14:29:32.984455Z"
    }
   },
   "outputs": [],
   "source": [
    "ilosc_wszystkich_danych=Y_train.shape[0]"
   ]
  },
  {
   "cell_type": "code",
   "execution_count": 118,
   "metadata": {
    "ExecuteTime": {
     "end_time": "2019-01-26T14:29:33.024870Z",
     "start_time": "2019-01-26T14:29:33.001740Z"
    }
   },
   "outputs": [],
   "source": [
    "X_train_test=np.array([-X_train[:,0],Y_train])\n",
    "# print(X_train_test[0])\n",
    "# print(X_train_test[1])"
   ]
  },
  {
   "cell_type": "code",
   "execution_count": 119,
   "metadata": {
    "ExecuteTime": {
     "end_time": "2019-01-26T14:29:33.032068Z",
     "start_time": "2019-01-26T14:29:33.028917Z"
    }
   },
   "outputs": [],
   "source": [
    "suma=0"
   ]
  },
  {
   "cell_type": "code",
   "execution_count": 120,
   "metadata": {
    "ExecuteTime": {
     "end_time": "2019-01-26T14:29:38.123867Z",
     "start_time": "2019-01-26T14:29:33.035374Z"
    }
   },
   "outputs": [],
   "source": [
    "A=X_train_test[0] >0\n",
    "B=X_train_test[1]>0\n",
    "# print(A)\n",
    "# print(B)\n",
    "# print(A*B)\n",
    "suma+=sum(A*B)"
   ]
  },
  {
   "cell_type": "code",
   "execution_count": 121,
   "metadata": {
    "ExecuteTime": {
     "end_time": "2019-01-26T14:29:43.341569Z",
     "start_time": "2019-01-26T14:29:38.126269Z"
    }
   },
   "outputs": [],
   "source": [
    "A=X_train_test[0] <0 \n",
    "B=X_train_test[1]<0\n",
    "# print(A)\n",
    "# print(B)\n",
    "# print(A*B)\n",
    "suma+=sum(A*B)"
   ]
  },
  {
   "cell_type": "code",
   "execution_count": 122,
   "metadata": {
    "ExecuteTime": {
     "end_time": "2019-01-26T14:29:48.598054Z",
     "start_time": "2019-01-26T14:29:43.344466Z"
    }
   },
   "outputs": [],
   "source": [
    "B=X_train_test[1] ==0 \n",
    "A=X_train_test[0] == 0\n",
    "# print(A)\n",
    "# print(B)\n",
    "# print(sum(A*B))\n",
    "suma+=sum(A*B)"
   ]
  },
  {
   "cell_type": "code",
   "execution_count": 123,
   "metadata": {
    "ExecuteTime": {
     "end_time": "2019-01-26T14:29:48.606347Z",
     "start_time": "2019-01-26T14:29:48.600724Z"
    }
   },
   "outputs": [
    {
     "name": "stdout",
     "output_type": "stream",
     "text": [
      "Accuracy = 63.7%\n"
     ]
    }
   ],
   "source": [
    "accuracy=(suma/ilosc_wszystkich_danych)\n",
    "print('Accuracy = {:.1f}%'.format(accuracy*100))"
   ]
  },
  {
   "cell_type": "markdown",
   "metadata": {},
   "source": [
    "Jak widać algorytm naiwny poprawnie przewiduje zmianę ceny akcji w 63.7%"
   ]
  },
  {
   "cell_type": "markdown",
   "metadata": {},
   "source": [
    "# Podsumowanie i wnioski"
   ]
  },
  {
   "cell_type": "markdown",
   "metadata": {},
   "source": [
    "W czasie eksperymentu przetestowano różne algorytmy pod kątem przewidywania zmian cen akcji. Najlepsze wyniki otrzymał algorytm XGBoost (63.9%). Wynik ten jest lepszy od wyniku naiwnego algorytmu (63.7%). Regresja liniowa również osiągneła wysoki wynik (63.4%). \n",
    "\n",
    "Oznacza to, że metody uczenia maszynowego dają nieznacznie lepsze wyniki, jednak nie jest to bardzo duża różnica. Możliwe, że zastosowanie sieci neuronowych pozwoliłoby na osiągnięcie jeszcze lepszego rezultatu. Można również spróbować zmienić parametry modelu XGBoost co pozwoli poprawić jego rezultaty.\n",
    "\n",
    "Ciekawym kierunkiem dalszych badań wydaje się próba zmiany ilości tranzakcji z jakich korzysta algorytm. Można również zbadać jak dobrze model sprawdza się dla akcji innych spółek. W celu potencjalnego zastosowania algorytmu do prognozowania zachowań na giełdzie, istotne byłoby przewidywanie więcej niż jednej transakcji w przód. \n",
    "\n",
    "Reasumując, metody uczenia maszynowego mimo, iż znajdują zastosowanie w wielu dziedzinach, są prawdopodobnie niewystarczające do przewidywania zmian kursów akcji na giełdzie."
   ]
  },
  {
   "cell_type": "markdown",
   "metadata": {},
   "source": [
    "# Załączniki"
   ]
  },
  {
   "cell_type": "markdown",
   "metadata": {},
   "source": [
    "Program przygotowujący dane -- https://github.com/Moribund7/kghm_forecasting/blob/master/notebooks/Data_preparing.ipynb\n",
    "\n",
    "\n",
    "Program czyszczący dane -- \n",
    "https://github.com/Moribund7/kghm_forecasting/blob/master/notebooks/data_clearing.ipynb\n",
    "\n",
    "\n",
    "Dokumentacja algorytmu XGBoost --\n",
    "https://xgboost.readthedocs.io/en/latest/python/python_api.html"
   ]
  }
 ],
 "metadata": {
  "kernelspec": {
   "display_name": "Python [default]",
   "language": "python",
   "name": "python3"
  },
  "language_info": {
   "codemirror_mode": {
    "name": "ipython",
    "version": 3
   },
   "file_extension": ".py",
   "mimetype": "text/x-python",
   "name": "python",
   "nbconvert_exporter": "python",
   "pygments_lexer": "ipython3",
   "version": "3.7.0"
  }
 },
 "nbformat": 4,
 "nbformat_minor": 2
}
