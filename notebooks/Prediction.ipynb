{
 "cells": [
  {
   "cell_type": "markdown",
   "metadata": {
    "ExecuteTime": {
     "end_time": "2018-11-16T14:45:39.567333Z",
     "start_time": "2018-11-16T14:45:39.554784Z"
    }
   },
   "source": [
    "Na podstwie ostatnich 5 przewidzieć kolejną jedna -- wejsscie to deltta t i zmiana kursu\n",
    "\n",
    "\n",
    "\n",
    "Dane zrobic w fromie 5 danych i wynik , potemm je poshuflowac\n",
    "wyrzucic zmiany dluzsze niz dzien\n",
    "mozna zsporbowac dane gdzie nic sie nie zmienilo tez wyrzucic "
   ]
  },
  {
   "cell_type": "markdown",
   "metadata": {},
   "source": [
    "# TO DO:"
   ]
  },
  {
   "cell_type": "markdown",
   "metadata": {},
   "source": [
    "1. zmienic close na cours change w prepare_day DONE\n",
    "2. zamineic df na numpy array DONE\n",
    "3. przetestowac wyjatek w prepare_day\n",
    "4. podzielic miesiace na grupy 6,1,3,1 DONE\n",
    "4. przetestowac inne modele, w liniowym sprobowac zrobic binaryny output"
   ]
  },
  {
   "cell_type": "code",
   "execution_count": 16,
   "metadata": {
    "ExecuteTime": {
     "end_time": "2018-12-04T14:28:53.518277Z",
     "start_time": "2018-12-04T14:28:53.512259Z"
    }
   },
   "outputs": [],
   "source": [
    "import pandas as pd\n",
    "import matplotlib.pyplot as plt"
   ]
  },
  {
   "cell_type": "code",
   "execution_count": 17,
   "metadata": {
    "ExecuteTime": {
     "end_time": "2018-12-04T14:28:54.103659Z",
     "start_time": "2018-12-04T14:28:54.097652Z"
    }
   },
   "outputs": [],
   "source": [
    "df_test_path='../data/df_test'\n",
    "df_train_path='../data/df_train'"
   ]
  },
  {
   "cell_type": "markdown",
   "metadata": {},
   "source": [
    "# Prediction"
   ]
  },
  {
   "cell_type": "code",
   "execution_count": 4,
   "metadata": {
    "ExecuteTime": {
     "end_time": "2018-12-04T14:27:06.314761Z",
     "start_time": "2018-12-04T14:27:06.307477Z"
    }
   },
   "outputs": [],
   "source": [
    "from sklearn.linear_model import LinearRegression\n",
    "from sklearn import preprocessing, model_selection, svm\n",
    "import numpy as np"
   ]
  },
  {
   "cell_type": "markdown",
   "metadata": {
    "ExecuteTime": {
     "end_time": "2018-11-30T14:47:15.781874Z",
     "start_time": "2018-11-30T14:47:01.288Z"
    }
   },
   "source": [
    "## Load data"
   ]
  },
  {
   "cell_type": "code",
   "execution_count": 7,
   "metadata": {
    "ExecuteTime": {
     "end_time": "2018-12-04T14:27:22.233968Z",
     "start_time": "2018-12-04T14:27:19.648243Z"
    }
   },
   "outputs": [],
   "source": [
    "df_test=pd.read_pickle(df_test_path)\n",
    "df_train=pd.read_pickle(df_train_path)"
   ]
  },
  {
   "cell_type": "code",
   "execution_count": 8,
   "metadata": {
    "ExecuteTime": {
     "end_time": "2018-12-04T14:27:22.948251Z",
     "start_time": "2018-12-04T14:27:22.936073Z"
    }
   },
   "outputs": [],
   "source": [
    "def df_to_array(df,shuffle=True):\n",
    "    '''\n",
    "    Takes dateframe and returns numpy arrays X,y\n",
    "    '''\n",
    "    if shuffle:\n",
    "        df = df.sample(frac=1).reset_index(drop=True)\n",
    "    X = np.array(df[[x for x in df.columns if 'Time' in x or 'Cours' in x]])\n",
    "    y =  np.array(df.y)\n",
    "    return X, y"
   ]
  },
  {
   "cell_type": "code",
   "execution_count": 9,
   "metadata": {
    "ExecuteTime": {
     "end_time": "2018-12-04T14:27:28.831124Z",
     "start_time": "2018-12-04T14:27:23.399176Z"
    }
   },
   "outputs": [],
   "source": [
    "X_test,y_test=df_to_array(df_test)\n",
    "X_train,y_train=df_to_array(df_train)"
   ]
  },
  {
   "cell_type": "code",
   "execution_count": 12,
   "metadata": {
    "ExecuteTime": {
     "end_time": "2018-12-04T14:27:54.987006Z",
     "start_time": "2018-12-04T14:27:54.978205Z"
    }
   },
   "outputs": [
    {
     "data": {
      "text/plain": [
       "(1500539, 10)"
      ]
     },
     "execution_count": 12,
     "metadata": {},
     "output_type": "execute_result"
    }
   ],
   "source": [
    "X_test.shape"
   ]
  },
  {
   "cell_type": "code",
   "execution_count": 13,
   "metadata": {
    "ExecuteTime": {
     "end_time": "2018-12-04T14:28:03.141214Z",
     "start_time": "2018-12-04T14:28:03.133631Z"
    }
   },
   "outputs": [
    {
     "data": {
      "text/plain": [
       "(1500539, 10)"
      ]
     },
     "execution_count": 13,
     "metadata": {},
     "output_type": "execute_result"
    }
   ],
   "source": [
    "X_train.shape"
   ]
  },
  {
   "cell_type": "code",
   "execution_count": 10,
   "metadata": {
    "ExecuteTime": {
     "end_time": "2018-12-04T14:27:30.048880Z",
     "start_time": "2018-12-04T14:27:30.036178Z"
    }
   },
   "outputs": [
    {
     "data": {
      "text/plain": [
       "(1500539,)"
      ]
     },
     "execution_count": 10,
     "metadata": {},
     "output_type": "execute_result"
    }
   ],
   "source": [
    "y_train.shape"
   ]
  },
  {
   "cell_type": "code",
   "execution_count": 11,
   "metadata": {
    "ExecuteTime": {
     "end_time": "2018-12-04T14:27:30.719492Z",
     "start_time": "2018-12-04T14:27:30.710532Z"
    }
   },
   "outputs": [
    {
     "data": {
      "text/plain": [
       "(1500539,)"
      ]
     },
     "execution_count": 11,
     "metadata": {},
     "output_type": "execute_result"
    }
   ],
   "source": [
    "y_test.shape"
   ]
  },
  {
   "cell_type": "markdown",
   "metadata": {
    "ExecuteTime": {
     "end_time": "2018-11-29T15:53:50.395109Z",
     "start_time": "2018-11-29T15:53:50.389956Z"
    }
   },
   "source": [
    "## Add normalization"
   ]
  },
  {
   "cell_type": "code",
   "execution_count": 10,
   "metadata": {
    "ExecuteTime": {
     "end_time": "2018-11-30T15:03:15.693755Z",
     "start_time": "2018-11-30T15:03:13.792105Z"
    }
   },
   "outputs": [],
   "source": [
    "from sklearn.preprocessing import StandardScaler\n",
    "scaler = StandardScaler().fit(X_test)\n",
    "rescaledX_test= scaler.transform(X_test)\n",
    "rescaledX_train=scaler.transform(X_train)\n",
    "# summarize transformed data\n",
    "np.set_printoptions(precision=3)"
   ]
  },
  {
   "cell_type": "code",
   "execution_count": 11,
   "metadata": {
    "ExecuteTime": {
     "end_time": "2018-11-30T15:03:15.726331Z",
     "start_time": "2018-11-30T15:03:15.699592Z"
    }
   },
   "outputs": [],
   "source": [
    "X_train=rescaledX_train\n",
    "X_test=rescaledX_test"
   ]
  },
  {
   "cell_type": "raw",
   "metadata": {
    "ExecuteTime": {
     "end_time": "2018-11-25T18:09:58.461900Z",
     "start_time": "2018-11-25T18:09:58.458696Z"
    }
   },
   "source": [
    "# Create the Scaler object\n",
    "scaler = preprocessing.StandardScaler()"
   ]
  },
  {
   "cell_type": "raw",
   "metadata": {
    "ExecuteTime": {
     "end_time": "2018-11-25T18:10:12.896241Z",
     "start_time": "2018-11-25T18:10:11.922787Z"
    }
   },
   "source": [
    "normalized_X = preprocessing.scale(X)\n",
    "normalized_y = preprocessing.scale(y)\n",
    "# normalized_X=X\n",
    "# normalized_y=y"
   ]
  },
  {
   "cell_type": "raw",
   "metadata": {
    "ExecuteTime": {
     "end_time": "2018-11-25T18:10:12.906650Z",
     "start_time": "2018-11-25T18:10:12.899316Z"
    }
   },
   "source": [
    "print(normalized_y.shape,normalized_X.shape)"
   ]
  },
  {
   "cell_type": "raw",
   "metadata": {
    "ExecuteTime": {
     "end_time": "2018-11-25T18:10:13.513624Z",
     "start_time": "2018-11-25T18:10:13.503865Z"
    }
   },
   "source": [
    "normalized_X"
   ]
  },
  {
   "cell_type": "code",
   "execution_count": 12,
   "metadata": {
    "ExecuteTime": {
     "end_time": "2018-11-30T15:03:18.919676Z",
     "start_time": "2018-11-30T15:03:16.997138Z"
    }
   },
   "outputs": [
    {
     "name": "stdout",
     "output_type": "stream",
     "text": [
      "confidence:  0.11030547895101261\n"
     ]
    }
   ],
   "source": [
    "# Training\n",
    "clf = LinearRegression()\n",
    "clf.fit(X_train,y_train)\n",
    "# Testing\n",
    "confidence = clf.score(X_test, y_test)\n",
    "print(\"confidence: \", confidence)"
   ]
  },
  {
   "cell_type": "code",
   "execution_count": 18,
   "metadata": {
    "ExecuteTime": {
     "end_time": "2018-11-30T15:05:41.118476Z",
     "start_time": "2018-11-30T15:05:41.106452Z"
    }
   },
   "outputs": [
    {
     "name": "stdout",
     "output_type": "stream",
     "text": [
      "[ 0.     0.001 -0.025  0.001 -0.019  0.018  0.018  0.001 -0.004  0.012] \n",
      " [ 0.    0.   -0.1   0.   -0.12  0.    0.02  0.    0.    0.3 ]\n"
     ]
    }
   ],
   "source": [
    "forecast_prediction = clf.predict(X_test[:10])\n",
    "print(forecast_prediction,'\\n',y_test[:10])"
   ]
  },
  {
   "cell_type": "code",
   "execution_count": null,
   "metadata": {
    "ExecuteTime": {
     "end_time": "2018-11-30T15:03:19.461709Z",
     "start_time": "2018-11-30T15:03:18.493Z"
    }
   },
   "outputs": [],
   "source": [
    "a=X_test[:-5]\n",
    "print(a)\n",
    "print(y_test[:-5])"
   ]
  },
  {
   "cell_type": "code",
   "execution_count": null,
   "metadata": {
    "ExecuteTime": {
     "end_time": "2018-11-16T17:15:32.077934Z",
     "start_time": "2018-11-16T17:15:32.066230Z"
    }
   },
   "outputs": [],
   "source": [
    "clf.predict(a)"
   ]
  },
  {
   "cell_type": "markdown",
   "metadata": {},
   "source": [
    "# More models"
   ]
  },
  {
   "cell_type": "code",
   "execution_count": 1,
   "metadata": {
    "ExecuteTime": {
     "end_time": "2018-12-04T14:24:49.670825Z",
     "start_time": "2018-12-04T14:24:45.373958Z"
    }
   },
   "outputs": [],
   "source": [
    "from pandas import read_csv\n",
    "import pandas as pd\n",
    "import matplotlib.pyplot as plt\n",
    "from sklearn.linear_model import LinearRegression\n",
    "from sklearn.linear_model import Lasso\n",
    "from sklearn.linear_model import ElasticNet\n",
    "from sklearn.model_selection import train_test_split \n",
    "from sklearn.neighbors import KNeighborsRegressor\n",
    "from sklearn.tree import DecisionTreeRegressor\n",
    "from sklearn.svm import SVR\n",
    "from sklearn.model_selection import GridSearchCV\n",
    "from sklearn.model_selection import cross_val_score\n",
    "from sklearn.model_selection import KFold\n",
    "from sklearn.metrics import mean_squared_error\n",
    "from sklearn.pipeline import Pipeline\n",
    "from sklearn.preprocessing import  StandardScaler\n",
    "from sklearn.model_selection import RandomizedSearchCV\n",
    "import numpy as np"
   ]
  },
  {
   "cell_type": "markdown",
   "metadata": {},
   "source": [
    "# Test options and eveluation metric"
   ]
  },
  {
   "cell_type": "code",
   "execution_count": 2,
   "metadata": {
    "ExecuteTime": {
     "end_time": "2018-12-04T14:26:35.816815Z",
     "start_time": "2018-12-04T14:26:35.808998Z"
    }
   },
   "outputs": [],
   "source": [
    "num_folds=10\n",
    "scoring='neg_mean_squared_error'"
   ]
  },
  {
   "cell_type": "markdown",
   "metadata": {},
   "source": [
    "# Spot-check algorithms"
   ]
  },
  {
   "cell_type": "code",
   "execution_count": 3,
   "metadata": {
    "ExecuteTime": {
     "end_time": "2018-12-04T14:26:40.719725Z",
     "start_time": "2018-12-04T14:26:40.707000Z"
    }
   },
   "outputs": [],
   "source": [
    "models=[]\n",
    "models.append(('LR',LinearRegression()))\n",
    "models.append(('LASSO',Lasso()))\n",
    "models.append(('EN',ElasticNet()))\n",
    "models.append(('KNN',KNeighborsRegressor()))\n",
    "models.append(('CART',DecisionTreeRegressor()))\n",
    "models.append(('SVR',SVR()))"
   ]
  },
  {
   "cell_type": "markdown",
   "metadata": {},
   "source": [
    "# Evaluate models"
   ]
  },
  {
   "cell_type": "code",
   "execution_count": null,
   "metadata": {},
   "outputs": [],
   "source": [
    "results=[]\n",
    "names=[]\n",
    "for name, model in models:\n",
    "    kfold=KFold(n_splits=num_folds,random_state=seed,shuffle=True)\n",
    "    cv_results=cross_val_score(model,X_train,Y_train,cv=kfold,scoring=scoring)\n",
    "    results.append(cv_results)\n",
    "    names.append(name)\n",
    "    message=\"%a: %f (%f)\" % (name,cv_results.mean(),cv_results.std())\n",
    "    print(message)\n",
    "\n",
    "fig=plt.figure()\n",
    "fig.suptitle('Algorithm Comprasion')\n",
    "ax=fig.add_subplot(111)\n",
    "plt.boxplot(results)\n",
    "ax.set_xticklabels(names)\n",
    "plt.show()\n",
    "\n",
    "model=DecisionTreeRegressor()\n",
    "model.fit(X=X_train,y=Y_train)\n",
    "\n",
    "predictions=model.predict(X_validation)\n",
    "print(mean_squared_error(Y_validation,predictions))\n",
    "\n",
    "predictions\n",
    "\n",
    "Y_validation"
   ]
  },
  {
   "cell_type": "code",
   "execution_count": null,
   "metadata": {},
   "outputs": [],
   "source": [
    "This models dont look nice. We should standardize the data."
   ]
  },
  {
   "cell_type": "code",
   "execution_count": null,
   "metadata": {},
   "outputs": [],
   "source": [
    "# Standardize the data"
   ]
  },
  {
   "cell_type": "code",
   "execution_count": null,
   "metadata": {},
   "outputs": [],
   "source": [
    "piplines=[]\n",
    "piplines.append(('ScaledLR',Pipeline([('Scaler',StandardScaler()),('LR',LinearRegression())])))\n",
    "piplines.append(('ScaledLASSO',Pipeline([('Scaler',StandardScaler()),('LASSO',Lasso())])))\n",
    "piplines.append(('ScaledEN',Pipeline([('Scaler',StandardScaler()),('EN',ElasticNet())])))\n",
    "piplines.append(('ScaledKNN',Pipeline([('Scaler',StandardScaler()),('KNN',KNeighborsRegressor())])))\n",
    "piplines.append(('ScaledCART',Pipeline([('Scaler',StandardScaler()),('CART',DecisionTreeRegressor())])))\n",
    "piplines.append(('ScaledSVR',Pipeline([('Scaler',StandardScaler()),('SVR',SVR())])))\n",
    "\n",
    "results=[]\n",
    "names=[]\n",
    "for name, model in piplines:\n",
    "    kfold=KFold(n_splits=num_folds,random_state=seed,shuffle=True)\n",
    "    cv_results=cross_val_score(model,X_train,Y_train,cv=kfold,scoring=scoring)\n",
    "    results.append(cv_results)\n",
    "    names.append(name)\n",
    "    message=\"%a: %f (%f)\" % (name,cv_results.mean(),cv_results.std())\n",
    "    print(message)"
   ]
  },
  {
   "cell_type": "code",
   "execution_count": null,
   "metadata": {},
   "outputs": [],
   "source": [
    "fig=plt.figure()\n",
    "fig.suptitle('Algorithm Comprasion')\n",
    "ax=fig.add_subplot(111)\n",
    "plt.boxplot(results)\n",
    "ax.set_xticklabels(names)\n",
    "plt.show()"
   ]
  }
 ],
 "metadata": {
  "kernelspec": {
   "display_name": "Python [default]",
   "language": "python",
   "name": "python3"
  },
  "language_info": {
   "codemirror_mode": {
    "name": "ipython",
    "version": 3
   },
   "file_extension": ".py",
   "mimetype": "text/x-python",
   "name": "python",
   "nbconvert_exporter": "python",
   "pygments_lexer": "ipython3",
   "version": "3.7.0"
  }
 },
 "nbformat": 4,
 "nbformat_minor": 2
}
