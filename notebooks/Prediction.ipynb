{
 "cells": [
  {
   "cell_type": "markdown",
   "metadata": {
    "ExecuteTime": {
     "end_time": "2018-11-16T14:45:39.567333Z",
     "start_time": "2018-11-16T14:45:39.554784Z"
    }
   },
   "source": [
    "Na podstwie ostatnich 5 przewidzieć kolejną jedna -- wejsscie to deltta t i zmiana kursu\n",
    "\n",
    "\n",
    "\n",
    "Dane zrobic w fromie 5 danych i wynik , potemm je poshuflowac\n",
    "wyrzucic zmiany dluzsze niz dzien\n",
    "mozna zsporbowac dane gdzie nic sie nie zmienilo tez wyrzucic "
   ]
  },
  {
   "cell_type": "markdown",
   "metadata": {},
   "source": [
    "# TO DO:"
   ]
  },
  {
   "cell_type": "markdown",
   "metadata": {},
   "source": [
    "1. zmienic close na cours change w prepare_day DONE\n",
    "2. zamineic df na numpy array DONE\n",
    "3. przetestowac wyjatek w prepare_day\n",
    "4. podzielic miesiace na grupy 6,1,3,1 DONE\n",
    "4. przetestowac inne modele, w liniowym sprobowac zrobic binaryny output"
   ]
  },
  {
   "cell_type": "code",
   "execution_count": 1,
   "metadata": {
    "ExecuteTime": {
     "end_time": "2018-12-04T15:22:46.046850Z",
     "start_time": "2018-12-04T15:22:45.098744Z"
    }
   },
   "outputs": [],
   "source": [
    "import pandas as pd\n",
    "import matplotlib.pyplot as plt"
   ]
  },
  {
   "cell_type": "code",
   "execution_count": 2,
   "metadata": {
    "ExecuteTime": {
     "end_time": "2018-12-04T15:22:46.058505Z",
     "start_time": "2018-12-04T15:22:46.052245Z"
    }
   },
   "outputs": [],
   "source": [
    "df_test_path='../data/df_test'\n",
    "df_train_path='../data/df_train'"
   ]
  },
  {
   "cell_type": "markdown",
   "metadata": {},
   "source": [
    "# Prediction"
   ]
  },
  {
   "cell_type": "code",
   "execution_count": 3,
   "metadata": {
    "ExecuteTime": {
     "end_time": "2018-12-04T15:22:47.492639Z",
     "start_time": "2018-12-04T15:22:46.063255Z"
    }
   },
   "outputs": [],
   "source": [
    "from sklearn.linear_model import LinearRegression\n",
    "from sklearn import preprocessing, model_selection, svm\n",
    "import numpy as np"
   ]
  },
  {
   "cell_type": "markdown",
   "metadata": {
    "ExecuteTime": {
     "end_time": "2018-11-30T14:47:15.781874Z",
     "start_time": "2018-11-30T14:47:01.288Z"
    }
   },
   "source": [
    "## Load data"
   ]
  },
  {
   "cell_type": "code",
   "execution_count": 29,
   "metadata": {
    "ExecuteTime": {
     "end_time": "2018-12-04T15:41:49.846976Z",
     "start_time": "2018-12-04T15:41:47.577926Z"
    }
   },
   "outputs": [],
   "source": [
    "df_test=pd.read_pickle(df_test_path)\n",
    "df_train=pd.read_pickle(df_train_path)"
   ]
  },
  {
   "cell_type": "code",
   "execution_count": 30,
   "metadata": {
    "ExecuteTime": {
     "end_time": "2018-12-04T15:41:49.860241Z",
     "start_time": "2018-12-04T15:41:49.853712Z"
    }
   },
   "outputs": [],
   "source": [
    "seed=42"
   ]
  },
  {
   "cell_type": "code",
   "execution_count": 31,
   "metadata": {
    "ExecuteTime": {
     "end_time": "2018-12-04T15:41:49.882398Z",
     "start_time": "2018-12-04T15:41:49.867094Z"
    }
   },
   "outputs": [],
   "source": [
    "def df_to_array(df,shuffle=True,seed=seed):\n",
    "    '''\n",
    "    Takes dateframe and returns numpy arrays X,y\n",
    "    '''\n",
    "    if shuffle:\n",
    "        df = df.sample(random_state=seed,frac=1).reset_index(drop=True)\n",
    "    X = np.array(df[[x for x in df.columns if 'Time' in x or 'Cours' in x]])\n",
    "    y =  np.array(df.y)\n",
    "    return X, y"
   ]
  },
  {
   "cell_type": "code",
   "execution_count": 32,
   "metadata": {
    "ExecuteTime": {
     "end_time": "2018-12-04T15:41:58.950277Z",
     "start_time": "2018-12-04T15:41:49.890629Z"
    }
   },
   "outputs": [],
   "source": [
    "X_test,Y_test=df_to_array(df_test)\n",
    "X_train,Y_train=df_to_array(df_train)"
   ]
  },
  {
   "cell_type": "code",
   "execution_count": 33,
   "metadata": {
    "ExecuteTime": {
     "end_time": "2018-12-04T15:41:58.974457Z",
     "start_time": "2018-12-04T15:41:58.956370Z"
    }
   },
   "outputs": [
    {
     "data": {
      "text/plain": [
       "(1500539, 10)"
      ]
     },
     "execution_count": 33,
     "metadata": {},
     "output_type": "execute_result"
    }
   ],
   "source": [
    "X_test.shape"
   ]
  },
  {
   "cell_type": "code",
   "execution_count": 34,
   "metadata": {
    "ExecuteTime": {
     "end_time": "2018-12-04T15:41:59.086065Z",
     "start_time": "2018-12-04T15:41:58.981829Z"
    }
   },
   "outputs": [
    {
     "data": {
      "text/plain": [
       "(3052874, 10)"
      ]
     },
     "execution_count": 34,
     "metadata": {},
     "output_type": "execute_result"
    }
   ],
   "source": [
    "X_train.shape"
   ]
  },
  {
   "cell_type": "code",
   "execution_count": 35,
   "metadata": {
    "ExecuteTime": {
     "end_time": "2018-12-04T15:41:59.105187Z",
     "start_time": "2018-12-04T15:41:59.093175Z"
    }
   },
   "outputs": [
    {
     "data": {
      "text/plain": [
       "(3052874,)"
      ]
     },
     "execution_count": 35,
     "metadata": {},
     "output_type": "execute_result"
    }
   ],
   "source": [
    "Y_train.shape"
   ]
  },
  {
   "cell_type": "code",
   "execution_count": 36,
   "metadata": {
    "ExecuteTime": {
     "end_time": "2018-12-04T15:41:59.123563Z",
     "start_time": "2018-12-04T15:41:59.111912Z"
    }
   },
   "outputs": [
    {
     "data": {
      "text/plain": [
       "(1500539,)"
      ]
     },
     "execution_count": 36,
     "metadata": {},
     "output_type": "execute_result"
    }
   ],
   "source": [
    "Y_test.shape"
   ]
  },
  {
   "cell_type": "markdown",
   "metadata": {
    "ExecuteTime": {
     "end_time": "2018-11-29T15:53:50.395109Z",
     "start_time": "2018-11-29T15:53:50.389956Z"
    }
   },
   "source": [
    "## Add normalization"
   ]
  },
  {
   "cell_type": "code",
   "execution_count": 12,
   "metadata": {
    "ExecuteTime": {
     "end_time": "2018-12-04T15:23:00.981115Z",
     "start_time": "2018-12-04T15:22:59.085979Z"
    }
   },
   "outputs": [],
   "source": [
    "from sklearn.preprocessing import StandardScaler\n",
    "scaler = StandardScaler().fit(X_test)\n",
    "rescaledX_test= scaler.transform(X_test)\n",
    "rescaledX_train=scaler.transform(X_train)\n",
    "# summarize transformed data\n",
    "np.set_printoptions(precision=3)"
   ]
  },
  {
   "cell_type": "code",
   "execution_count": 13,
   "metadata": {
    "ExecuteTime": {
     "end_time": "2018-12-04T15:23:01.023863Z",
     "start_time": "2018-12-04T15:23:00.985252Z"
    }
   },
   "outputs": [],
   "source": [
    "X_train=rescaledX_train\n",
    "X_test=rescaledX_test"
   ]
  },
  {
   "cell_type": "raw",
   "metadata": {
    "ExecuteTime": {
     "end_time": "2018-11-25T18:09:58.461900Z",
     "start_time": "2018-11-25T18:09:58.458696Z"
    }
   },
   "source": [
    "# Create the Scaler object\n",
    "scaler = preprocessing.StandardScaler()"
   ]
  },
  {
   "cell_type": "raw",
   "metadata": {
    "ExecuteTime": {
     "end_time": "2018-11-25T18:10:12.896241Z",
     "start_time": "2018-11-25T18:10:11.922787Z"
    }
   },
   "source": [
    "normalized_X = preprocessing.scale(X)\n",
    "normalized_y = preprocessing.scale(y)\n",
    "# normalized_X=X\n",
    "# normalized_y=y"
   ]
  },
  {
   "cell_type": "raw",
   "metadata": {
    "ExecuteTime": {
     "end_time": "2018-11-25T18:10:12.906650Z",
     "start_time": "2018-11-25T18:10:12.899316Z"
    }
   },
   "source": [
    "print(normalized_y.shape,normalized_X.shape)"
   ]
  },
  {
   "cell_type": "raw",
   "metadata": {
    "ExecuteTime": {
     "end_time": "2018-11-25T18:10:13.513624Z",
     "start_time": "2018-11-25T18:10:13.503865Z"
    }
   },
   "source": [
    "normalized_X"
   ]
  },
  {
   "cell_type": "code",
   "execution_count": 14,
   "metadata": {
    "ExecuteTime": {
     "end_time": "2018-12-04T15:23:02.992410Z",
     "start_time": "2018-12-04T15:23:01.028594Z"
    }
   },
   "outputs": [
    {
     "name": "stdout",
     "output_type": "stream",
     "text": [
      "confidence:  0.10758349085261255\n"
     ]
    }
   ],
   "source": [
    "# Training\n",
    "clf = LinearRegression()\n",
    "clf.fit(X_train,Y_train)\n",
    "# Testing\n",
    "confidence = clf.score(X_test, Y_test)\n",
    "print(\"confidence: \", confidence)"
   ]
  },
  {
   "cell_type": "code",
   "execution_count": 15,
   "metadata": {
    "ExecuteTime": {
     "end_time": "2018-12-04T15:23:03.065781Z",
     "start_time": "2018-12-04T15:23:03.018194Z"
    }
   },
   "outputs": [
    {
     "name": "stdout",
     "output_type": "stream",
     "text": [
      "[-0.022  0.036  0.001  0.01   0.028  0.     0.007  0.018 -0.012 -0.023] \n",
      " [ 0.    0.    0.    0.04 -0.05  0.    0.05  0.    0.    0.1 ]\n"
     ]
    }
   ],
   "source": [
    "forecast_prediction = clf.predict(X_test[:10])\n",
    "print(forecast_prediction,'\\n',Y_test[:10])"
   ]
  },
  {
   "cell_type": "code",
   "execution_count": 16,
   "metadata": {
    "ExecuteTime": {
     "end_time": "2018-12-04T15:23:03.194310Z",
     "start_time": "2018-12-04T15:23:03.124100Z"
    }
   },
   "outputs": [
    {
     "name": "stdout",
     "output_type": "stream",
     "text": [
      "[[-1.361e-01 -4.283e-03  1.767e+00 ...  4.303e-01  2.357e+00 -2.356e-01]\n",
      " [ 4.639e+00 -1.186e+00 -4.233e-03 ...  1.460e+00  1.176e+00 -3.574e-01]\n",
      " [-1.955e-01 -4.283e-03 -4.233e-03 ... -3.164e-01 -4.339e-03 -3.776e-01]\n",
      " ...\n",
      " [-3.343e-01 -4.283e-03 -4.233e-03 ... -3.365e-01  1.176e+00 -1.139e-01]\n",
      " [-2.946e-01 -4.283e-03  2.357e+00 ... -3.971e-01  2.357e+00  1.498e-01]\n",
      " [-3.937e-01 -4.283e-03  5.862e-01 ... -3.971e-01  5.861e-01 -2.965e-01]]\n",
      "[ 0.   0.   0.  ...  0.  -0.2  0. ]\n"
     ]
    }
   ],
   "source": [
    "a=X_test[:-5]\n",
    "print(a)\n",
    "print(Y_test[:-5])"
   ]
  },
  {
   "cell_type": "code",
   "execution_count": 17,
   "metadata": {
    "ExecuteTime": {
     "end_time": "2018-12-04T15:23:03.395192Z",
     "start_time": "2018-12-04T15:23:03.200901Z"
    }
   },
   "outputs": [
    {
     "data": {
      "text/plain": [
       "array([-0.022,  0.036,  0.001, ...,  0.   , -0.03 , -0.006])"
      ]
     },
     "execution_count": 17,
     "metadata": {},
     "output_type": "execute_result"
    }
   ],
   "source": [
    "clf.predict(a)"
   ]
  },
  {
   "cell_type": "markdown",
   "metadata": {},
   "source": [
    "# More models"
   ]
  },
  {
   "cell_type": "code",
   "execution_count": 18,
   "metadata": {
    "ExecuteTime": {
     "end_time": "2018-12-04T15:23:03.511078Z",
     "start_time": "2018-12-04T15:23:03.400502Z"
    }
   },
   "outputs": [],
   "source": [
    "from pandas import read_csv\n",
    "import pandas as pd\n",
    "import matplotlib.pyplot as plt\n",
    "from sklearn.linear_model import LinearRegression\n",
    "from sklearn.linear_model import Lasso\n",
    "from sklearn.linear_model import ElasticNet\n",
    "from sklearn.model_selection import train_test_split \n",
    "from sklearn.neighbors import KNeighborsRegressor\n",
    "from sklearn.tree import DecisionTreeRegressor\n",
    "from sklearn.svm import SVR\n",
    "from sklearn.model_selection import GridSearchCV\n",
    "from sklearn.model_selection import cross_val_score\n",
    "from sklearn.model_selection import KFold\n",
    "from sklearn.metrics import mean_squared_error\n",
    "from sklearn.pipeline import Pipeline\n",
    "from sklearn.preprocessing import  StandardScaler\n",
    "from sklearn.model_selection import RandomizedSearchCV\n",
    "import numpy as np"
   ]
  },
  {
   "cell_type": "markdown",
   "metadata": {},
   "source": [
    "# Test options and eveluation metric"
   ]
  },
  {
   "cell_type": "code",
   "execution_count": 37,
   "metadata": {
    "ExecuteTime": {
     "end_time": "2018-12-04T15:41:59.141897Z",
     "start_time": "2018-12-04T15:41:59.129272Z"
    }
   },
   "outputs": [],
   "source": [
    "num_folds=10\n",
    "scoring='neg_mean_squared_error'\n"
   ]
  },
  {
   "cell_type": "markdown",
   "metadata": {},
   "source": [
    "# Spot-check algorithms"
   ]
  },
  {
   "cell_type": "code",
   "execution_count": 38,
   "metadata": {
    "ExecuteTime": {
     "end_time": "2018-12-04T15:41:59.161023Z",
     "start_time": "2018-12-04T15:41:59.151045Z"
    }
   },
   "outputs": [],
   "source": [
    "models=[]\n",
    "models.append(('LR',LinearRegression()))\n",
    "models.append(('LASSO',Lasso()))\n",
    "models.append(('EN',ElasticNet()))\n",
    "# models.append(('KNN',KNeighborsRegressor()))\n",
    "# models.append(('CART',DecisionTreeRegressor()))\n",
    "# models.append(('SVR',SVR()))"
   ]
  },
  {
   "cell_type": "markdown",
   "metadata": {},
   "source": [
    "# Evaluate models"
   ]
  },
  {
   "cell_type": "markdown",
   "metadata": {
    "ExecuteTime": {
     "end_time": "2018-12-04T15:06:04.390794Z",
     "start_time": "2018-12-04T15:06:04.384578Z"
    }
   },
   "source": [
    "## Start with smaller sets"
   ]
  },
  {
   "cell_type": "code",
   "execution_count": 39,
   "metadata": {
    "ExecuteTime": {
     "end_time": "2018-12-04T15:42:03.216029Z",
     "start_time": "2018-12-04T15:42:03.211034Z"
    }
   },
   "outputs": [],
   "source": [
    "# X_train=X_train[:100000]\n",
    "# Y_train=Y_train[:100000]"
   ]
  },
  {
   "cell_type": "code",
   "execution_count": 40,
   "metadata": {
    "ExecuteTime": {
     "end_time": "2018-12-04T15:43:13.159692Z",
     "start_time": "2018-12-04T15:42:03.403084Z"
    }
   },
   "outputs": [
    {
     "name": "stdout",
     "output_type": "stream",
     "text": [
      "'LR': -0.007317 (0.000037)\n",
      "'LASSO': -0.008525 (0.000045)\n",
      "'EN': -0.008525 (0.000045)\n"
     ]
    },
    {
     "data": {
      "image/png": "[encoded data removed]",
      "text/plain": [
       "<Figure size 432x288 with 1 Axes>"
      ]
     },
     "metadata": {
      "needs_background": "light"
     },
     "output_type": "display_data"
    }
   ],
   "source": [
    "results=[]\n",
    "names=[]\n",
    "for name, model in models:\n",
    "    kfold=KFold(n_splits=num_folds,random_state=seed,shuffle=True)\n",
    "    cv_results=cross_val_score(model,X_train,Y_train,cv=kfold,scoring=scoring)\n",
    "    results.append(cv_results)\n",
    "    names.append(name)\n",
    "    message=\"%a: %f (%f)\" % (name,cv_results.mean(),cv_results.std())\n",
    "    print(message)\n",
    "\n",
    "fig=plt.figure()\n",
    "fig.suptitle('Algorithm Comprasion')\n",
    "ax=fig.add_subplot(111)\n",
    "plt.boxplot(results)\n",
    "ax.set_xticklabels(names)\n",
    "plt.show()"
   ]
  },
  {
   "cell_type": "markdown",
   "metadata": {
    "ExecuteTime": {
     "start_time": "2018-12-04T14:59:16.110Z"
    }
   },
   "source": [
    "# Standardize the data"
   ]
  },
  {
   "cell_type": "code",
   "execution_count": null,
   "metadata": {
    "ExecuteTime": {
     "start_time": "2018-12-04T14:59:16.131Z"
    }
   },
   "outputs": [],
   "source": [
    "piplines=[]\n",
    "piplines.append(('ScaledLR',Pipeline([('Scaler',StandardScaler()),('LR',LinearRegression())])))\n",
    "piplines.append(('ScaledLASSO',Pipeline([('Scaler',StandardScaler()),('LASSO',Lasso())])))\n",
    "piplines.append(('ScaledEN',Pipeline([('Scaler',StandardScaler()),('EN',ElasticNet())])))\n",
    "# piplines.append(('ScaledKNN',Pipeline([('Scaler',StandardScaler()),('KNN',KNeighborsRegressor())])))\n",
    "piplines.append(('ScaledCART',Pipeline([('Scaler',StandardScaler()),('CART',DecisionTreeRegressor())])))\n",
    "piplines.append(('ScaledSVR',Pipeline([('Scaler',StandardScaler()),('SVR',SVR())])))\n",
    "\n",
    "results=[]\n",
    "names=[]\n",
    "for name, model in piplines:\n",
    "    kfold=KFold(n_splits=num_folds,random_state=seed,shuffle=True)\n",
    "    cv_results=cross_val_score(model,X_train,Y_train,cv=kfold,scoring=scoring)\n",
    "    results.append(cv_results)\n",
    "    names.append(name)\n",
    "    message=\"%a: %f (%f)\" % (name,cv_results.mean(),cv_results.std())\n",
    "    print(message)"
   ]
  },
  {
   "cell_type": "code",
   "execution_count": null,
   "metadata": {
    "ExecuteTime": {
     "start_time": "2018-12-04T14:59:16.142Z"
    }
   },
   "outputs": [],
   "source": [
    "fig=plt.figure()\n",
    "fig.suptitle('Algorithm Comprasion')\n",
    "ax=fig.add_subplot(111)\n",
    "plt.boxplot(results)\n",
    "ax.set_xticklabels(names)\n",
    "plt.show()"
   ]
  }
 ],
 "metadata": {
  "kernelspec": {
   "display_name": "Python [default]",
   "language": "python",
   "name": "python3"
  },
  "language_info": {
   "codemirror_mode": {
    "name": "ipython",
    "version": 3
   },
   "file_extension": ".py",
   "mimetype": "text/x-python",
   "name": "python",
   "nbconvert_exporter": "python",
   "pygments_lexer": "ipython3",
   "version": "3.7.0"
  }
 },
 "nbformat": 4,
 "nbformat_minor": 2
}
