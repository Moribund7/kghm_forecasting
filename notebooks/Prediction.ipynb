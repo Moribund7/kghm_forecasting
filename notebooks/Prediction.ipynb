{
 "cells": [
  {
   "cell_type": "markdown",
   "metadata": {
    "ExecuteTime": {
     "end_time": "2018-11-16T14:45:39.567333Z",
     "start_time": "2018-11-16T14:45:39.554784Z"
    }
   },
   "source": [
    "Na podstwie ostatnich 5 przewidzieć kolejną jedna -- wejsscie to deltta t i zmiana kursu\n",
    "\n",
    "\n",
    "\n",
    "Dane zrobic w fromie 5 danych i wynik , potemm je poshuflowac\n",
    "wyrzucic zmiany dluzsze niz dzien\n",
    "mozna zsporbowac dane gdzie nic sie nie zmienilo tez wyrzucic "
   ]
  },
  {
   "cell_type": "markdown",
   "metadata": {},
   "source": [
    "# TO DO:"
   ]
  },
  {
   "cell_type": "markdown",
   "metadata": {},
   "source": [
    "1. zmienic close na cours change w prepare_day DONE\n",
    "2. zamineic df na numpy array DONE\n",
    "3. przetestowac wyjatek w prepare_day\n",
    "4. podzielic miesiace na grupy 6,1,3,1 DONE\n",
    "4. przetestowac inne modele, w liniowym sprobowac zrobic binaryny output"
   ]
  },
  {
   "cell_type": "code",
   "execution_count": 2,
   "metadata": {
    "ExecuteTime": {
     "end_time": "2018-12-05T20:20:21.598055Z",
     "start_time": "2018-12-05T20:20:20.798757Z"
    }
   },
   "outputs": [],
   "source": [
    "import pandas as pd\n",
    "import matplotlib.pyplot as plt"
   ]
  },
  {
   "cell_type": "code",
   "execution_count": 24,
   "metadata": {
    "ExecuteTime": {
     "end_time": "2018-12-05T20:26:27.016293Z",
     "start_time": "2018-12-05T20:26:27.012326Z"
    }
   },
   "outputs": [],
   "source": [
    "df_test_path='../data/df_test'\n",
    "df_train_path='../data/df_train'"
   ]
  },
  {
   "cell_type": "markdown",
   "metadata": {},
   "source": [
    "# Prediction"
   ]
  },
  {
   "cell_type": "code",
   "execution_count": 25,
   "metadata": {
    "ExecuteTime": {
     "end_time": "2018-12-05T20:26:27.392262Z",
     "start_time": "2018-12-05T20:26:27.385900Z"
    }
   },
   "outputs": [],
   "source": [
    "from sklearn.linear_model import LinearRegression\n",
    "from sklearn import preprocessing, model_selection, svm\n",
    "import numpy as np"
   ]
  },
  {
   "cell_type": "markdown",
   "metadata": {
    "ExecuteTime": {
     "end_time": "2018-11-30T14:47:15.781874Z",
     "start_time": "2018-11-30T14:47:01.288Z"
    }
   },
   "source": [
    "## Load data"
   ]
  },
  {
   "cell_type": "code",
   "execution_count": 26,
   "metadata": {
    "ExecuteTime": {
     "end_time": "2018-12-05T20:26:28.842534Z",
     "start_time": "2018-12-05T20:26:27.738761Z"
    }
   },
   "outputs": [],
   "source": [
    "df_test=pd.read_pickle(df_test_path)\n",
    "df_train=pd.read_pickle(df_train_path)"
   ]
  },
  {
   "cell_type": "code",
   "execution_count": 27,
   "metadata": {
    "ExecuteTime": {
     "end_time": "2018-12-05T20:26:28.851695Z",
     "start_time": "2018-12-05T20:26:28.846379Z"
    }
   },
   "outputs": [],
   "source": [
    "seed=42"
   ]
  },
  {
   "cell_type": "code",
   "execution_count": 28,
   "metadata": {
    "ExecuteTime": {
     "end_time": "2018-12-05T20:26:28.867259Z",
     "start_time": "2018-12-05T20:26:28.854324Z"
    }
   },
   "outputs": [],
   "source": [
    "def df_to_array(df,shuffle=True,seed=seed):\n",
    "    '''\n",
    "    Takes dateframe and returns numpy arrays X,y\n",
    "    '''\n",
    "    if shuffle:\n",
    "        df = df.sample(random_state=seed,frac=1).reset_index(drop=True)\n",
    "    X = np.array(df[[x for x in df.columns if 'Time' in x or 'Cours' in x]])\n",
    "    y =  np.array(df.y)\n",
    "    return X, y"
   ]
  },
  {
   "cell_type": "code",
   "execution_count": 29,
   "metadata": {
    "ExecuteTime": {
     "end_time": "2018-12-05T20:26:32.703065Z",
     "start_time": "2018-12-05T20:26:28.871338Z"
    }
   },
   "outputs": [],
   "source": [
    "X_test,Y_test=df_to_array(df_test)\n",
    "X_train,Y_train=df_to_array(df_train)"
   ]
  },
  {
   "cell_type": "code",
   "execution_count": 30,
   "metadata": {
    "ExecuteTime": {
     "end_time": "2018-12-05T20:26:32.715690Z",
     "start_time": "2018-12-05T20:26:32.705274Z"
    }
   },
   "outputs": [
    {
     "data": {
      "text/plain": [
       "(1523986, 10)"
      ]
     },
     "execution_count": 30,
     "metadata": {},
     "output_type": "execute_result"
    }
   ],
   "source": [
    "X_test.shape"
   ]
  },
  {
   "cell_type": "code",
   "execution_count": 31,
   "metadata": {
    "ExecuteTime": {
     "end_time": "2018-12-05T20:26:32.744748Z",
     "start_time": "2018-12-05T20:26:32.721163Z"
    }
   },
   "outputs": [
    {
     "data": {
      "text/plain": [
       "(3052874, 10)"
      ]
     },
     "execution_count": 31,
     "metadata": {},
     "output_type": "execute_result"
    }
   ],
   "source": [
    "X_train.shape"
   ]
  },
  {
   "cell_type": "code",
   "execution_count": 32,
   "metadata": {
    "ExecuteTime": {
     "end_time": "2018-12-05T20:26:32.758738Z",
     "start_time": "2018-12-05T20:26:32.748678Z"
    }
   },
   "outputs": [
    {
     "data": {
      "text/plain": [
       "(3052874,)"
      ]
     },
     "execution_count": 32,
     "metadata": {},
     "output_type": "execute_result"
    }
   ],
   "source": [
    "Y_train.shape"
   ]
  },
  {
   "cell_type": "code",
   "execution_count": 33,
   "metadata": {
    "ExecuteTime": {
     "end_time": "2018-12-05T20:26:32.769330Z",
     "start_time": "2018-12-05T20:26:32.763695Z"
    }
   },
   "outputs": [
    {
     "data": {
      "text/plain": [
       "(1523986,)"
      ]
     },
     "execution_count": 33,
     "metadata": {},
     "output_type": "execute_result"
    }
   ],
   "source": [
    "Y_test.shape"
   ]
  },
  {
   "cell_type": "markdown",
   "metadata": {
    "ExecuteTime": {
     "end_time": "2018-11-29T15:53:50.395109Z",
     "start_time": "2018-11-29T15:53:50.389956Z"
    }
   },
   "source": [
    "## Add normalization"
   ]
  },
  {
   "cell_type": "code",
   "execution_count": 13,
   "metadata": {
    "ExecuteTime": {
     "end_time": "2018-12-05T20:20:28.872395Z",
     "start_time": "2018-12-05T20:20:28.175801Z"
    }
   },
   "outputs": [],
   "source": [
    "from sklearn.preprocessing import StandardScaler\n",
    "scaler = StandardScaler().fit(X_test)\n",
    "rescaledX_test= scaler.transform(X_test)\n",
    "rescaledX_train=scaler.transform(X_train)\n",
    "# summarize transformed data\n",
    "np.set_printoptions(precision=3)"
   ]
  },
  {
   "cell_type": "code",
   "execution_count": 13,
   "metadata": {
    "ExecuteTime": {
     "end_time": "2018-12-05T18:23:55.613159Z",
     "start_time": "2018-12-05T18:23:55.583885Z"
    }
   },
   "outputs": [],
   "source": [
    "X_train=rescaledX_train\n",
    "X_test=rescaledX_test"
   ]
  },
  {
   "cell_type": "raw",
   "metadata": {
    "ExecuteTime": {
     "end_time": "2018-11-25T18:09:58.461900Z",
     "start_time": "2018-11-25T18:09:58.458696Z"
    }
   },
   "source": [
    "# Create the Scaler object\n",
    "scaler = preprocessing.StandardScaler()"
   ]
  },
  {
   "cell_type": "raw",
   "metadata": {
    "ExecuteTime": {
     "end_time": "2018-11-25T18:10:12.896241Z",
     "start_time": "2018-11-25T18:10:11.922787Z"
    }
   },
   "source": [
    "normalized_X = preprocessing.scale(X)\n",
    "normalized_y = preprocessing.scale(y)\n",
    "# normalized_X=X\n",
    "# normalized_y=y"
   ]
  },
  {
   "cell_type": "raw",
   "metadata": {
    "ExecuteTime": {
     "end_time": "2018-11-25T18:10:12.906650Z",
     "start_time": "2018-11-25T18:10:12.899316Z"
    }
   },
   "source": [
    "print(normalized_y.shape,normalized_X.shape)"
   ]
  },
  {
   "cell_type": "raw",
   "metadata": {
    "ExecuteTime": {
     "end_time": "2018-11-25T18:10:13.513624Z",
     "start_time": "2018-11-25T18:10:13.503865Z"
    }
   },
   "source": [
    "normalized_X"
   ]
  },
  {
   "cell_type": "code",
   "execution_count": 14,
   "metadata": {
    "ExecuteTime": {
     "end_time": "2018-12-05T18:23:56.395691Z",
     "start_time": "2018-12-05T18:23:55.619101Z"
    }
   },
   "outputs": [
    {
     "name": "stdout",
     "output_type": "stream",
     "text": [
      "confidence:  0.10680664411769802\n"
     ]
    }
   ],
   "source": [
    "# Training\n",
    "clf = LinearRegression()\n",
    "clf.fit(X_train,Y_train)\n",
    "# Testing\n",
    "confidence = clf.score(X_test, Y_test)\n",
    "print(\"confidence: \", confidence)"
   ]
  },
  {
   "cell_type": "code",
   "execution_count": 15,
   "metadata": {
    "ExecuteTime": {
     "end_time": "2018-12-05T18:23:56.407199Z",
     "start_time": "2018-12-05T18:23:56.399009Z"
    }
   },
   "outputs": [
    {
     "name": "stdout",
     "output_type": "stream",
     "text": [
      "[ 0.016 -0.003  0.102  0.086  0.008  0.079  0.001  0.027  0.001 -0.035] \n",
      " [ 0.05 -0.02  0.25  0.    0.    0.3   0.    0.    0.   -0.1 ]\n"
     ]
    }
   ],
   "source": [
    "forecast_prediction = clf.predict(X_test[:10])\n",
    "print(forecast_prediction,'\\n',Y_test[:10])"
   ]
  },
  {
   "cell_type": "code",
   "execution_count": 16,
   "metadata": {
    "ExecuteTime": {
     "end_time": "2018-12-05T18:23:56.426819Z",
     "start_time": "2018-12-05T18:23:56.410801Z"
    }
   },
   "outputs": [
    {
     "name": "stdout",
     "output_type": "stream",
     "text": [
      "[[ 0.222 -0.597  0.589 ... -0.337 -0.004 -0.297]\n",
      " [-0.394 -0.004  0.351 ... -0.337  0.114 -0.175]\n",
      " [-0.036 -2.969 -0.004 ... -0.317  0.588 -0.338]\n",
      " ...\n",
      " [-0.335 -0.004 -0.004 ... -0.337  1.181 -0.114]\n",
      " [-0.295 -0.004  2.366 ... -0.398  2.366  0.151]\n",
      " [-0.394 -0.004  0.589 ... -0.398  0.588 -0.297]]\n",
      "[ 0.05 -0.02  0.25 ...  0.   -0.2   0.  ]\n"
     ]
    }
   ],
   "source": [
    "a=X_test[:-5]\n",
    "print(a)\n",
    "print(Y_test[:-5])"
   ]
  },
  {
   "cell_type": "code",
   "execution_count": 17,
   "metadata": {
    "ExecuteTime": {
     "end_time": "2018-12-05T18:23:56.587481Z",
     "start_time": "2018-12-05T18:23:56.430573Z"
    }
   },
   "outputs": [
    {
     "data": {
      "text/plain": [
       "array([ 0.016, -0.003,  0.102, ...,  0.   , -0.03 , -0.006])"
      ]
     },
     "execution_count": 17,
     "metadata": {},
     "output_type": "execute_result"
    }
   ],
   "source": [
    "clf.predict(a)"
   ]
  },
  {
   "cell_type": "markdown",
   "metadata": {},
   "source": [
    "# More models"
   ]
  },
  {
   "cell_type": "code",
   "execution_count": 14,
   "metadata": {
    "ExecuteTime": {
     "end_time": "2018-12-05T20:20:29.482143Z",
     "start_time": "2018-12-05T20:20:29.419546Z"
    }
   },
   "outputs": [
    {
     "name": "stderr",
     "output_type": "stream",
     "text": [
      "/home/filip/anaconda3/lib/python3.7/site-packages/sklearn/ensemble/weight_boosting.py:29: DeprecationWarning: numpy.core.umath_tests is an internal NumPy module and should not be imported. It will be removed in a future NumPy release.\n",
      "  from numpy.core.umath_tests import inner1d\n"
     ]
    }
   ],
   "source": [
    "from pandas import read_csv\n",
    "import pandas as pd\n",
    "import matplotlib.pyplot as plt\n",
    "from sklearn.linear_model import LinearRegression\n",
    "from sklearn.linear_model import Lasso\n",
    "from sklearn.linear_model import ElasticNet\n",
    "from sklearn.model_selection import train_test_split \n",
    "from sklearn.neighbors import KNeighborsRegressor\n",
    "from sklearn.tree import DecisionTreeRegressor\n",
    "from sklearn.svm import SVR\n",
    "from sklearn.ensemble import RandomForestRegressor\n",
    "from sklearn.ensemble import GradientBoostingRegressor\n",
    "from sklearn.ensemble import ExtraTreesRegressor\n",
    "from sklearn.ensemble import AdaBoostRegressor\n",
    "from sklearn.model_selection import GridSearchCV\n",
    "from sklearn.model_selection import cross_val_score\n",
    "from sklearn.model_selection import KFold\n",
    "from sklearn.metrics import mean_squared_error\n",
    "from sklearn.pipeline import Pipeline\n",
    "from sklearn.preprocessing import  StandardScaler\n",
    "from sklearn.model_selection import RandomizedSearchCV\n",
    "import numpy as np"
   ]
  },
  {
   "cell_type": "markdown",
   "metadata": {},
   "source": [
    "# Test options and eveluation metric"
   ]
  },
  {
   "cell_type": "code",
   "execution_count": 15,
   "metadata": {
    "ExecuteTime": {
     "end_time": "2018-12-05T20:20:30.910053Z",
     "start_time": "2018-12-05T20:20:30.906789Z"
    }
   },
   "outputs": [],
   "source": [
    "num_folds=3\n",
    "scoring='neg_mean_squared_error'\n"
   ]
  },
  {
   "cell_type": "markdown",
   "metadata": {},
   "source": [
    "# Spot-check algorithms"
   ]
  },
  {
   "cell_type": "code",
   "execution_count": 20,
   "metadata": {
    "ExecuteTime": {
     "end_time": "2018-12-05T18:23:56.658117Z",
     "start_time": "2018-12-05T18:23:56.644575Z"
    }
   },
   "outputs": [],
   "source": [
    "models=[]\n",
    "models.append(('LR',LinearRegression()))\n",
    "models.append(('LASSO',Lasso()))\n",
    "models.append(('EN',ElasticNet()))\n",
    "models.append(('KNN',KNeighborsRegressor()))\n",
    "models.append(('CART',DecisionTreeRegressor()))\n",
    "models.append(('SVR',SVR()))"
   ]
  },
  {
   "cell_type": "markdown",
   "metadata": {},
   "source": [
    "# Evaluate models"
   ]
  },
  {
   "cell_type": "markdown",
   "metadata": {
    "ExecuteTime": {
     "end_time": "2018-12-04T15:06:04.390794Z",
     "start_time": "2018-12-04T15:06:04.384578Z"
    }
   },
   "source": [
    "## Start with smaller sets"
   ]
  },
  {
   "cell_type": "code",
   "execution_count": 16,
   "metadata": {
    "ExecuteTime": {
     "end_time": "2018-12-05T20:20:33.519316Z",
     "start_time": "2018-12-05T20:20:33.515532Z"
    }
   },
   "outputs": [],
   "source": [
    "X_train=X_train[:1000000]\n",
    "Y_train=Y_train[:1000000]"
   ]
  },
  {
   "cell_type": "code",
   "execution_count": 22,
   "metadata": {
    "ExecuteTime": {
     "end_time": "2018-12-05T18:40:16.173202Z",
     "start_time": "2018-12-05T18:23:56.677183Z"
    }
   },
   "outputs": [
    {
     "name": "stdout",
     "output_type": "stream",
     "text": [
      "'LR': -0.007346 (0.000219)\n",
      "'LASSO': -0.008555 (0.000318)\n",
      "'EN': -0.008555 (0.000318)\n",
      "'KNN': -0.008633 (0.000190)\n",
      "'CART': -0.015894 (0.000277)\n",
      "'SVR': -0.007902 (0.000287)\n"
     ]
    },
    {
     "data": {
      "image/png": "[encoded data removed]",
      "text/plain": [
       "<Figure size 432x288 with 1 Axes>"
      ]
     },
     "metadata": {},
     "output_type": "display_data"
    }
   ],
   "source": [
    "results=[]\n",
    "names=[]\n",
    "for name, model in models:\n",
    "    kfold=KFold(n_splits=num_folds,random_state=seed,shuffle=True)\n",
    "    cv_results=cross_val_score(model,X_train,Y_train,cv=kfold,scoring=scoring)\n",
    "    results.append(cv_results)\n",
    "    names.append(name)\n",
    "    message=\"%a: %f (%f)\" % (name,cv_results.mean(),cv_results.std())\n",
    "    print(message)\n",
    "\n",
    "fig=plt.figure()\n",
    "fig.suptitle('Algorithm Comprasion')\n",
    "ax=fig.add_subplot(111)\n",
    "plt.boxplot(results)\n",
    "ax.set_xticklabels(names)\n",
    "plt.show()"
   ]
  },
  {
   "cell_type": "markdown",
   "metadata": {
    "ExecuteTime": {
     "start_time": "2018-12-04T14:59:16.110Z"
    }
   },
   "source": [
    "# Standardize the data"
   ]
  },
  {
   "cell_type": "code",
   "execution_count": 23,
   "metadata": {
    "ExecuteTime": {
     "end_time": "2018-12-05T18:55:38.942555Z",
     "start_time": "2018-12-05T18:40:16.175587Z"
    }
   },
   "outputs": [
    {
     "name": "stdout",
     "output_type": "stream",
     "text": [
      "'ScaledLR': -0.007346 (0.000219)\n",
      "'ScaledLASSO': -0.008555 (0.000318)\n",
      "'ScaledEN': -0.008555 (0.000318)\n",
      "'ScaledKNN': -0.008642 (0.000177)\n",
      "'ScaledCART': -0.015976 (0.000050)\n",
      "'ScaledSVR': -0.007871 (0.000292)\n"
     ]
    }
   ],
   "source": [
    "piplines=[]\n",
    "piplines.append(('ScaledLR',Pipeline([('Scaler',StandardScaler()),('LR',LinearRegression())])))\n",
    "piplines.append(('ScaledLASSO',Pipeline([('Scaler',StandardScaler()),('LASSO',Lasso())])))\n",
    "piplines.append(('ScaledEN',Pipeline([('Scaler',StandardScaler()),('EN',ElasticNet())])))\n",
    "piplines.append(('ScaledKNN',Pipeline([('Scaler',StandardScaler()),('KNN',KNeighborsRegressor())])))\n",
    "piplines.append(('ScaledCART',Pipeline([('Scaler',StandardScaler()),('CART',DecisionTreeRegressor())])))\n",
    "piplines.append(('ScaledSVR',Pipeline([('Scaler',StandardScaler()),('SVR',SVR())])))\n",
    "\n",
    "results=[]\n",
    "names=[]\n",
    "for name, model in piplines:\n",
    "    kfold=KFold(n_splits=num_folds,random_state=seed,shuffle=True)\n",
    "    cv_results=cross_val_score(model,X_train,Y_train,cv=kfold,scoring=scoring)\n",
    "    results.append(cv_results)\n",
    "    names.append(name)\n",
    "    message=\"%a: %f (%f)\" % (name,cv_results.mean(),cv_results.std())\n",
    "    print(message)"
   ]
  },
  {
   "cell_type": "code",
   "execution_count": 24,
   "metadata": {
    "ExecuteTime": {
     "end_time": "2018-12-05T18:55:39.168521Z",
     "start_time": "2018-12-05T18:55:38.946128Z"
    }
   },
   "outputs": [
    {
     "data": {
      "image/png": "[encoded data removed]",
      "text/plain": [
       "<Figure size 432x288 with 1 Axes>"
      ]
     },
     "metadata": {},
     "output_type": "display_data"
    }
   ],
   "source": [
    "fig=plt.figure()\n",
    "fig.suptitle('Scaled Algorithm Comprasion')\n",
    "ax=fig.add_subplot(111)\n",
    "plt.boxplot(results)\n",
    "ax.set_xticklabels(names)\n",
    "plt.show()"
   ]
  },
  {
   "cell_type": "markdown",
   "metadata": {},
   "source": [
    "# Ensemble Methods"
   ]
  },
  {
   "cell_type": "code",
   "execution_count": 45,
   "metadata": {
    "ExecuteTime": {
     "end_time": "2018-12-05T19:40:50.150312Z",
     "start_time": "2018-12-05T19:40:50.144159Z"
    }
   },
   "outputs": [],
   "source": [
    "ensembles=[]\n",
    "ensembles.append(('ScaledAB',Pipeline([('Scaler', StandardScaler()),('Ab',AdaBoostRegressor())])))\n",
    "ensembles.append(('ScaledGBM',Pipeline([('Scaler', StandardScaler()),('GBM',GradientBoostingRegressor())])))\n",
    "ensembles.append(('ScaledRF',Pipeline([('Scaler', StandardScaler()),('RF',RandomForestRegressor())])))\n",
    "ensembles.append(('ScaledET',Pipeline([('Scaler', StandardScaler()),('ET',ExtraTreesRegressor())])))"
   ]
  },
  {
   "cell_type": "code",
   "execution_count": 46,
   "metadata": {
    "ExecuteTime": {
     "end_time": "2018-12-05T19:58:32.847007Z",
     "start_time": "2018-12-05T19:40:52.775811Z"
    }
   },
   "outputs": [
    {
     "name": "stdout",
     "output_type": "stream",
     "text": [
      "'ScaledAB': -0.010893 (0.001253)\n",
      "'ScaledGBM': -0.007274 (0.000053)\n",
      "'ScaledRF': -0.008449 (0.000042)\n",
      "'ScaledET': -0.008697 (0.000056)\n"
     ]
    }
   ],
   "source": [
    "results=[]\n",
    "names=[]\n",
    "for name, model in ensembles:\n",
    "    kfold=KFold(n_splits=num_folds,random_state=seed,shuffle=True)\n",
    "    cv_results=cross_val_score(model,X_train,Y_train,cv=kfold,scoring=scoring)\n",
    "    results.append(cv_results)\n",
    "    names.append(name)\n",
    "    message=\"%a: %f (%f)\" % (name,cv_results.mean(),cv_results.std())\n",
    "    print(message)"
   ]
  },
  {
   "cell_type": "code",
   "execution_count": 47,
   "metadata": {
    "ExecuteTime": {
     "end_time": "2018-12-05T19:58:33.064636Z",
     "start_time": "2018-12-05T19:58:32.849627Z"
    }
   },
   "outputs": [
    {
     "data": {
      "image/png": "[encoded data removed]",
      "text/plain": [
       "<Figure size 432x288 with 1 Axes>"
      ]
     },
     "metadata": {},
     "output_type": "display_data"
    }
   ],
   "source": [
    "fig=plt.figure()\n",
    "fig.suptitle('Scaled Ensemble Algorithm Comparison')\n",
    "ax=fig.add_subplot(111)\n",
    "plt.boxplot(results)\n",
    "ax.set_xticklabels(names)\n",
    "plt.show()"
   ]
  },
  {
   "cell_type": "markdown",
   "metadata": {},
   "source": [
    "# Tune GBM"
   ]
  },
  {
   "cell_type": "code",
   "execution_count": null,
   "metadata": {
    "ExecuteTime": {
     "end_time": "2018-12-05T19:40:05.041036Z",
     "start_time": "2018-12-05T19:36:34.492420Z"
    }
   },
   "outputs": [],
   "source": [
    "scaler=StandardScaler().fit(X_train)\n",
    "rescaledX=scaler.transform(X_train)\n",
    "param_grid=dict(n_estimators=np.array([50,100,150,200,250,300,350,400]))\n",
    "model=GradientBoostingRegressor(random_state=seed)\n",
    "kfold=KFold(n_splits=num_folds,random_state=seed)\n",
    "grid=GridSearchCV(estimator=model,param_grid=param_grid,scoring=scoring,cv=kfold)\n",
    "grid_result=grid.fit(rescaledX,Y_train)"
   ]
  },
  {
   "cell_type": "code",
   "execution_count": null,
   "metadata": {
    "ExecuteTime": {
     "end_time": "2018-12-05T19:40:05.050919Z",
     "start_time": "2018-12-05T19:40:01.372Z"
    }
   },
   "outputs": [],
   "source": [
    "print(\"Best %f using %s\" % (grid_result.best_score_,grid_result.best_params_))\n",
    "means=grid_result.cv_results_['mean_test_score']\n",
    "stds=grid_result.cv_results_['std_test_score']\n",
    "params=grid_result.cv_results_['params']\n",
    "for mean, stdev, param in zip(means,stds,params):\n",
    "    print(\"%f (%f) with %r\" %(mean,stdev,param))"
   ]
  },
  {
   "cell_type": "markdown",
   "metadata": {},
   "source": [
    "# XGBoost"
   ]
  },
  {
   "cell_type": "code",
   "execution_count": 17,
   "metadata": {
    "ExecuteTime": {
     "end_time": "2018-12-05T20:20:41.449983Z",
     "start_time": "2018-12-05T20:20:41.413496Z"
    }
   },
   "outputs": [],
   "source": [
    "import xgboost as xgb "
   ]
  },
  {
   "cell_type": "code",
   "execution_count": 21,
   "metadata": {
    "ExecuteTime": {
     "end_time": "2018-12-05T20:22:10.526628Z",
     "start_time": "2018-12-05T20:22:10.522324Z"
    }
   },
   "outputs": [],
   "source": [
    "ensembles=[]\n",
    "ensembles.append(('ScaledXGB',Pipeline([('Scaler', StandardScaler()),('XGB',xgb.XGBRegressor())])))"
   ]
  },
  {
   "cell_type": "code",
   "execution_count": 22,
   "metadata": {
    "ExecuteTime": {
     "end_time": "2018-12-05T20:24:59.401569Z",
     "start_time": "2018-12-05T20:22:12.266837Z"
    }
   },
   "outputs": [
    {
     "name": "stdout",
     "output_type": "stream",
     "text": [
      "'ScaledXGB': -0.007276 (0.000054)\n"
     ]
    }
   ],
   "source": [
    "results=[]\n",
    "names=[]\n",
    "for name, model in ensembles:\n",
    "    kfold=KFold(n_splits=num_folds,random_state=seed,shuffle=True)\n",
    "    cv_results=cross_val_score(model,X_train,Y_train,cv=kfold,scoring=scoring)\n",
    "    results.append(cv_results)\n",
    "    names.append(name)\n",
    "    message=\"%a: %f (%f)\" % (name,cv_results.mean(),cv_results.std())\n",
    "    print(message)"
   ]
  },
  {
   "cell_type": "code",
   "execution_count": 23,
   "metadata": {
    "ExecuteTime": {
     "end_time": "2018-12-05T20:24:59.612652Z",
     "start_time": "2018-12-05T20:24:59.404191Z"
    }
   },
   "outputs": [
    {
     "data": {
      "image/png": "[encoded data removed]",
      "text/plain": [
       "<Figure size 432x288 with 1 Axes>"
      ]
     },
     "metadata": {},
     "output_type": "display_data"
    }
   ],
   "source": [
    "fig=plt.figure()\n",
    "fig.suptitle('Scaled Ensemble Algorithm Comparison')\n",
    "ax=fig.add_subplot(111)\n",
    "plt.boxplot(results)\n",
    "ax.set_xticklabels(names)\n",
    "plt.show()"
   ]
  },
  {
   "cell_type": "markdown",
   "metadata": {},
   "source": [
    "# Linear model"
   ]
  },
  {
   "cell_type": "code",
   "execution_count": 50,
   "metadata": {
    "ExecuteTime": {
     "end_time": "2018-12-05T19:59:43.797203Z",
     "start_time": "2018-12-05T19:59:43.267279Z"
    }
   },
   "outputs": [
    {
     "data": {
      "text/plain": [
       "LinearRegression(copy_X=True, fit_intercept=True, n_jobs=1, normalize=False)"
      ]
     },
     "execution_count": 50,
     "metadata": {},
     "output_type": "execute_result"
    }
   ],
   "source": [
    "scaler = StandardScaler().fit(X_train)\n",
    "rescaledX= scaler.transform(X_train)\n",
    "# model= LinearRegression()\n",
    "model=xgb.XGBRegressor()\n",
    "model.fit(rescaledX,Y_train)"
   ]
  },
  {
   "cell_type": "code",
   "execution_count": 52,
   "metadata": {
    "ExecuteTime": {
     "end_time": "2018-12-05T19:59:58.059687Z",
     "start_time": "2018-12-05T19:59:57.831901Z"
    }
   },
   "outputs": [
    {
     "name": "stdout",
     "output_type": "stream",
     "text": [
      "0.006339125141614575\n"
     ]
    }
   ],
   "source": [
    "rescaledTestX = scaler.transform(X_test)\n",
    "predictions = model.predict(rescaledTestX)\n",
    "print(mean_squared_error(Y_test,predictions))"
   ]
  },
  {
   "cell_type": "code",
   "execution_count": 59,
   "metadata": {
    "ExecuteTime": {
     "end_time": "2018-12-05T20:04:20.839764Z",
     "start_time": "2018-12-05T20:04:20.629899Z"
    }
   },
   "outputs": [
    {
     "data": {
      "image/png": "[encoded data removed]",
      "text/plain": [
       "<Figure size 432x288 with 1 Axes>"
      ]
     },
     "metadata": {},
     "output_type": "display_data"
    }
   ],
   "source": [
    "plt.plot(Y_test[:100])\n",
    "plt.plot(predictions[:100])\n",
    "plt.show()"
   ]
  },
  {
   "cell_type": "code",
   "execution_count": 84,
   "metadata": {
    "ExecuteTime": {
     "end_time": "2018-12-05T20:10:24.749040Z",
     "start_time": "2018-12-05T20:10:23.202674Z"
    }
   },
   "outputs": [],
   "source": [
    "FP=[1 if Y_test[x]>0 and predictions[x]>0 else 0 for x in range(len(Y_test)) ]\n",
    "FN=[1 if Y_test[x]<0 and predictions[x]<0 else 0 for x in range(len(Y_test)) ]"
   ]
  },
  {
   "cell_type": "code",
   "execution_count": 85,
   "metadata": {
    "ExecuteTime": {
     "end_time": "2018-12-05T20:10:24.790004Z",
     "start_time": "2018-12-05T20:10:24.751575Z"
    }
   },
   "outputs": [
    {
     "data": {
      "text/plain": [
       "0.30372523107167654"
      ]
     },
     "execution_count": 85,
     "metadata": {},
     "output_type": "execute_result"
    }
   ],
   "source": [
    "(sum(FP)+sum(FN))/len(Y_test)"
   ]
  },
  {
   "cell_type": "markdown",
   "metadata": {},
   "source": [
    "Algorytm w 30 procentach dobrze przewiduje, czy akcje wzrosną czy spadną"
   ]
  },
  {
   "cell_type": "markdown",
   "metadata": {},
   "source": [
    "# XGBoost"
   ]
  },
  {
   "cell_type": "code",
   "execution_count": 34,
   "metadata": {
    "ExecuteTime": {
     "end_time": "2018-12-05T20:31:50.156372Z",
     "start_time": "2018-12-05T20:27:16.610808Z"
    }
   },
   "outputs": [
    {
     "data": {
      "text/plain": [
       "XGBRegressor(base_score=0.5, booster='gbtree', colsample_bylevel=1,\n",
       "       colsample_bytree=1, gamma=0, learning_rate=0.1, max_delta_step=0,\n",
       "       max_depth=3, min_child_weight=1, missing=None, n_estimators=100,\n",
       "       n_jobs=1, nthread=None, objective='reg:linear', random_state=0,\n",
       "       reg_alpha=0, reg_lambda=1, scale_pos_weight=1, seed=None,\n",
       "       silent=True, subsample=1)"
      ]
     },
     "execution_count": 34,
     "metadata": {},
     "output_type": "execute_result"
    }
   ],
   "source": [
    "scaler = StandardScaler().fit(X_train)\n",
    "rescaledX= scaler.transform(X_train)\n",
    "# model= LinearRegression()\n",
    "model=xgb.XGBRegressor()\n",
    "model.fit(rescaledX,Y_train)"
   ]
  },
  {
   "cell_type": "code",
   "execution_count": 35,
   "metadata": {
    "ExecuteTime": {
     "end_time": "2018-12-05T20:31:55.396885Z",
     "start_time": "2018-12-05T20:31:50.158655Z"
    }
   },
   "outputs": [
    {
     "name": "stdout",
     "output_type": "stream",
     "text": [
      "0.0062586601566346255\n"
     ]
    }
   ],
   "source": [
    "rescaledTestX = scaler.transform(X_test)\n",
    "predictions = model.predict(rescaledTestX)\n",
    "print(mean_squared_error(Y_test,predictions))"
   ]
  },
  {
   "cell_type": "code",
   "execution_count": 36,
   "metadata": {
    "ExecuteTime": {
     "end_time": "2018-12-05T20:31:55.522967Z",
     "start_time": "2018-12-05T20:31:55.399681Z"
    }
   },
   "outputs": [
    {
     "data": {
      "image/png": "[encoded data removed]",
      "text/plain": [
       "<Figure size 432x288 with 1 Axes>"
      ]
     },
     "metadata": {},
     "output_type": "display_data"
    }
   ],
   "source": [
    "plt.plot(Y_test[:100])\n",
    "plt.plot(predictions[:100])\n",
    "plt.show()"
   ]
  },
  {
   "cell_type": "code",
   "execution_count": 37,
   "metadata": {
    "ExecuteTime": {
     "end_time": "2018-12-05T20:31:59.632123Z",
     "start_time": "2018-12-05T20:31:55.525834Z"
    }
   },
   "outputs": [],
   "source": [
    "FP=[1 if Y_test[x]>0 and predictions[x]>0 else 0 for x in range(len(Y_test)) ]\n",
    "FN=[1 if Y_test[x]<0 and predictions[x]<0 else 0 for x in range(len(Y_test)) ]"
   ]
  },
  {
   "cell_type": "code",
   "execution_count": 38,
   "metadata": {
    "ExecuteTime": {
     "end_time": "2018-12-05T20:31:59.673598Z",
     "start_time": "2018-12-05T20:31:59.635790Z"
    }
   },
   "outputs": [
    {
     "data": {
      "text/plain": [
       "0.30464715555129773"
      ]
     },
     "execution_count": 38,
     "metadata": {},
     "output_type": "execute_result"
    }
   ],
   "source": [
    "(sum(FP)+sum(FN))/len(Y_test)"
   ]
  },
  {
   "cell_type": "code",
   "execution_count": 56,
   "metadata": {
    "ExecuteTime": {
     "end_time": "2018-12-05T20:50:16.358502Z",
     "start_time": "2018-12-05T20:50:16.353348Z"
    }
   },
   "outputs": [],
   "source": [
    "model = xgb.XGBRegressor(silent=False, \n",
    "                      scale_pos_weight=1,\n",
    "                      learning_rate=0.01,  \n",
    "                      colsample_bytree = 0.4,\n",
    "                      subsample = 0.8,\n",
    "                      \n",
    "                      n_estimators=100, \n",
    "                      reg_alpha = 0.3,\n",
    "                      max_depth=4, \n",
    "                      gamma=10)"
   ]
  },
  {
   "cell_type": "code",
   "execution_count": 58,
   "metadata": {
    "ExecuteTime": {
     "end_time": "2018-12-05T20:57:40.029931Z",
     "start_time": "2018-12-05T20:53:42.463449Z"
    }
   },
   "outputs": [
    {
     "name": "stdout",
     "output_type": "stream",
     "text": [
      "[21:53:47] /workspace/src/tree/updater_prune.cc:74: tree pruning end, 1 roots, 0 extra nodes, 26 pruned nodes, max_depth=0\n",
      "[0]\tvalidation_0-rmse:0.503284\tvalidation_1-rmse:0.501779\n",
      "[21:53:49] /workspace/src/tree/updater_prune.cc:74: tree pruning end, 1 roots, 0 extra nodes, 14 pruned nodes, max_depth=0\n",
      "[1]\tvalidation_0-rmse:0.498421\tvalidation_1-rmse:0.496902\n",
      "[21:53:51] /workspace/src/tree/updater_prune.cc:74: tree pruning end, 1 roots, 24 extra nodes, 6 pruned nodes, max_depth=4\n",
      "[2]\tvalidation_0-rmse:0.493586\tvalidation_1-rmse:0.492062\n",
      "[21:53:54] /workspace/src/tree/updater_prune.cc:74: tree pruning end, 1 roots, 0 extra nodes, 28 pruned nodes, max_depth=0\n",
      "[3]\tvalidation_0-rmse:0.488823\tvalidation_1-rmse:0.487285\n",
      "[21:53:56] /workspace/src/tree/updater_prune.cc:74: tree pruning end, 1 roots, 22 extra nodes, 8 pruned nodes, max_depth=4\n",
      "[4]\tvalidation_0-rmse:0.484087\tvalidation_1-rmse:0.482543\n",
      "[21:53:58] /workspace/src/tree/updater_prune.cc:74: tree pruning end, 1 roots, 0 extra nodes, 16 pruned nodes, max_depth=0\n",
      "[5]\tvalidation_0-rmse:0.479423\tvalidation_1-rmse:0.477864\n",
      "[21:54:00] /workspace/src/tree/updater_prune.cc:74: tree pruning end, 1 roots, 0 extra nodes, 22 pruned nodes, max_depth=0\n",
      "[6]\tvalidation_0-rmse:0.474806\tvalidation_1-rmse:0.473233\n",
      "[21:54:03] /workspace/src/tree/updater_prune.cc:74: tree pruning end, 1 roots, 0 extra nodes, 24 pruned nodes, max_depth=0\n",
      "[7]\tvalidation_0-rmse:0.470238\tvalidation_1-rmse:0.46865\n",
      "[21:54:05] /workspace/src/tree/updater_prune.cc:74: tree pruning end, 1 roots, 22 extra nodes, 8 pruned nodes, max_depth=4\n",
      "[8]\tvalidation_0-rmse:0.465693\tvalidation_1-rmse:0.4641\n",
      "[21:54:08] /workspace/src/tree/updater_prune.cc:74: tree pruning end, 1 roots, 4 extra nodes, 26 pruned nodes, max_depth=2\n",
      "[9]\tvalidation_0-rmse:0.461218\tvalidation_1-rmse:0.459612\n",
      "[21:54:10] /workspace/src/tree/updater_prune.cc:74: tree pruning end, 1 roots, 20 extra nodes, 10 pruned nodes, max_depth=4\n",
      "[10]\tvalidation_0-rmse:0.456767\tvalidation_1-rmse:0.455154\n",
      "[21:54:12] /workspace/src/tree/updater_prune.cc:74: tree pruning end, 1 roots, 0 extra nodes, 30 pruned nodes, max_depth=0\n",
      "[11]\tvalidation_0-rmse:0.452385\tvalidation_1-rmse:0.450758\n",
      "[21:54:15] /workspace/src/tree/updater_prune.cc:74: tree pruning end, 1 roots, 22 extra nodes, 8 pruned nodes, max_depth=4\n",
      "[12]\tvalidation_0-rmse:0.448025\tvalidation_1-rmse:0.446392\n",
      "[21:54:17] /workspace/src/tree/updater_prune.cc:74: tree pruning end, 1 roots, 0 extra nodes, 28 pruned nodes, max_depth=0\n",
      "[13]\tvalidation_0-rmse:0.443733\tvalidation_1-rmse:0.442085\n",
      "[21:54:20] /workspace/src/tree/updater_prune.cc:74: tree pruning end, 1 roots, 20 extra nodes, 10 pruned nodes, max_depth=4\n",
      "[14]\tvalidation_0-rmse:0.439464\tvalidation_1-rmse:0.437808\n",
      "[21:54:22] /workspace/src/tree/updater_prune.cc:74: tree pruning end, 1 roots, 20 extra nodes, 10 pruned nodes, max_depth=4\n",
      "[15]\tvalidation_0-rmse:0.435239\tvalidation_1-rmse:0.433576\n",
      "[21:54:24] /workspace/src/tree/updater_prune.cc:74: tree pruning end, 1 roots, 0 extra nodes, 22 pruned nodes, max_depth=0\n",
      "[16]\tvalidation_0-rmse:0.43108\tvalidation_1-rmse:0.429402\n",
      "[21:54:26] /workspace/src/tree/updater_prune.cc:74: tree pruning end, 1 roots, 0 extra nodes, 12 pruned nodes, max_depth=0\n",
      "[17]\tvalidation_0-rmse:0.426964\tvalidation_1-rmse:0.425271\n",
      "[21:54:29] /workspace/src/tree/updater_prune.cc:74: tree pruning end, 1 roots, 0 extra nodes, 16 pruned nodes, max_depth=0\n",
      "[18]\tvalidation_0-rmse:0.422891\tvalidation_1-rmse:0.421182\n",
      "[21:54:30] /workspace/src/tree/updater_prune.cc:74: tree pruning end, 1 roots, 0 extra nodes, 2 pruned nodes, max_depth=0\n",
      "[19]\tvalidation_0-rmse:0.418861\tvalidation_1-rmse:0.417136\n",
      "[21:54:33] /workspace/src/tree/updater_prune.cc:74: tree pruning end, 1 roots, 24 extra nodes, 6 pruned nodes, max_depth=4\n",
      "[20]\tvalidation_0-rmse:0.41485\tvalidation_1-rmse:0.413119\n",
      "[21:54:35] /workspace/src/tree/updater_prune.cc:74: tree pruning end, 1 roots, 22 extra nodes, 8 pruned nodes, max_depth=4\n",
      "[21]\tvalidation_0-rmse:0.410881\tvalidation_1-rmse:0.409144\n",
      "[21:54:37] /workspace/src/tree/updater_prune.cc:74: tree pruning end, 1 roots, 0 extra nodes, 30 pruned nodes, max_depth=0\n",
      "[22]\tvalidation_0-rmse:0.406975\tvalidation_1-rmse:0.405222\n",
      "[21:54:40] /workspace/src/tree/updater_prune.cc:74: tree pruning end, 1 roots, 0 extra nodes, 28 pruned nodes, max_depth=0\n",
      "[23]\tvalidation_0-rmse:0.403112\tvalidation_1-rmse:0.401342\n",
      "[21:54:42] /workspace/src/tree/updater_prune.cc:74: tree pruning end, 1 roots, 22 extra nodes, 8 pruned nodes, max_depth=4\n",
      "[24]\tvalidation_0-rmse:0.399265\tvalidation_1-rmse:0.397489\n",
      "[21:54:44] /workspace/src/tree/updater_prune.cc:74: tree pruning end, 1 roots, 20 extra nodes, 10 pruned nodes, max_depth=4\n",
      "[25]\tvalidation_0-rmse:0.395459\tvalidation_1-rmse:0.393676\n",
      "[21:54:47] /workspace/src/tree/updater_prune.cc:74: tree pruning end, 1 roots, 0 extra nodes, 28 pruned nodes, max_depth=0\n",
      "[26]\tvalidation_0-rmse:0.391715\tvalidation_1-rmse:0.389915\n",
      "[21:54:49] /workspace/src/tree/updater_prune.cc:74: tree pruning end, 1 roots, 0 extra nodes, 30 pruned nodes, max_depth=0\n",
      "[27]\tvalidation_0-rmse:0.388011\tvalidation_1-rmse:0.386194\n",
      "[21:54:52] /workspace/src/tree/updater_prune.cc:74: tree pruning end, 1 roots, 0 extra nodes, 30 pruned nodes, max_depth=0\n",
      "[28]\tvalidation_0-rmse:0.384346\tvalidation_1-rmse:0.382513\n",
      "[21:54:54] /workspace/src/tree/updater_prune.cc:74: tree pruning end, 1 roots, 0 extra nodes, 26 pruned nodes, max_depth=0\n",
      "[29]\tvalidation_0-rmse:0.38072\tvalidation_1-rmse:0.378869\n",
      "[21:54:57] /workspace/src/tree/updater_prune.cc:74: tree pruning end, 1 roots, 0 extra nodes, 24 pruned nodes, max_depth=0\n",
      "[30]\tvalidation_0-rmse:0.377131\tvalidation_1-rmse:0.375264\n",
      "[21:54:59] /workspace/src/tree/updater_prune.cc:74: tree pruning end, 1 roots, 0 extra nodes, 30 pruned nodes, max_depth=0\n",
      "[31]\tvalidation_0-rmse:0.373581\tvalidation_1-rmse:0.371697\n",
      "[21:55:02] /workspace/src/tree/updater_prune.cc:74: tree pruning end, 1 roots, 24 extra nodes, 6 pruned nodes, max_depth=4\n",
      "[32]\tvalidation_0-rmse:0.370044\tvalidation_1-rmse:0.368149\n",
      "[21:55:04] /workspace/src/tree/updater_prune.cc:74: tree pruning end, 1 roots, 0 extra nodes, 26 pruned nodes, max_depth=0\n",
      "[33]\tvalidation_0-rmse:0.366569\tvalidation_1-rmse:0.364656\n",
      "[21:55:06] /workspace/src/tree/updater_prune.cc:74: tree pruning end, 1 roots, 22 extra nodes, 8 pruned nodes, max_depth=4\n",
      "[34]\tvalidation_0-rmse:0.363106\tvalidation_1-rmse:0.361185\n",
      "[21:55:09] /workspace/src/tree/updater_prune.cc:74: tree pruning end, 1 roots, 22 extra nodes, 8 pruned nodes, max_depth=4\n",
      "[35]\tvalidation_0-rmse:0.359679\tvalidation_1-rmse:0.35775\n",
      "[21:55:11] /workspace/src/tree/updater_prune.cc:74: tree pruning end, 1 roots, 0 extra nodes, 16 pruned nodes, max_depth=0\n",
      "[36]\tvalidation_0-rmse:0.356313\tvalidation_1-rmse:0.354367\n",
      "[21:55:13] /workspace/src/tree/updater_prune.cc:74: tree pruning end, 1 roots, 22 extra nodes, 8 pruned nodes, max_depth=4\n",
      "[37]\tvalidation_0-rmse:0.352959\tvalidation_1-rmse:0.351002\n",
      "[21:55:16] /workspace/src/tree/updater_prune.cc:74: tree pruning end, 1 roots, 0 extra nodes, 26 pruned nodes, max_depth=0\n",
      "[38]\tvalidation_0-rmse:0.349664\tvalidation_1-rmse:0.347689\n",
      "[21:55:18] /workspace/src/tree/updater_prune.cc:74: tree pruning end, 1 roots, 20 extra nodes, 10 pruned nodes, max_depth=4\n",
      "[39]\tvalidation_0-rmse:0.34638\tvalidation_1-rmse:0.344393\n",
      "[21:55:20] /workspace/src/tree/updater_prune.cc:74: tree pruning end, 1 roots, 0 extra nodes, 26 pruned nodes, max_depth=0\n",
      "[40]\tvalidation_0-rmse:0.343154\tvalidation_1-rmse:0.34115\n",
      "[21:55:23] /workspace/src/tree/updater_prune.cc:74: tree pruning end, 1 roots, 0 extra nodes, 28 pruned nodes, max_depth=0\n",
      "[41]\tvalidation_0-rmse:0.339964\tvalidation_1-rmse:0.337942\n",
      "[21:55:25] /workspace/src/tree/updater_prune.cc:74: tree pruning end, 1 roots, 0 extra nodes, 12 pruned nodes, max_depth=0\n",
      "[42]\tvalidation_0-rmse:0.336807\tvalidation_1-rmse:0.334766\n",
      "[21:55:27] /workspace/src/tree/updater_prune.cc:74: tree pruning end, 1 roots, 22 extra nodes, 8 pruned nodes, max_depth=4\n",
      "[43]\tvalidation_0-rmse:0.333659\tvalidation_1-rmse:0.331609\n",
      "[21:55:30] /workspace/src/tree/updater_prune.cc:74: tree pruning end, 1 roots, 22 extra nodes, 6 pruned nodes, max_depth=4\n",
      "[44]\tvalidation_0-rmse:0.330546\tvalidation_1-rmse:0.328486\n",
      "[21:55:32] /workspace/src/tree/updater_prune.cc:74: tree pruning end, 1 roots, 0 extra nodes, 28 pruned nodes, max_depth=0\n"
     ]
    },
    {
     "name": "stdout",
     "output_type": "stream",
     "text": [
      "[45]\tvalidation_0-rmse:0.327489\tvalidation_1-rmse:0.32541\n",
      "[21:55:35] /workspace/src/tree/updater_prune.cc:74: tree pruning end, 1 roots, 0 extra nodes, 20 pruned nodes, max_depth=0\n",
      "[46]\tvalidation_0-rmse:0.324466\tvalidation_1-rmse:0.322368\n",
      "[21:55:37] /workspace/src/tree/updater_prune.cc:74: tree pruning end, 1 roots, 0 extra nodes, 26 pruned nodes, max_depth=0\n",
      "[47]\tvalidation_0-rmse:0.321474\tvalidation_1-rmse:0.319357\n",
      "[21:55:39] /workspace/src/tree/updater_prune.cc:74: tree pruning end, 1 roots, 22 extra nodes, 8 pruned nodes, max_depth=4\n",
      "[48]\tvalidation_0-rmse:0.31849\tvalidation_1-rmse:0.316363\n",
      "[21:55:42] /workspace/src/tree/updater_prune.cc:74: tree pruning end, 1 roots, 0 extra nodes, 28 pruned nodes, max_depth=0\n",
      "[49]\tvalidation_0-rmse:0.315563\tvalidation_1-rmse:0.313417\n",
      "[21:55:44] /workspace/src/tree/updater_prune.cc:74: tree pruning end, 1 roots, 0 extra nodes, 26 pruned nodes, max_depth=0\n",
      "[50]\tvalidation_0-rmse:0.312667\tvalidation_1-rmse:0.310502\n",
      "[21:55:47] /workspace/src/tree/updater_prune.cc:74: tree pruning end, 1 roots, 0 extra nodes, 24 pruned nodes, max_depth=0\n",
      "[51]\tvalidation_0-rmse:0.309803\tvalidation_1-rmse:0.307618\n",
      "[21:55:48] /workspace/src/tree/updater_prune.cc:74: tree pruning end, 1 roots, 0 extra nodes, 2 pruned nodes, max_depth=0\n",
      "[52]\tvalidation_0-rmse:0.306969\tvalidation_1-rmse:0.304765\n",
      "[21:55:50] /workspace/src/tree/updater_prune.cc:74: tree pruning end, 1 roots, 0 extra nodes, 16 pruned nodes, max_depth=0\n",
      "[53]\tvalidation_0-rmse:0.304167\tvalidation_1-rmse:0.301943\n",
      "[21:55:52] /workspace/src/tree/updater_prune.cc:74: tree pruning end, 1 roots, 24 extra nodes, 4 pruned nodes, max_depth=4\n",
      "[54]\tvalidation_0-rmse:0.301369\tvalidation_1-rmse:0.299134\n",
      "[21:55:55] /workspace/src/tree/updater_prune.cc:74: tree pruning end, 1 roots, 0 extra nodes, 24 pruned nodes, max_depth=0\n",
      "[55]\tvalidation_0-rmse:0.298627\tvalidation_1-rmse:0.296372\n",
      "[21:55:57] /workspace/src/tree/updater_prune.cc:74: tree pruning end, 1 roots, 22 extra nodes, 8 pruned nodes, max_depth=4\n",
      "[56]\tvalidation_0-rmse:0.29589\tvalidation_1-rmse:0.293623\n",
      "[21:55:59] /workspace/src/tree/updater_prune.cc:74: tree pruning end, 1 roots, 22 extra nodes, 8 pruned nodes, max_depth=4\n",
      "[57]\tvalidation_0-rmse:0.293182\tvalidation_1-rmse:0.290905\n",
      "[21:56:02] /workspace/src/tree/updater_prune.cc:74: tree pruning end, 1 roots, 0 extra nodes, 30 pruned nodes, max_depth=0\n",
      "[58]\tvalidation_0-rmse:0.290528\tvalidation_1-rmse:0.288231\n",
      "[21:56:04] /workspace/src/tree/updater_prune.cc:74: tree pruning end, 1 roots, 0 extra nodes, 26 pruned nodes, max_depth=0\n",
      "[59]\tvalidation_0-rmse:0.287904\tvalidation_1-rmse:0.285586\n",
      "[21:56:06] /workspace/src/tree/updater_prune.cc:74: tree pruning end, 1 roots, 0 extra nodes, 30 pruned nodes, max_depth=0\n",
      "[60]\tvalidation_0-rmse:0.285308\tvalidation_1-rmse:0.282969\n",
      "[21:56:09] /workspace/src/tree/updater_prune.cc:74: tree pruning end, 1 roots, 0 extra nodes, 16 pruned nodes, max_depth=0\n",
      "[61]\tvalidation_0-rmse:0.282741\tvalidation_1-rmse:0.280382\n",
      "[21:56:11] /workspace/src/tree/updater_prune.cc:74: tree pruning end, 1 roots, 22 extra nodes, 8 pruned nodes, max_depth=4\n",
      "[62]\tvalidation_0-rmse:0.280176\tvalidation_1-rmse:0.277804\n",
      "[21:56:13] /workspace/src/tree/updater_prune.cc:74: tree pruning end, 1 roots, 0 extra nodes, 26 pruned nodes, max_depth=0\n",
      "[63]\tvalidation_0-rmse:0.277665\tvalidation_1-rmse:0.275272\n",
      "[21:56:15] /workspace/src/tree/updater_prune.cc:74: tree pruning end, 1 roots, 0 extra nodes, 22 pruned nodes, max_depth=0\n",
      "[64]\tvalidation_0-rmse:0.275181\tvalidation_1-rmse:0.272768\n",
      "[21:56:18] /workspace/src/tree/updater_prune.cc:74: tree pruning end, 1 roots, 22 extra nodes, 8 pruned nodes, max_depth=4\n",
      "[65]\tvalidation_0-rmse:0.272699\tvalidation_1-rmse:0.270273\n",
      "[21:56:20] /workspace/src/tree/updater_prune.cc:74: tree pruning end, 1 roots, 0 extra nodes, 30 pruned nodes, max_depth=0\n",
      "[66]\tvalidation_0-rmse:0.270271\tvalidation_1-rmse:0.267823\n",
      "[21:56:23] /workspace/src/tree/updater_prune.cc:74: tree pruning end, 1 roots, 0 extra nodes, 24 pruned nodes, max_depth=0\n",
      "[67]\tvalidation_0-rmse:0.267869\tvalidation_1-rmse:0.2654\n",
      "[21:56:25] /workspace/src/tree/updater_prune.cc:74: tree pruning end, 1 roots, 0 extra nodes, 22 pruned nodes, max_depth=0\n",
      "[68]\tvalidation_0-rmse:0.265493\tvalidation_1-rmse:0.263003\n",
      "[21:56:28] /workspace/src/tree/updater_prune.cc:74: tree pruning end, 1 roots, 24 extra nodes, 4 pruned nodes, max_depth=4\n",
      "[69]\tvalidation_0-rmse:0.263118\tvalidation_1-rmse:0.260612\n",
      "[21:56:30] /workspace/src/tree/updater_prune.cc:74: tree pruning end, 1 roots, 24 extra nodes, 6 pruned nodes, max_depth=4\n",
      "[70]\tvalidation_0-rmse:0.260768\tvalidation_1-rmse:0.258251\n",
      "[21:56:32] /workspace/src/tree/updater_prune.cc:74: tree pruning end, 1 roots, 22 extra nodes, 8 pruned nodes, max_depth=4\n",
      "[71]\tvalidation_0-rmse:0.258445\tvalidation_1-rmse:0.255916\n",
      "[21:56:35] /workspace/src/tree/updater_prune.cc:74: tree pruning end, 1 roots, 0 extra nodes, 22 pruned nodes, max_depth=0\n",
      "[72]\tvalidation_0-rmse:0.256174\tvalidation_1-rmse:0.253622\n",
      "[21:56:37] /workspace/src/tree/updater_prune.cc:74: tree pruning end, 1 roots, 0 extra nodes, 30 pruned nodes, max_depth=0\n",
      "[73]\tvalidation_0-rmse:0.253928\tvalidation_1-rmse:0.251354\n",
      "[21:56:40] /workspace/src/tree/updater_prune.cc:74: tree pruning end, 1 roots, 0 extra nodes, 26 pruned nodes, max_depth=0\n",
      "[74]\tvalidation_0-rmse:0.251707\tvalidation_1-rmse:0.249111\n",
      "[21:56:42] /workspace/src/tree/updater_prune.cc:74: tree pruning end, 1 roots, 0 extra nodes, 18 pruned nodes, max_depth=0\n",
      "[75]\tvalidation_0-rmse:0.249511\tvalidation_1-rmse:0.246893\n",
      "[21:56:45] /workspace/src/tree/updater_prune.cc:74: tree pruning end, 1 roots, 0 extra nodes, 26 pruned nodes, max_depth=0\n",
      "[76]\tvalidation_0-rmse:0.24734\tvalidation_1-rmse:0.244699\n",
      "[21:56:47] /workspace/src/tree/updater_prune.cc:74: tree pruning end, 1 roots, 22 extra nodes, 8 pruned nodes, max_depth=4\n",
      "[77]\tvalidation_0-rmse:0.245167\tvalidation_1-rmse:0.242512\n",
      "[21:56:49] /workspace/src/tree/updater_prune.cc:74: tree pruning end, 1 roots, 0 extra nodes, 26 pruned nodes, max_depth=0\n",
      "[78]\tvalidation_0-rmse:0.243044\tvalidation_1-rmse:0.240367\n",
      "[21:56:52] /workspace/src/tree/updater_prune.cc:74: tree pruning end, 1 roots, 0 extra nodes, 18 pruned nodes, max_depth=0\n",
      "[79]\tvalidation_0-rmse:0.240946\tvalidation_1-rmse:0.238245\n",
      "[21:56:54] /workspace/src/tree/updater_prune.cc:74: tree pruning end, 1 roots, 0 extra nodes, 30 pruned nodes, max_depth=0\n",
      "[80]\tvalidation_0-rmse:0.238871\tvalidation_1-rmse:0.236148\n",
      "[21:56:57] /workspace/src/tree/updater_prune.cc:74: tree pruning end, 1 roots, 0 extra nodes, 30 pruned nodes, max_depth=0\n",
      "[81]\tvalidation_0-rmse:0.236821\tvalidation_1-rmse:0.234074\n",
      "[21:56:59] /workspace/src/tree/updater_prune.cc:74: tree pruning end, 1 roots, 0 extra nodes, 14 pruned nodes, max_depth=0\n",
      "[82]\tvalidation_0-rmse:0.234794\tvalidation_1-rmse:0.232024\n",
      "[21:57:02] /workspace/src/tree/updater_prune.cc:74: tree pruning end, 1 roots, 0 extra nodes, 30 pruned nodes, max_depth=0\n",
      "[83]\tvalidation_0-rmse:0.23279\tvalidation_1-rmse:0.229996\n",
      "[21:57:03] /workspace/src/tree/updater_prune.cc:74: tree pruning end, 1 roots, 0 extra nodes, 4 pruned nodes, max_depth=0\n",
      "[84]\tvalidation_0-rmse:0.230809\tvalidation_1-rmse:0.227992\n",
      "[21:57:06] /workspace/src/tree/updater_prune.cc:74: tree pruning end, 1 roots, 0 extra nodes, 26 pruned nodes, max_depth=0\n",
      "[85]\tvalidation_0-rmse:0.22885\tvalidation_1-rmse:0.226009\n",
      "[21:57:08] /workspace/src/tree/updater_prune.cc:74: tree pruning end, 1 roots, 0 extra nodes, 30 pruned nodes, max_depth=0\n",
      "[86]\tvalidation_0-rmse:0.226915\tvalidation_1-rmse:0.22405\n",
      "[21:57:10] /workspace/src/tree/updater_prune.cc:74: tree pruning end, 1 roots, 20 extra nodes, 8 pruned nodes, max_depth=4\n",
      "[87]\tvalidation_0-rmse:0.224973\tvalidation_1-rmse:0.222091\n",
      "[21:57:13] /workspace/src/tree/updater_prune.cc:74: tree pruning end, 1 roots, 0 extra nodes, 30 pruned nodes, max_depth=0\n",
      "[88]\tvalidation_0-rmse:0.223081\tvalidation_1-rmse:0.220175\n",
      "[21:57:16] /workspace/src/tree/updater_prune.cc:74: tree pruning end, 1 roots, 0 extra nodes, 26 pruned nodes, max_depth=0\n",
      "[89]\tvalidation_0-rmse:0.221212\tvalidation_1-rmse:0.218282\n",
      "[21:57:18] /workspace/src/tree/updater_prune.cc:74: tree pruning end, 1 roots, 0 extra nodes, 28 pruned nodes, max_depth=0\n",
      "[90]\tvalidation_0-rmse:0.219364\tvalidation_1-rmse:0.216409\n"
     ]
    },
    {
     "name": "stdout",
     "output_type": "stream",
     "text": [
      "[21:57:20] /workspace/src/tree/updater_prune.cc:74: tree pruning end, 1 roots, 18 extra nodes, 12 pruned nodes, max_depth=4\n",
      "[91]\tvalidation_0-rmse:0.217509\tvalidation_1-rmse:0.21454\n",
      "[21:57:23] /workspace/src/tree/updater_prune.cc:74: tree pruning end, 1 roots, 0 extra nodes, 26 pruned nodes, max_depth=0\n",
      "[92]\tvalidation_0-rmse:0.215704\tvalidation_1-rmse:0.21271\n",
      "[21:57:25] /workspace/src/tree/updater_prune.cc:74: tree pruning end, 1 roots, 0 extra nodes, 26 pruned nodes, max_depth=0\n",
      "[93]\tvalidation_0-rmse:0.21392\tvalidation_1-rmse:0.210902\n",
      "[21:57:27] /workspace/src/tree/updater_prune.cc:74: tree pruning end, 1 roots, 20 extra nodes, 10 pruned nodes, max_depth=4\n",
      "[94]\tvalidation_0-rmse:0.212127\tvalidation_1-rmse:0.209093\n",
      "[21:57:30] /workspace/src/tree/updater_prune.cc:74: tree pruning end, 1 roots, 0 extra nodes, 26 pruned nodes, max_depth=0\n",
      "[95]\tvalidation_0-rmse:0.210385\tvalidation_1-rmse:0.207326\n",
      "[21:57:32] /workspace/src/tree/updater_prune.cc:74: tree pruning end, 1 roots, 0 extra nodes, 22 pruned nodes, max_depth=0\n",
      "[96]\tvalidation_0-rmse:0.208662\tvalidation_1-rmse:0.205578\n",
      "[21:57:34] /workspace/src/tree/updater_prune.cc:74: tree pruning end, 1 roots, 20 extra nodes, 10 pruned nodes, max_depth=4\n",
      "[97]\tvalidation_0-rmse:0.20693\tvalidation_1-rmse:0.203832\n",
      "[21:57:36] /workspace/src/tree/updater_prune.cc:74: tree pruning end, 1 roots, 20 extra nodes, 10 pruned nodes, max_depth=4\n",
      "[98]\tvalidation_0-rmse:0.20522\tvalidation_1-rmse:0.202107\n",
      "[21:57:39] /workspace/src/tree/updater_prune.cc:74: tree pruning end, 1 roots, 0 extra nodes, 28 pruned nodes, max_depth=0\n",
      "[99]\tvalidation_0-rmse:0.203558\tvalidation_1-rmse:0.20042\n"
     ]
    },
    {
     "data": {
      "text/plain": [
       "XGBRegressor(base_score=0.5, booster='gbtree', colsample_bylevel=1,\n",
       "       colsample_bytree=0.4, gamma=10, learning_rate=0.01,\n",
       "       max_delta_step=0, max_depth=4, min_child_weight=1, missing=None,\n",
       "       n_estimators=100, n_jobs=1, nthread=None, objective='reg:linear',\n",
       "       random_state=0, reg_alpha=0.3, reg_lambda=1, scale_pos_weight=1,\n",
       "       seed=None, silent=False, subsample=0.8)"
      ]
     },
     "execution_count": 58,
     "metadata": {},
     "output_type": "execute_result"
    }
   ],
   "source": [
    "eval_set = [(X_train, Y_train), (X_test, Y_test)]\n",
    "model.fit(X_train, Y_train, eval_set=eval_set, verbose=True)"
   ]
  },
  {
   "cell_type": "code",
   "execution_count": 59,
   "metadata": {
    "ExecuteTime": {
     "end_time": "2018-12-05T20:57:40.037509Z",
     "start_time": "2018-12-05T20:57:40.032627Z"
    }
   },
   "outputs": [
    {
     "name": "stdout",
     "output_type": "stream",
     "text": [
      "{'validation_0': {'rmse': [0.503284, 0.498421, 0.493586, 0.488823, 0.484087, 0.479423, 0.474806, 0.470238, 0.465693, 0.461218, 0.456767, 0.452385, 0.448025, 0.443733, 0.439464, 0.435239, 0.43108, 0.426964, 0.422891, 0.418861, 0.41485, 0.410881, 0.406975, 0.403112, 0.399265, 0.395459, 0.391715, 0.388011, 0.384346, 0.38072, 0.377131, 0.373581, 0.370044, 0.366569, 0.363106, 0.359679, 0.356313, 0.352959, 0.349664, 0.34638, 0.343154, 0.339964, 0.336807, 0.333659, 0.330546, 0.327489, 0.324466, 0.321474, 0.31849, 0.315563, 0.312667, 0.309803, 0.306969, 0.304167, 0.301369, 0.298627, 0.29589, 0.293182, 0.290528, 0.287904, 0.285308, 0.282741, 0.280176, 0.277665, 0.275181, 0.272699, 0.270271, 0.267869, 0.265493, 0.263118, 0.260768, 0.258445, 0.256174, 0.253928, 0.251707, 0.249511, 0.24734, 0.245167, 0.243044, 0.240946, 0.238871, 0.236821, 0.234794, 0.23279, 0.230809, 0.22885, 0.226915, 0.224973, 0.223081, 0.221212, 0.219364, 0.217509, 0.215704, 0.21392, 0.212127, 0.210385, 0.208662, 0.20693, 0.20522, 0.203558]}, 'validation_1': {'rmse': [0.501779, 0.496902, 0.492062, 0.487285, 0.482543, 0.477864, 0.473233, 0.46865, 0.4641, 0.459612, 0.455154, 0.450758, 0.446392, 0.442085, 0.437808, 0.433576, 0.429402, 0.425271, 0.421182, 0.417136, 0.413119, 0.409144, 0.405222, 0.401342, 0.397489, 0.393676, 0.389915, 0.386194, 0.382513, 0.378869, 0.375264, 0.371697, 0.368149, 0.364656, 0.361185, 0.35775, 0.354367, 0.351002, 0.347689, 0.344393, 0.34115, 0.337942, 0.334766, 0.331609, 0.328486, 0.32541, 0.322368, 0.319357, 0.316363, 0.313417, 0.310502, 0.307618, 0.304765, 0.301943, 0.299134, 0.296372, 0.293623, 0.290905, 0.288231, 0.285586, 0.282969, 0.280382, 0.277804, 0.275272, 0.272768, 0.270273, 0.267823, 0.2654, 0.263003, 0.260612, 0.258251, 0.255916, 0.253622, 0.251354, 0.249111, 0.246893, 0.244699, 0.242512, 0.240367, 0.238245, 0.236148, 0.234074, 0.232024, 0.229996, 0.227992, 0.226009, 0.22405, 0.222091, 0.220175, 0.218282, 0.216409, 0.21454, 0.21271, 0.210902, 0.209093, 0.207326, 0.205578, 0.203832, 0.202107, 0.20042]}}\n"
     ]
    }
   ],
   "source": [
    "results = model.evals_result()\n",
    "print(results)"
   ]
  },
  {
   "cell_type": "code",
   "execution_count": 61,
   "metadata": {
    "ExecuteTime": {
     "end_time": "2018-12-05T21:09:39.608931Z",
     "start_time": "2018-12-05T21:09:39.599341Z"
    }
   },
   "outputs": [
    {
     "data": {
      "text/plain": [
       "{'rmse': [0.503284,\n",
       "  0.498421,\n",
       "  0.493586,\n",
       "  0.488823,\n",
       "  0.484087,\n",
       "  0.479423,\n",
       "  0.474806,\n",
       "  0.470238,\n",
       "  0.465693,\n",
       "  0.461218,\n",
       "  0.456767,\n",
       "  0.452385,\n",
       "  0.448025,\n",
       "  0.443733,\n",
       "  0.439464,\n",
       "  0.435239,\n",
       "  0.43108,\n",
       "  0.426964,\n",
       "  0.422891,\n",
       "  0.418861,\n",
       "  0.41485,\n",
       "  0.410881,\n",
       "  0.406975,\n",
       "  0.403112,\n",
       "  0.399265,\n",
       "  0.395459,\n",
       "  0.391715,\n",
       "  0.388011,\n",
       "  0.384346,\n",
       "  0.38072,\n",
       "  0.377131,\n",
       "  0.373581,\n",
       "  0.370044,\n",
       "  0.366569,\n",
       "  0.363106,\n",
       "  0.359679,\n",
       "  0.356313,\n",
       "  0.352959,\n",
       "  0.349664,\n",
       "  0.34638,\n",
       "  0.343154,\n",
       "  0.339964,\n",
       "  0.336807,\n",
       "  0.333659,\n",
       "  0.330546,\n",
       "  0.327489,\n",
       "  0.324466,\n",
       "  0.321474,\n",
       "  0.31849,\n",
       "  0.315563,\n",
       "  0.312667,\n",
       "  0.309803,\n",
       "  0.306969,\n",
       "  0.304167,\n",
       "  0.301369,\n",
       "  0.298627,\n",
       "  0.29589,\n",
       "  0.293182,\n",
       "  0.290528,\n",
       "  0.287904,\n",
       "  0.285308,\n",
       "  0.282741,\n",
       "  0.280176,\n",
       "  0.277665,\n",
       "  0.275181,\n",
       "  0.272699,\n",
       "  0.270271,\n",
       "  0.267869,\n",
       "  0.265493,\n",
       "  0.263118,\n",
       "  0.260768,\n",
       "  0.258445,\n",
       "  0.256174,\n",
       "  0.253928,\n",
       "  0.251707,\n",
       "  0.249511,\n",
       "  0.24734,\n",
       "  0.245167,\n",
       "  0.243044,\n",
       "  0.240946,\n",
       "  0.238871,\n",
       "  0.236821,\n",
       "  0.234794,\n",
       "  0.23279,\n",
       "  0.230809,\n",
       "  0.22885,\n",
       "  0.226915,\n",
       "  0.224973,\n",
       "  0.223081,\n",
       "  0.221212,\n",
       "  0.219364,\n",
       "  0.217509,\n",
       "  0.215704,\n",
       "  0.21392,\n",
       "  0.212127,\n",
       "  0.210385,\n",
       "  0.208662,\n",
       "  0.20693,\n",
       "  0.20522,\n",
       "  0.203558]}"
      ]
     },
     "execution_count": 61,
     "metadata": {},
     "output_type": "execute_result"
    }
   ],
   "source": [
    "results['validation_0']"
   ]
  },
  {
   "cell_type": "code",
   "execution_count": null,
   "metadata": {
    "ExecuteTime": {
     "end_time": "2018-12-05T20:57:40.081433Z",
     "start_time": "2018-12-05T20:52:08.405Z"
    }
   },
   "outputs": [],
   "source": [
    "eval_set = [(X_train, Y_train), (X_test, Y_test)]\n",
    "model.fit(X_train, Y_train, eval_metric=[\"error\", \"logloss\"], eval_set=eval_set, verbose=True)\n",
    "# make predictions for test data\n",
    "Y_pred = model.predict(X_test)\n",
    "predictions = [round(value) for value in Y_pred]\n",
    "# evaluate predictions\n",
    "accuracy = accuracY_score(Y_test, predictions)\n",
    "print(\"Accuracy: %.2f%%\" % (accuracy * 100.0))\n",
    "# retrieve performance metrics\n",
    "results = model.evals_result()\n",
    "epochs = len(results['validation_0']['error'])\n",
    "x_axis = range(0, epochs)\n",
    "# plot log loss\n",
    "fig, ax = pyplot.subplots()\n",
    "ax.plot(x_axis, results['validation_0']['logloss'], label='Train')\n",
    "ax.plot(x_axis, results['validation_1']['logloss'], label='Test')\n",
    "ax.legend()\n",
    "pyplot.ylabel('Log Loss')\n",
    "pyplot.title('XGBoost Log Loss')\n",
    "pyplot.show()\n",
    "# plot classification error\n",
    "fig, ax = pyplot.subplots()\n",
    "ax.plot(x_axis, results['validation_0']['error'], label='Train')\n",
    "ax.plot(x_axis, results['validation_1']['error'], label='Test')\n",
    "ax.legend()\n",
    "pyplot.ylabel('Classification Error')\n",
    "pyplot.title('XGBoost Classification Error')\n",
    "pyplot.show()"
   ]
  }
 ],
 "metadata": {
  "kernelspec": {
   "display_name": "Python [default]",
   "language": "python",
   "name": "python3"
  },
  "language_info": {
   "codemirror_mode": {
    "name": "ipython",
    "version": 3
   },
   "file_extension": ".py",
   "mimetype": "text/x-python",
   "name": "python",
   "nbconvert_exporter": "python",
   "pygments_lexer": "ipython3",
   "version": "3.7.0"
  }
 },
 "nbformat": 4,
 "nbformat_minor": 2
}
