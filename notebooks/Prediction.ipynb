{
 "cells": [
  {
   "cell_type": "markdown",
   "metadata": {
    "ExecuteTime": {
     "end_time": "2018-11-16T14:45:39.567333Z",
     "start_time": "2018-11-16T14:45:39.554784Z"
    }
   },
   "source": [
    "Na podstwie ostatnich 5 przewidzieć kolejną jedna -- wejsscie to deltta t i zmiana kursu\n",
    "\n",
    "\n",
    "\n",
    "Dane zrobic w fromie 5 danych i wynik , potemm je poshuflowac\n",
    "wyrzucic zmiany dluzsze niz dzien\n",
    "mozna zsporbowac dane gdzie nic sie nie zmienilo tez wyrzucic "
   ]
  },
  {
   "cell_type": "markdown",
   "metadata": {},
   "source": [
    "# TO DO:"
   ]
  },
  {
   "cell_type": "markdown",
   "metadata": {},
   "source": [
    "1. zmienic close na cours change w prepare_day DONE\n",
    "2. zamineic df na numpy array DONE\n",
    "3. przetestowac wyjatek w prepare_day\n",
    "4. podzielic miesiace na grupy 6,1,3,1 DONE\n",
    "4. przetestowac inne modele, w liniowym sprobowac zrobic binaryny output"
   ]
  },
  {
   "cell_type": "code",
   "execution_count": null,
   "metadata": {
    "ExecuteTime": {
     "end_time": "2018-11-29T15:31:43.728539Z",
     "start_time": "2018-11-29T15:31:41.725906Z"
    }
   },
   "outputs": [],
   "source": [
    "import pandas as pd\n",
    "import matplotlib.pyplot as plt"
   ]
  },
  {
   "cell_type": "code",
   "execution_count": null,
   "metadata": {
    "ExecuteTime": {
     "end_time": "2018-11-29T15:31:45.701005Z",
     "start_time": "2018-11-29T15:31:43.735038Z"
    }
   },
   "outputs": [],
   "source": [
    "path='../data/KGHM_clear.csv'\n",
    "df=pd.read_pickle(path)"
   ]
  },
  {
   "cell_type": "code",
   "execution_count": null,
   "metadata": {
    "ExecuteTime": {
     "end_time": "2018-11-29T15:31:45.729644Z",
     "start_time": "2018-11-29T15:31:45.723218Z"
    }
   },
   "outputs": [],
   "source": [
    "LEARN_SAMPLE_SIZE=5"
   ]
  },
  {
   "cell_type": "code",
   "execution_count": null,
   "metadata": {
    "ExecuteTime": {
     "end_time": "2018-11-29T15:31:45.947753Z",
     "start_time": "2018-11-29T15:31:45.734416Z"
    },
    "scrolled": true
   },
   "outputs": [],
   "source": [
    "df"
   ]
  },
  {
   "cell_type": "code",
   "execution_count": null,
   "metadata": {
    "ExecuteTime": {
     "end_time": "2018-11-29T15:31:45.998936Z",
     "start_time": "2018-11-29T15:31:45.956739Z"
    }
   },
   "outputs": [],
   "source": [
    "df.head()"
   ]
  },
  {
   "cell_type": "code",
   "execution_count": null,
   "metadata": {
    "ExecuteTime": {
     "end_time": "2018-11-29T15:31:46.127411Z",
     "start_time": "2018-11-29T15:31:46.004244Z"
    }
   },
   "outputs": [],
   "source": [
    "# df=df[:100000]"
   ]
  },
  {
   "cell_type": "markdown",
   "metadata": {},
   "source": [
    "# Grupowanie po dniach"
   ]
  },
  {
   "cell_type": "code",
   "execution_count": null,
   "metadata": {
    "ExecuteTime": {
     "end_time": "2018-11-29T15:32:03.763812Z",
     "start_time": "2018-11-29T15:32:03.728787Z"
    }
   },
   "outputs": [],
   "source": [
    "gb=df.groupby(df.day)\n",
    "\n",
    "df_group_by_day_list=[gb.get_group(x).copy() for x in gb.groups]\n",
    "\n",
    "for i in df_group_by_day_list:\n",
    "    i.reset_index"
   ]
  },
  {
   "cell_type": "code",
   "execution_count": null,
   "metadata": {
    "ExecuteTime": {
     "end_time": "2018-11-29T15:32:16.157774Z",
     "start_time": "2018-11-29T15:32:16.035823Z"
    },
    "scrolled": true
   },
   "outputs": [],
   "source": [
    "df_group_by_day_list[0]"
   ]
  },
  {
   "cell_type": "markdown",
   "metadata": {
    "ExecuteTime": {
     "end_time": "2018-11-16T15:29:38.064457Z",
     "start_time": "2018-11-16T15:29:38.058800Z"
    }
   },
   "source": [
    "# Dla każdego dnia możemy przeprowadzić osobne operacje"
   ]
  },
  {
   "cell_type": "code",
   "execution_count": null,
   "metadata": {
    "ExecuteTime": {
     "end_time": "2018-11-29T15:32:17.105854Z",
     "start_time": "2018-11-29T15:32:17.084198Z"
    }
   },
   "outputs": [],
   "source": [
    "def prepare_day(df_group_by_day_list,learn_sample_size=5,predict_next=True):\n",
    "    \n",
    "    if predict_next:\n",
    "        predict_n_steps_future=1\n",
    "    else:\n",
    "        predict_n_steps_future=0\n",
    "        raise ValueError(\"Predicting long then next doesnt work yet\") \n",
    "    for i,df_group in enumerate(df_group_by_day_list):\n",
    "        #resetowanie indeksow\n",
    "        \n",
    "        \n",
    "        #dodawanie wczesniejszych wartosci pomiarow\n",
    "        for j in range(1,learn_sample_size):\n",
    "            df_group_by_day_list[i]['CoursChange-'+str(j)]=df_group_by_day_list[i].loc[:,('CoursChange')].shift(j)\n",
    "            df_group_by_day_list[i]['TimeDelta_-'+str(j)]=df_group_by_day_list[i].TimeDelta.shift(j)\n",
    "        \n",
    "        #tworzenie wynikow\n",
    "        df_group_by_day_list[i].loc[:,('y')]=df_group_by_day_list[i].loc[:,('CoursChange')].shift(-predict_n_steps_future)\n",
    "        df_group_by_day_list[i].drop(df_group_by_day_list[i].head(learn_sample_size).index,inplace=True)\n",
    "        df_group_by_day_list[i].drop(df_group_by_day_list[i].tail(predict_n_steps_future).index,inplace=True)\n",
    "        df_group_by_day_list[i].reset_index(inplace=True,drop=True)\n",
    "        #         df_group_by_day_list[i].drop(df_group_by_day_list[i][df_group_by_day_list[i].TimeDelta>4000].index)\n",
    "#     Next step -> delate outstandig values\n"
   ]
  },
  {
   "cell_type": "code",
   "execution_count": null,
   "metadata": {
    "ExecuteTime": {
     "end_time": "2018-11-29T15:34:03.470798Z",
     "start_time": "2018-11-29T15:32:17.633170Z"
    }
   },
   "outputs": [],
   "source": [
    "prepare_day(df_group_by_day_list,learn_sample_size=LEARN_SAMPLE_SIZE)"
   ]
  },
  {
   "cell_type": "code",
   "execution_count": null,
   "metadata": {
    "ExecuteTime": {
     "end_time": "2018-11-29T15:34:03.754654Z",
     "start_time": "2018-11-29T15:34:03.476463Z"
    },
    "scrolled": true
   },
   "outputs": [],
   "source": [
    "df_group_by_day_list[0]"
   ]
  },
  {
   "cell_type": "code",
   "execution_count": null,
   "metadata": {
    "ExecuteTime": {
     "end_time": "2018-11-29T15:34:09.740808Z",
     "start_time": "2018-11-29T15:34:03.759407Z"
    }
   },
   "outputs": [],
   "source": [
    "df_merged=pd.concat(df_group_by_day_list, axis=0, ignore_index=True)"
   ]
  },
  {
   "cell_type": "code",
   "execution_count": null,
   "metadata": {
    "ExecuteTime": {
     "end_time": "2018-11-29T15:37:39.009252Z",
     "start_time": "2018-11-29T15:37:38.915845Z"
    }
   },
   "outputs": [],
   "source": [
    "df_merged.month.min()"
   ]
  },
  {
   "cell_type": "code",
   "execution_count": null,
   "metadata": {
    "ExecuteTime": {
     "end_time": "2018-11-29T15:34:11.963189Z",
     "start_time": "2018-11-29T15:34:09.759938Z"
    }
   },
   "outputs": [],
   "source": [
    "maximum=df_merged.month.max()\n",
    "test=[]\n",
    "train=[]\n",
    "i=df_merged.month.min()\n",
    "while i<(df_merged.month.max()+1):\n",
    "    for j in range(i,i+6):\n",
    "        train.append(j)\n",
    "    i+=6\n",
    "    i+=1\n",
    "    for j in range(i,i+3):\n",
    "        test.append(j)\n",
    "    i+=3\n",
    "    i+=1\n",
    "    \n",
    "    "
   ]
  },
  {
   "cell_type": "code",
   "execution_count": null,
   "metadata": {
    "ExecuteTime": {
     "end_time": "2018-11-29T15:32:03.763812Z",
     "start_time": "2018-11-29T15:32:03.728787Z"
    }
   },
   "outputs": [],
   "source": [
    "gb=df_mergedrged.groupby(df.month)\n",
    "\n",
    "df_group_by_month_list=[gb.get_group(x).copy() for x in gb.groups]\n",
    "\n",
    "for i in df_group_by_day_list:\n",
    "    i.reset_index"
   ]
  },
  {
   "cell_type": "code",
   "execution_count": null,
   "metadata": {
    "ExecuteTime": {
     "end_time": "2018-11-29T15:40:23.030290Z",
     "start_time": "2018-11-29T15:40:21.382885Z"
    }
   },
   "outputs": [],
   "source": [
    "test_df=[]\n",
    "train_df=[]\n",
    "for i in range(len(df_group_by_day_list)):\n",
    "    x=df_group_by_day_list[i].month[0]\n",
    "    if x in test:\n",
    "        test_df.append(df_group_by_day_list[i])\n",
    "    if x in train:\n",
    "        train_df.append(df_group_by_day_list[i])\n",
    "    "
   ]
  },
  {
   "cell_type": "code",
   "execution_count": null,
   "metadata": {
    "ExecuteTime": {
     "end_time": "2018-11-29T15:41:37.214588Z",
     "start_time": "2018-11-29T15:41:32.531420Z"
    }
   },
   "outputs": [],
   "source": [
    "df_test=pd.concat(test_df, axis=0, ignore_index=True)\n",
    "df_train=pd.concat(train_df, axis=0, ignore_index=True)"
   ]
  },
  {
   "cell_type": "markdown",
   "metadata": {},
   "source": [
    "# Prawodpodobnie udało się podzielić na miesiące zgodnie ze wskazaniami \n",
    "# (6 train, 1 przerwy, 3 test, 1 przerwy)"
   ]
  },
  {
   "cell_type": "code",
   "execution_count": null,
   "metadata": {
    "ExecuteTime": {
     "end_time": "2018-11-29T15:45:17.189790Z",
     "start_time": "2018-11-29T15:45:17.164448Z"
    }
   },
   "outputs": [],
   "source": [
    "x=df_test.month.unique()\n",
    "x.sort()\n",
    "x"
   ]
  },
  {
   "cell_type": "code",
   "execution_count": null,
   "metadata": {
    "ExecuteTime": {
     "end_time": "2018-11-29T15:45:33.621094Z",
     "start_time": "2018-11-29T15:45:33.582090Z"
    }
   },
   "outputs": [],
   "source": [
    "x=df_train.month.unique()\n",
    "x.sort()\n",
    "x"
   ]
  },
  {
   "cell_type": "markdown",
   "metadata": {},
   "source": [
    "# Wygląda, że działa!"
   ]
  },
  {
   "cell_type": "code",
   "execution_count": null,
   "metadata": {
    "ExecuteTime": {
     "end_time": "2018-11-25T18:05:59.900452Z",
     "start_time": "2018-11-25T18:05:59.894690Z"
    }
   },
   "outputs": [],
   "source": [
    "# df_merged[df_merged[df_merged.TimeDelta>8000].index[0]-2:df_merged[df_merged.TimeDelta>8000].index[0]+2]"
   ]
  },
  {
   "cell_type": "code",
   "execution_count": null,
   "metadata": {
    "ExecuteTime": {
     "end_time": "2018-11-25T18:06:00.786601Z",
     "start_time": "2018-11-25T18:05:59.902417Z"
    }
   },
   "outputs": [],
   "source": [
    "fig, ax = plt.subplots()\n",
    "df_merged.TimeDelta.hist(ax=ax,bins=100, bottom=0.1)\n",
    "\n",
    "# series.hist( bins=100, bottom=0.1)\n",
    "ax.set_yscale('log')\n",
    "ax.set_title('TimeDelta after removing days breaks')\n",
    "plt.show()"
   ]
  },
  {
   "cell_type": "markdown",
   "metadata": {},
   "source": [
    "# Prediction"
   ]
  },
  {
   "cell_type": "code",
   "execution_count": null,
   "metadata": {
    "ExecuteTime": {
     "end_time": "2018-11-29T15:52:05.880464Z",
     "start_time": "2018-11-29T15:52:03.640219Z"
    }
   },
   "outputs": [],
   "source": [
    "from sklearn.linear_model import LinearRegression\n",
    "from sklearn import preprocessing, model_selection, svm\n",
    "import numpy as np"
   ]
  },
  {
   "cell_type": "code",
   "execution_count": null,
   "metadata": {
    "ExecuteTime": {
     "end_time": "2018-11-29T15:59:14.905131Z",
     "start_time": "2018-11-29T15:59:14.892397Z"
    }
   },
   "outputs": [],
   "source": [
    "def df_to_array(df,shuffle=True):\n",
    "    '''\n",
    "    Takes dateframe and returns numpy arrays X,y\n",
    "    '''\n",
    "    if shuffle:\n",
    "        df = df.sample(frac=1).reset_index(drop=True)\n",
    "    X = np.array(df[[x for x in df.columns if 'Time' in x or 'Cours' in x]])\n",
    "    y =  np.array(df.y)\n",
    "    return X, y"
   ]
  },
  {
   "cell_type": "code",
   "execution_count": null,
   "metadata": {
    "ExecuteTime": {
     "end_time": "2018-11-29T16:00:23.713553Z",
     "start_time": "2018-11-29T16:00:08.278981Z"
    }
   },
   "outputs": [],
   "source": [
    "X_test,y_test=df_to_array(df_test)\n",
    "X_train,y_train=df_to_array(df_train)"
   ]
  },
  {
   "cell_type": "code",
   "execution_count": null,
   "metadata": {
    "ExecuteTime": {
     "end_time": "2018-11-29T16:00:23.756737Z",
     "start_time": "2018-11-29T16:00:23.739894Z"
    }
   },
   "outputs": [],
   "source": [
    "y_train.shape"
   ]
  },
  {
   "cell_type": "code",
   "execution_count": null,
   "metadata": {
    "ExecuteTime": {
     "end_time": "2018-11-29T16:00:24.121383Z",
     "start_time": "2018-11-29T16:00:23.761743Z"
    }
   },
   "outputs": [],
   "source": [
    "y_test.shape"
   ]
  },
  {
   "cell_type": "markdown",
   "metadata": {
    "ExecuteTime": {
     "end_time": "2018-11-29T15:53:50.395109Z",
     "start_time": "2018-11-29T15:53:50.389956Z"
    }
   },
   "source": [
    "## Add normalization"
   ]
  },
  {
   "cell_type": "code",
   "execution_count": null,
   "metadata": {
    "ExecuteTime": {
     "end_time": "2018-11-29T16:07:54.664444Z",
     "start_time": "2018-11-29T16:07:51.420429Z"
    }
   },
   "outputs": [],
   "source": [
    "from sklearn.preprocessing import StandardScaler\n",
    "scaler = StandardScaler().fit(X_test)\n",
    "rescaledX_test= scaler.transform(X_test)\n",
    "rescaledX_train=scaler.transform(X_train)\n",
    "# summarize transformed data\n",
    "np.set_printoptions(precision=3)"
   ]
  },
  {
   "cell_type": "code",
   "execution_count": null,
   "metadata": {
    "ExecuteTime": {
     "end_time": "2018-11-29T16:08:27.718756Z",
     "start_time": "2018-11-29T16:08:27.533429Z"
    }
   },
   "outputs": [],
   "source": [
    "X_train=rescaledX_train\n",
    "X_test=rescaledX_test"
   ]
  },
  {
   "cell_type": "raw",
   "metadata": {
    "ExecuteTime": {
     "end_time": "2018-11-25T18:09:58.461900Z",
     "start_time": "2018-11-25T18:09:58.458696Z"
    }
   },
   "source": [
    "# Create the Scaler object\n",
    "scaler = preprocessing.StandardScaler()"
   ]
  },
  {
   "cell_type": "raw",
   "metadata": {
    "ExecuteTime": {
     "end_time": "2018-11-25T18:10:12.896241Z",
     "start_time": "2018-11-25T18:10:11.922787Z"
    }
   },
   "source": [
    "normalized_X = preprocessing.scale(X)\n",
    "normalized_y = preprocessing.scale(y)\n",
    "# normalized_X=X\n",
    "# normalized_y=y"
   ]
  },
  {
   "cell_type": "raw",
   "metadata": {
    "ExecuteTime": {
     "end_time": "2018-11-25T18:10:12.906650Z",
     "start_time": "2018-11-25T18:10:12.899316Z"
    }
   },
   "source": [
    "print(normalized_y.shape,normalized_X.shape)"
   ]
  },
  {
   "cell_type": "raw",
   "metadata": {
    "ExecuteTime": {
     "end_time": "2018-11-25T18:10:13.513624Z",
     "start_time": "2018-11-25T18:10:13.503865Z"
    }
   },
   "source": [
    "normalized_X"
   ]
  },
  {
   "cell_type": "code",
   "execution_count": null,
   "metadata": {
    "ExecuteTime": {
     "end_time": "2018-11-29T16:08:35.401653Z",
     "start_time": "2018-11-29T16:08:31.348973Z"
    }
   },
   "outputs": [],
   "source": [
    "# Training\n",
    "clf = LinearRegression()\n",
    "clf.fit(X_train,y_train)\n",
    "# Testing\n",
    "confidence = clf.score(X_test, y_test)\n",
    "print(\"confidence: \", confidence)"
   ]
  },
  {
   "cell_type": "code",
   "execution_count": null,
   "metadata": {
    "ExecuteTime": {
     "end_time": "2018-11-25T18:00:29.902794Z",
     "start_time": "2018-11-25T18:00:29.891311Z"
    }
   },
   "outputs": [],
   "source": [
    "forecast_prediction = clf.predict(X_forecast)\n",
    "print(forecast_prediction)"
   ]
  },
  {
   "cell_type": "code",
   "execution_count": null,
   "metadata": {
    "ExecuteTime": {
     "end_time": "2018-11-16T17:15:21.169925Z",
     "start_time": "2018-11-16T17:15:21.155659Z"
    }
   },
   "outputs": [],
   "source": [
    "a=X_test[:-5]\n",
    "print(a)\n",
    "print(y_test[:-5])"
   ]
  },
  {
   "cell_type": "code",
   "execution_count": null,
   "metadata": {
    "ExecuteTime": {
     "end_time": "2018-11-16T17:15:32.077934Z",
     "start_time": "2018-11-16T17:15:32.066230Z"
    }
   },
   "outputs": [],
   "source": [
    "clf.predict(a)"
   ]
  },
  {
   "cell_type": "code",
   "execution_count": null,
   "metadata": {},
   "outputs": [],
   "source": []
  }
 ],
 "metadata": {
  "kernelspec": {
   "display_name": "Python [default]",
   "language": "python",
   "name": "python3"
  },
  "language_info": {
   "codemirror_mode": {
    "name": "ipython",
    "version": 3
   },
   "file_extension": ".py",
   "mimetype": "text/x-python",
   "name": "python",
   "nbconvert_exporter": "python",
   "pygments_lexer": "ipython3",
   "version": "3.7.0"
  }
 },
 "nbformat": 4,
 "nbformat_minor": 2
}
